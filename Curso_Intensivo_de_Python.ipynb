{
  "nbformat": 4,
  "nbformat_minor": 0,
  "metadata": {
    "colab": {
      "name": "Curso_Intensivo_de_Python.ipynb",
      "provenance": [],
      "collapsed_sections": [
        "Hw5T58GE2kD1",
        "DYim1BK7dvU0",
        "dKkMY9bryzSs",
        "r8GD_s3yy9r2",
        "ZeWV7ls8ejar",
        "meD1bmXax8x2",
        "z569DIpUg4io",
        "QsXRF7iRopGw",
        "4-e6IxWnrqlR",
        "OAwjehPqs-Zt",
        "G5qpRVYE2zRn",
        "-0Wz8pWw9B_K",
        "DFLojoD298Iq",
        "k9p-TLUQC5Aw",
        "rqbIrMonpoOw",
        "O91-rPshooLf",
        "t4d2-edksqc7",
        "cKueGZ-xqKRP",
        "rJWJJ5DesBPT",
        "9Zw3wE2rQMwT",
        "ELr85ZrGQ-SV",
        "k17w0IeWRe2m",
        "83sQMcwQRklc",
        "WBHMQh71NvbC",
        "vYZ3oF0aR4p3",
        "mkMrzRa7SNL1",
        "ZJRyxJpySet7",
        "cQtHdCLfSqN1",
        "vfUvwxTnWx4U",
        "gbYzbP_KXK2L",
        "4mtEblInXkng",
        "0c8Y-Z5baMsX",
        "MeJYrEzybH0b",
        "jXa43FkOlH02",
        "kTLOX2Y5l-jd",
        "sAziAq7AnwUF",
        "ZkTLpvLQr2hF",
        "xHMc6TLkvs8d",
        "5eLlIkV1yd41",
        "n0Rmwwqu5GU1",
        "nyumijcY7e62",
        "HAJV2xHL-gDQ",
        "pJ0GU0py_5-Q",
        "FjYdQ-0dDueN",
        "B6E-6EVSDNmg",
        "p5_YjlqkUAks",
        "iZgRD58ZUG81",
        "mXhpeTOCWdxM",
        "ettLA71lYexi",
        "3fe60b0si3lq",
        "r7WUvZiejZpN",
        "8AHR_bnArxpP",
        "tZHlH9sxt6fp",
        "hpyolIABIbRv",
        "QVDk5U53MWg8",
        "Yt4yyjwsLLQE",
        "w3Kk5Vm9OPiY",
        "HOLqSEzMNJlC",
        "Srf9lgYcTBiH",
        "6SwMql1FSk3t",
        "Lp74o4ZJTZBE",
        "YwxCuvm0kvrz",
        "pIG4M8OXmVa_",
        "Zid52llbTMtq",
        "yHNFWMpFXczX",
        "SOHH_nvgZOvs",
        "KcT-5tkFdKoq",
        "hv9tnTBq4Xhj",
        "vpoSj5Yw5kDO",
        "XnuvOTKv7ahO",
        "XMuiF_Ej8eWV",
        "6CkJ4TJC8s2m",
        "aajOvgiD90SS",
        "OymNzGra_jUS",
        "SSqQvCcLAGdl",
        "_VzH5wWzBZDn",
        "ySQ_CWY2Wo_C",
        "zLSiOjtaXFg1",
        "O3A-bGwDadlW",
        "9j6R6Tl3bpRd",
        "kwEnAJ7NoRN4",
        "qYG3E7HGqgj8",
        "9h5wk5eRtmao",
        "3EZTwXnxu0_4",
        "pVerkejSywFg",
        "Yrz7KTV10u3B",
        "ob02Ec9T3ngr",
        "M6vuE9ow4TIK",
        "SdAjiCdL90me",
        "ADDxObH4nKFu",
        "Fvnh-hWastUm",
        "F8sMxQSUulac",
        "IRHAcOX3weCo",
        "1akpiDcGxSit",
        "Rn5d84-FyHe4",
        "f2VaiTQtzszD",
        "D3GWoP3F3rDs",
        "KWZLxQ6R_b5I",
        "1DrvHn28BXhy",
        "s9UcaMdzhhh0",
        "h5H7aCnuj1Pz",
        "hAjDLdaimY0o",
        "daOBdZj8zd5D",
        "1Q2lJWO-aCIG",
        "KSB_tuDVjgyl",
        "6TOOZbCmZneB",
        "SweKqQ-BQWdx",
        "07JrP769TZuB",
        "JJ8eWV-JiH96",
        "SnB9ihualFOB",
        "s-e4pNGvlzHt",
        "1g3XYcN7nOlh",
        "tDhnQaauuqD3",
        "gbC6j6cRxWc1",
        "kRVKOpFIz49d",
        "QnIGaUUP1n-y",
        "_CCrmhaZvC4r",
        "OsMkClRtyW_8",
        "73mae6eEzxDC",
        "j53tmkXo3iqz",
        "UpI9VVY0_xN6",
        "hMPe6FaFAJJK",
        "9j4-Z4PGRBgp",
        "rQZmSatMTuOZ",
        "9s0QB2yeUNo7",
        "Wo8azR2uXwy0",
        "k1VHYaFRZ4jc",
        "swUJhXh7ZIHR",
        "hBhwXujp0ZUO",
        "1ZsBft454JGF",
        "pJgQoA0r_Bgj",
        "l_00WD2GH4aF",
        "Poj1kqp6GlDg",
        "C2P5VNHtIya8",
        "Y9XmUe5cNf3n",
        "0Jlz8rxf50zm",
        "ixx6MWp89RCM",
        "eVauCxLUxye9",
        "-huqnIJC3Hmt",
        "1bddZKDz85QA",
        "RCH_XPN6NzFl",
        "MExA7QsIr0Ya",
        "GQRO3zv208yF",
        "vmxgk_BXtg5H",
        "f6YQiQexxSbe",
        "I3IvwW5B_4hl",
        "5agK5g8-DaXF",
        "eSgsjgdsFD7Q",
        "B-v9ETFK80zS",
        "WMKIFz_TApR0",
        "nmAt6Ub1CNs7",
        "JwJ2VNsxKcuX",
        "-627fMaMLduz",
        "LRPCq1M3OmKu",
        "mdxw1yvVO89c",
        "UvL6qWBGV6Wx",
        "qzwmrypZW_Ts",
        "ZJ_RVNs1ZIUz",
        "jRGr6Uz-bEBQ",
        "RyKzb1EZeSEj",
        "76wG-QqVyhJV",
        "wonTW_Dmz2iu",
        "xZjCHvwsLND4",
        "CvBVeBpJRtHa",
        "8stckLQhSxPz",
        "UMnVZnY0DVDK",
        "tlr0FefqCp0Q",
        "EgrkZpzEDG-x",
        "f4XcUxKyEMho",
        "ICsPSPsO_NWR",
        "S2llc7dxNbfb",
        "pePuB0I1TLTy",
        "ddis5-nBnXVE",
        "fRBJ2lhxVa2a",
        "MzVFj0PGYnUs",
        "uhQE-yDDqlmr",
        "RwsM6zP7wS_g",
        "lgNN8IZ10MKE",
        "Vz04V3MC7m1a",
        "cGESvXyT2REG",
        "FYNnQfTP-mZU",
        "Z9XVrm5ZMudP",
        "tHUAi1NJTEjw",
        "cwolZf1-G1lI",
        "3xIbbaFnTJIt",
        "Wu47BqZOYG7N",
        "ysM81AsxWJs2",
        "iizrQN-FYpn3",
        "0uszlMr4a6IB",
        "lbozBh70UqYh",
        "WKTXpaSFVMJD",
        "nv8LBZX7Ld8Q",
        "_CHvi2TOYjqL",
        "VT3813Y76QGt",
        "hFpGlYTwgITk",
        "VxYVz8B32tqa",
        "I3TOUdxb_Lgn",
        "negfNRuYPZSh",
        "6zZaaTGJPoQm",
        "8asyYEEWdJq_",
        "72YPZElshvxG",
        "VIn_Gj6A4M3G",
        "z5-vfz-sSGOp",
        "pHtq65AkUdA0",
        "coV4qT4_dHTa",
        "yr8B72KleLtp",
        "xxyGgZouh9yk",
        "o4PjtiD2kp89",
        "GhMFFs4YoWS-",
        "vAROcgFNuoZb",
        "RA8tzRF36zie",
        "wSlhsxiW7CEB",
        "1WFodV1T80BO",
        "9Hz9ROhXAhns",
        "xwzjL9HkDwLz",
        "dBeFC3wKO2xr",
        "8PVBZ4vUR5gw",
        "NH6iLG0OXYfR",
        "8U5_tdJeN8eZ",
        "9JIYj8L2PhID",
        "tUJ3i7B2QfYB",
        "8pERjxcdbjl0",
        "VyRRoi-04Liz"
      ],
      "toc_visible": true,
      "include_colab_link": true
    },
    "kernelspec": {
      "name": "python3",
      "display_name": "Python 3"
    }
  },
  "cells": [
    {
      "cell_type": "markdown",
      "metadata": {
        "id": "view-in-github",
        "colab_type": "text"
      },
      "source": [
        "<a href=\"https://colab.research.google.com/github/mcoderz/Curso_Intensivo_Python/blob/main/Curso_Intensivo_de_Python.ipynb\" target=\"_parent\"><img src=\"https://colab.research.google.com/assets/colab-badge.svg\" alt=\"Open In Colab\"/></a>"
      ]
    },
    {
      "cell_type": "markdown",
      "metadata": {
        "id": "Hw5T58GE2kD1"
      },
      "source": [
        "#Atalhos do COLAB e Markdown\n",
        "\n",
        "\n",
        "\n"
      ]
    },
    {
      "cell_type": "markdown",
      "metadata": {
        "id": "Tfzsoh0y2tvM"
      },
      "source": [
        "\n",
        ">Actions |\tColab |\tJupyter\n",
        ">--- | --- | ---\n",
        ">show keyboard shortcuts |\tCtrl + M + H |\tH\n",
        ">Insert code cell above |\tCtrl + M + A |\tA\n",
        ">Insert code cell below |\tCtrl + M + B |\tB\n",
        ">Delete cell/selection |\tCtrl + M + D |\tDD\n",
        ">Interrupt execution |\tCtrl + M + I |\tII\n",
        ">Convert to code cell |\tCtrl + M + Y |\tY\n",
        ">Convert to text cell |\tCtrl + M + M |\tM\n",
        ">Split at cursor |\tCtrl + M - |\tCtrl + Shift -\n",
        "\n",
        "\n",
        "Show keyboard shortcuts:\n",
        "Ctrl + M + H\n",
        "\n",
        "https://medium.com/@tuewithmorris/google-colab-notebooks-keyboard-shortcuts-aa6a008fb91b\n",
        "\n",
        "https://colab.research.google.com/notebooks/markdown_guide.ipynb#scrollTo=tPqPXAKKkzaM"
      ]
    },
    {
      "cell_type": "markdown",
      "metadata": {
        "id": "DYim1BK7dvU0"
      },
      "source": [
        "Para criar um link para um tópico:\n",
        "\n",
        "\n",
        "1. [Atribuição de Variáveis](#atri)\n",
        "\n",
        "## **Atribuição de Variáveis** <a name=\"atri\"></a>"
      ]
    },
    {
      "cell_type": "markdown",
      "metadata": {
        "id": "Sb6UCscPAekK"
      },
      "source": [
        "Material de apoio:\n",
        "\n",
        "https://ehmatthes.github.io/pcc/\n",
        "\n",
        "https://nostarch.com/pythoncrashcourse2e#updates\n",
        "\n",
        "https://github.com/ehmatthes/pcc\n"
      ]
    },
    {
      "cell_type": "markdown",
      "metadata": {
        "id": "UNIMVaLdcrLX"
      },
      "source": [
        "#PARTE 1"
      ]
    },
    {
      "cell_type": "markdown",
      "metadata": {
        "id": "dKkMY9bryzSs"
      },
      "source": [
        "## 1.INICIANDO"
      ]
    },
    {
      "cell_type": "markdown",
      "metadata": {
        "id": "r8GD_s3yy9r2"
      },
      "source": [
        "### Hello Word!\n",
        "\n",
        "Uma crença de longa data no mundo da programação é que exibir uma\n",
        "mensagem Hello world! na tela como seu primeiro programa em uma nova\n",
        "linguagem trará sorte"
      ]
    },
    {
      "cell_type": "code",
      "metadata": {
        "colab": {
          "base_uri": "https://localhost:8080/"
        },
        "id": "SarXGZVBdA1_",
        "outputId": "d6c78bbb-28b7-4c92-e28a-f71cf46f40c2"
      },
      "source": [
        "print (\"Hello World!\")"
      ],
      "execution_count": null,
      "outputs": [
        {
          "output_type": "stream",
          "text": [
            "Hello World!\n"
          ],
          "name": "stdout"
        }
      ]
    },
    {
      "cell_type": "markdown",
      "metadata": {
        "id": "ZeWV7ls8ejar"
      },
      "source": [
        "## 2.VARIÁVEIS\n",
        "\n",
        "\n"
      ]
    },
    {
      "cell_type": "markdown",
      "metadata": {
        "id": "meD1bmXax8x2"
      },
      "source": [
        "### Atribuindo um valor à uma variável"
      ]
    },
    {
      "cell_type": "code",
      "metadata": {
        "colab": {
          "base_uri": "https://localhost:8080/"
        },
        "id": "95bmHAd0goXD",
        "outputId": "25145283-5418-4e25-ffd3-ac0ca25acd5c"
      },
      "source": [
        "message = \"Hello Python woeld!\"\n",
        "print (message)"
      ],
      "execution_count": null,
      "outputs": [
        {
          "output_type": "stream",
          "text": [
            "Hello Python woeld!\n"
          ],
          "name": "stdout"
        }
      ]
    },
    {
      "cell_type": "markdown",
      "metadata": {
        "id": "z569DIpUg4io"
      },
      "source": [
        "### String\n",
        "\n",
        "\n",
        "\n",
        "\n"
      ]
    },
    {
      "cell_type": "markdown",
      "metadata": {
        "id": "UxutE_ecAjKB"
      },
      "source": [
        "https://docs.python.org/pt-br/3/library/stdtypes.html?highlight=upper#text-sequence-type-str\n",
        "\n",
        "Uma string é simplesmente uma série ou cadeia de caracteres.\n",
        "\n",
        "\"Esta é uma String\"\n",
        "\n",
        "'Esta também é uma string'\n",
        "\n",
        "Pode-se mesclar os dois tipos de escrita de string:\n",
        "\n",
        "' Ele me disse,\" De hoje não passa!\" '\n",
        "\n",
        "\" Me dá um copo d'agua \""
      ]
    },
    {
      "cell_type": "markdown",
      "metadata": {
        "id": "QsXRF7iRopGw"
      },
      "source": [
        "#### Métodos para mudar letras entre maiúsculas e minúsculas"
      ]
    },
    {
      "cell_type": "code",
      "metadata": {
        "colab": {
          "base_uri": "https://localhost:8080/"
        },
        "id": "vhWAS3N0qUT2",
        "outputId": "e03ae32b-b295-4c9d-9f63-5f219c42cb30"
      },
      "source": [
        "name = \"ada lovelace\"\n",
        "print(name.title())"
      ],
      "execution_count": null,
      "outputs": [
        {
          "output_type": "stream",
          "text": [
            "Ada Lovelace\n"
          ],
          "name": "stdout"
        }
      ]
    },
    {
      "cell_type": "code",
      "metadata": {
        "colab": {
          "base_uri": "https://localhost:8080/"
        },
        "id": "AmhH6nCiqmrL",
        "outputId": "c509ee15-fedf-4375-ca6a-07c8536e2f07"
      },
      "source": [
        "name = \"Ada Lovelace\"\n",
        "print(name.upper())"
      ],
      "execution_count": null,
      "outputs": [
        {
          "output_type": "stream",
          "text": [
            "ADA LOVELACE\n"
          ],
          "name": "stdout"
        }
      ]
    },
    {
      "cell_type": "code",
      "metadata": {
        "colab": {
          "base_uri": "https://localhost:8080/"
        },
        "id": "Fdszuy-are9c",
        "outputId": "2db4e12a-6e14-4252-fcc7-bb3ce59ed5f0"
      },
      "source": [
        "name = \"Ada Lovelace\"\n",
        "print(name.lower())"
      ],
      "execution_count": null,
      "outputs": [
        {
          "output_type": "stream",
          "text": [
            "ada lovelace\n"
          ],
          "name": "stdout"
        }
      ]
    },
    {
      "cell_type": "markdown",
      "metadata": {
        "id": "4-e6IxWnrqlR"
      },
      "source": [
        "#### Concatenando (combinando) Strings"
      ]
    },
    {
      "cell_type": "markdown",
      "metadata": {
        "id": "WV1c4JsGr76g"
      },
      "source": [
        "Muitas vezes será necessário concatenar strings"
      ]
    },
    {
      "cell_type": "code",
      "metadata": {
        "colab": {
          "base_uri": "https://localhost:8080/"
        },
        "id": "nU93RuCOsZ5E",
        "outputId": "10fc00ef-b461-4310-ece8-22e50b66bf61"
      },
      "source": [
        "first_name = \"ada\"\n",
        "last_name = \"lovelace\"\n",
        "full_name = first_name + \" \" + last_name\n",
        "print(full_name)"
      ],
      "execution_count": null,
      "outputs": [
        {
          "output_type": "stream",
          "text": [
            "ada lovelace\n"
          ],
          "name": "stdout"
        }
      ]
    },
    {
      "cell_type": "code",
      "metadata": {
        "colab": {
          "base_uri": "https://localhost:8080/"
        },
        "id": "5u2vJjWCseFa",
        "outputId": "1b512cf3-e1fe-400e-bac9-77e33075bd79"
      },
      "source": [
        "first_name = \"ada\"\n",
        "last_name = \"lovelace\"\n",
        "full_name = first_name + \" \" + last_name\n",
        "print(\"Olá, \" + full_name.title() + \"!\")"
      ],
      "execution_count": null,
      "outputs": [
        {
          "output_type": "stream",
          "text": [
            "Olá, Ada Lovelace!\n"
          ],
          "name": "stdout"
        }
      ]
    },
    {
      "cell_type": "markdown",
      "metadata": {
        "id": "eyEtVJ3St6yc"
      },
      "source": [
        "Também é possível repetir e concatenar uma string\n",
        "3 vez **a** e uma vez **b** \n"
      ]
    },
    {
      "cell_type": "code",
      "metadata": {
        "colab": {
          "base_uri": "https://localhost:8080/",
          "height": 36
        },
        "id": "MufT6EliuQ-1",
        "outputId": "a7b3c13c-1091-4d17-d765-f98fab09c2cb"
      },
      "source": [
        "3 * 'a' + 'b'"
      ],
      "execution_count": null,
      "outputs": [
        {
          "output_type": "execute_result",
          "data": {
            "application/vnd.google.colaboratory.intrinsic+json": {
              "type": "string"
            },
            "text/plain": [
              "'aaab'"
            ]
          },
          "metadata": {
            "tags": []
          },
          "execution_count": 77
        }
      ]
    },
    {
      "cell_type": "markdown",
      "metadata": {
        "id": "OAwjehPqs-Zt"
      },
      "source": [
        "#### Tabulação, Quebra de linha, espaços em branco"
      ]
    },
    {
      "cell_type": "markdown",
      "metadata": {
        "id": "-QYKvbtc1o3x"
      },
      "source": [
        "\\t acrescenta tabulação oa texto"
      ]
    },
    {
      "cell_type": "code",
      "metadata": {
        "colab": {
          "base_uri": "https://localhost:8080/"
        },
        "id": "QDObVzCI19bw",
        "outputId": "4e54535f-b60e-4a2d-f525-b17b5d6f150e"
      },
      "source": [
        "print(\"python\")"
      ],
      "execution_count": null,
      "outputs": [
        {
          "output_type": "stream",
          "text": [
            "python\n"
          ],
          "name": "stdout"
        }
      ]
    },
    {
      "cell_type": "code",
      "metadata": {
        "colab": {
          "base_uri": "https://localhost:8080/"
        },
        "id": "1B3oeF-a2AZO",
        "outputId": "8112e00d-3d25-4f69-8201-f8aeb32446ae"
      },
      "source": [
        "print(\"\\t Python\")"
      ],
      "execution_count": null,
      "outputs": [
        {
          "output_type": "stream",
          "text": [
            "\t Python\n"
          ],
          "name": "stdout"
        }
      ]
    },
    {
      "cell_type": "markdown",
      "metadata": {
        "id": "d0JZsKdb2FDh"
      },
      "source": [
        "\\n acrescenta quebra de linha"
      ]
    },
    {
      "cell_type": "code",
      "metadata": {
        "colab": {
          "base_uri": "https://localhost:8080/"
        },
        "id": "c312WcGw2QY2",
        "outputId": "7d465719-3f4c-4590-9b50-d3a34af40692"
      },
      "source": [
        "print(\"linguagens: \\nPython \\nJava\")"
      ],
      "execution_count": null,
      "outputs": [
        {
          "output_type": "stream",
          "text": [
            "linguagens: \n",
            "Python \n",
            "Java\n"
          ],
          "name": "stdout"
        }
      ]
    },
    {
      "cell_type": "markdown",
      "metadata": {
        "id": "7GRMTSt02aM0"
      },
      "source": [
        "Combinando tabulação e quebra de linha"
      ]
    },
    {
      "cell_type": "code",
      "metadata": {
        "colab": {
          "base_uri": "https://localhost:8080/"
        },
        "id": "6QJ8Yq7T2qEK",
        "outputId": "f937cdf7-b8b6-4866-a96d-cf2640fee551"
      },
      "source": [
        "print(\"linguagens: \\n\\tPython \\n\\tJava\")"
      ],
      "execution_count": null,
      "outputs": [
        {
          "output_type": "stream",
          "text": [
            "linguagens: \n",
            "\tPython \n",
            "\tJava\n"
          ],
          "name": "stdout"
        }
      ]
    },
    {
      "cell_type": "markdown",
      "metadata": {
        "id": "G5qpRVYE2zRn"
      },
      "source": [
        "#### Removendo espaços em branco de uma string"
      ]
    },
    {
      "cell_type": "markdown",
      "metadata": {
        "id": "DacCcsMK9Ap1"
      },
      "source": [
        "Para remover espaço em branco do lado direito usar o método **rstrip**\n",
        "\n",
        "Para remover espaço em branco do lado esquerdo usar o método **lstrip**\n",
        "\n",
        "Para remover espaço em branco de ambos os lados usar o métodos **strip**"
      ]
    },
    {
      "cell_type": "markdown",
      "metadata": {
        "id": "-0Wz8pWw9B_K"
      },
      "source": [
        "#### 2.3 Exercício"
      ]
    },
    {
      "cell_type": "code",
      "metadata": {
        "colab": {
          "base_uri": "https://localhost:8080/"
        },
        "id": "_b24YFt49li-",
        "outputId": "39c55547-25ae-4c37-b811-09167617ef50"
      },
      "source": [
        "mensagem = 'Olá Mauro, seja muito bem-vindo ao mundo da programação Python'\n",
        "print(mensagem)"
      ],
      "execution_count": null,
      "outputs": [
        {
          "output_type": "stream",
          "text": [
            "Olá Mauro, seja muito bem-vindo ao mundo da programação Python\n"
          ],
          "name": "stdout"
        }
      ]
    },
    {
      "cell_type": "markdown",
      "metadata": {
        "id": "DFLojoD298Iq"
      },
      "source": [
        "#### 2.4 Exercício"
      ]
    },
    {
      "cell_type": "code",
      "metadata": {
        "colab": {
          "base_uri": "https://localhost:8080/"
        },
        "id": "9bVqSW4M-bJ7",
        "outputId": "594c017f-9767-4171-b765-2d017d3de701"
      },
      "source": [
        "nome = 'maria clara'\n",
        "print(nome.upper())"
      ],
      "execution_count": null,
      "outputs": [
        {
          "output_type": "stream",
          "text": [
            "MARIA CLARA\n"
          ],
          "name": "stdout"
        }
      ]
    },
    {
      "cell_type": "code",
      "metadata": {
        "colab": {
          "base_uri": "https://localhost:8080/"
        },
        "id": "9jZjL4pR-vSP",
        "outputId": "42d5aded-7ee3-4c55-cb86-5aa0c907c214"
      },
      "source": [
        "nome = 'maria clara'\n",
        "print(nome.capitalize())"
      ],
      "execution_count": null,
      "outputs": [
        {
          "output_type": "stream",
          "text": [
            "Maria clara\n"
          ],
          "name": "stdout"
        }
      ]
    },
    {
      "cell_type": "code",
      "metadata": {
        "colab": {
          "base_uri": "https://localhost:8080/"
        },
        "id": "BMbs6jwkBuxZ",
        "outputId": "d1afb570-1c6a-4440-94dd-9b86f0e64e9e"
      },
      "source": [
        "nome = 'maria clara'\n",
        "print(nome.title())"
      ],
      "execution_count": null,
      "outputs": [
        {
          "output_type": "stream",
          "text": [
            "Maria Clara\n"
          ],
          "name": "stdout"
        }
      ]
    },
    {
      "cell_type": "markdown",
      "metadata": {
        "id": "k9p-TLUQC5Aw"
      },
      "source": [
        "### Números"
      ]
    },
    {
      "cell_type": "markdown",
      "metadata": {
        "id": "m_oGF4UFaeYl"
      },
      "source": [
        "https://docs.python.org/pt-br/3/library/stdtypes.html#numeric-types-int-float-complex"
      ]
    },
    {
      "cell_type": "markdown",
      "metadata": {
        "id": "rqbIrMonpoOw"
      },
      "source": [
        "#### Operações"
      ]
    },
    {
      "cell_type": "markdown",
      "metadata": {
        "id": "nqJlSN2rYyDr"
      },
      "source": [
        "Soma"
      ]
    },
    {
      "cell_type": "code",
      "metadata": {
        "colab": {
          "base_uri": "https://localhost:8080/"
        },
        "id": "wy5-ihiEZHZP",
        "outputId": "987d7d6b-b0fd-48d7-ea81-7c52296b9cd2"
      },
      "source": [
        "2+2"
      ],
      "execution_count": null,
      "outputs": [
        {
          "output_type": "execute_result",
          "data": {
            "text/plain": [
              "4"
            ]
          },
          "metadata": {
            "tags": []
          },
          "execution_count": 46
        }
      ]
    },
    {
      "cell_type": "markdown",
      "metadata": {
        "id": "RffCxoJSZIuj"
      },
      "source": [
        "Subtração"
      ]
    },
    {
      "cell_type": "code",
      "metadata": {
        "colab": {
          "base_uri": "https://localhost:8080/"
        },
        "id": "mtdg79XpZN8a",
        "outputId": "618928c8-da22-4d52-8971-aca38880b49d"
      },
      "source": [
        "3-2"
      ],
      "execution_count": null,
      "outputs": [
        {
          "output_type": "execute_result",
          "data": {
            "text/plain": [
              "1"
            ]
          },
          "metadata": {
            "tags": []
          },
          "execution_count": 47
        }
      ]
    },
    {
      "cell_type": "markdown",
      "metadata": {
        "id": "zYo1Xn8qZRUM"
      },
      "source": [
        "Multiplicação"
      ]
    },
    {
      "cell_type": "code",
      "metadata": {
        "colab": {
          "base_uri": "https://localhost:8080/"
        },
        "id": "06jyVVajZXxX",
        "outputId": "1a6bd57f-a4dc-42e2-c08b-25a4f0384cc6"
      },
      "source": [
        "2*3"
      ],
      "execution_count": null,
      "outputs": [
        {
          "output_type": "execute_result",
          "data": {
            "text/plain": [
              "6"
            ]
          },
          "metadata": {
            "tags": []
          },
          "execution_count": 48
        }
      ]
    },
    {
      "cell_type": "markdown",
      "metadata": {
        "id": "Tywk6C14ZZKw"
      },
      "source": [
        "Divisão\n",
        "\n",
        "*Na divisão, o python sempre retorna um número inteiro*"
      ]
    },
    {
      "cell_type": "code",
      "metadata": {
        "colab": {
          "base_uri": "https://localhost:8080/"
        },
        "id": "pbe5AMEfZmMs",
        "outputId": "3233c75f-de24-418b-cb4e-23d2acb589d3"
      },
      "source": [
        "230/7"
      ],
      "execution_count": null,
      "outputs": [
        {
          "output_type": "execute_result",
          "data": {
            "text/plain": [
              "32.857142857142854"
            ]
          },
          "metadata": {
            "tags": []
          },
          "execution_count": 61
        }
      ]
    },
    {
      "cell_type": "markdown",
      "metadata": {
        "id": "p741hbKniB5d"
      },
      "source": [
        "Divisão\n",
        "\n",
        "*Retornando apenas a parte inteira* "
      ]
    },
    {
      "cell_type": "code",
      "metadata": {
        "colab": {
          "base_uri": "https://localhost:8080/"
        },
        "id": "_oT9dhGDiS62",
        "outputId": "3f74ec3c-6fa6-4d7d-fac6-55bebcc54aeb"
      },
      "source": [
        "230//7"
      ],
      "execution_count": null,
      "outputs": [
        {
          "output_type": "execute_result",
          "data": {
            "text/plain": [
              "32"
            ]
          },
          "metadata": {
            "tags": []
          },
          "execution_count": 62
        }
      ]
    },
    {
      "cell_type": "markdown",
      "metadata": {
        "id": "VQjgpT4pi44-"
      },
      "source": [
        "Divisão\n",
        "\n",
        "*Retornando apenas o resto da divisão*"
      ]
    },
    {
      "cell_type": "code",
      "metadata": {
        "colab": {
          "base_uri": "https://localhost:8080/"
        },
        "id": "KhwdpiQAjERL",
        "outputId": "1338facc-6e4f-492d-fa2c-506cfc4335e6"
      },
      "source": [
        "230%7"
      ],
      "execution_count": null,
      "outputs": [
        {
          "output_type": "execute_result",
          "data": {
            "text/plain": [
              "6"
            ]
          },
          "metadata": {
            "tags": []
          },
          "execution_count": 60
        }
      ]
    },
    {
      "cell_type": "markdown",
      "metadata": {
        "id": "0Q3FY4LIZ24u"
      },
      "source": [
        "Exponenciação"
      ]
    },
    {
      "cell_type": "code",
      "metadata": {
        "colab": {
          "base_uri": "https://localhost:8080/"
        },
        "id": "qljdnMehaBIo",
        "outputId": "2103c49e-d985-483c-b206-83993863443d"
      },
      "source": [
        "5**2"
      ],
      "execution_count": null,
      "outputs": [
        {
          "output_type": "execute_result",
          "data": {
            "text/plain": [
              "25"
            ]
          },
          "metadata": {
            "tags": []
          },
          "execution_count": 50
        }
      ]
    },
    {
      "cell_type": "markdown",
      "metadata": {
        "id": "3lpsu6VhaALu"
      },
      "source": [
        "Parênteses"
      ]
    },
    {
      "cell_type": "code",
      "metadata": {
        "colab": {
          "base_uri": "https://localhost:8080/"
        },
        "id": "uF0eMObFna-W",
        "outputId": "2cd891f1-bce2-47ea-fc41-68934e5815d6"
      },
      "source": [
        "2+3*3"
      ],
      "execution_count": null,
      "outputs": [
        {
          "output_type": "execute_result",
          "data": {
            "text/plain": [
              "11"
            ]
          },
          "metadata": {
            "tags": []
          },
          "execution_count": 65
        }
      ]
    },
    {
      "cell_type": "code",
      "metadata": {
        "colab": {
          "base_uri": "https://localhost:8080/"
        },
        "id": "Ohu-Ykdmnljj",
        "outputId": "05f4f550-72b0-46b9-f954-efb5b6c8f8dc"
      },
      "source": [
        "(2+3)*3"
      ],
      "execution_count": null,
      "outputs": [
        {
          "output_type": "execute_result",
          "data": {
            "text/plain": [
              "15"
            ]
          },
          "metadata": {
            "tags": []
          },
          "execution_count": 66
        }
      ]
    },
    {
      "cell_type": "markdown",
      "metadata": {
        "id": "O91-rPshooLf"
      },
      "source": [
        "#### Evitando erros de tipo comafunção str()"
      ]
    },
    {
      "cell_type": "markdown",
      "metadata": {
        "id": "m5abaOj_pk7J"
      },
      "source": [
        "Convertendo um tipo int para string para que possa ser concatenado com outras strings."
      ]
    },
    {
      "cell_type": "code",
      "metadata": {
        "colab": {
          "base_uri": "https://localhost:8080/"
        },
        "id": "CMn7KOkhp4am",
        "outputId": "35711308-bccd-4394-f37c-7f4a82fbe0cd"
      },
      "source": [
        "idade = 23\n",
        "mensagem = \"Parabéns pelos \" + str(idade) + \" anos de idade\"\n",
        "print (mensagem) "
      ],
      "execution_count": null,
      "outputs": [
        {
          "output_type": "stream",
          "text": [
            "Parabéns pelos 23 anos de idade\n"
          ],
          "name": "stdout"
        }
      ]
    },
    {
      "cell_type": "markdown",
      "metadata": {
        "id": "t4d2-edksqc7"
      },
      "source": [
        "#### Variável _"
      ]
    },
    {
      "cell_type": "markdown",
      "metadata": {
        "id": "GMmwAVxas265"
      },
      "source": [
        "Em uma operação o último valor mostrado na tela é apresentado na variável _ o que ajuda nos cáclulos, quando se está usando o python como calculadora"
      ]
    },
    {
      "cell_type": "code",
      "metadata": {
        "colab": {
          "base_uri": "https://localhost:8080/"
        },
        "id": "jRsyy5HytE8A",
        "outputId": "b00ad31e-8e31-4741-84a3-22f63f92240e"
      },
      "source": [
        "a = 2 + 3\n",
        "b = 3 + _\n",
        "print(b)"
      ],
      "execution_count": null,
      "outputs": [
        {
          "output_type": "stream",
          "text": [
            "7\n"
          ],
          "name": "stdout"
        }
      ]
    },
    {
      "cell_type": "markdown",
      "metadata": {
        "id": "cKueGZ-xqKRP"
      },
      "source": [
        "###Comentários"
      ]
    },
    {
      "cell_type": "markdown",
      "metadata": {
        "id": "8d-2TL2Qq5-T"
      },
      "source": [
        "Comentário de uma linha"
      ]
    },
    {
      "cell_type": "code",
      "metadata": {
        "colab": {
          "base_uri": "https://localhost:8080/"
        },
        "id": "uAPzNgTFrjLI",
        "outputId": "ddd8f11c-cad5-41b4-ca80-af9e3ea399cf"
      },
      "source": [
        "#Esta é a soma de dois mais dois\n",
        "2+2"
      ],
      "execution_count": null,
      "outputs": [
        {
          "output_type": "execute_result",
          "data": {
            "text/plain": [
              "4"
            ]
          },
          "metadata": {
            "tags": []
          },
          "execution_count": 71
        }
      ]
    },
    {
      "cell_type": "markdown",
      "metadata": {
        "id": "y2YK6bHArnwJ"
      },
      "source": [
        "Comentário de Multiplas linhas"
      ]
    },
    {
      "cell_type": "code",
      "metadata": {
        "colab": {
          "base_uri": "https://localhost:8080/"
        },
        "id": "oSyZEVhBr09X",
        "outputId": "3a51d5a6-ad66-4190-fe76-876ec8eb47ce"
      },
      "source": [
        "''' \n",
        "Este é um comentário de\n",
        "multiplas linhas para\n",
        "demonstrar a soma de dois mais dois \n",
        "'''\n",
        "2+2"
      ],
      "execution_count": null,
      "outputs": [
        {
          "output_type": "execute_result",
          "data": {
            "text/plain": [
              "4"
            ]
          },
          "metadata": {
            "tags": []
          },
          "execution_count": 73
        }
      ]
    },
    {
      "cell_type": "markdown",
      "metadata": {
        "id": "rJWJJ5DesBPT"
      },
      "source": [
        "## 3.LISTAS"
      ]
    },
    {
      "cell_type": "markdown",
      "metadata": {
        "id": "9Zw3wE2rQMwT"
      },
      "source": [
        "#### O que é uma lista?"
      ]
    },
    {
      "cell_type": "markdown",
      "metadata": {
        "id": "003ylZXLyO4A"
      },
      "source": [
        "Uma lista é uma cleção de itens em uma ordem em particular"
      ]
    },
    {
      "cell_type": "code",
      "metadata": {
        "colab": {
          "base_uri": "https://localhost:8080/"
        },
        "id": "aK8d2CjKLCKR",
        "outputId": "86d2d751-d9a0-4b1c-ef2a-b5fef57043b3"
      },
      "source": [
        "bicycles = ['trek', 'cannodale', 'redline', 'especialized']\n",
        "print(bicycles)"
      ],
      "execution_count": null,
      "outputs": [
        {
          "output_type": "stream",
          "text": [
            "['trek', 'cannodale', 'redline', 'especialized']\n"
          ],
          "name": "stdout"
        }
      ]
    },
    {
      "cell_type": "markdown",
      "metadata": {
        "id": "GPrlMr2kQVmW"
      },
      "source": [
        ""
      ]
    },
    {
      "cell_type": "markdown",
      "metadata": {
        "id": "ELr85ZrGQ-SV"
      },
      "source": [
        "#### Acessando elementos de uma lista\n"
      ]
    },
    {
      "cell_type": "markdown",
      "metadata": {
        "id": "lEPq4T3-LVqS"
      },
      "source": [
        "É possível acessar um item da lista atravéz de seu índice, que começa no zero"
      ]
    },
    {
      "cell_type": "code",
      "metadata": {
        "colab": {
          "base_uri": "https://localhost:8080/"
        },
        "id": "Qg9WWFrHL4-6",
        "outputId": "300e3923-2652-4594-edbd-ce24d29d0756"
      },
      "source": [
        "bicycles = ['trek', 'cannodale', 'redline', 'especialized']\n",
        "print(bicycles[0])"
      ],
      "execution_count": null,
      "outputs": [
        {
          "output_type": "stream",
          "text": [
            "trek\n"
          ],
          "name": "stdout"
        }
      ]
    },
    {
      "cell_type": "code",
      "metadata": {
        "colab": {
          "base_uri": "https://localhost:8080/"
        },
        "id": "LdrVdr8bL9sc",
        "outputId": "6fcd9e93-f06b-4854-8fcc-d25f0a41d327"
      },
      "source": [
        "bicycles = ['trek', 'cannodale', 'redline', 'especialized']\n",
        "print(bicycles[2])"
      ],
      "execution_count": null,
      "outputs": [
        {
          "output_type": "stream",
          "text": [
            "redline\n"
          ],
          "name": "stdout"
        }
      ]
    },
    {
      "cell_type": "markdown",
      "metadata": {
        "id": "9p83qlknL_nD"
      },
      "source": [
        "Também é possível usar um método com listas"
      ]
    },
    {
      "cell_type": "code",
      "metadata": {
        "colab": {
          "base_uri": "https://localhost:8080/"
        },
        "id": "QM3AG3rWMNEq",
        "outputId": "e2822805-af20-4c49-8599-54f8290bf24c"
      },
      "source": [
        "bicycles = ['trek', 'cannodale', 'redline', 'especialized']\n",
        "print(bicycles[2].title())"
      ],
      "execution_count": null,
      "outputs": [
        {
          "output_type": "stream",
          "text": [
            "Redline\n"
          ],
          "name": "stdout"
        }
      ]
    },
    {
      "cell_type": "markdown",
      "metadata": {
        "id": "k17w0IeWRe2m"
      },
      "source": [
        "#### A posição dos índices começa em 0, e não em 1"
      ]
    },
    {
      "cell_type": "markdown",
      "metadata": {
        "id": "r4pUqOfzMRfX"
      },
      "source": [
        "para acessar o última item de uma lista, é só acessar o índice -1"
      ]
    },
    {
      "cell_type": "code",
      "metadata": {
        "colab": {
          "base_uri": "https://localhost:8080/"
        },
        "id": "FOftabY8Mi2n",
        "outputId": "10df380f-3dbb-4fc0-c970-adcd303ce041"
      },
      "source": [
        "bicycles = ['trek', 'cannodale', 'redline', 'especialized']\n",
        "print(bicycles[-1])"
      ],
      "execution_count": null,
      "outputs": [
        {
          "output_type": "stream",
          "text": [
            "especialized\n"
          ],
          "name": "stdout"
        }
      ]
    },
    {
      "cell_type": "code",
      "metadata": {
        "colab": {
          "base_uri": "https://localhost:8080/"
        },
        "id": "09YI3iEBMpRI",
        "outputId": "5010288f-408f-473f-f632-bc1b32c74e39"
      },
      "source": [
        "bicycles = ['trek', 'cannodale', 'redline', 'especialized']\n",
        "print(bicycles[-2])"
      ],
      "execution_count": null,
      "outputs": [
        {
          "output_type": "stream",
          "text": [
            "redline\n"
          ],
          "name": "stdout"
        }
      ]
    },
    {
      "cell_type": "markdown",
      "metadata": {
        "id": "83sQMcwQRklc"
      },
      "source": [
        "#### Usando valores individuais de uma lista"
      ]
    },
    {
      "cell_type": "markdown",
      "metadata": {
        "id": "_6ov_fbAM5Zo"
      },
      "source": [
        "é possível concatenar um item de uma lista junto a strings, para forma uma mensagem, por exemplos."
      ]
    },
    {
      "cell_type": "code",
      "metadata": {
        "colab": {
          "base_uri": "https://localhost:8080/"
        },
        "id": "E9AMmNDiNYqv",
        "outputId": "96c6dcc7-097c-41cd-ce61-deace7ba13cf"
      },
      "source": [
        "bicycles = ['trek', 'cannodale', 'redline', 'especialized']\n",
        "msg = \"minha primeira bicicleta foi a \" + bicycles[2] + \".\"\n",
        "print(msg)"
      ],
      "execution_count": null,
      "outputs": [
        {
          "output_type": "stream",
          "text": [
            "minha primeira bicicleta foi a redline.\n"
          ],
          "name": "stdout"
        }
      ]
    },
    {
      "cell_type": "markdown",
      "metadata": {
        "id": "WBHMQh71NvbC"
      },
      "source": [
        "### 3.1 **Exercício**"
      ]
    },
    {
      "cell_type": "code",
      "metadata": {
        "colab": {
          "base_uri": "https://localhost:8080/"
        },
        "id": "foSD11LXOO-J",
        "outputId": "ebc08ee2-4bd1-4579-8c10-daa4f4e1bd5d"
      },
      "source": [
        "names =['carla', 'fabio', 'julio', 'antônio']\n",
        "print(\"bom dia \" + names[0].title())"
      ],
      "execution_count": null,
      "outputs": [
        {
          "output_type": "stream",
          "text": [
            "bom dia Carla\n"
          ],
          "name": "stdout"
        }
      ]
    },
    {
      "cell_type": "code",
      "metadata": {
        "colab": {
          "base_uri": "https://localhost:8080/"
        },
        "id": "lJpFUEPtPMXh",
        "outputId": "bb8ec1f3-a074-498b-e902-c7d0974f889e"
      },
      "source": [
        "names =['carla', 'fabio', 'julio', 'antônio']\n",
        "print(\"bom dia \" + names[2].title())"
      ],
      "execution_count": null,
      "outputs": [
        {
          "output_type": "stream",
          "text": [
            "bom dia Julio\n"
          ],
          "name": "stdout"
        }
      ]
    },
    {
      "cell_type": "markdown",
      "metadata": {
        "id": "vYZ3oF0aR4p3"
      },
      "source": [
        "### Modificando elementos de uma lista"
      ]
    },
    {
      "cell_type": "code",
      "metadata": {
        "colab": {
          "base_uri": "https://localhost:8080/"
        },
        "id": "kw4uhiwwR8C1",
        "outputId": "c668d943-9800-4829-996f-4264084b008a"
      },
      "source": [
        "motorcycles = ['honda', 'yamaha', 'suzuki']\n",
        "print(motorcycles)"
      ],
      "execution_count": null,
      "outputs": [
        {
          "output_type": "stream",
          "text": [
            "['honda', 'yamaha', 'suzuki']\n"
          ],
          "name": "stdout"
        }
      ]
    },
    {
      "cell_type": "code",
      "metadata": {
        "colab": {
          "base_uri": "https://localhost:8080/"
        },
        "id": "aho3PojoSFv0",
        "outputId": "4c517772-2a5f-401e-a108-32cee239e7fb"
      },
      "source": [
        "motorcycles = ['honda', 'yamaha', 'suzuki']\n",
        "motorcycles[0] = 'ducati'\n",
        "print(motorcycles)"
      ],
      "execution_count": null,
      "outputs": [
        {
          "output_type": "stream",
          "text": [
            "['ducati', 'yamaha', 'suzuki']\n"
          ],
          "name": "stdout"
        }
      ]
    },
    {
      "cell_type": "markdown",
      "metadata": {
        "id": "mkMrzRa7SNL1"
      },
      "source": [
        "### Acrescentando elementos em uma lista"
      ]
    },
    {
      "cell_type": "markdown",
      "metadata": {
        "id": "ZJRyxJpySet7"
      },
      "source": [
        "#### Concatenando elementos no final de uma lista (Append)"
      ]
    },
    {
      "cell_type": "code",
      "metadata": {
        "colab": {
          "base_uri": "https://localhost:8080/"
        },
        "id": "hG6pjMJsSjpM",
        "outputId": "0a88a6d1-3907-4e62-8d1c-4feb1c8406bd"
      },
      "source": [
        "motorcycles = ['honda', 'yamaha', 'suzuki']\n",
        "motorcycles.append('ducati')\n",
        "print(motorcycles)"
      ],
      "execution_count": null,
      "outputs": [
        {
          "output_type": "stream",
          "text": [
            "['honda', 'yamaha', 'suzuki', 'ducati']\n"
          ],
          "name": "stdout"
        }
      ]
    },
    {
      "cell_type": "markdown",
      "metadata": {
        "id": "cQtHdCLfSqN1"
      },
      "source": [
        "####Inserindo elementos em uma lista (Insert)"
      ]
    },
    {
      "cell_type": "code",
      "metadata": {
        "colab": {
          "base_uri": "https://localhost:8080/"
        },
        "id": "RQifgkJnWW5U",
        "outputId": "fb6e7b85-8a11-47fa-cc53-3eb7eef16fda"
      },
      "source": [
        "motorcycles = ['honda', 'yamaha', 'suzuki']\n",
        "motorcycles.insert(0, 'ducati')\n",
        "print(motorcycles)"
      ],
      "execution_count": null,
      "outputs": [
        {
          "output_type": "stream",
          "text": [
            "['ducati', 'honda', 'yamaha', 'suzuki']\n"
          ],
          "name": "stdout"
        }
      ]
    },
    {
      "cell_type": "code",
      "metadata": {
        "colab": {
          "base_uri": "https://localhost:8080/"
        },
        "id": "X_DPtmK6WaGJ",
        "outputId": "8508d931-cd0d-4358-99f1-f1eeae7128ea"
      },
      "source": [
        "letras = ['A', 'B', 'C']\n",
        "letras.insert(0, 'Z')\n",
        "print(letras)"
      ],
      "execution_count": null,
      "outputs": [
        {
          "output_type": "stream",
          "text": [
            "['Z', 'A', 'B', 'C']\n"
          ],
          "name": "stdout"
        }
      ]
    },
    {
      "cell_type": "code",
      "metadata": {
        "colab": {
          "base_uri": "https://localhost:8080/"
        },
        "id": "R2-uO1SYWr5F",
        "outputId": "70e3feab-7839-4d6f-b1e2-34a58df0692c"
      },
      "source": [
        "letras = ['A', 'B', 'C']\n",
        "letras.insert(1, 'Z')\n",
        "print(letras)"
      ],
      "execution_count": null,
      "outputs": [
        {
          "output_type": "stream",
          "text": [
            "['A', 'Z', 'B', 'C']\n"
          ],
          "name": "stdout"
        }
      ]
    },
    {
      "cell_type": "markdown",
      "metadata": {
        "id": "vfUvwxTnWx4U"
      },
      "source": [
        "### Removendo elementos de uma lista"
      ]
    },
    {
      "cell_type": "markdown",
      "metadata": {
        "id": "gbYzbP_KXK2L"
      },
      "source": [
        "#### Removendo um item usando a instrução del"
      ]
    },
    {
      "cell_type": "code",
      "metadata": {
        "colab": {
          "base_uri": "https://localhost:8080/"
        },
        "id": "1Enyf_iaXTpy",
        "outputId": "8f52073f-98d4-426c-e14b-e7c8814bdac6"
      },
      "source": [
        "motorcycles = ['honda', 'yamaha', 'suzuki']\n",
        "del motorcycles[0]\n",
        "print(motorcycles)"
      ],
      "execution_count": null,
      "outputs": [
        {
          "output_type": "stream",
          "text": [
            "['yamaha', 'suzuki']\n"
          ],
          "name": "stdout"
        }
      ]
    },
    {
      "cell_type": "code",
      "metadata": {
        "colab": {
          "base_uri": "https://localhost:8080/"
        },
        "id": "aZgIqnXgXaBy",
        "outputId": "63bd90b0-df6d-4d5e-c8f5-7b7178474a3e"
      },
      "source": [
        "letras = letras = ['A', 'B', 'C']\n",
        "del letras[1]\n",
        "print(letras)"
      ],
      "execution_count": null,
      "outputs": [
        {
          "output_type": "stream",
          "text": [
            "['A', 'C']\n"
          ],
          "name": "stdout"
        }
      ]
    },
    {
      "cell_type": "markdown",
      "metadata": {
        "id": "4mtEblInXkng"
      },
      "source": [
        "#### Removendo um item com o método pop()\n"
      ]
    },
    {
      "cell_type": "markdown",
      "metadata": {
        "id": "n7o6grBCZW_3"
      },
      "source": [
        "O método pop() sem indice algum, sempre remove o último item da lista"
      ]
    },
    {
      "cell_type": "code",
      "metadata": {
        "id": "_TBYu-G8Y5dB"
      },
      "source": [
        "letras = letras = ['A', 'B', 'C', 'D']\n",
        "UltimaLetra = letras.pop()"
      ],
      "execution_count": null,
      "outputs": []
    },
    {
      "cell_type": "code",
      "metadata": {
        "colab": {
          "base_uri": "https://localhost:8080/"
        },
        "id": "XyV-eWm3ZI60",
        "outputId": "fd7de709-97ed-4a5f-91eb-9887d01526ea"
      },
      "source": [
        "print(letras)"
      ],
      "execution_count": null,
      "outputs": [
        {
          "output_type": "stream",
          "text": [
            "['A', 'B', 'C']\n"
          ],
          "name": "stdout"
        }
      ]
    },
    {
      "cell_type": "code",
      "metadata": {
        "colab": {
          "base_uri": "https://localhost:8080/"
        },
        "id": "PjtlVtjYZMtA",
        "outputId": "ad03afeb-0b2f-4c72-ad3c-53bfc1ff6bc7"
      },
      "source": [
        "print(UltimaLetra)"
      ],
      "execution_count": null,
      "outputs": [
        {
          "output_type": "stream",
          "text": [
            "D\n"
          ],
          "name": "stdout"
        }
      ]
    },
    {
      "cell_type": "code",
      "metadata": {
        "colab": {
          "base_uri": "https://localhost:8080/"
        },
        "id": "DEoLY2GWZQrU",
        "outputId": "7e4e22c7-e18d-4b1a-fd54-92711fb8dfdd"
      },
      "source": [
        "print('A última letras é ' + UltimaLetra)"
      ],
      "execution_count": null,
      "outputs": [
        {
          "output_type": "stream",
          "text": [
            "A última letras é D\n"
          ],
          "name": "stdout"
        }
      ]
    },
    {
      "cell_type": "markdown",
      "metadata": {
        "id": "R9nxCw4EZpXr"
      },
      "source": [
        "Se colocarmos um índice, ele removerá o item desse índice"
      ]
    },
    {
      "cell_type": "code",
      "metadata": {
        "id": "eKQogM7QZ7Su"
      },
      "source": [
        "letras = ['A', 'B', 'C', 'D']\n",
        "RetiraLetra = letras.pop(2)"
      ],
      "execution_count": null,
      "outputs": []
    },
    {
      "cell_type": "code",
      "metadata": {
        "colab": {
          "base_uri": "https://localhost:8080/"
        },
        "id": "BmR0uB_NaDiz",
        "outputId": "05acd388-2e5a-4612-ffa4-94e981eb95ff"
      },
      "source": [
        "print(letras)"
      ],
      "execution_count": null,
      "outputs": [
        {
          "output_type": "stream",
          "text": [
            "['A', 'B', 'D']\n"
          ],
          "name": "stdout"
        }
      ]
    },
    {
      "cell_type": "code",
      "metadata": {
        "colab": {
          "base_uri": "https://localhost:8080/"
        },
        "id": "QE3cPjuzaFgM",
        "outputId": "705db76e-d05a-4b32-f03c-350dde55ba7c"
      },
      "source": [
        "print(RetiraLetra)"
      ],
      "execution_count": null,
      "outputs": [
        {
          "output_type": "stream",
          "text": [
            "C\n"
          ],
          "name": "stdout"
        }
      ]
    },
    {
      "cell_type": "markdown",
      "metadata": {
        "id": "0c8Y-Z5baMsX"
      },
      "source": [
        "#### Del ou POP"
      ]
    },
    {
      "cell_type": "markdown",
      "metadata": {
        "id": "EJjtL3vqa0eL"
      },
      "source": [
        "Quando quiser apagar um item de uma lista e\n",
        "esse item não vai ser usado de modo algum, utilize a instrução del; se\n",
        "quiser usar um item à medida que removê-lo, utilize o método pop()."
      ]
    },
    {
      "cell_type": "markdown",
      "metadata": {
        "id": "MeJYrEzybH0b"
      },
      "source": [
        "#### Removendo um item de acordo com o valor Remove()"
      ]
    },
    {
      "cell_type": "markdown",
      "metadata": {
        "id": "EWYZdBhHjJ1o"
      },
      "source": [
        "Remove um item que você sabe o valor mas não conhece seu índice"
      ]
    },
    {
      "cell_type": "code",
      "metadata": {
        "colab": {
          "base_uri": "https://localhost:8080/"
        },
        "id": "jKN1XIxOjhnh",
        "outputId": "4572c646-7707-4328-9be3-b8c628281342"
      },
      "source": [
        "letras = ['A', 'B', 'C', 'D']\n",
        "letras.remove('C')\n",
        "print(letras)"
      ],
      "execution_count": null,
      "outputs": [
        {
          "output_type": "stream",
          "text": [
            "['A', 'B', 'D']\n"
          ],
          "name": "stdout"
        }
      ]
    },
    {
      "cell_type": "code",
      "metadata": {
        "colab": {
          "base_uri": "https://localhost:8080/"
        },
        "id": "OO7sjBFjjwOC",
        "outputId": "92f320d3-d112-4f6e-db66-a75d014e268d"
      },
      "source": [
        "letras = ['A', 'B', 'C', 'D']\n",
        "RetiraLetra = 'D'\n",
        "letras.remove(RetiraLetra)\n",
        "print(letras)"
      ],
      "execution_count": null,
      "outputs": [
        {
          "output_type": "stream",
          "text": [
            "['A', 'B', 'C']\n"
          ],
          "name": "stdout"
        }
      ]
    },
    {
      "cell_type": "markdown",
      "metadata": {
        "id": "YKQ9LghrkbtA"
      },
      "source": [
        "Sem um laço, o método remove retira apenas a primeira ocorrência da letra ou valor."
      ]
    },
    {
      "cell_type": "code",
      "metadata": {
        "colab": {
          "base_uri": "https://localhost:8080/"
        },
        "id": "oNDkERbklCpO",
        "outputId": "c0b251e1-918c-4c55-da4a-7d0565b67589"
      },
      "source": [
        "letras = ['A', 'B', 'C', 'C', 'D']\n",
        "letras.remove('C')\n",
        "print(letras)"
      ],
      "execution_count": null,
      "outputs": [
        {
          "output_type": "stream",
          "text": [
            "['A', 'B', 'C', 'D']\n"
          ],
          "name": "stdout"
        }
      ]
    },
    {
      "cell_type": "markdown",
      "metadata": {
        "id": "jXa43FkOlH02"
      },
      "source": [
        "###3.4 Exercício"
      ]
    },
    {
      "cell_type": "code",
      "metadata": {
        "id": "UQYTzMXwlY95"
      },
      "source": [
        "lista_convidados = ['André', 'Fábio', 'Carla', 'Souza']"
      ],
      "execution_count": null,
      "outputs": []
    },
    {
      "cell_type": "code",
      "metadata": {
        "colab": {
          "base_uri": "https://localhost:8080/"
        },
        "id": "Wl2TK-rYltCV",
        "outputId": "e2bc4736-5367-4cc0-8af2-1ea68aafd7bc"
      },
      "source": [
        "print('Olá '+ lista_convidados[0] + ', gostaria de te convidar para um jantar')"
      ],
      "execution_count": null,
      "outputs": [
        {
          "output_type": "stream",
          "text": [
            "Olá André, gostaria de te convidar para um jantar\n"
          ],
          "name": "stdout"
        }
      ]
    },
    {
      "cell_type": "code",
      "metadata": {
        "colab": {
          "base_uri": "https://localhost:8080/"
        },
        "id": "jctjWJ6fl2LN",
        "outputId": "5869a3ec-836a-449d-abae-bb308d6290d4"
      },
      "source": [
        "print('Olá '+ lista_convidados[1] + ', gostaria de te convidar para um jantar')"
      ],
      "execution_count": null,
      "outputs": [
        {
          "output_type": "stream",
          "text": [
            "Olá Fábio, gostaria de te convidar para um jantar\n"
          ],
          "name": "stdout"
        }
      ]
    },
    {
      "cell_type": "code",
      "metadata": {
        "colab": {
          "base_uri": "https://localhost:8080/"
        },
        "id": "U78lT-XLl76F",
        "outputId": "f73383db-f82b-41f5-a4da-64d153eeee17"
      },
      "source": [
        "print('Olá '+ lista_convidados[2] + ', gostaria de te convidar para um jantar')"
      ],
      "execution_count": null,
      "outputs": [
        {
          "output_type": "stream",
          "text": [
            "Olá Carla, gostaria de te convidar para um jantar\n"
          ],
          "name": "stdout"
        }
      ]
    },
    {
      "cell_type": "code",
      "metadata": {
        "colab": {
          "base_uri": "https://localhost:8080/"
        },
        "id": "DtHs2yUVl9cl",
        "outputId": "6ba389e2-dec7-48f6-f43b-04c2326622a0"
      },
      "source": [
        "print('Olá '+ lista_convidados[3] + ', gostaria de te convidar para um jantar')"
      ],
      "execution_count": null,
      "outputs": [
        {
          "output_type": "stream",
          "text": [
            "Olá Souza, gostaria de te convidar para um jantar\n"
          ],
          "name": "stdout"
        }
      ]
    },
    {
      "cell_type": "markdown",
      "metadata": {
        "id": "kTLOX2Y5l-jd"
      },
      "source": [
        "###3.5 Exercício"
      ]
    },
    {
      "cell_type": "code",
      "metadata": {
        "id": "W0r8tnNhmq6A"
      },
      "source": [
        "lista_convidados = ['André', 'Fábio', 'Carla', 'Souza']"
      ],
      "execution_count": null,
      "outputs": []
    },
    {
      "cell_type": "code",
      "metadata": {
        "colab": {
          "base_uri": "https://localhost:8080/"
        },
        "id": "t4fggqCHm0JP",
        "outputId": "16325a04-8c37-4ffd-b1fa-bbd585ba18dc"
      },
      "source": [
        "print('Infelizmente a convidada '+lista_convidados[2]+', não poderá comparecer')"
      ],
      "execution_count": null,
      "outputs": [
        {
          "output_type": "stream",
          "text": [
            "Infelizmente a convidada Carla, não poderá comparecer\n"
          ],
          "name": "stdout"
        }
      ]
    },
    {
      "cell_type": "code",
      "metadata": {
        "id": "NzLM7es_nabc"
      },
      "source": [
        "lista_convidados[2] = 'Amanda'"
      ],
      "execution_count": null,
      "outputs": []
    },
    {
      "cell_type": "code",
      "metadata": {
        "colab": {
          "base_uri": "https://localhost:8080/"
        },
        "id": "RyCAwLUEnmNF",
        "outputId": "72bd3b57-34b1-41a7-db2e-b4271656e90d"
      },
      "source": [
        "print(lista_convidados)"
      ],
      "execution_count": null,
      "outputs": [
        {
          "output_type": "stream",
          "text": [
            "['André', 'Fábio', 'Amanda', 'Souza']\n"
          ],
          "name": "stdout"
        }
      ]
    },
    {
      "cell_type": "code",
      "metadata": {
        "colab": {
          "base_uri": "https://localhost:8080/"
        },
        "id": "iuNgX1cDnofR",
        "outputId": "3800dee4-9ff6-4497-8432-56df6128c397"
      },
      "source": [
        "print('Olá '+ lista_convidados[2] + ', gostaria de te convidar para um jantar')"
      ],
      "execution_count": null,
      "outputs": [
        {
          "output_type": "stream",
          "text": [
            "Olá Amanda, gostaria de te convidar para um jantar\n"
          ],
          "name": "stdout"
        }
      ]
    },
    {
      "cell_type": "markdown",
      "metadata": {
        "id": "sAziAq7AnwUF"
      },
      "source": [
        "###3.6 Exercício"
      ]
    },
    {
      "cell_type": "code",
      "metadata": {
        "id": "dEeS78LLrIhn"
      },
      "source": [
        "lista_convidados = ['André', 'Fábio', 'Amanda', 'Souza']"
      ],
      "execution_count": null,
      "outputs": []
    },
    {
      "cell_type": "code",
      "metadata": {
        "colab": {
          "base_uri": "https://localhost:8080/"
        },
        "id": "Zzc_5VCKn4fW",
        "outputId": "e4dc79b5-6f25-4ee0-8edf-946360ec3743"
      },
      "source": [
        "print('Olá convidados '+ lista_convidados[0] + ', ' + lista_convidados[1] + ', ' + lista_convidados[2] + ' e ' + lista_convidados[3] + ', compramos uma mesa maior, por isso convidaremos mais pessoas')"
      ],
      "execution_count": null,
      "outputs": [
        {
          "output_type": "stream",
          "text": [
            "Olá convidados André, Fábio, Amanda e Souza, compramos uma mesa maior, por isso convidaremos mais pessoas\n"
          ],
          "name": "stdout"
        }
      ]
    },
    {
      "cell_type": "code",
      "metadata": {
        "colab": {
          "base_uri": "https://localhost:8080/"
        },
        "id": "1ynzTVcYo1Gw",
        "outputId": "b1e835a5-61ef-4b1f-92bb-6ba58922313a"
      },
      "source": [
        "lista_convidados.insert(0,'Mário')\n",
        "lista_convidados.insert(2, 'Flávia')\n",
        "lista_convidados.append('Luiza')\n",
        "print(lista_convidados)"
      ],
      "execution_count": null,
      "outputs": [
        {
          "output_type": "stream",
          "text": [
            "['Mário', 'André', 'Flávia', 'Fábio', 'Amanda', 'Souza', 'Luiza']\n"
          ],
          "name": "stdout"
        }
      ]
    },
    {
      "cell_type": "code",
      "metadata": {
        "colab": {
          "base_uri": "https://localhost:8080/"
        },
        "id": "dRuMrBKbqjTr",
        "outputId": "d0f18f88-18e6-48d3-82c0-69d68e1ecd70"
      },
      "source": [
        "print('Olá '+ lista_convidados[0] + ', gostaria de te convidar para um jantar')"
      ],
      "execution_count": null,
      "outputs": [
        {
          "output_type": "stream",
          "text": [
            "Olá Mário, gostaria de te convidar para um jantar\n"
          ],
          "name": "stdout"
        }
      ]
    },
    {
      "cell_type": "code",
      "metadata": {
        "colab": {
          "base_uri": "https://localhost:8080/"
        },
        "id": "mtf2jKNvru3E",
        "outputId": "42a9d120-e646-42b3-9a3d-cf0df665c687"
      },
      "source": [
        "print('Olá '+ lista_convidados[1] + ', gostaria de te convidar para um jantar')"
      ],
      "execution_count": null,
      "outputs": [
        {
          "output_type": "stream",
          "text": [
            "Olá André, gostaria de te convidar para um jantar\n"
          ],
          "name": "stdout"
        }
      ]
    },
    {
      "cell_type": "code",
      "metadata": {
        "colab": {
          "base_uri": "https://localhost:8080/"
        },
        "id": "p1AYLRVGrvdP",
        "outputId": "4b36a218-e8fc-4b5f-fac5-35be7137290a"
      },
      "source": [
        "print('Olá '+ lista_convidados[2] + ', gostaria de te convidar para um jantar')"
      ],
      "execution_count": null,
      "outputs": [
        {
          "output_type": "stream",
          "text": [
            "Olá Flávia, gostaria de te convidar para um jantar\n"
          ],
          "name": "stdout"
        }
      ]
    },
    {
      "cell_type": "code",
      "metadata": {
        "colab": {
          "base_uri": "https://localhost:8080/"
        },
        "id": "2dC8GuwMrv_4",
        "outputId": "8056c738-be12-4dd6-b97c-0a99768f263e"
      },
      "source": [
        "print('Olá '+ lista_convidados[3] + ', gostaria de te convidar para um jantar')"
      ],
      "execution_count": null,
      "outputs": [
        {
          "output_type": "stream",
          "text": [
            "Olá Fábio, gostaria de te convidar para um jantar\n"
          ],
          "name": "stdout"
        }
      ]
    },
    {
      "cell_type": "code",
      "metadata": {
        "colab": {
          "base_uri": "https://localhost:8080/"
        },
        "id": "iNtdZX-SrwiE",
        "outputId": "36b2fc14-e772-45a8-b5bf-ed968f0b4345"
      },
      "source": [
        "print('Olá '+ lista_convidados[4] + ', gostaria de te convidar para um jantar')"
      ],
      "execution_count": null,
      "outputs": [
        {
          "output_type": "stream",
          "text": [
            "Olá Amanda, gostaria de te convidar para um jantar\n"
          ],
          "name": "stdout"
        }
      ]
    },
    {
      "cell_type": "code",
      "metadata": {
        "colab": {
          "base_uri": "https://localhost:8080/"
        },
        "id": "5Ta1bTQWrw8o",
        "outputId": "33148690-2083-494d-b5b0-dfa84941f742"
      },
      "source": [
        "print('Olá '+ lista_convidados[5] + ', gostaria de te convidar para um jantar')"
      ],
      "execution_count": null,
      "outputs": [
        {
          "output_type": "stream",
          "text": [
            "Olá Souza, gostaria de te convidar para um jantar\n"
          ],
          "name": "stdout"
        }
      ]
    },
    {
      "cell_type": "code",
      "metadata": {
        "colab": {
          "base_uri": "https://localhost:8080/"
        },
        "id": "LJHiR9Yjr114",
        "outputId": "62a67337-4f7a-4cfb-9dfc-cb92a99d3c63"
      },
      "source": [
        "print('Olá '+ lista_convidados[6] + ', gostaria de te convidar para um jantar')"
      ],
      "execution_count": null,
      "outputs": [
        {
          "output_type": "stream",
          "text": [
            "Olá Luiza, gostaria de te convidar para um jantar\n"
          ],
          "name": "stdout"
        }
      ]
    },
    {
      "cell_type": "markdown",
      "metadata": {
        "id": "ZkTLpvLQr2hF"
      },
      "source": [
        "###3.7 Exercício"
      ]
    },
    {
      "cell_type": "code",
      "metadata": {
        "id": "97M2yeN3sQDp"
      },
      "source": [
        "lista_convidados = ['Mário', 'André', 'Flávia', 'Fábio', 'Amanda', 'Souza', 'Luiza']"
      ],
      "execution_count": null,
      "outputs": []
    },
    {
      "cell_type": "code",
      "metadata": {
        "colab": {
          "base_uri": "https://localhost:8080/"
        },
        "id": "zLw5obQZsXt2",
        "outputId": "5838ba5d-4cff-49a2-af9d-8424ecc97ea6"
      },
      "source": [
        "RetiraConvidado = lista_convidados.pop(0)\n",
        "print(RetiraConvidado + ', infelizmente você não fará mais parte da lista de convidados.')"
      ],
      "execution_count": null,
      "outputs": [
        {
          "output_type": "stream",
          "text": [
            "Mário, infelizmente você não fará mais parte da lista de convidados.\n"
          ],
          "name": "stdout"
        }
      ]
    },
    {
      "cell_type": "code",
      "metadata": {
        "colab": {
          "base_uri": "https://localhost:8080/"
        },
        "id": "oT3ZUG2ftWvk",
        "outputId": "9e1bdf4d-2da9-457e-e34f-8645ebba4b19"
      },
      "source": [
        "print(lista_convidados.pop(0) + ', infelizmente você não fará mais parte da lista de convidados.')"
      ],
      "execution_count": null,
      "outputs": [
        {
          "output_type": "stream",
          "text": [
            "André, infelizmente você não fará mais parte da lista de convidados.\n"
          ],
          "name": "stdout"
        }
      ]
    },
    {
      "cell_type": "code",
      "metadata": {
        "colab": {
          "base_uri": "https://localhost:8080/"
        },
        "id": "YFUpNkerth9W",
        "outputId": "7170850d-a3cb-46c6-baf0-0d48ba1c1224"
      },
      "source": [
        "print(lista_convidados.pop(0) + ', infelizmente você não fará mais parte da lista de convidados.')"
      ],
      "execution_count": null,
      "outputs": [
        {
          "output_type": "stream",
          "text": [
            "Flávia, infelizmente você não fará mais parte da lista de convidados.\n"
          ],
          "name": "stdout"
        }
      ]
    },
    {
      "cell_type": "code",
      "metadata": {
        "colab": {
          "base_uri": "https://localhost:8080/"
        },
        "id": "MKaOOuw8tm3U",
        "outputId": "40a0ac63-acc2-4c12-e0b5-13e714fcddce"
      },
      "source": [
        "print(lista_convidados.pop(0) + ', infelizmente você não fará mais parte da lista de convidados.')"
      ],
      "execution_count": null,
      "outputs": [
        {
          "output_type": "stream",
          "text": [
            "Fábio, infelizmente você não fará mais parte da lista de convidados.\n"
          ],
          "name": "stdout"
        }
      ]
    },
    {
      "cell_type": "code",
      "metadata": {
        "colab": {
          "base_uri": "https://localhost:8080/"
        },
        "id": "JI-6srUhtoQY",
        "outputId": "1b732d2b-df8f-4cab-816c-632575f9226c"
      },
      "source": [
        "print(lista_convidados.pop(0) + ', infelizmente você não fará mais parte da lista de convidados.')"
      ],
      "execution_count": null,
      "outputs": [
        {
          "output_type": "stream",
          "text": [
            "Amanda, infelizmente você não fará mais parte da lista de convidados.\n"
          ],
          "name": "stdout"
        }
      ]
    },
    {
      "cell_type": "code",
      "metadata": {
        "colab": {
          "base_uri": "https://localhost:8080/"
        },
        "id": "Px_xj6Qrto7H",
        "outputId": "65130780-9e88-4d9f-d8ce-88056d8eec52"
      },
      "source": [
        "print('Olá convidados '+ lista_convidados[0] + ' e ' + lista_convidados[1] + ', vocês ainda fazem parte da lista de convidados')"
      ],
      "execution_count": null,
      "outputs": [
        {
          "output_type": "stream",
          "text": [
            "Olá convidados Souza e Luiza, vocês ainda fazem parte da lista de convidados\n"
          ],
          "name": "stdout"
        }
      ]
    },
    {
      "cell_type": "code",
      "metadata": {
        "colab": {
          "base_uri": "https://localhost:8080/"
        },
        "id": "CsYDdz0RuEEk",
        "outputId": "85040b9f-9d17-4d59-e6fb-ddf242613552"
      },
      "source": [
        "del lista_convidados[0]\n",
        "print(lista_convidados)"
      ],
      "execution_count": null,
      "outputs": [
        {
          "output_type": "stream",
          "text": [
            "['Luiza']\n"
          ],
          "name": "stdout"
        }
      ]
    },
    {
      "cell_type": "code",
      "metadata": {
        "colab": {
          "base_uri": "https://localhost:8080/"
        },
        "id": "c29KvJjuuQ2D",
        "outputId": "deaf6852-724e-4258-a627-ed77ed8aa60a"
      },
      "source": [
        "del lista_convidados[0]\n",
        "print(lista_convidados)"
      ],
      "execution_count": null,
      "outputs": [
        {
          "output_type": "stream",
          "text": [
            "[]\n"
          ],
          "name": "stdout"
        }
      ]
    },
    {
      "cell_type": "markdown",
      "metadata": {
        "id": "xHMc6TLkvs8d"
      },
      "source": [
        "###Organizando uma lista"
      ]
    },
    {
      "cell_type": "markdown",
      "metadata": {
        "id": "5eLlIkV1yd41"
      },
      "source": [
        "####Ordenando uma lista de forma permanente com o método sort()"
      ]
    },
    {
      "cell_type": "markdown",
      "metadata": {
        "id": "lL_ncKmx4TNR"
      },
      "source": [
        "O método sort() ordena de maneira permanente a lista em ordem alfabética, crescente ou descrescente (neste último caso, a partir do parâmetro reverse=True)"
      ]
    },
    {
      "cell_type": "code",
      "metadata": {
        "colab": {
          "base_uri": "https://localhost:8080/"
        },
        "id": "WHggtRTR4l5h",
        "outputId": "43a31370-572c-4a60-b489-8a8fddafc75a"
      },
      "source": [
        "letras = ['c', 'd', 'a', 'b']\n",
        "letras.sort()\n",
        "print(letras)"
      ],
      "execution_count": null,
      "outputs": [
        {
          "output_type": "stream",
          "text": [
            "['a', 'b', 'c', 'd']\n"
          ],
          "name": "stdout"
        }
      ]
    },
    {
      "cell_type": "code",
      "metadata": {
        "colab": {
          "base_uri": "https://localhost:8080/"
        },
        "id": "rleo4p8t44uC",
        "outputId": "1730ed24-2ab1-4814-e661-04b5122dd871"
      },
      "source": [
        "letras.sort(reverse=True)\n",
        "print(letras)"
      ],
      "execution_count": null,
      "outputs": [
        {
          "output_type": "stream",
          "text": [
            "['d', 'c', 'b', 'a']\n"
          ],
          "name": "stdout"
        }
      ]
    },
    {
      "cell_type": "markdown",
      "metadata": {
        "id": "n0Rmwwqu5GU1"
      },
      "source": [
        "####Ordenando uma lista temporariamente com a função sorted()"
      ]
    },
    {
      "cell_type": "markdown",
      "metadata": {
        "id": "ouRi9f2l5R5Y"
      },
      "source": [
        "O funçao sorted apresenta a lista de forma ordenada, sem afetar a ordem da própria lista"
      ]
    },
    {
      "cell_type": "code",
      "metadata": {
        "colab": {
          "base_uri": "https://localhost:8080/"
        },
        "id": "va1wer_65mqn",
        "outputId": "81d94e34-9fc8-4549-e9d2-9ca571df5ad0"
      },
      "source": [
        "letras = ['c', 'd', 'a', 'b']\n",
        "print(sorted(letras))"
      ],
      "execution_count": null,
      "outputs": [
        {
          "output_type": "stream",
          "text": [
            "['a', 'b', 'c', 'd']\n"
          ],
          "name": "stdout"
        }
      ]
    },
    {
      "cell_type": "code",
      "metadata": {
        "colab": {
          "base_uri": "https://localhost:8080/"
        },
        "id": "RjlN1FHU6gJW",
        "outputId": "b2fad12e-28b7-4516-ca3c-1d9dcc440d79"
      },
      "source": [
        "print(letras)"
      ],
      "execution_count": null,
      "outputs": [
        {
          "output_type": "stream",
          "text": [
            "['c', 'd', 'a', 'b']\n"
          ],
          "name": "stdout"
        }
      ]
    },
    {
      "cell_type": "markdown",
      "metadata": {
        "id": "nyumijcY7e62"
      },
      "source": [
        "####Exibindo uma lista em ordem inversa reverse()"
      ]
    },
    {
      "cell_type": "markdown",
      "metadata": {
        "id": "aO7FTDYB8Dj4"
      },
      "source": [
        "Digamos que os nomes das pessoas foram organizadas por ordem de seu nascimento, se quisermos organizar a lista na ordem de nascimento inversa, usaremos o método reverse()\n",
        "\n",
        "Barbara  1992\n",
        "\n",
        "Carla  1997\n",
        "\n",
        "Ana 1999\n",
        "\n",
        "Elaine 2002"
      ]
    },
    {
      "cell_type": "code",
      "metadata": {
        "colab": {
          "base_uri": "https://localhost:8080/"
        },
        "id": "JLGALkBR8lTS",
        "outputId": "61cd1d9e-7942-4cf6-c8f2-f2ef70c7814f"
      },
      "source": [
        "nomes = ['Barbara', 'Carla', 'Ana', 'Elaine']\n",
        "print(nomes)"
      ],
      "execution_count": null,
      "outputs": [
        {
          "output_type": "stream",
          "text": [
            "['Barbara', 'Carla', 'Ana', 'Elaine']\n"
          ],
          "name": "stdout"
        }
      ]
    },
    {
      "cell_type": "code",
      "metadata": {
        "colab": {
          "base_uri": "https://localhost:8080/"
        },
        "id": "mqON3T2c9YTW",
        "outputId": "e4ef1d0a-8959-45d1-c79a-ab88d12be0af"
      },
      "source": [
        "nomes.reverse()\n",
        "print(nomes)"
      ],
      "execution_count": null,
      "outputs": [
        {
          "output_type": "stream",
          "text": [
            "['Elaine', 'Ana', 'Carla', 'Barbara']\n"
          ],
          "name": "stdout"
        }
      ]
    },
    {
      "cell_type": "markdown",
      "metadata": {
        "id": "WlawjEPC9e79"
      },
      "source": [
        "O método reverse() muda a lista de forma permanente, mas para voltar a ordem inicial, basta apenas aplicar reverse() à lista novamente."
      ]
    },
    {
      "cell_type": "markdown",
      "metadata": {
        "id": "HAJV2xHL-gDQ"
      },
      "source": [
        "####Descobrindo o número de itens (tamanho) de uma lista len()"
      ]
    },
    {
      "cell_type": "code",
      "metadata": {
        "colab": {
          "base_uri": "https://localhost:8080/"
        },
        "id": "uFSNwcIz-mgc",
        "outputId": "b9a27005-5076-4a46-ec0a-5729b129bdb8"
      },
      "source": [
        "nomes = ['Barbara', 'Carla', 'Ana', 'Elaine']\n",
        "tamanho = len(nomes)\n",
        "print(str(tamanho))"
      ],
      "execution_count": null,
      "outputs": [
        {
          "output_type": "stream",
          "text": [
            "4\n"
          ],
          "name": "stdout"
        }
      ]
    },
    {
      "cell_type": "markdown",
      "metadata": {
        "id": "tzDddc-7-pKY"
      },
      "source": [
        "A função len() conta o numero de itens dentro de um container, já que essa função devolve um número inteiro, para mostrar esse número, foi necessário convertê-lo para string. A contagem começa do 1. "
      ]
    },
    {
      "cell_type": "markdown",
      "metadata": {
        "id": "pJ0GU0py_5-Q"
      },
      "source": [
        "###3.8 Exercício"
      ]
    },
    {
      "cell_type": "code",
      "metadata": {
        "colab": {
          "base_uri": "https://localhost:8080/"
        },
        "id": "g2QNnONJAXH3",
        "outputId": "0233e781-cc22-4134-9db3-5a369fe9d969"
      },
      "source": [
        "lugares = ['Maranhão', 'Paraná', 'Amazonas', 'Bahia']\n",
        "print(lugares)"
      ],
      "execution_count": null,
      "outputs": [
        {
          "output_type": "stream",
          "text": [
            "['Maranhão', 'Paraná', 'Amazonas', 'Bahia']\n"
          ],
          "name": "stdout"
        }
      ]
    },
    {
      "cell_type": "code",
      "metadata": {
        "colab": {
          "base_uri": "https://localhost:8080/"
        },
        "id": "D9K0nXmNAry_",
        "outputId": "93c8a4ff-9477-4a4e-bde9-03c899bf8b72"
      },
      "source": [
        "lugares = ['Maranhão', 'Paraná', 'Amazonas', 'Bahia']\n",
        "print(sorted(lugares))"
      ],
      "execution_count": null,
      "outputs": [
        {
          "output_type": "stream",
          "text": [
            "['Amazonas', 'Bahia', 'Maranhão', 'Paraná']\n"
          ],
          "name": "stdout"
        }
      ]
    },
    {
      "cell_type": "code",
      "metadata": {
        "colab": {
          "base_uri": "https://localhost:8080/"
        },
        "id": "uypzHRq0BE1T",
        "outputId": "acf4fe8b-4730-40c4-a90d-2f236d228d6d"
      },
      "source": [
        "print(lugares)"
      ],
      "execution_count": null,
      "outputs": [
        {
          "output_type": "stream",
          "text": [
            "['Maranhão', 'Paraná', 'Amazonas', 'Bahia']\n"
          ],
          "name": "stdout"
        }
      ]
    },
    {
      "cell_type": "code",
      "metadata": {
        "colab": {
          "base_uri": "https://localhost:8080/"
        },
        "id": "WApd1xFvBIcz",
        "outputId": "e05ba28c-59b7-42e9-e303-338c3bd89a5b"
      },
      "source": [
        "print(sorted(lugares, reverse=True))"
      ],
      "execution_count": null,
      "outputs": [
        {
          "output_type": "stream",
          "text": [
            "['Paraná', 'Maranhão', 'Bahia', 'Amazonas']\n"
          ],
          "name": "stdout"
        }
      ]
    },
    {
      "cell_type": "code",
      "metadata": {
        "colab": {
          "base_uri": "https://localhost:8080/"
        },
        "id": "INnsYVKCB6t4",
        "outputId": "bb795a62-58bf-44b2-8db4-3c83af982cdf"
      },
      "source": [
        "print(lugares)"
      ],
      "execution_count": null,
      "outputs": [
        {
          "output_type": "stream",
          "text": [
            "['Maranhão', 'Paraná', 'Amazonas', 'Bahia']\n"
          ],
          "name": "stdout"
        }
      ]
    },
    {
      "cell_type": "code",
      "metadata": {
        "colab": {
          "base_uri": "https://localhost:8080/"
        },
        "id": "cId22WjTCCn9",
        "outputId": "c0a8ed5d-be97-4766-d271-b7309103574f"
      },
      "source": [
        "lugares = ['Maranhão', 'Paraná', 'Amazonas', 'Bahia']\n",
        "lugares.reverse()\n",
        "print(lugares)"
      ],
      "execution_count": null,
      "outputs": [
        {
          "output_type": "stream",
          "text": [
            "['Bahia', 'Amazonas', 'Paraná', 'Maranhão']\n"
          ],
          "name": "stdout"
        }
      ]
    },
    {
      "cell_type": "code",
      "metadata": {
        "colab": {
          "base_uri": "https://localhost:8080/"
        },
        "id": "fbbHzJ4aCgP-",
        "outputId": "753b0938-2bdf-4c42-ec1e-c4ca233db01e"
      },
      "source": [
        "lugares.reverse()\n",
        "print(lugares)"
      ],
      "execution_count": null,
      "outputs": [
        {
          "output_type": "stream",
          "text": [
            "['Maranhão', 'Paraná', 'Amazonas', 'Bahia']\n"
          ],
          "name": "stdout"
        }
      ]
    },
    {
      "cell_type": "code",
      "metadata": {
        "colab": {
          "base_uri": "https://localhost:8080/"
        },
        "id": "kBB0gu7yCjw6",
        "outputId": "fd55407d-bb69-4f1e-da63-facb7280584c"
      },
      "source": [
        "lugares = ['Maranhão', 'Paraná', 'Amazonas', 'Bahia']\n",
        "lugares.sort()\n",
        "print(lugares)"
      ],
      "execution_count": null,
      "outputs": [
        {
          "output_type": "stream",
          "text": [
            "['Amazonas', 'Bahia', 'Maranhão', 'Paraná']\n"
          ],
          "name": "stdout"
        }
      ]
    },
    {
      "cell_type": "code",
      "metadata": {
        "colab": {
          "base_uri": "https://localhost:8080/"
        },
        "id": "uDjz57t2CuTb",
        "outputId": "2ecf62d9-a1af-4feb-828b-cc8270a0b833"
      },
      "source": [
        "lugares = ['Maranhão', 'Paraná', 'Amazonas', 'Bahia']\n",
        "lugares.sort(reverse=True)\n",
        "print(lugares)"
      ],
      "execution_count": null,
      "outputs": [
        {
          "output_type": "stream",
          "text": [
            "['Paraná', 'Maranhão', 'Bahia', 'Amazonas']\n"
          ],
          "name": "stdout"
        }
      ]
    },
    {
      "cell_type": "markdown",
      "metadata": {
        "id": "FjYdQ-0dDueN"
      },
      "source": [
        "###3.9 Exercíco"
      ]
    },
    {
      "cell_type": "code",
      "metadata": {
        "colab": {
          "base_uri": "https://localhost:8080/"
        },
        "id": "U6LhFhMdDEWe",
        "outputId": "67969600-c91c-4da4-c0fb-449d98b110d8"
      },
      "source": [
        "lista_convidados = ['André', 'Fábio', 'Amanda', 'Souza']\n",
        "num_convidados = len(lista_convidados)\n",
        "print('Forma convidadas ' + str(num_convidados) + ' pessoas para o jantar' )"
      ],
      "execution_count": null,
      "outputs": [
        {
          "output_type": "stream",
          "text": [
            "Forma convidadas 4 pessoas para o jantar\n"
          ],
          "name": "stdout"
        }
      ]
    },
    {
      "cell_type": "markdown",
      "metadata": {
        "id": "B6E-6EVSDNmg"
      },
      "source": [
        "###3.10 Exercício"
      ]
    },
    {
      "cell_type": "code",
      "metadata": {
        "id": "YhIUl2hQm0SF"
      },
      "source": [
        "lista_convidados = ['André', 'Fábio', 'Amanda', 'Souza']"
      ],
      "execution_count": null,
      "outputs": []
    },
    {
      "cell_type": "code",
      "metadata": {
        "colab": {
          "base_uri": "https://localhost:8080/"
        },
        "id": "BzfXdmkfnB0D",
        "outputId": "82877a01-d961-4e22-d82b-010d05b6f064"
      },
      "source": [
        "print('O último convidado da lista é '+lista_convidados[-1])"
      ],
      "execution_count": null,
      "outputs": [
        {
          "output_type": "stream",
          "text": [
            "O último convidado da lista é Souza\n"
          ],
          "name": "stdout"
        }
      ]
    },
    {
      "cell_type": "code",
      "metadata": {
        "colab": {
          "base_uri": "https://localhost:8080/"
        },
        "id": "_JvmDJo6nLeW",
        "outputId": "990b51ae-c627-4f7d-89df-76a1400c7c55"
      },
      "source": [
        "lista_convidados.append('Ana')\n",
        "print('O último convidado da lista é '+lista_convidados[-1])"
      ],
      "execution_count": null,
      "outputs": [
        {
          "output_type": "stream",
          "text": [
            "O último convidado da lista é Ana\n"
          ],
          "name": "stdout"
        }
      ]
    },
    {
      "cell_type": "code",
      "metadata": {
        "colab": {
          "base_uri": "https://localhost:8080/"
        },
        "id": "ZGw7lqBinj-i",
        "outputId": "a410ae70-3658-4e8a-d48d-01e56c1ebc2a"
      },
      "source": [
        "num_convidados = len(lista_convidados)\n",
        "print('Forma convidadas ' + str(num_convidados) + ' pessoas para o jantar' )"
      ],
      "execution_count": null,
      "outputs": [
        {
          "output_type": "stream",
          "text": [
            "Forma convidadas 6 pessoas para o jantar\n"
          ],
          "name": "stdout"
        }
      ]
    },
    {
      "cell_type": "code",
      "metadata": {
        "colab": {
          "base_uri": "https://localhost:8080/"
        },
        "id": "Rnb_zYg-n4tG",
        "outputId": "9df7a08e-8829-4c5a-ee98-574577851b19"
      },
      "source": [
        "lista_convidados.insert(0, 'Fabiula')\n",
        "lista_convidados.insert(3, 'Jorge')\n",
        "print(lista_convidados)"
      ],
      "execution_count": null,
      "outputs": [
        {
          "output_type": "stream",
          "text": [
            "['Fabiula', 'André', 'Fábio', 'Jorge', 'Amanda', 'Souza', 'Ana', 'Ana']\n"
          ],
          "name": "stdout"
        }
      ]
    },
    {
      "cell_type": "code",
      "metadata": {
        "colab": {
          "base_uri": "https://localhost:8080/"
        },
        "id": "WqQVjXnKoMjj",
        "outputId": "d0214d99-e5ee-434b-8817-eddec511cf53"
      },
      "source": [
        "num_convidados = len(lista_convidados)\n",
        "print('Forma convidadas ' + str(num_convidados) + ' pessoas para o jantar' )"
      ],
      "execution_count": null,
      "outputs": [
        {
          "output_type": "stream",
          "text": [
            "Forma convidadas 8 pessoas para o jantar\n"
          ],
          "name": "stdout"
        }
      ]
    },
    {
      "cell_type": "code",
      "metadata": {
        "id": "Eyc83I7goOex"
      },
      "source": [
        "del lista_convidados[2]"
      ],
      "execution_count": null,
      "outputs": []
    },
    {
      "cell_type": "code",
      "metadata": {
        "colab": {
          "base_uri": "https://localhost:8080/"
        },
        "id": "bz9MCyg2odql",
        "outputId": "775a97dc-7caf-4732-cd09-92697291e8e4"
      },
      "source": [
        "num_convidados = len(lista_convidados)\n",
        "print('Forma convidadas ' + str(num_convidados) + ' pessoas para o jantar' )"
      ],
      "execution_count": null,
      "outputs": [
        {
          "output_type": "stream",
          "text": [
            "Forma convidadas 7 pessoas para o jantar\n"
          ],
          "name": "stdout"
        }
      ]
    },
    {
      "cell_type": "code",
      "metadata": {
        "colab": {
          "base_uri": "https://localhost:8080/"
        },
        "id": "uNBVDoeIo-6o",
        "outputId": "20376954-ed30-4898-cdcd-01e977116305"
      },
      "source": [
        "retira_convidado = lista_convidados.pop(4)\n",
        "print(retira_convidado + ' , você foi excluido da lista de convidados')"
      ],
      "execution_count": null,
      "outputs": [
        {
          "output_type": "stream",
          "text": [
            "Souza , você foi excluido da lista de convidados\n"
          ],
          "name": "stdout"
        }
      ]
    },
    {
      "cell_type": "code",
      "metadata": {
        "colab": {
          "base_uri": "https://localhost:8080/"
        },
        "id": "d5nPyoOWpykh",
        "outputId": "018db33d-c0f1-403a-e132-5398a229dfc5"
      },
      "source": [
        "print(lista_convidados)\n"
      ],
      "execution_count": null,
      "outputs": [
        {
          "output_type": "stream",
          "text": [
            "['Fabiula', 'André', 'Jorge', 'Amanda', 'Ana', 'Ana']\n"
          ],
          "name": "stdout"
        }
      ]
    },
    {
      "cell_type": "code",
      "metadata": {
        "id": "fRF_joUip7-l"
      },
      "source": [
        "lista_convidados.remove('Jorge')"
      ],
      "execution_count": null,
      "outputs": []
    },
    {
      "cell_type": "code",
      "metadata": {
        "colab": {
          "base_uri": "https://localhost:8080/"
        },
        "id": "KLJmZndQqmeR",
        "outputId": "18d5e23e-0051-4dce-a97d-9b4106db53e7"
      },
      "source": [
        "print(lista_convidados)"
      ],
      "execution_count": null,
      "outputs": [
        {
          "output_type": "stream",
          "text": [
            "['Fabiula', 'André', 'Amanda', 'Ana', 'Ana']\n"
          ],
          "name": "stdout"
        }
      ]
    },
    {
      "cell_type": "code",
      "metadata": {
        "colab": {
          "base_uri": "https://localhost:8080/"
        },
        "id": "pTj6gZs_qpnH",
        "outputId": "07570ff7-423f-4508-9d95-df774f1dd1a7"
      },
      "source": [
        "lista_convidados.sort()\n",
        "print(lista_convidados)"
      ],
      "execution_count": null,
      "outputs": [
        {
          "output_type": "stream",
          "text": [
            "['Amanda', 'Ana', 'Ana', 'André', 'Fabiula']\n"
          ],
          "name": "stdout"
        }
      ]
    },
    {
      "cell_type": "code",
      "metadata": {
        "id": "IG2nbG71qzkb"
      },
      "source": [
        ""
      ],
      "execution_count": null,
      "outputs": []
    },
    {
      "cell_type": "markdown",
      "metadata": {
        "id": "p5_YjlqkUAks"
      },
      "source": [
        "##4.TRABALHANDO COM LISTAS"
      ]
    },
    {
      "cell_type": "markdown",
      "metadata": {
        "id": "iZgRD58ZUG81"
      },
      "source": [
        "###Percorrendo uma lista inteira com um laço (FOR)"
      ]
    },
    {
      "cell_type": "code",
      "metadata": {
        "colab": {
          "base_uri": "https://localhost:8080/"
        },
        "id": "zVrFufiWUTA0",
        "outputId": "4444357f-81b2-4aec-f2a1-0718b99c103c"
      },
      "source": [
        "magicos = ['alice', 'david', 'carolina']\n",
        "for magico in magicos:\n",
        "  print(magico)"
      ],
      "execution_count": null,
      "outputs": [
        {
          "output_type": "stream",
          "text": [
            "alice\n",
            "david\n",
            "carolina\n"
          ],
          "name": "stdout"
        }
      ]
    },
    {
      "cell_type": "markdown",
      "metadata": {
        "id": "83DzyJK3VO-9"
      },
      "source": [
        "Esse código diz para o Python que para cada nome da lista magicos, esse nome deve ser copiado e armazenado na variável magico, para depois ser exibido.\n",
        "Ou seja: para cada mágico em magicos, exibir esse magico.\n",
        "\n",
        "\n",
        "for item in lista_de_itens"
      ]
    },
    {
      "cell_type": "markdown",
      "metadata": {
        "id": "mXhpeTOCWdxM"
      },
      "source": [
        "###Executando mais tarefas em um laço for"
      ]
    },
    {
      "cell_type": "code",
      "metadata": {
        "colab": {
          "base_uri": "https://localhost:8080/"
        },
        "id": "Wl2IdihOYCqb",
        "outputId": "45306c2e-c58d-4418-c724-b94656192eca"
      },
      "source": [
        "magicos = ['alice', 'david', 'carolina']\n",
        "for magico in magicos:\n",
        "  print(magico.title() + ', foi um ótimo truque ')\n",
        "  print('Não posso esperar para ver seu próximo truque, ' + magico.title() + '.\\n')\n",
        "print('Obrigado a todos os mágicos, foi uma ótima apresentação')"
      ],
      "execution_count": null,
      "outputs": [
        {
          "output_type": "stream",
          "text": [
            "Alice, foi um ótimo truque \n",
            "Não posso esperar para ver seu próximo truque, Alice.\n",
            "\n",
            "David, foi um ótimo truque \n",
            "Não posso esperar para ver seu próximo truque, David.\n",
            "\n",
            "Carolina, foi um ótimo truque \n",
            "Não posso esperar para ver seu próximo truque, Carolina.\n",
            "\n",
            "Obrigado a todos os mágicos, foi uma ótima apresentação\n"
          ],
          "name": "stdout"
        }
      ]
    },
    {
      "cell_type": "markdown",
      "metadata": {
        "id": "ettLA71lYexi"
      },
      "source": [
        "###4.1 Exercicio"
      ]
    },
    {
      "cell_type": "code",
      "metadata": {
        "id": "-pYeOUiYbq_r",
        "colab": {
          "base_uri": "https://localhost:8080/"
        },
        "outputId": "b4a9a4c4-0c90-480b-df94-e7b0cee1cfd7"
      },
      "source": [
        "pizzas = ['calabresa', 'mussarela', 'peperoni']\n",
        "for pizza in pizzas:\n",
        "  print(pizza.title() + ' é um ótimo sabor de pizza')\n",
        "  print('Eu realmente gosto delas \\n')\n",
        "print('Escolha uma dela !')"
      ],
      "execution_count": null,
      "outputs": [
        {
          "output_type": "stream",
          "text": [
            "Calabresa é um ótimo sabor de pizza\n",
            "Eu realmente gosto delas \n",
            "\n",
            "Mussarela é um ótimo sabor de pizza\n",
            "Eu realmente gosto delas \n",
            "\n",
            "Peperoni é um ótimo sabor de pizza\n",
            "Eu realmente gosto delas \n",
            "\n",
            "Escolha uma dela !\n"
          ],
          "name": "stdout"
        }
      ]
    },
    {
      "cell_type": "markdown",
      "metadata": {
        "id": "3fe60b0si3lq"
      },
      "source": [
        "###Criando listas numéricas"
      ]
    },
    {
      "cell_type": "markdown",
      "metadata": {
        "id": "r7WUvZiejZpN"
      },
      "source": [
        "####Usando a função range()"
      ]
    },
    {
      "cell_type": "markdown",
      "metadata": {
        "id": "_2ZBMDczjuOa"
      },
      "source": [
        "Esta função exibe uma série de números, contado a partir do número que você escolhe, neste caso 1, mas sem incluir o último número especificado, neste caso 5.\n",
        "\n",
        "https://docs.python.org/3.6/library/stdtypes.html#ranges"
      ]
    },
    {
      "cell_type": "code",
      "metadata": {
        "colab": {
          "base_uri": "https://localhost:8080/"
        },
        "id": "NWT4f8ThkK0i",
        "outputId": "ee7caec2-ab52-457d-8274-121303f7795f"
      },
      "source": [
        "for valor in range(1,5):\n",
        "  print(valor)"
      ],
      "execution_count": null,
      "outputs": [
        {
          "output_type": "stream",
          "text": [
            "1\n",
            "2\n",
            "3\n",
            "4\n"
          ],
          "name": "stdout"
        }
      ]
    },
    {
      "cell_type": "markdown",
      "metadata": {
        "id": "HgCoTirgkSXX"
      },
      "source": [
        "Na função range também é possivel especificar o passo, isto é, se a função irá contar de dois em dois, três em três etc...\n",
        "\n",
        "\n",
        "range (start, stop [ , step])\n",
        "\n",
        "\n",
        "range (2, 11, 2)\n",
        "\n",
        "\n",
        "2, 2+2, 4+2, 6+2, 8+2\n",
        "\n",
        "2,  4,  6,  8,  10"
      ]
    },
    {
      "cell_type": "markdown",
      "metadata": {
        "id": "m_O0LATolZ1V"
      },
      "source": [
        "Vamos mostrar os números pares até 11."
      ]
    },
    {
      "cell_type": "code",
      "metadata": {
        "colab": {
          "base_uri": "https://localhost:8080/"
        },
        "id": "PndURFGZm65M",
        "outputId": "d03f2a17-ec91-4541-f79f-0cdb49ff0333"
      },
      "source": [
        "for valor_par in range(2,11,2):\n",
        "    print(valor_par)"
      ],
      "execution_count": null,
      "outputs": [
        {
          "output_type": "stream",
          "text": [
            "2\n",
            "4\n",
            "6\n",
            "8\n",
            "10\n"
          ],
          "name": "stdout"
        }
      ]
    },
    {
      "cell_type": "markdown",
      "metadata": {
        "id": "zSqwHhH0nByw"
      },
      "source": [
        "Podemos contar os dez primeiros quadrados perfeitos"
      ]
    },
    {
      "cell_type": "code",
      "metadata": {
        "colab": {
          "base_uri": "https://localhost:8080/"
        },
        "id": "VaArN-b6pKFa",
        "outputId": "f51b3104-4eb4-409a-a2f1-5c10454fce1a"
      },
      "source": [
        "quadrados_perfeitos = []\n",
        "for valor in range(1,11):\n",
        "  quadrado = valor**2\n",
        "  quadrados_perfeitos.append(quadrado)\n",
        "print(quadrados_perfeitos)"
      ],
      "execution_count": null,
      "outputs": [
        {
          "output_type": "stream",
          "text": [
            "[1, 4, 9, 16, 25, 36, 49, 64, 81, 100]\n"
          ],
          "name": "stdout"
        }
      ]
    },
    {
      "cell_type": "markdown",
      "metadata": {
        "id": "HmI1a_Pypop6"
      },
      "source": [
        "Para deixar o código mais limpo, pode-se omitir a variável temporária *quadrado*."
      ]
    },
    {
      "cell_type": "code",
      "metadata": {
        "colab": {
          "base_uri": "https://localhost:8080/"
        },
        "id": "yPYImTtQroSY",
        "outputId": "99fcb157-5ef7-46b7-e624-9116663aa609"
      },
      "source": [
        "quadrados_perfeitos = []\n",
        "for valor in range(1,11):\n",
        "  quadrados_perfeitos.append(valor**2)\n",
        "print(quadrados_perfeitos)"
      ],
      "execution_count": null,
      "outputs": [
        {
          "output_type": "stream",
          "text": [
            "[1, 4, 9, 16, 25, 36, 49, 64, 81, 100]\n"
          ],
          "name": "stdout"
        }
      ]
    },
    {
      "cell_type": "markdown",
      "metadata": {
        "id": "8AHR_bnArxpP"
      },
      "source": [
        "####Funções min, max e sum "
      ]
    },
    {
      "cell_type": "code",
      "metadata": {
        "id": "C_l2mR0ysr-E"
      },
      "source": [
        "digitos = [1,2,3,4,5,6,7,8,9,0]"
      ],
      "execution_count": null,
      "outputs": []
    },
    {
      "cell_type": "code",
      "metadata": {
        "colab": {
          "base_uri": "https://localhost:8080/"
        },
        "id": "ibaUxILCtEA8",
        "outputId": "49f70915-f07c-4347-b1f8-f5aa9197da0d"
      },
      "source": [
        "print(min(digitos))"
      ],
      "execution_count": null,
      "outputs": [
        {
          "output_type": "stream",
          "text": [
            "0\n"
          ],
          "name": "stdout"
        }
      ]
    },
    {
      "cell_type": "code",
      "metadata": {
        "colab": {
          "base_uri": "https://localhost:8080/"
        },
        "id": "eAE8cESKtccC",
        "outputId": "e8f61a3e-a205-40f3-f000-605a0aeed215"
      },
      "source": [
        "print(max(digitos))"
      ],
      "execution_count": null,
      "outputs": [
        {
          "output_type": "stream",
          "text": [
            "9\n"
          ],
          "name": "stdout"
        }
      ]
    },
    {
      "cell_type": "code",
      "metadata": {
        "colab": {
          "base_uri": "https://localhost:8080/"
        },
        "id": "dWUgrPRwteWj",
        "outputId": "20981e4b-37d8-46cb-9b73-4022f3e9a7c4"
      },
      "source": [
        "print(sum(digitos))"
      ],
      "execution_count": null,
      "outputs": [
        {
          "output_type": "stream",
          "text": [
            "45\n"
          ],
          "name": "stdout"
        }
      ]
    },
    {
      "cell_type": "markdown",
      "metadata": {
        "id": "tZHlH9sxt6fp"
      },
      "source": [
        "####List comprehensions"
      ]
    },
    {
      "cell_type": "markdown",
      "metadata": {
        "id": "7Q_yMx0MIgUh"
      },
      "source": [
        "Uma list comprehension combina o laço for e a criação de novos elementos em uma\n",
        "linha, e concatena cada novo elemento automaticamente."
      ]
    },
    {
      "cell_type": "code",
      "metadata": {
        "colab": {
          "base_uri": "https://localhost:8080/"
        },
        "id": "stzT5SfEu4kQ",
        "outputId": "420df635-7e26-4c80-bd7e-72176c8a2910"
      },
      "source": [
        "quadrados_perfeitos = [valor**2 for valor in range(1,11)]\n",
        "print(quadrados_perfeitos)"
      ],
      "execution_count": null,
      "outputs": [
        {
          "output_type": "stream",
          "text": [
            "[1, 4, 9, 16, 25, 36, 49, 64, 81, 100]\n"
          ],
          "name": "stdout"
        }
      ]
    },
    {
      "cell_type": "markdown",
      "metadata": {
        "id": "hpyolIABIbRv"
      },
      "source": [
        "###4.3 Exercício"
      ]
    },
    {
      "cell_type": "code",
      "metadata": {
        "colab": {
          "base_uri": "https://localhost:8080/"
        },
        "id": "5s_s_VGNJDU9",
        "outputId": "75b9d274-55b2-4e69-c2f1-ac5aa80152e1"
      },
      "source": [
        "for list_num in range(1,21):\n",
        "    print(list_num)"
      ],
      "execution_count": null,
      "outputs": [
        {
          "output_type": "stream",
          "text": [
            "1\n",
            "2\n",
            "3\n",
            "4\n",
            "5\n",
            "6\n",
            "7\n",
            "8\n",
            "9\n",
            "10\n",
            "11\n",
            "12\n",
            "13\n",
            "14\n",
            "15\n",
            "16\n",
            "17\n",
            "18\n",
            "19\n",
            "20\n"
          ],
          "name": "stdout"
        }
      ]
    },
    {
      "cell_type": "markdown",
      "metadata": {
        "id": "QVDk5U53MWg8"
      },
      "source": [
        "###4.4 Exercício"
      ]
    },
    {
      "cell_type": "code",
      "metadata": {
        "colab": {
          "base_uri": "https://localhost:8080/"
        },
        "id": "oPhzxAAqJtck",
        "outputId": "910bd3d2-02f0-4c55-f28a-c5376f14ab12"
      },
      "source": [
        "list_num = []\n",
        "for i in range(1,1000):\n",
        "  list_num.append(i)\n",
        "print(list_num)"
      ],
      "execution_count": null,
      "outputs": [
        {
          "output_type": "stream",
          "text": [
            "[1, 2, 3, 4, 5, 6, 7, 8, 9, 10, 11, 12, 13, 14, 15, 16, 17, 18, 19, 20, 21, 22, 23, 24, 25, 26, 27, 28, 29, 30, 31, 32, 33, 34, 35, 36, 37, 38, 39, 40, 41, 42, 43, 44, 45, 46, 47, 48, 49, 50, 51, 52, 53, 54, 55, 56, 57, 58, 59, 60, 61, 62, 63, 64, 65, 66, 67, 68, 69, 70, 71, 72, 73, 74, 75, 76, 77, 78, 79, 80, 81, 82, 83, 84, 85, 86, 87, 88, 89, 90, 91, 92, 93, 94, 95, 96, 97, 98, 99, 100, 101, 102, 103, 104, 105, 106, 107, 108, 109, 110, 111, 112, 113, 114, 115, 116, 117, 118, 119, 120, 121, 122, 123, 124, 125, 126, 127, 128, 129, 130, 131, 132, 133, 134, 135, 136, 137, 138, 139, 140, 141, 142, 143, 144, 145, 146, 147, 148, 149, 150, 151, 152, 153, 154, 155, 156, 157, 158, 159, 160, 161, 162, 163, 164, 165, 166, 167, 168, 169, 170, 171, 172, 173, 174, 175, 176, 177, 178, 179, 180, 181, 182, 183, 184, 185, 186, 187, 188, 189, 190, 191, 192, 193, 194, 195, 196, 197, 198, 199, 200, 201, 202, 203, 204, 205, 206, 207, 208, 209, 210, 211, 212, 213, 214, 215, 216, 217, 218, 219, 220, 221, 222, 223, 224, 225, 226, 227, 228, 229, 230, 231, 232, 233, 234, 235, 236, 237, 238, 239, 240, 241, 242, 243, 244, 245, 246, 247, 248, 249, 250, 251, 252, 253, 254, 255, 256, 257, 258, 259, 260, 261, 262, 263, 264, 265, 266, 267, 268, 269, 270, 271, 272, 273, 274, 275, 276, 277, 278, 279, 280, 281, 282, 283, 284, 285, 286, 287, 288, 289, 290, 291, 292, 293, 294, 295, 296, 297, 298, 299, 300, 301, 302, 303, 304, 305, 306, 307, 308, 309, 310, 311, 312, 313, 314, 315, 316, 317, 318, 319, 320, 321, 322, 323, 324, 325, 326, 327, 328, 329, 330, 331, 332, 333, 334, 335, 336, 337, 338, 339, 340, 341, 342, 343, 344, 345, 346, 347, 348, 349, 350, 351, 352, 353, 354, 355, 356, 357, 358, 359, 360, 361, 362, 363, 364, 365, 366, 367, 368, 369, 370, 371, 372, 373, 374, 375, 376, 377, 378, 379, 380, 381, 382, 383, 384, 385, 386, 387, 388, 389, 390, 391, 392, 393, 394, 395, 396, 397, 398, 399, 400, 401, 402, 403, 404, 405, 406, 407, 408, 409, 410, 411, 412, 413, 414, 415, 416, 417, 418, 419, 420, 421, 422, 423, 424, 425, 426, 427, 428, 429, 430, 431, 432, 433, 434, 435, 436, 437, 438, 439, 440, 441, 442, 443, 444, 445, 446, 447, 448, 449, 450, 451, 452, 453, 454, 455, 456, 457, 458, 459, 460, 461, 462, 463, 464, 465, 466, 467, 468, 469, 470, 471, 472, 473, 474, 475, 476, 477, 478, 479, 480, 481, 482, 483, 484, 485, 486, 487, 488, 489, 490, 491, 492, 493, 494, 495, 496, 497, 498, 499, 500, 501, 502, 503, 504, 505, 506, 507, 508, 509, 510, 511, 512, 513, 514, 515, 516, 517, 518, 519, 520, 521, 522, 523, 524, 525, 526, 527, 528, 529, 530, 531, 532, 533, 534, 535, 536, 537, 538, 539, 540, 541, 542, 543, 544, 545, 546, 547, 548, 549, 550, 551, 552, 553, 554, 555, 556, 557, 558, 559, 560, 561, 562, 563, 564, 565, 566, 567, 568, 569, 570, 571, 572, 573, 574, 575, 576, 577, 578, 579, 580, 581, 582, 583, 584, 585, 586, 587, 588, 589, 590, 591, 592, 593, 594, 595, 596, 597, 598, 599, 600, 601, 602, 603, 604, 605, 606, 607, 608, 609, 610, 611, 612, 613, 614, 615, 616, 617, 618, 619, 620, 621, 622, 623, 624, 625, 626, 627, 628, 629, 630, 631, 632, 633, 634, 635, 636, 637, 638, 639, 640, 641, 642, 643, 644, 645, 646, 647, 648, 649, 650, 651, 652, 653, 654, 655, 656, 657, 658, 659, 660, 661, 662, 663, 664, 665, 666, 667, 668, 669, 670, 671, 672, 673, 674, 675, 676, 677, 678, 679, 680, 681, 682, 683, 684, 685, 686, 687, 688, 689, 690, 691, 692, 693, 694, 695, 696, 697, 698, 699, 700, 701, 702, 703, 704, 705, 706, 707, 708, 709, 710, 711, 712, 713, 714, 715, 716, 717, 718, 719, 720, 721, 722, 723, 724, 725, 726, 727, 728, 729, 730, 731, 732, 733, 734, 735, 736, 737, 738, 739, 740, 741, 742, 743, 744, 745, 746, 747, 748, 749, 750, 751, 752, 753, 754, 755, 756, 757, 758, 759, 760, 761, 762, 763, 764, 765, 766, 767, 768, 769, 770, 771, 772, 773, 774, 775, 776, 777, 778, 779, 780, 781, 782, 783, 784, 785, 786, 787, 788, 789, 790, 791, 792, 793, 794, 795, 796, 797, 798, 799, 800, 801, 802, 803, 804, 805, 806, 807, 808, 809, 810, 811, 812, 813, 814, 815, 816, 817, 818, 819, 820, 821, 822, 823, 824, 825, 826, 827, 828, 829, 830, 831, 832, 833, 834, 835, 836, 837, 838, 839, 840, 841, 842, 843, 844, 845, 846, 847, 848, 849, 850, 851, 852, 853, 854, 855, 856, 857, 858, 859, 860, 861, 862, 863, 864, 865, 866, 867, 868, 869, 870, 871, 872, 873, 874, 875, 876, 877, 878, 879, 880, 881, 882, 883, 884, 885, 886, 887, 888, 889, 890, 891, 892, 893, 894, 895, 896, 897, 898, 899, 900, 901, 902, 903, 904, 905, 906, 907, 908, 909, 910, 911, 912, 913, 914, 915, 916, 917, 918, 919, 920, 921, 922, 923, 924, 925, 926, 927, 928, 929, 930, 931, 932, 933, 934, 935, 936, 937, 938, 939, 940, 941, 942, 943, 944, 945, 946, 947, 948, 949, 950, 951, 952, 953, 954, 955, 956, 957, 958, 959, 960, 961, 962, 963, 964, 965, 966, 967, 968, 969, 970, 971, 972, 973, 974, 975, 976, 977, 978, 979, 980, 981, 982, 983, 984, 985, 986, 987, 988, 989, 990, 991, 992, 993, 994, 995, 996, 997, 998, 999]\n"
          ],
          "name": "stdout"
        }
      ]
    },
    {
      "cell_type": "markdown",
      "metadata": {
        "id": "Yt4yyjwsLLQE"
      },
      "source": [
        "###4.5 Exercício"
      ]
    },
    {
      "cell_type": "code",
      "metadata": {
        "id": "dBm7Z4IhMdPw"
      },
      "source": [
        "list_num = []\n",
        "for i in range(1,1000):\n",
        "  list_num.append(i)"
      ],
      "execution_count": null,
      "outputs": []
    },
    {
      "cell_type": "code",
      "metadata": {
        "colab": {
          "base_uri": "https://localhost:8080/"
        },
        "id": "AT0YaWdCMf7W",
        "outputId": "a60e5c78-2cc4-4f16-cbfb-248021c37009"
      },
      "source": [
        "print(min(list_num))"
      ],
      "execution_count": null,
      "outputs": [
        {
          "output_type": "stream",
          "text": [
            "1\n"
          ],
          "name": "stdout"
        }
      ]
    },
    {
      "cell_type": "code",
      "metadata": {
        "colab": {
          "base_uri": "https://localhost:8080/"
        },
        "id": "UjFQJSZ0Ms6l",
        "outputId": "8cf74f2b-c564-4436-a8c0-35fbdcd2e543"
      },
      "source": [
        "print(max(list_num))"
      ],
      "execution_count": null,
      "outputs": [
        {
          "output_type": "stream",
          "text": [
            "999\n"
          ],
          "name": "stdout"
        }
      ]
    },
    {
      "cell_type": "code",
      "metadata": {
        "colab": {
          "base_uri": "https://localhost:8080/"
        },
        "id": "7zybSIdsMxEv",
        "outputId": "eb352fd0-fdd9-4faf-a761-f32e955b5fa9"
      },
      "source": [
        "print(sum(list_num))"
      ],
      "execution_count": null,
      "outputs": [
        {
          "output_type": "stream",
          "text": [
            "499500\n"
          ],
          "name": "stdout"
        }
      ]
    },
    {
      "cell_type": "markdown",
      "metadata": {
        "id": "w3Kk5Vm9OPiY"
      },
      "source": [
        "###4.6 Exercício"
      ]
    },
    {
      "cell_type": "code",
      "metadata": {
        "colab": {
          "base_uri": "https://localhost:8080/"
        },
        "id": "QJoZVbO1Mzvp",
        "outputId": "d2e6d168-892f-4971-a0d4-55d6a0d6970e"
      },
      "source": [
        "list_num = []\n",
        "for i in range(1,21,2):\n",
        "  list_num.append(i)\n",
        "\n",
        "for i in list_num:\n",
        "  print(i)"
      ],
      "execution_count": null,
      "outputs": [
        {
          "output_type": "stream",
          "text": [
            "1\n",
            "3\n",
            "5\n",
            "7\n",
            "9\n",
            "11\n",
            "13\n",
            "15\n",
            "17\n",
            "19\n"
          ],
          "name": "stdout"
        }
      ]
    },
    {
      "cell_type": "markdown",
      "metadata": {
        "id": "HOLqSEzMNJlC"
      },
      "source": [
        "###4.7 Exercício"
      ]
    },
    {
      "cell_type": "code",
      "metadata": {
        "colab": {
          "base_uri": "https://localhost:8080/"
        },
        "id": "BHgpkW9LOeNx",
        "outputId": "ad52c756-8877-494a-b033-ee4da365edef"
      },
      "source": [
        "list_num = []\n",
        "for i in range(3,31,3):\n",
        "  list_num.append(i)\n",
        "\n",
        "for i in list_num:\n",
        "  print(i)"
      ],
      "execution_count": null,
      "outputs": [
        {
          "output_type": "stream",
          "text": [
            "3\n",
            "6\n",
            "9\n",
            "12\n",
            "15\n",
            "18\n",
            "21\n",
            "24\n",
            "27\n",
            "30\n"
          ],
          "name": "stdout"
        }
      ]
    },
    {
      "cell_type": "markdown",
      "metadata": {
        "id": "Srf9lgYcTBiH"
      },
      "source": [
        "###4.8 Exercício"
      ]
    },
    {
      "cell_type": "code",
      "metadata": {
        "colab": {
          "base_uri": "https://localhost:8080/"
        },
        "id": "EhgCANxFR_Jy",
        "outputId": "043969d5-e788-4b2b-e44b-160e3a4c54d6"
      },
      "source": [
        "list_num = []\n",
        "for i in range(3,31,3):\n",
        "  list_num.append(i)\n",
        "\n",
        "for i in list_num:\n",
        "  print(i)"
      ],
      "execution_count": null,
      "outputs": [
        {
          "output_type": "stream",
          "text": [
            "3\n",
            "6\n",
            "9\n",
            "12\n",
            "15\n",
            "18\n",
            "21\n",
            "24\n",
            "27\n",
            "30\n"
          ],
          "name": "stdout"
        }
      ]
    },
    {
      "cell_type": "markdown",
      "metadata": {
        "id": "6SwMql1FSk3t"
      },
      "source": [
        "###4.9 Exercício"
      ]
    },
    {
      "cell_type": "code",
      "metadata": {
        "colab": {
          "base_uri": "https://localhost:8080/"
        },
        "id": "iB3hmjwsTFiL",
        "outputId": "f156d900-60c3-4c2a-fb61-2b7f638d1551"
      },
      "source": [
        "cubos = [i**3 for i in range(1,11)]\n",
        "print(cubos)"
      ],
      "execution_count": null,
      "outputs": [
        {
          "output_type": "stream",
          "text": [
            "[1, 8, 27, 64, 125, 216, 343, 512, 729, 1000]\n"
          ],
          "name": "stdout"
        }
      ]
    },
    {
      "cell_type": "markdown",
      "metadata": {
        "id": "Lp74o4ZJTZBE"
      },
      "source": [
        "###Fatiando uma lista"
      ]
    },
    {
      "cell_type": "code",
      "metadata": {
        "colab": {
          "base_uri": "https://localhost:8080/"
        },
        "id": "KQepY8hci33z",
        "outputId": "987b4825-8d00-46bb-bf15-e21b8e6d5c4c"
      },
      "source": [
        "jogadores = ['josé', 'eduardo', 'ronaldo', 'carlos', 'fabio']\n",
        "print(jogadores[0:3])"
      ],
      "execution_count": null,
      "outputs": [
        {
          "output_type": "stream",
          "text": [
            "['josé', 'eduardo', 'ronaldo']\n"
          ],
          "name": "stdout"
        }
      ]
    },
    {
      "cell_type": "code",
      "metadata": {
        "colab": {
          "base_uri": "https://localhost:8080/"
        },
        "id": "yMbYm83rjhM2",
        "outputId": "336adb8b-adc3-4451-9cb1-805321f80d24"
      },
      "source": [
        "print(jogadores[1:4])"
      ],
      "execution_count": null,
      "outputs": [
        {
          "output_type": "stream",
          "text": [
            "['eduardo', 'ronaldo', 'carlos']\n"
          ],
          "name": "stdout"
        }
      ]
    },
    {
      "cell_type": "code",
      "metadata": {
        "colab": {
          "base_uri": "https://localhost:8080/"
        },
        "id": "k9rAPAeDjuMR",
        "outputId": "b51eecd2-0e01-426f-e9c9-24d98783d9f9"
      },
      "source": [
        "print(jogadores[:4]) #imprirme os índices de 0 até 3"
      ],
      "execution_count": null,
      "outputs": [
        {
          "output_type": "stream",
          "text": [
            "['josé', 'eduardo', 'ronaldo', 'carlos']\n"
          ],
          "name": "stdout"
        }
      ]
    },
    {
      "cell_type": "code",
      "metadata": {
        "colab": {
          "base_uri": "https://localhost:8080/"
        },
        "id": "rXoVeCcKkA0I",
        "outputId": "a3b2e2f0-499b-4850-8c77-c474bbcf4a2f"
      },
      "source": [
        "print(jogadores[2:]) #imprirme os índices de 3 até o último índice"
      ],
      "execution_count": null,
      "outputs": [
        {
          "output_type": "stream",
          "text": [
            "['ronaldo', 'carlos', 'fabio']\n"
          ],
          "name": "stdout"
        }
      ]
    },
    {
      "cell_type": "code",
      "metadata": {
        "colab": {
          "base_uri": "https://localhost:8080/"
        },
        "id": "MKWrDk1-kNmH",
        "outputId": "973e73b3-0226-4a6a-ca0c-7e54975e5029"
      },
      "source": [
        "print(jogadores[-3:]) #Esse código exibe os nomes dos três últimos jogadores"
      ],
      "execution_count": null,
      "outputs": [
        {
          "output_type": "stream",
          "text": [
            "['ronaldo', 'carlos', 'fabio']\n"
          ],
          "name": "stdout"
        }
      ]
    },
    {
      "cell_type": "markdown",
      "metadata": {
        "id": "YwxCuvm0kvrz"
      },
      "source": [
        "####Percorrendo uma fatia com um laço\n"
      ]
    },
    {
      "cell_type": "code",
      "metadata": {
        "colab": {
          "base_uri": "https://localhost:8080/"
        },
        "id": "X_EC6jipmN8N",
        "outputId": "3b8e4a9f-d121-4fe5-ee6e-2be0b5eb204d"
      },
      "source": [
        "jogadores = ['josé', 'eduardo', 'ronaldo', 'carlos', 'fabio']\n",
        "print('Estes são os três primeiros jogadores do time:')\n",
        "\n",
        "for jogador in jogadores[:3]:\n",
        "  print(jogador.title())"
      ],
      "execution_count": null,
      "outputs": [
        {
          "output_type": "stream",
          "text": [
            "Estes são os três primeiros jogadores do time:\n",
            "José\n",
            "Eduardo\n",
            "Ronaldo\n"
          ],
          "name": "stdout"
        }
      ]
    },
    {
      "cell_type": "markdown",
      "metadata": {
        "id": "pIG4M8OXmVa_"
      },
      "source": [
        "###Copiando uma lista"
      ]
    },
    {
      "cell_type": "markdown",
      "metadata": {
        "id": "uc2_aJk-m-z-"
      },
      "source": [
        "Para solicitar uma fatia de uma lista, sem especificar o começo ou o fim da fatia, isto é, sem colocar qualquer índice, usa-se  [:]  . Isso acaba por fazer com que a fatia contenha todos os itens da lista.\n",
        "Deste modo podemos copiar essa fatia, para dentro de uma outra lista. \n"
      ]
    },
    {
      "cell_type": "code",
      "metadata": {
        "id": "3jgGk6w5nX1l"
      },
      "source": [
        "minhas_frutas = ['maçã', 'pêra', 'uva']\n",
        "amigo_frutas = minhas_frutas[:] #copiando a fatia para dentro da lista de frustas do amigo."
      ],
      "execution_count": null,
      "outputs": []
    },
    {
      "cell_type": "code",
      "metadata": {
        "colab": {
          "base_uri": "https://localhost:8080/"
        },
        "id": "99mdWbp7P3wV",
        "outputId": "7efc3927-be8b-40ab-83c3-8654fdf9ebd2"
      },
      "source": [
        "print(minhas_frutas)"
      ],
      "execution_count": null,
      "outputs": [
        {
          "output_type": "stream",
          "text": [
            "['maçã', 'pêra', 'uva']\n"
          ],
          "name": "stdout"
        }
      ]
    },
    {
      "cell_type": "code",
      "metadata": {
        "colab": {
          "base_uri": "https://localhost:8080/"
        },
        "id": "ozdQXjmAP66D",
        "outputId": "f22b2979-1442-4ebd-a5f8-7826897b3f45"
      },
      "source": [
        "print(amigo_frutas)"
      ],
      "execution_count": null,
      "outputs": [
        {
          "output_type": "stream",
          "text": [
            "['maçã', 'pêra', 'uva']\n"
          ],
          "name": "stdout"
        }
      ]
    },
    {
      "cell_type": "code",
      "metadata": {
        "id": "hpSEllhLP9Qn"
      },
      "source": [
        "amigo_frutas.append('banana')"
      ],
      "execution_count": null,
      "outputs": []
    },
    {
      "cell_type": "code",
      "metadata": {
        "colab": {
          "base_uri": "https://localhost:8080/"
        },
        "id": "SotYo2EmRKpp",
        "outputId": "6abd9c6b-1bd4-4de6-c3a5-706b9d6daa5f"
      },
      "source": [
        "print(minhas_frutas)"
      ],
      "execution_count": null,
      "outputs": [
        {
          "output_type": "stream",
          "text": [
            "['maçã', 'pêra', 'uva']\n"
          ],
          "name": "stdout"
        }
      ]
    },
    {
      "cell_type": "code",
      "metadata": {
        "colab": {
          "base_uri": "https://localhost:8080/"
        },
        "id": "ab_mVQ1-ROD1",
        "outputId": "cac5a22c-2d0d-4d83-9a49-baff231fb148"
      },
      "source": [
        "print(amigo_frutas)"
      ],
      "execution_count": null,
      "outputs": [
        {
          "output_type": "stream",
          "text": [
            "['maçã', 'pêra', 'uva', 'banana']\n"
          ],
          "name": "stdout"
        }
      ]
    },
    {
      "cell_type": "markdown",
      "metadata": {
        "id": "iaKq8ouARSWp"
      },
      "source": [
        "Se não fizermos uma fatia da lista, não conseguimos criar uma cópia da lista.\n",
        "se fizermos:\n",
        "\n",
        "amigo_frutas = minhas_frutas\n",
        "\n",
        "estamos apenas fazendo com que a variável amigo_frutas aponte para a lista minhas_frutas. Se mudarmos algo na lista minhas_frutas, a mesma coisa acontecerá em amigo_frutas, pois ela não é uma cópia independente, mas sim uma variável que está apontando para uma lista. "
      ]
    },
    {
      "cell_type": "markdown",
      "metadata": {
        "id": "Zid52llbTMtq"
      },
      "source": [
        "###4.10 Exercício"
      ]
    },
    {
      "cell_type": "code",
      "metadata": {
        "id": "VPDHzm1lTeVS"
      },
      "source": [
        "minhas_frutas = ['maçã', 'pêra', 'uva', 'banana', 'tomate', 'goiaba', 'abacaxi']"
      ],
      "execution_count": null,
      "outputs": []
    },
    {
      "cell_type": "code",
      "metadata": {
        "colab": {
          "base_uri": "https://localhost:8080/"
        },
        "id": "5HXSsFz_UHwx",
        "outputId": "28d3cef8-081e-466c-d56f-33a55bcffea4"
      },
      "source": [
        "print('As três primeiras frutas da lista são: ')\n",
        "for fruta in minhas_frutas[:4]:\n",
        "  print(fruta)"
      ],
      "execution_count": null,
      "outputs": [
        {
          "output_type": "stream",
          "text": [
            "As três primeiras frutas da lista são: \n",
            "maçã\n",
            "pêra\n",
            "uva\n",
            "banana\n"
          ],
          "name": "stdout"
        }
      ]
    },
    {
      "cell_type": "code",
      "metadata": {
        "colab": {
          "base_uri": "https://localhost:8080/"
        },
        "id": "zg2KKCC4UXa4",
        "outputId": "976e5365-9875-4e51-f32c-2e4c1afb3561"
      },
      "source": [
        "print('As três frutas do meido da lista são: ')\n",
        "for fruta in minhas_frutas[2:5]:\n",
        "  print(fruta)"
      ],
      "execution_count": null,
      "outputs": [
        {
          "output_type": "stream",
          "text": [
            "As três frutas do meido da lista são: \n",
            "uva\n",
            "banana\n",
            "tomate\n"
          ],
          "name": "stdout"
        }
      ]
    },
    {
      "cell_type": "code",
      "metadata": {
        "colab": {
          "base_uri": "https://localhost:8080/"
        },
        "id": "kEziHKWQXQSR",
        "outputId": "1f3f4988-d64c-443b-bc56-daee9dc0b51b"
      },
      "source": [
        "print('As três últimas frutas da lista são: ')\n",
        "for fruta in minhas_frutas[4:]:\n",
        "  print(fruta)"
      ],
      "execution_count": null,
      "outputs": [
        {
          "output_type": "stream",
          "text": [
            "As três últimas frutas da lista são: \n",
            "tomate\n",
            "goiaba\n",
            "abacaxi\n"
          ],
          "name": "stdout"
        }
      ]
    },
    {
      "cell_type": "code",
      "metadata": {
        "colab": {
          "base_uri": "https://localhost:8080/"
        },
        "id": "qzF3WXm8XWmS",
        "outputId": "ebdb1778-50e6-46be-b2e8-7dc8ce2be9ad"
      },
      "source": [
        ""
      ],
      "execution_count": null,
      "outputs": [
        {
          "output_type": "stream",
          "text": [
            "As três primeiras frutas da lista são: \n",
            "abacaxi\n"
          ],
          "name": "stdout"
        }
      ]
    },
    {
      "cell_type": "markdown",
      "metadata": {
        "id": "yHNFWMpFXczX"
      },
      "source": [
        "###4.11 Exercício"
      ]
    },
    {
      "cell_type": "code",
      "metadata": {
        "id": "RktvPAt_YI01"
      },
      "source": [
        "minhas_pizzas = ['calabresa', 'portuguesa', 'marguerita', 'baiacatu']"
      ],
      "execution_count": null,
      "outputs": []
    },
    {
      "cell_type": "code",
      "metadata": {
        "id": "M-ycM0ejYeAy"
      },
      "source": [
        "amigo_pizzas = minhas_pizzas[:]"
      ],
      "execution_count": null,
      "outputs": []
    },
    {
      "cell_type": "code",
      "metadata": {
        "id": "cRwhY67DYksm"
      },
      "source": [
        "minhas_pizzas.append('mussarela')\n",
        "amigo_pizzas.append('bacon')"
      ],
      "execution_count": null,
      "outputs": []
    },
    {
      "cell_type": "code",
      "metadata": {
        "colab": {
          "base_uri": "https://localhost:8080/"
        },
        "id": "5h7pB06HYxN_",
        "outputId": "ee544b51-0368-40cc-85be-59da5bdb606f"
      },
      "source": [
        "print(minhas_pizzas)"
      ],
      "execution_count": null,
      "outputs": [
        {
          "output_type": "stream",
          "text": [
            "['calabresa', 'portuguesa', 'marguerita', 'baiacatu', 'mussarela', 'mussarela']\n"
          ],
          "name": "stdout"
        }
      ]
    },
    {
      "cell_type": "code",
      "metadata": {
        "colab": {
          "base_uri": "https://localhost:8080/"
        },
        "id": "V34nEDIHY5Ij",
        "outputId": "9baf1b33-20ee-4d71-80bd-d8b6cc64f998"
      },
      "source": [
        "print(amigo_pizzas)"
      ],
      "execution_count": null,
      "outputs": [
        {
          "output_type": "stream",
          "text": [
            "['calabresa', 'portuguesa', 'marguerita', 'baiacatu', 'bacon']\n"
          ],
          "name": "stdout"
        }
      ]
    },
    {
      "cell_type": "code",
      "metadata": {
        "colab": {
          "base_uri": "https://localhost:8080/"
        },
        "id": "2whcvLeUY62b",
        "outputId": "c9def73f-29ed-4911-f4da-52091d16742b"
      },
      "source": [
        "print('As pizzas preferidas do meu amigo são: ')\n",
        "for pizza in amigo_pizzas[:]:\n",
        "  print(pizza)\n"
      ],
      "execution_count": null,
      "outputs": [
        {
          "output_type": "stream",
          "text": [
            "As pizzas preferidas do meu amigo são: \n",
            "calabresa\n",
            "portuguesa\n",
            "marguerita\n",
            "baiacatu\n",
            "bacon\n"
          ],
          "name": "stdout"
        }
      ]
    },
    {
      "cell_type": "markdown",
      "metadata": {
        "id": "SOHH_nvgZOvs"
      },
      "source": [
        "###Tuplas"
      ]
    },
    {
      "cell_type": "markdown",
      "metadata": {
        "id": "menNdKQhaMK3"
      },
      "source": [
        "As listas normais são mutáveis, pode-se acrescentar ou retirar itens. Já as tuplas são listas imutáveis."
      ]
    },
    {
      "cell_type": "markdown",
      "metadata": {
        "id": "n4KZe29Oaq_l"
      },
      "source": [
        "Esta é uma lista\n",
        "\n",
        "\n",
        "minhas_pizzas = ['calabresa', 'portuguesa', 'marguerita', 'baiacatu']\n",
        "\n",
        "\n",
        "Esta é uma tupla\n",
        "\n",
        "\n",
        "minhas_pizzas = ('calabresa', 'portuguesa', 'marguerita', 'baiacatu')\n",
        "\n",
        "\n"
      ]
    },
    {
      "cell_type": "code",
      "metadata": {
        "id": "W-Ulg4eibPoW"
      },
      "source": [
        "minhas_pizzas = ('calabresa', 'portuguesa', 'marguerita', 'baiacatu')"
      ],
      "execution_count": null,
      "outputs": []
    },
    {
      "cell_type": "code",
      "metadata": {
        "colab": {
          "base_uri": "https://localhost:8080/",
          "height": 174
        },
        "id": "BJOa0W1WcKzx",
        "outputId": "03b7b90a-9195-4361-b38a-04b01d5096d2"
      },
      "source": [
        "minhas_pizzas [0] = 'frango'"
      ],
      "execution_count": null,
      "outputs": [
        {
          "output_type": "error",
          "ename": "TypeError",
          "evalue": "ignored",
          "traceback": [
            "\u001b[0;31m---------------------------------------------------------------------------\u001b[0m",
            "\u001b[0;31mTypeError\u001b[0m                                 Traceback (most recent call last)",
            "\u001b[0;32m<ipython-input-28-5c14ea4c4fb2>\u001b[0m in \u001b[0;36m<module>\u001b[0;34m()\u001b[0m\n\u001b[0;32m----> 1\u001b[0;31m \u001b[0mminhas_pizzas\u001b[0m \u001b[0;34m[\u001b[0m\u001b[0;36m0\u001b[0m\u001b[0;34m]\u001b[0m \u001b[0;34m=\u001b[0m \u001b[0;34m'frango'\u001b[0m\u001b[0;34m\u001b[0m\u001b[0;34m\u001b[0m\u001b[0m\n\u001b[0m",
            "\u001b[0;31mTypeError\u001b[0m: 'tuple' object does not support item assignment"
          ]
        }
      ]
    },
    {
      "cell_type": "code",
      "metadata": {
        "colab": {
          "base_uri": "https://localhost:8080/",
          "height": 174
        },
        "id": "l0PK__3Xcmwa",
        "outputId": "ed36bd54-3def-4e7a-8659-35a4fb57b87e"
      },
      "source": [
        "minhas_pizzas.append('frando')"
      ],
      "execution_count": null,
      "outputs": [
        {
          "output_type": "error",
          "ename": "AttributeError",
          "evalue": "ignored",
          "traceback": [
            "\u001b[0;31m---------------------------------------------------------------------------\u001b[0m",
            "\u001b[0;31mAttributeError\u001b[0m                            Traceback (most recent call last)",
            "\u001b[0;32m<ipython-input-29-1a55e6bf62bf>\u001b[0m in \u001b[0;36m<module>\u001b[0;34m()\u001b[0m\n\u001b[0;32m----> 1\u001b[0;31m \u001b[0mminhas_pizzas\u001b[0m\u001b[0;34m.\u001b[0m\u001b[0mappend\u001b[0m\u001b[0;34m(\u001b[0m\u001b[0;34m'frando'\u001b[0m\u001b[0;34m)\u001b[0m\u001b[0;34m\u001b[0m\u001b[0;34m\u001b[0m\u001b[0m\n\u001b[0m",
            "\u001b[0;31mAttributeError\u001b[0m: 'tuple' object has no attribute 'append'"
          ]
        }
      ]
    },
    {
      "cell_type": "code",
      "metadata": {
        "colab": {
          "base_uri": "https://localhost:8080/"
        },
        "id": "8KFIRljcczCu",
        "outputId": "d7dc0a0d-54c8-4125-d051-415e5bafd1a7"
      },
      "source": [
        "print(minhas_pizzas)"
      ],
      "execution_count": null,
      "outputs": [
        {
          "output_type": "stream",
          "text": [
            "('calabresa', 'portuguesa', 'marguerita', 'baiacatu')\n"
          ],
          "name": "stdout"
        }
      ]
    },
    {
      "cell_type": "code",
      "metadata": {
        "colab": {
          "base_uri": "https://localhost:8080/"
        },
        "id": "KhCBqQszdAKW",
        "outputId": "a330eca1-58cf-4b79-a071-1fcd714e5f89"
      },
      "source": [
        "for pizza in minhas_pizzas[:]:\n",
        "  print(pizza)"
      ],
      "execution_count": null,
      "outputs": [
        {
          "output_type": "stream",
          "text": [
            "calabresa\n",
            "portuguesa\n",
            "marguerita\n",
            "baiacatu\n"
          ],
          "name": "stdout"
        }
      ]
    },
    {
      "cell_type": "markdown",
      "metadata": {
        "id": "KcT-5tkFdKoq"
      },
      "source": [
        "##5.INSTRUÇÕES IF"
      ]
    },
    {
      "cell_type": "markdown",
      "metadata": {
        "id": "zEloQeR23BzR"
      },
      "source": [
        "No exemplo abaixo, todas marcas de carros são mostradas com a primeira letra do nome em maiúscula. Mas se a marca foi BMW, todas as letras devem ser maiúsculas."
      ]
    },
    {
      "cell_type": "code",
      "metadata": {
        "colab": {
          "base_uri": "https://localhost:8080/"
        },
        "id": "0KIAc8WN36sc",
        "outputId": "64e6cc31-d2b9-4dbd-c9dd-c408e192ef90"
      },
      "source": [
        "carros = ['audio', 'bmw', 'subaru', 'toyota']\n",
        "\n",
        "for carro in carros:\n",
        "  if carro == 'bmw':\n",
        "    print(carro.upper())\n",
        "  else:\n",
        "    print(carro.title())\n"
      ],
      "execution_count": null,
      "outputs": [
        {
          "output_type": "stream",
          "text": [
            "Audio\n",
            "BMW\n",
            "Subaru\n",
            "Toyota\n"
          ],
          "name": "stdout"
        }
      ]
    },
    {
      "cell_type": "markdown",
      "metadata": {
        "id": "hv9tnTBq4Xhj"
      },
      "source": [
        "###Ignorando as diferenças entre letras maiúsculas e minúsculas ao verificar a igualdade"
      ]
    },
    {
      "cell_type": "code",
      "metadata": {
        "colab": {
          "base_uri": "https://localhost:8080/"
        },
        "id": "i-E1e5VS5tDV",
        "outputId": "454049f4-7dca-45b3-8b8c-f36e6b181f31"
      },
      "source": [
        "car = 'Audi'\n",
        "car == 'audi' # a comparação faz diferença entre maiúsculas e minúsculas"
      ],
      "execution_count": null,
      "outputs": [
        {
          "output_type": "execute_result",
          "data": {
            "text/plain": [
              "False"
            ]
          },
          "metadata": {
            "tags": []
          },
          "execution_count": 4
        }
      ]
    },
    {
      "cell_type": "code",
      "metadata": {
        "colab": {
          "base_uri": "https://localhost:8080/"
        },
        "id": "8C89CQUH5VkV",
        "outputId": "579151cc-0490-41bb-bd27-8b8897926038"
      },
      "source": [
        "car = 'Audi'\n",
        "car.lower() == 'audi' # o método lower deixa todas as letras em minúsculas por isso a coparação é verdadeira"
      ],
      "execution_count": null,
      "outputs": [
        {
          "output_type": "execute_result",
          "data": {
            "text/plain": [
              "True"
            ]
          },
          "metadata": {
            "tags": []
          },
          "execution_count": 3
        }
      ]
    },
    {
      "cell_type": "markdown",
      "metadata": {
        "id": "vpoSj5Yw5kDO"
      },
      "source": [
        "###Verificando a diferença"
      ]
    },
    {
      "cell_type": "code",
      "metadata": {
        "colab": {
          "base_uri": "https://localhost:8080/"
        },
        "id": "WV6-aYRW560l",
        "outputId": "48b8024e-a04c-4f37-9f99-f518b1bdd24e"
      },
      "source": [
        "cobertura_pizza = 'calabrasa'\n",
        "\n",
        "if cobertura_pizza != 'mussarela' :\n",
        "  print('Só trabalhamos com mussarela')"
      ],
      "execution_count": null,
      "outputs": [
        {
          "output_type": "stream",
          "text": [
            "Só trabalhamos com mussarela\n"
          ],
          "name": "stdout"
        }
      ]
    },
    {
      "cell_type": "markdown",
      "metadata": {
        "id": "XnuvOTKv7ahO"
      },
      "source": [
        "###Comparações numéricas"
      ]
    },
    {
      "cell_type": "code",
      "metadata": {
        "id": "oVjlherr7y3x"
      },
      "source": [
        "idade = 19"
      ],
      "execution_count": null,
      "outputs": []
    },
    {
      "cell_type": "code",
      "metadata": {
        "colab": {
          "base_uri": "https://localhost:8080/"
        },
        "id": "tGHXkmSK8MEr",
        "outputId": "87dbd472-f192-432e-b2f2-8042b90634a3"
      },
      "source": [
        "idade == 18"
      ],
      "execution_count": null,
      "outputs": [
        {
          "output_type": "execute_result",
          "data": {
            "text/plain": [
              "False"
            ]
          },
          "metadata": {
            "tags": []
          },
          "execution_count": 11
        }
      ]
    },
    {
      "cell_type": "code",
      "metadata": {
        "colab": {
          "base_uri": "https://localhost:8080/"
        },
        "id": "4Evc2UWz8PAs",
        "outputId": "532ee1f2-ba35-421b-edea-60524586a7c9"
      },
      "source": [
        "idade < 21"
      ],
      "execution_count": null,
      "outputs": [
        {
          "output_type": "execute_result",
          "data": {
            "text/plain": [
              "True"
            ]
          },
          "metadata": {
            "tags": []
          },
          "execution_count": 12
        }
      ]
    },
    {
      "cell_type": "code",
      "metadata": {
        "colab": {
          "base_uri": "https://localhost:8080/"
        },
        "id": "Zt2AGM5S8VtQ",
        "outputId": "01d52fc8-52e3-4bcc-cd56-631ee673aa33"
      },
      "source": [
        "idade <= 21"
      ],
      "execution_count": null,
      "outputs": [
        {
          "output_type": "execute_result",
          "data": {
            "text/plain": [
              "True"
            ]
          },
          "metadata": {
            "tags": []
          },
          "execution_count": 13
        }
      ]
    },
    {
      "cell_type": "code",
      "metadata": {
        "colab": {
          "base_uri": "https://localhost:8080/"
        },
        "id": "Ighcx5SN8Zjw",
        "outputId": "f04ee97b-a607-4eda-c771-0ddac983929d"
      },
      "source": [
        "idade > 21"
      ],
      "execution_count": null,
      "outputs": [
        {
          "output_type": "execute_result",
          "data": {
            "text/plain": [
              "False"
            ]
          },
          "metadata": {
            "tags": []
          },
          "execution_count": 14
        }
      ]
    },
    {
      "cell_type": "code",
      "metadata": {
        "colab": {
          "base_uri": "https://localhost:8080/"
        },
        "id": "f-Z0FvE88cBn",
        "outputId": "d8eb38c7-3b07-4303-8d31-4eeb1bb69d5d"
      },
      "source": [
        "idade >= 21"
      ],
      "execution_count": null,
      "outputs": [
        {
          "output_type": "execute_result",
          "data": {
            "text/plain": [
              "False"
            ]
          },
          "metadata": {
            "tags": []
          },
          "execution_count": 15
        }
      ]
    },
    {
      "cell_type": "markdown",
      "metadata": {
        "id": "XMuiF_Ej8eWV"
      },
      "source": [
        "###Testando várias condições"
      ]
    },
    {
      "cell_type": "markdown",
      "metadata": {
        "id": "6CkJ4TJC8s2m"
      },
      "source": [
        "####Usando AND para testar várias condições"
      ]
    },
    {
      "cell_type": "code",
      "metadata": {
        "id": "TXUHXmuj8yGk"
      },
      "source": [
        "idade_a = 22\n",
        "idade_b = 18"
      ],
      "execution_count": null,
      "outputs": []
    },
    {
      "cell_type": "code",
      "metadata": {
        "colab": {
          "base_uri": "https://localhost:8080/"
        },
        "id": "UsTx_Dd385uX",
        "outputId": "d1d79cc4-4bcc-460c-a8ab-1169830d7441"
      },
      "source": [
        "idade_a >= 21 and idade_b >=21"
      ],
      "execution_count": null,
      "outputs": [
        {
          "output_type": "execute_result",
          "data": {
            "text/plain": [
              "False"
            ]
          },
          "metadata": {
            "tags": []
          },
          "execution_count": 21
        }
      ]
    },
    {
      "cell_type": "code",
      "metadata": {
        "colab": {
          "base_uri": "https://localhost:8080/"
        },
        "id": "uO7DOH7k9LgE",
        "outputId": "cb290448-4430-42c9-803b-53633026dc0e"
      },
      "source": [
        "idade_a >= 21 and idade_b <=21"
      ],
      "execution_count": null,
      "outputs": [
        {
          "output_type": "execute_result",
          "data": {
            "text/plain": [
              "True"
            ]
          },
          "metadata": {
            "tags": []
          },
          "execution_count": 22
        }
      ]
    },
    {
      "cell_type": "markdown",
      "metadata": {
        "id": "yg0uwRnS9aPz"
      },
      "source": [
        "Para melhorar a legibilidade, podemos usar parênteses em torno dos testes individuais, mas não são obrigatórios"
      ]
    },
    {
      "cell_type": "code",
      "metadata": {
        "colab": {
          "base_uri": "https://localhost:8080/"
        },
        "id": "BTXWbual9vEu",
        "outputId": "6533ce4c-8e71-401c-ef88-40c4a1afb5a9"
      },
      "source": [
        "(idade_a >= 21) and (idade_b <=21)"
      ],
      "execution_count": null,
      "outputs": [
        {
          "output_type": "execute_result",
          "data": {
            "text/plain": [
              "True"
            ]
          },
          "metadata": {
            "tags": []
          },
          "execution_count": 23
        }
      ]
    },
    {
      "cell_type": "markdown",
      "metadata": {
        "id": "aajOvgiD90SS"
      },
      "source": [
        "####Usando OR para testar várias condições"
      ]
    },
    {
      "cell_type": "code",
      "metadata": {
        "id": "fJv0SXxU-BLF"
      },
      "source": [
        "idade_a = 22\n",
        "idade_b = 18"
      ],
      "execution_count": null,
      "outputs": []
    },
    {
      "cell_type": "code",
      "metadata": {
        "colab": {
          "base_uri": "https://localhost:8080/"
        },
        "id": "CywHRGak-m_h",
        "outputId": "ebb56aee-3a71-4855-bc09-4aff9db10323"
      },
      "source": [
        "idade_a >= 21 or idade_b >= 21"
      ],
      "execution_count": null,
      "outputs": [
        {
          "output_type": "execute_result",
          "data": {
            "text/plain": [
              "True"
            ]
          },
          "metadata": {
            "tags": []
          },
          "execution_count": 25
        }
      ]
    },
    {
      "cell_type": "code",
      "metadata": {
        "colab": {
          "base_uri": "https://localhost:8080/"
        },
        "id": "eghNLvmE-7eQ",
        "outputId": "a1c39ec3-4d5a-438f-f156-aa2b5b7f0a9e"
      },
      "source": [
        "idade_a >= 23 or idade_b >= 21"
      ],
      "execution_count": null,
      "outputs": [
        {
          "output_type": "execute_result",
          "data": {
            "text/plain": [
              "False"
            ]
          },
          "metadata": {
            "tags": []
          },
          "execution_count": 26
        }
      ]
    },
    {
      "cell_type": "markdown",
      "metadata": {
        "id": "OymNzGra_jUS"
      },
      "source": [
        "###Verificando se um valor está em uma lista"
      ]
    },
    {
      "cell_type": "code",
      "metadata": {
        "colab": {
          "base_uri": "https://localhost:8080/"
        },
        "id": "f8hvQKt6_689",
        "outputId": "7d2f29ca-f0af-49f7-8dee-438ed1e119ad"
      },
      "source": [
        "carros = ['audio', 'bmw', 'subaru', 'toyota']\n",
        "'ford' in carros"
      ],
      "execution_count": null,
      "outputs": [
        {
          "output_type": "execute_result",
          "data": {
            "text/plain": [
              "False"
            ]
          },
          "metadata": {
            "tags": []
          },
          "execution_count": 27
        }
      ]
    },
    {
      "cell_type": "code",
      "metadata": {
        "colab": {
          "base_uri": "https://localhost:8080/"
        },
        "id": "Ij5iNUxDADXh",
        "outputId": "5f174201-5ab2-4ef3-b6c4-c5b52914dfc9"
      },
      "source": [
        "'bmw' in carros"
      ],
      "execution_count": null,
      "outputs": [
        {
          "output_type": "execute_result",
          "data": {
            "text/plain": [
              "True"
            ]
          },
          "metadata": {
            "tags": []
          },
          "execution_count": 28
        }
      ]
    },
    {
      "cell_type": "markdown",
      "metadata": {
        "id": "SSqQvCcLAGdl"
      },
      "source": [
        "###Verificando se um valor não está em uma lista"
      ]
    },
    {
      "cell_type": "code",
      "metadata": {
        "id": "GaCLIxmNASuC"
      },
      "source": [
        "usuarios_banidos = ['carlos', 'souza', 'fabiana']"
      ],
      "execution_count": null,
      "outputs": []
    },
    {
      "cell_type": "code",
      "metadata": {
        "id": "iICOm_1mAm-B"
      },
      "source": [
        "usuario = 'doulgas'"
      ],
      "execution_count": null,
      "outputs": []
    },
    {
      "cell_type": "code",
      "metadata": {
        "colab": {
          "base_uri": "https://localhost:8080/"
        },
        "id": "GDRc_vvUAsmC",
        "outputId": "bdd5c9a5-007b-4271-dec6-be1fa16a5b71"
      },
      "source": [
        "if usuario not in usuarios_banidos:\n",
        "  print(usuario.title() + ', fique a vontade em postar, você não está na lista de banidos ')"
      ],
      "execution_count": null,
      "outputs": [
        {
          "output_type": "stream",
          "text": [
            "Doulgas, fique a vontade em postar, você não está na lista de banidos \n"
          ],
          "name": "stdout"
        }
      ]
    },
    {
      "cell_type": "code",
      "metadata": {
        "colab": {
          "base_uri": "https://localhost:8080/"
        },
        "id": "6wYe2FlnBC1A",
        "outputId": "dab77dec-16f7-4567-c07c-acc5815e26f4"
      },
      "source": [
        "carros = ['audio', 'bmw', 'subaru', 'toyota']\n",
        "'ford' not in carros"
      ],
      "execution_count": null,
      "outputs": [
        {
          "output_type": "execute_result",
          "data": {
            "text/plain": [
              "True"
            ]
          },
          "metadata": {
            "tags": []
          },
          "execution_count": 34
        }
      ]
    },
    {
      "cell_type": "markdown",
      "metadata": {
        "id": "_VzH5wWzBZDn"
      },
      "source": [
        "###Instruções if simples"
      ]
    },
    {
      "cell_type": "code",
      "metadata": {
        "colab": {
          "base_uri": "https://localhost:8080/"
        },
        "id": "M7lmYEVfWck5",
        "outputId": "bd101234-628e-4d7b-8991-273393fab059"
      },
      "source": [
        "idade = 18\n",
        "if idade >= 18:\n",
        "  print('Você é maior de idade')\n"
      ],
      "execution_count": null,
      "outputs": [
        {
          "output_type": "stream",
          "text": [
            "Você é maior de idade\n"
          ],
          "name": "stdout"
        }
      ]
    },
    {
      "cell_type": "markdown",
      "metadata": {
        "id": "ySQ_CWY2Wo_C"
      },
      "source": [
        "###Instruções if-else"
      ]
    },
    {
      "cell_type": "code",
      "metadata": {
        "colab": {
          "base_uri": "https://localhost:8080/"
        },
        "id": "N-mrgUsyWvA0",
        "outputId": "03ad2754-1595-40c6-a354-86829ad46996"
      },
      "source": [
        "idade = 17\n",
        "if idade >= 18:\n",
        "  print('Você é maior de idade')\n",
        "else:\n",
        "  print('Você ainda não é maior de idade')"
      ],
      "execution_count": null,
      "outputs": [
        {
          "output_type": "stream",
          "text": [
            "Você ainda não é maior de idade\n"
          ],
          "name": "stdout"
        }
      ]
    },
    {
      "cell_type": "markdown",
      "metadata": {
        "id": "zLSiOjtaXFg1"
      },
      "source": [
        "###Sintaxe if-elif-else"
      ]
    },
    {
      "cell_type": "code",
      "metadata": {
        "colab": {
          "base_uri": "https://localhost:8080/"
        },
        "id": "jXWumB4CXRIb",
        "outputId": "d1124550-9af2-4ce6-aaa3-5aeebe56ee22"
      },
      "source": [
        "idade = 30\n",
        "\n",
        "if idade < 10:\n",
        "  print('criança')\n",
        "elif idade < 14:\n",
        "  print('Pré-adolescente')\n",
        "elif idade < 19:\n",
        "  print('adolescente')\n",
        "else:\n",
        "  print('Adulto')\n",
        "\n"
      ],
      "execution_count": null,
      "outputs": [
        {
          "output_type": "stream",
          "text": [
            "Adulto\n"
          ],
          "name": "stdout"
        }
      ]
    },
    {
      "cell_type": "code",
      "metadata": {
        "colab": {
          "base_uri": "https://localhost:8080/"
        },
        "id": "Wux2VPfjaYCM",
        "outputId": "71233c36-9a41-4520-b210-bafa646dec0e"
      },
      "source": [
        ""
      ],
      "execution_count": null,
      "outputs": [
        {
          "output_type": "execute_result",
          "data": {
            "text/plain": [
              "30"
            ]
          },
          "metadata": {
            "tags": []
          },
          "execution_count": 8
        }
      ]
    },
    {
      "cell_type": "markdown",
      "metadata": {
        "id": "O3A-bGwDadlW"
      },
      "source": [
        "###Omitindo o bloco else"
      ]
    },
    {
      "cell_type": "markdown",
      "metadata": {
        "id": "k37jcjP4bLAM"
      },
      "source": [
        "Python não exige um bloco else no final de uma cadeia if-elif. O bloco else é uma instrução que captura tudo. Ela corresponde a qualquer condição não atendida por um teste if ou elif específicos e isso, às vezes, pode incluir dados inválidos ou até mesmo maliciosos."
      ]
    },
    {
      "cell_type": "code",
      "metadata": {
        "colab": {
          "base_uri": "https://localhost:8080/"
        },
        "id": "3tie42jWbZqz",
        "outputId": "b5fe6705-aeaf-43a7-ddaa-397b0c61c125"
      },
      "source": [
        "idade = 30\n",
        "\n",
        "if idade < 10:\n",
        "  print('criança')\n",
        "elif idade < 14:\n",
        "  print('Pré-adolescente')\n",
        "elif idade < 19:\n",
        "  print('adolescente')\n",
        "elif idade >=19:\n",
        "  print('Adulto')"
      ],
      "execution_count": null,
      "outputs": [
        {
          "output_type": "stream",
          "text": [
            "Adulto\n"
          ],
          "name": "stdout"
        }
      ]
    },
    {
      "cell_type": "markdown",
      "metadata": {
        "id": "9j6R6Tl3bpRd"
      },
      "source": [
        "###Testando várias condições"
      ]
    },
    {
      "cell_type": "markdown",
      "metadata": {
        "id": "3Bgra0n0b6xn"
      },
      "source": [
        "Usamos esse teste caso queiramos verificar todas as condições, e não apenas testar se uma única condição é válida, como no caso do if-elif-else"
      ]
    },
    {
      "cell_type": "code",
      "metadata": {
        "colab": {
          "base_uri": "https://localhost:8080/"
        },
        "id": "YjJ8Vhxem_uq",
        "outputId": "1818fd16-ce54-4a31-e20e-be27f2f4e0b4"
      },
      "source": [
        "recheios_pedidos = ['calabresa', 'mussarela']\n",
        "\n",
        "if 'calabresa' in recheios_pedidos:\n",
        "  print('calabresa adicionada')\n",
        "if 'mussarela' in recheios_pedidos:\n",
        "  print('mussarela adicionada')\n",
        "if 'bacon' in recheios_pedidos:\n",
        "  print('bacon adicionado')\n",
        "if 'atum' in recheios_pedidos:\n",
        "  print('atum adicionado')\n",
        "\n",
        "  print('\\nTerminando de fazer a pizza!')"
      ],
      "execution_count": null,
      "outputs": [
        {
          "output_type": "stream",
          "text": [
            "calabresa adicionada\n",
            "mussarela adicionada\n"
          ],
          "name": "stdout"
        }
      ]
    },
    {
      "cell_type": "code",
      "metadata": {
        "colab": {
          "base_uri": "https://localhost:8080/"
        },
        "id": "G0V-o-mtoFnJ",
        "outputId": "ae41651a-3311-47d2-fa19-cf18809790f5"
      },
      "source": [
        "recheios_pedidos = ['bacon', 'mussarela']\n",
        "\n",
        "if 'calabresa' in recheios_pedidos:\n",
        "  print('calabresa adicionada')\n",
        "if 'mussarela' in recheios_pedidos:\n",
        "  print('mussarela adicionada')\n",
        "if 'bacon' in recheios_pedidos:\n",
        "  print('bacon adicionado')\n",
        "if 'atum' in recheios_pedidos:\n",
        "  print('atum adicionado')\n",
        "\n",
        "  print('\\nTerminando de fazer a pizza!')"
      ],
      "execution_count": null,
      "outputs": [
        {
          "output_type": "stream",
          "text": [
            "mussarela adicionada\n",
            "bacon adicionado\n"
          ],
          "name": "stdout"
        }
      ]
    },
    {
      "cell_type": "markdown",
      "metadata": {
        "id": "kwEnAJ7NoRN4"
      },
      "source": [
        "###5.3Exercício"
      ]
    },
    {
      "cell_type": "code",
      "metadata": {
        "colab": {
          "base_uri": "https://localhost:8080/"
        },
        "id": "055LG7OMotoK",
        "outputId": "99c977a6-81d8-4492-b19b-a6775bc6c020"
      },
      "source": [
        "alien_color = 'green'\n",
        "\n",
        "if alien_color == 'green':\n",
        "  print('A cor do alienigena é verde, parabéns, você acaba de ganhar cinco pontos')"
      ],
      "execution_count": null,
      "outputs": [
        {
          "output_type": "stream",
          "text": [
            "A cor do alienigena é verde, parabéns, você acaba de ganhar cinco pontos\n"
          ],
          "name": "stdout"
        }
      ]
    },
    {
      "cell_type": "code",
      "metadata": {
        "id": "A7QDQiAYo2xm"
      },
      "source": [
        "alien_color = 'red'\n",
        "\n",
        "if alien_color == 'green':\n",
        "  print('A cor do alienigena é verde, parabéns, você acaba de ganhar cinco pontos')"
      ],
      "execution_count": null,
      "outputs": []
    },
    {
      "cell_type": "code",
      "metadata": {
        "id": "YZ7A51iDqaaF"
      },
      "source": [
        ""
      ],
      "execution_count": null,
      "outputs": []
    },
    {
      "cell_type": "markdown",
      "metadata": {
        "id": "qYG3E7HGqgj8"
      },
      "source": [
        "###5.4Exercício"
      ]
    },
    {
      "cell_type": "code",
      "metadata": {
        "colab": {
          "base_uri": "https://localhost:8080/"
        },
        "id": "MQ5cwg3hqm93",
        "outputId": "07cc9ad8-b048-4d3c-c63e-7efba0eb6011"
      },
      "source": [
        "alien_color = 'red'\n",
        "\n",
        "if alien_color == 'green':\n",
        "  print('A cor do alienigena é verde, parabéns, você acaba de ganhar 5 pontos')\n",
        "else:\n",
        "  print('A cor do alienigena não é verde, parabéns, você acaba de ganhar 10 pontos')"
      ],
      "execution_count": null,
      "outputs": [
        {
          "output_type": "stream",
          "text": [
            "A cor do alienigena não é verde, parabéns, você acaba de ganhar 10 pontos\n"
          ],
          "name": "stdout"
        }
      ]
    },
    {
      "cell_type": "markdown",
      "metadata": {
        "id": "9h5wk5eRtmao"
      },
      "source": [
        "###5.7Exercício"
      ]
    },
    {
      "cell_type": "code",
      "metadata": {
        "colab": {
          "base_uri": "https://localhost:8080/"
        },
        "id": "9ILec4y7uDHM",
        "outputId": "cc9a8594-c0ee-4e7e-b82f-28550805f80a"
      },
      "source": [
        "frutas_favoritas = ['maçã', 'banana', 'pêra', 'uva']\n",
        "\n",
        "if 'maçã' in frutas_favoritas:\n",
        "  print('Você realmente gosta de maçã')\n",
        "if 'banana' in frutas_favoritas:\n",
        "  print('Você realmente gosta de banana')\n",
        "if 'pêra' in frutas_favoritas:\n",
        "  print('Você realmente gosta de pêra')\n",
        "if 'uva' in frutas_favoritas:\n",
        "  print('Você realmente gosta de uva')\n"
      ],
      "execution_count": null,
      "outputs": [
        {
          "output_type": "stream",
          "text": [
            "Você realmente gosta de maçã\n",
            "Você realmente gosta de banana\n",
            "Você realmente gosta de pêra\n",
            "Você realmente gosta de uva\n"
          ],
          "name": "stdout"
        }
      ]
    },
    {
      "cell_type": "markdown",
      "metadata": {
        "id": "3EZTwXnxu0_4"
      },
      "source": [
        "###Verificando se uma lista não está vazia"
      ]
    },
    {
      "cell_type": "markdown",
      "metadata": {
        "id": "ykVP2TS-yoJt"
      },
      "source": [
        "Quando o nome de uma lista é usado em uma instrução if, Python devolve True se a lista contiver pelo menos um item; uma lista vazia é avaliada como False."
      ]
    },
    {
      "cell_type": "code",
      "metadata": {
        "colab": {
          "base_uri": "https://localhost:8080/"
        },
        "id": "fHiGG0Jxx-Em",
        "outputId": "6b0fa315-438b-44d0-9bca-b03de393813b"
      },
      "source": [
        "recheios_pedidos = []\n",
        "\n",
        "if recheios_pedidos:\n",
        "  for recheio in recheios_pedidos:\n",
        "    print('adicionado ' + recheio + '.')\n",
        "else:\n",
        "  print('Você ainda não escolheu um recheio')"
      ],
      "execution_count": null,
      "outputs": [
        {
          "output_type": "stream",
          "text": [
            "Você ainda não escolheu um recheio\n"
          ],
          "name": "stdout"
        }
      ]
    },
    {
      "cell_type": "code",
      "metadata": {
        "colab": {
          "base_uri": "https://localhost:8080/"
        },
        "id": "qbyadgnKyjgC",
        "outputId": "6df16775-644b-425c-a52e-2e6577fa008c"
      },
      "source": [
        "recheios_pedidos = ['calabresa', 'catupiry']\n",
        "\n",
        "if recheios_pedidos:\n",
        "  for recheio in recheios_pedidos:\n",
        "    print('adicionado ' + recheio + '.')\n",
        "else:\n",
        "  print('Você ainda não escolheu um recheio')"
      ],
      "execution_count": null,
      "outputs": [
        {
          "output_type": "stream",
          "text": [
            "adicionado calabresa.\n",
            "adicionado catupiry.\n"
          ],
          "name": "stdout"
        }
      ]
    },
    {
      "cell_type": "markdown",
      "metadata": {
        "id": "pVerkejSywFg"
      },
      "source": [
        "###Usando várias listas"
      ]
    },
    {
      "cell_type": "code",
      "metadata": {
        "colab": {
          "base_uri": "https://localhost:8080/"
        },
        "id": "9XrXWWuczKcf",
        "outputId": "ed7c3505-443e-44df-f8ea-4d8187a931b0"
      },
      "source": [
        "recheios_disponiveis = ['margherita', 'bacon', 'portuguesa', \n",
        "                        'calabresa', 'frango']\n",
        "\n",
        "recheios_pedidos = ['bacon', 'frango', 'escarola', 'portuguesa']\n",
        "\n",
        "for recheio_pedido in recheios_pedidos:\n",
        "  if recheio_pedido in recheios_disponiveis:\n",
        "    print('adicionando ' + recheio_pedido + '.')\n",
        "  else:\n",
        "    print('Desculpe, nós não temos recheio de ' + recheio_pedido + '.')\n"
      ],
      "execution_count": null,
      "outputs": [
        {
          "output_type": "stream",
          "text": [
            "adicionando bacon.\n",
            "adicionando frango.\n",
            "Desculpe, nós não temos recheio de escarola.\n",
            "adicionando portuguesa.\n"
          ],
          "name": "stdout"
        }
      ]
    },
    {
      "cell_type": "markdown",
      "metadata": {
        "id": "Yrz7KTV10u3B"
      },
      "source": [
        "###5.8Exercício"
      ]
    },
    {
      "cell_type": "code",
      "metadata": {
        "colab": {
          "base_uri": "https://localhost:8080/"
        },
        "id": "EkK2XF2j2qjt",
        "outputId": "5fb758b4-2845-4eda-f6ea-5cdc146d6ddb"
      },
      "source": [
        "usuarios = ['carlos', 'natália', 'leandro', 'admin']\n",
        "\n",
        "for usuario in usuarios:\n",
        "  if usuario == 'admin':\n",
        "    print('Olá admin, deseja ver um relatório?')\n",
        "  else:\n",
        "    print('Olá ' + usuario + ', obrigado por fazer login novamente')"
      ],
      "execution_count": null,
      "outputs": [
        {
          "output_type": "stream",
          "text": [
            "Olá carlos, obrigado por fazer login novamente\n",
            "Olá natália, obrigado por fazer login novamente\n",
            "Olá leandro, obrigado por fazer login novamente\n",
            "Olá admin, deseja ver um relatório?\n"
          ],
          "name": "stdout"
        }
      ]
    },
    {
      "cell_type": "markdown",
      "metadata": {
        "id": "ob02Ec9T3ngr"
      },
      "source": [
        "###5.9Exercício"
      ]
    },
    {
      "cell_type": "code",
      "metadata": {
        "colab": {
          "base_uri": "https://localhost:8080/"
        },
        "id": "ENj98vpQ3_QG",
        "outputId": "9173f8af-600b-454f-f4b2-fd72d95bd91e"
      },
      "source": [
        "usuarios = []\n",
        "\n",
        "if usuarios:\n",
        "  for usuario in usuarios:\n",
        "    if usuario == 'admin':\n",
        "      print('Olá admin, deseja ver um relatório?')\n",
        "    else:\n",
        "      print('Olá ' + usuario + ', obrigado por fazer login novamente')\n",
        "else:\n",
        "  print('Precisamos arrumar novos usuario')"
      ],
      "execution_count": null,
      "outputs": [
        {
          "output_type": "stream",
          "text": [
            "Precisamos arrumar novos usuario\n"
          ],
          "name": "stdout"
        }
      ]
    },
    {
      "cell_type": "markdown",
      "metadata": {
        "id": "M6vuE9ow4TIK"
      },
      "source": [
        "###5.10Exercício"
      ]
    },
    {
      "cell_type": "code",
      "metadata": {
        "colab": {
          "base_uri": "https://localhost:8080/"
        },
        "id": "XJXQrWSw4uAd",
        "outputId": "72e17a0d-4200-4f1f-9694-833b3c01a8fe"
      },
      "source": [
        "novos_usuarios = ['CARLA', 'Mateus', 'Debora', 'joaquim']\n",
        "\n",
        "usuarios_cadastrados = ['carla', 'mateus', 'ana']\n",
        "\n",
        "for novo_usuario in novos_usuarios:\n",
        "  if novo_usuario.lower() in usuarios_cadastrados:\n",
        "    print('Este nome de usuário não está disponível')\n",
        "  else:\n",
        "    print('Este nome de usuário está disponível')\n"
      ],
      "execution_count": null,
      "outputs": [
        {
          "output_type": "stream",
          "text": [
            "Este nome de usuário não está disponível\n",
            "Este nome de usuário não está disponível\n",
            "Este nome de usuário está disponível\n",
            "Este nome de usuário está disponível\n"
          ],
          "name": "stdout"
        }
      ]
    },
    {
      "cell_type": "markdown",
      "metadata": {
        "id": "SdAjiCdL90me"
      },
      "source": [
        "## 6.DICIONÁRIOS"
      ]
    },
    {
      "cell_type": "markdown",
      "metadata": {
        "id": "ADDxObH4nKFu"
      },
      "source": [
        "###Trabalhando com dicionários <a name=\"6.1\"></a>"
      ]
    },
    {
      "cell_type": "markdown",
      "metadata": {
        "id": "uC9j0Z7EqSJR"
      },
      "source": [
        "Um dicionário em Python é uma coleção de pares chave-valor.\n",
        "\n",
        "\n",
        "Cada chave é conectada a um valor, e você pode usar uma chave para acessar o valor associado a ela. O valor de uma chave pode ser um número, uma string,\n",
        "uma lista ou até mesmo outro dicionário."
      ]
    },
    {
      "cell_type": "markdown",
      "metadata": {
        "id": "hfehp_OUqhxR"
      },
      "source": [
        "Considere um jogo com alienígenas no qual cada alien tenha cores e valores de pontuação diferentes."
      ]
    },
    {
      "cell_type": "code",
      "metadata": {
        "id": "B3_3Ry_CqzPp"
      },
      "source": [
        "alien_0 = {\n",
        "    'cor': 'verde',\n",
        "    'pontos': 5\n",
        "}"
      ],
      "execution_count": null,
      "outputs": []
    },
    {
      "cell_type": "markdown",
      "metadata": {
        "id": "6uxx1dLJrBpP"
      },
      "source": [
        "Neste exemplo, o dicionário alien_0 têm duas chaves.\n",
        "\n",
        "Chave **cor** associada ao valor **verde**\n",
        "\n",
        "Chave **pontos** associada ao valor **5** "
      ]
    },
    {
      "cell_type": "markdown",
      "metadata": {
        "id": "Fvnh-hWastUm"
      },
      "source": [
        "###Acessando valores em um dicionário"
      ]
    },
    {
      "cell_type": "markdown",
      "metadata": {
        "id": "hCsq_N6eszlF"
      },
      "source": [
        "Para obter o valor associado a uma chave, deve-se usar a seguinte sintaxe:"
      ]
    },
    {
      "cell_type": "code",
      "metadata": {
        "colab": {
          "base_uri": "https://localhost:8080/"
        },
        "id": "17dlbfyys9UN",
        "outputId": "78c6328d-02f5-4185-d6be-9529eb76726c"
      },
      "source": [
        "alien_0 = {\n",
        "    'cor': 'verde',\n",
        "    'pontos': 5\n",
        "}\n",
        "\n",
        "print(alien_0['cor'])"
      ],
      "execution_count": null,
      "outputs": [
        {
          "output_type": "stream",
          "text": [
            "verde\n"
          ],
          "name": "stdout"
        }
      ]
    },
    {
      "cell_type": "code",
      "metadata": {
        "colab": {
          "base_uri": "https://localhost:8080/"
        },
        "id": "xTPSNZqttFfz",
        "outputId": "180d5ecc-cf8c-4677-8b09-f2415fcbcc70"
      },
      "source": [
        "alien_0 = {\n",
        "    'cor': 'verde',\n",
        "    'pontos': 5\n",
        "}\n",
        "\n",
        "print('Seu alien possuí ' + str(alien_0['pontos']) + ' pontos!') # é necessário usar o método str por que a chave pontos está associada a um int que para ser exibido precisa se tornar uma string."
      ],
      "execution_count": null,
      "outputs": [
        {
          "output_type": "stream",
          "text": [
            "Seu alien possuí 5 pontos!\n"
          ],
          "name": "stdout"
        }
      ]
    },
    {
      "cell_type": "markdown",
      "metadata": {
        "id": "F8sMxQSUulac"
      },
      "source": [
        "###Adicionando novos pares chave-valor"
      ]
    },
    {
      "cell_type": "markdown",
      "metadata": {
        "id": "u6cVR0E4vtNN"
      },
      "source": [
        "Digamos que o alien do jogo precise de coordenadas que ajudaram a mostrar sua posição no jogo."
      ]
    },
    {
      "cell_type": "code",
      "metadata": {
        "colab": {
          "base_uri": "https://localhost:8080/"
        },
        "id": "k70YtZpLv6L2",
        "outputId": "d632f77d-a7f5-4c6a-8268-d35f99f3b09b"
      },
      "source": [
        "alien_0 = {\n",
        "    'cor': 'verde',\n",
        "    'pontos': 5\n",
        "}\n",
        "\n",
        "alien_0['x_position'] = 0\n",
        "alien_0['y_position'] = 25\n",
        "\n",
        "print(alien_0)"
      ],
      "execution_count": null,
      "outputs": [
        {
          "output_type": "stream",
          "text": [
            "{'cor': 'verde', 'pontos': 5, 'x_position': 0, 'y_position': 25}\n"
          ],
          "name": "stdout"
        }
      ]
    },
    {
      "cell_type": "markdown",
      "metadata": {
        "id": "IRHAcOX3weCo"
      },
      "source": [
        "###Começando com um dicionário vazio"
      ]
    },
    {
      "cell_type": "markdown",
      "metadata": {
        "id": "D9gg6S43wwzi"
      },
      "source": [
        "As vezes é conveniente começar com um dicionário vazio, e então, ir acrescentado novos pares a ele."
      ]
    },
    {
      "cell_type": "code",
      "metadata": {
        "colab": {
          "base_uri": "https://localhost:8080/"
        },
        "id": "IX2pwtiww61K",
        "outputId": "7f49ca54-0d5b-4174-fbce-2269c4cc8b65"
      },
      "source": [
        "alien_0 = {}\n",
        "\n",
        "alien_0['cor'] = 'vermelho'\n",
        "alien_0['pontos'] = 8\n",
        "\n",
        "print(alien_0)"
      ],
      "execution_count": null,
      "outputs": [
        {
          "output_type": "stream",
          "text": [
            "{'cor': 'vermelho', 'pontos': 8}\n"
          ],
          "name": "stdout"
        }
      ]
    },
    {
      "cell_type": "markdown",
      "metadata": {
        "id": "1akpiDcGxSit"
      },
      "source": [
        "###Modificando valores em um dicionário"
      ]
    },
    {
      "cell_type": "code",
      "metadata": {
        "id": "2jMcNF77xjp3"
      },
      "source": [
        "alien_0 = {\n",
        "    'cor':'verde'\n",
        "}"
      ],
      "execution_count": null,
      "outputs": []
    },
    {
      "cell_type": "code",
      "metadata": {
        "colab": {
          "base_uri": "https://localhost:8080/"
        },
        "id": "tOity_J5yRPQ",
        "outputId": "1cf5c42e-6cf9-4c62-bc46-b1f406aa5f61"
      },
      "source": [
        "print(alien_0)"
      ],
      "execution_count": null,
      "outputs": [
        {
          "output_type": "stream",
          "text": [
            "{'cor': 'verde'}\n"
          ],
          "name": "stdout"
        }
      ]
    },
    {
      "cell_type": "code",
      "metadata": {
        "id": "w7GyfHWyxvxb"
      },
      "source": [
        "alien_0['cor'] = 'vermelho'"
      ],
      "execution_count": null,
      "outputs": []
    },
    {
      "cell_type": "code",
      "metadata": {
        "colab": {
          "base_uri": "https://localhost:8080/"
        },
        "id": "m7Thhvyfx-y7",
        "outputId": "65d6049e-9143-4280-9b74-b4369c268501"
      },
      "source": [
        "print(alien_0)"
      ],
      "execution_count": null,
      "outputs": [
        {
          "output_type": "stream",
          "text": [
            "{'cor': 'vermelho'}\n"
          ],
          "name": "stdout"
        }
      ]
    },
    {
      "cell_type": "markdown",
      "metadata": {
        "id": "Rn5d84-FyHe4"
      },
      "source": [
        "###Removendo pares chave-valor"
      ]
    },
    {
      "cell_type": "code",
      "metadata": {
        "colab": {
          "base_uri": "https://localhost:8080/"
        },
        "id": "RM2JO5hpy9EG",
        "outputId": "9c740aca-aba1-455a-b2ab-3ddd84e0c26e"
      },
      "source": [
        "alien_0 = {\n",
        "    'cor': 'verde',\n",
        "    'pontos': 5\n",
        "}\n",
        "\n",
        "print(alien_0)"
      ],
      "execution_count": null,
      "outputs": [
        {
          "output_type": "stream",
          "text": [
            "{'cor': 'verde', 'pontos': 5}\n"
          ],
          "name": "stdout"
        }
      ]
    },
    {
      "cell_type": "code",
      "metadata": {
        "id": "H7roqKFTzgXp"
      },
      "source": [
        "del alien_0['pontos']"
      ],
      "execution_count": null,
      "outputs": []
    },
    {
      "cell_type": "code",
      "metadata": {
        "colab": {
          "base_uri": "https://localhost:8080/"
        },
        "id": "AtGv9OPKzqnB",
        "outputId": "ea42c191-207d-43b8-f0c7-03ade04843ba"
      },
      "source": [
        "print(alien_0)"
      ],
      "execution_count": null,
      "outputs": [
        {
          "output_type": "stream",
          "text": [
            "{'cor': 'verde'}\n"
          ],
          "name": "stdout"
        }
      ]
    },
    {
      "cell_type": "markdown",
      "metadata": {
        "id": "f2VaiTQtzszD"
      },
      "source": [
        "###6.1Exercício"
      ]
    },
    {
      "cell_type": "code",
      "metadata": {
        "id": "R_wseGTr07aI"
      },
      "source": [
        "pessoa_1 = {\n",
        "    'nome': 'carlos',\n",
        "    'sobrenome' : 'souza',\n",
        "    'idade': 32,\n",
        "    'cidade': 'são paulo'\n",
        "    }"
      ],
      "execution_count": null,
      "outputs": []
    },
    {
      "cell_type": "code",
      "metadata": {
        "colab": {
          "base_uri": "https://localhost:8080/"
        },
        "id": "PZI4W1pA1cvv",
        "outputId": "ffcc28c9-83b4-4200-d182-d45296905156"
      },
      "source": [
        "print(pessoa_1['nome'])"
      ],
      "execution_count": null,
      "outputs": [
        {
          "output_type": "stream",
          "text": [
            "carlos\n"
          ],
          "name": "stdout"
        }
      ]
    },
    {
      "cell_type": "code",
      "metadata": {
        "colab": {
          "base_uri": "https://localhost:8080/"
        },
        "id": "0PoypIJi1wRg",
        "outputId": "dcdc777f-1f80-4d07-fff0-e5b8e4132f6a"
      },
      "source": [
        "print(pessoa_1['cidade'])"
      ],
      "execution_count": null,
      "outputs": [
        {
          "output_type": "stream",
          "text": [
            "são paulo\n"
          ],
          "name": "stdout"
        }
      ]
    },
    {
      "cell_type": "markdown",
      "metadata": {
        "id": "D3GWoP3F3rDs"
      },
      "source": [
        "###Percorrendo todos os pares chave-valor com um laço<a name=\"6.7\"></a>"
      ]
    },
    {
      "cell_type": "code",
      "metadata": {
        "id": "LDiqLHdV13I1"
      },
      "source": [
        "linguage_favorita = {\n",
        "  'jen': 'python',\n",
        "  'sarah': 'c',\n",
        "  'edward': 'ruby',\n",
        "  'phil': 'python',\n",
        "  }"
      ],
      "execution_count": null,
      "outputs": []
    },
    {
      "cell_type": "code",
      "metadata": {
        "colab": {
          "base_uri": "https://localhost:8080/"
        },
        "id": "MCrhIHWw36vl",
        "outputId": "1a340882-8b86-47e4-8ecf-2ab97331be40"
      },
      "source": [
        "for nome, linguagem in linguage_favorita.items():\n",
        "  print(nome + \"......\" + linguagem)"
      ],
      "execution_count": null,
      "outputs": [
        {
          "output_type": "stream",
          "text": [
            "jen......python\n",
            "sarah......c\n",
            "edward......ruby\n",
            "phil......python\n"
          ],
          "name": "stdout"
        }
      ]
    },
    {
      "cell_type": "markdown",
      "metadata": {
        "id": "yY_iIPJI4f93"
      },
      "source": [
        "Nem sempre os pares chave-valor são devolvidos na ordem em que foram adicionado, no caso acima, aconteceu de ser mas pode acontecer em outros dicionário que o comportamento não seja esse.\n",
        "\n",
        "\n",
        "O método items() devolve uma lista de pares chave-valor (key-value).\n",
        "\n",
        "\n",
        "Pode-se escrever o laço for acima da seguinte maneira:"
      ]
    },
    {
      "cell_type": "code",
      "metadata": {
        "colab": {
          "base_uri": "https://localhost:8080/"
        },
        "id": "mqU1XEKy5Lbf",
        "outputId": "85467ad1-046c-4879-dfaf-3f22dc9283f9"
      },
      "source": [
        "for k, v in linguage_favorita.items():\n",
        "  print(k + \"......\" + v)"
      ],
      "execution_count": null,
      "outputs": [
        {
          "output_type": "stream",
          "text": [
            "jen......python\n",
            "sarah......c\n",
            "edward......ruby\n",
            "phil......python\n"
          ],
          "name": "stdout"
        }
      ]
    },
    {
      "cell_type": "markdown",
      "metadata": {
        "id": "lsUyYkhW8Gj3"
      },
      "source": [
        "Onde k (key) é a chave e v (value) é o valor.\n",
        "\n",
        "\n",
        "Pode-se formatar melhor o código:"
      ]
    },
    {
      "cell_type": "code",
      "metadata": {
        "colab": {
          "base_uri": "https://localhost:8080/"
        },
        "id": "-aQ4Q4mE8x0P",
        "outputId": "2fb4439e-b863-4962-e204-1412bd9de880"
      },
      "source": [
        "for k, v in linguage_favorita.items():\n",
        "  print('A linguagem favorita do(a) ' + k.title() +  \n",
        "  ' é ' + v.title() + \".\")"
      ],
      "execution_count": null,
      "outputs": [
        {
          "output_type": "stream",
          "text": [
            "A linguagem favorita do(a) Jen é Python.\n",
            "A linguagem favorita do(a) Sarah é C.\n",
            "A linguagem favorita do(a) Edward é Ruby.\n",
            "A linguagem favorita do(a) Phil é Python.\n"
          ],
          "name": "stdout"
        }
      ]
    },
    {
      "cell_type": "markdown",
      "metadata": {
        "id": "KWZLxQ6R_b5I"
      },
      "source": [
        "###Percorrendo todas as chaves de um dicionário com um laço"
      ]
    },
    {
      "cell_type": "markdown",
      "metadata": {
        "id": "Irq-awOJ_tEB"
      },
      "source": [
        "Para percorrer apenas as chaves do dicionário, utiliza-se o método keys()"
      ]
    },
    {
      "cell_type": "code",
      "metadata": {
        "colab": {
          "base_uri": "https://localhost:8080/"
        },
        "id": "LXekT72U_1yF",
        "outputId": "792478a3-c6ea-43e0-d965-927901b912a0"
      },
      "source": [
        "for k in linguage_favorita.keys():\n",
        "  print(k.title())"
      ],
      "execution_count": null,
      "outputs": [
        {
          "output_type": "stream",
          "text": [
            "Jen\n",
            "Sarah\n",
            "Edward\n",
            "Phil\n"
          ],
          "name": "stdout"
        }
      ]
    },
    {
      "cell_type": "markdown",
      "metadata": {
        "id": "FoeveIk3AB_P"
      },
      "source": [
        "Pode-se usar o método keys() explicitamente, ou omiti-lo."
      ]
    },
    {
      "cell_type": "code",
      "metadata": {
        "colab": {
          "base_uri": "https://localhost:8080/"
        },
        "id": "uH0VIvHbAoDy",
        "outputId": "4b66013c-b90f-496c-aa17-8beb32513532"
      },
      "source": [
        "for k in linguage_favorita:\n",
        "  print(k.title())"
      ],
      "execution_count": null,
      "outputs": [
        {
          "output_type": "stream",
          "text": [
            "Jen\n",
            "Sarah\n",
            "Edward\n",
            "Phil\n"
          ],
          "name": "stdout"
        }
      ]
    },
    {
      "cell_type": "markdown",
      "metadata": {
        "id": "qEV5zh9zArSy"
      },
      "source": [
        "Podemos usar um if para apresentar uma condição específica para um usuário"
      ]
    },
    {
      "cell_type": "code",
      "metadata": {
        "colab": {
          "base_uri": "https://localhost:8080/"
        },
        "id": "dv99Nf0rBTS6",
        "outputId": "26456682-3edb-4765-93bc-8a1d71155cdf"
      },
      "source": [
        "linguage_favorita = {\n",
        "  'jen': 'python',\n",
        "  'sarah': 'c',\n",
        "  'edward': 'ruby',\n",
        "  'phil': 'python',\n",
        "  }\n",
        "\n",
        "\n",
        "amigos = ['jen' , 'phil']\n",
        "\n",
        "for k in linguage_favorita.keys():\n",
        "  print(k.title())\n",
        "\n",
        "  if k in amigos:\n",
        "    print(\"Oi \" + k.title() + ', bom saber que gosta de programar!')\n",
        "\n",
        " \n",
        "\n"
      ],
      "execution_count": null,
      "outputs": [
        {
          "output_type": "stream",
          "text": [
            "Jen\n",
            "Oi Jen, bom saber que gosta de programar!\n",
            "Sarah\n",
            "Edward\n",
            "Phil\n",
            "Oi Phil, bom saber que gosta de programar!\n"
          ],
          "name": "stdout"
        }
      ]
    },
    {
      "cell_type": "markdown",
      "metadata": {
        "id": "1DrvHn28BXhy"
      },
      "source": [
        "###Percorrendo as chaves de um dicionário em ordem (sorted) usando laço"
      ]
    },
    {
      "cell_type": "markdown",
      "metadata": {
        "id": "XYaguuxzhjSU"
      },
      "source": [
        "Usando o médoto sorted(), fazemos com que as chaves do dicionário sejam impressas em ordem."
      ]
    },
    {
      "cell_type": "code",
      "metadata": {
        "colab": {
          "base_uri": "https://localhost:8080/"
        },
        "id": "UIkAZA3LhU_k",
        "outputId": "afbfd86f-02ad-4f94-98c2-697bb1af9f1e"
      },
      "source": [
        "linguage_favorita = {\n",
        "  'jen': 'python',\n",
        "  'sarah': 'c',\n",
        "  'edward': 'ruby',\n",
        "  'phil': 'python',\n",
        "  }\n",
        "\n",
        "for k in sorted(linguage_favorita.keys()):\n",
        "  print(k.title())"
      ],
      "execution_count": null,
      "outputs": [
        {
          "output_type": "stream",
          "text": [
            "Edward\n",
            "Jen\n",
            "Phil\n",
            "Sarah\n"
          ],
          "name": "stdout"
        }
      ]
    },
    {
      "cell_type": "markdown",
      "metadata": {
        "id": "s9UcaMdzhhh0"
      },
      "source": [
        "###Percorrendo todos os valores de um dicionário com um laço"
      ]
    },
    {
      "cell_type": "code",
      "metadata": {
        "colab": {
          "base_uri": "https://localhost:8080/"
        },
        "id": "QBTopX2Hh_F6",
        "outputId": "7de4a723-6cc0-4a51-c271-832768606ff2"
      },
      "source": [
        "linguage_favorita = {\n",
        "  'jen': 'python',\n",
        "  'sarah': 'c',\n",
        "  'edward': 'ruby',\n",
        "  'phil': 'python',\n",
        "  }\n",
        "\n",
        "for v in linguage_favorita.values():\n",
        "  print(v.title())"
      ],
      "execution_count": null,
      "outputs": [
        {
          "output_type": "stream",
          "text": [
            "Python\n",
            "C\n",
            "Ruby\n",
            "Python\n"
          ],
          "name": "stdout"
        }
      ]
    },
    {
      "cell_type": "markdown",
      "metadata": {
        "id": "hh3TOZ4WiM8U"
      },
      "source": [
        "Pode-se notar que há valores repetidos na lista. Para imprimir os valores, sem duplicá-los, usamos o método set() [conjunto]. Ele cria um conjuto de valores únicos. "
      ]
    },
    {
      "cell_type": "code",
      "metadata": {
        "colab": {
          "base_uri": "https://localhost:8080/"
        },
        "id": "9R262O_Qjtr-",
        "outputId": "8911a22c-a637-4cb9-9078-585dc5112564"
      },
      "source": [
        "linguage_favorita = {\n",
        "  'jen': 'python',\n",
        "  'sarah': 'c',\n",
        "  'edward': 'ruby',\n",
        "  'phil': 'python',\n",
        "  }\n",
        "\n",
        "for v in set(linguage_favorita.values()):\n",
        "  print(v.title())"
      ],
      "execution_count": null,
      "outputs": [
        {
          "output_type": "stream",
          "text": [
            "C\n",
            "Ruby\n",
            "Python\n"
          ],
          "name": "stdout"
        }
      ]
    },
    {
      "cell_type": "markdown",
      "metadata": {
        "id": "h5H7aCnuj1Pz"
      },
      "source": [
        "###6.6Exercício"
      ]
    },
    {
      "cell_type": "code",
      "metadata": {
        "colab": {
          "base_uri": "https://localhost:8080/"
        },
        "id": "gZmOMGxfkV3p",
        "outputId": "8de99677-59da-40c6-8ee8-2ef01f1c03d8"
      },
      "source": [
        "dicionario_bilingue = {\n",
        "  'Academia' : 'Gym',\n",
        "  'Agora' : 'Now',\n",
        "  'Água' : 'Water',\n",
        "  'Alto(a)(s)' : 'Tall / High (Altura) – Loud (volume)',\n",
        "  'Aluno' : 'Student',\n",
        "  'Amigo(a)' : 'Friend',\n",
        "  'Ansioso(s)' : 'Anxious',\n",
        "  'Apartamento' : 'Apartment',\n",
        "  'Aquele/aquela/aquilo' : 'That',\n",
        "  'Aqueles/aquelas' : 'Those',\n",
        "  'Aqui' : 'Here',\n",
        "  'Assunto' : 'Subject',\n",
        "  'Atrasado' : 'Late',\n",
        "  'Aula' : 'Class',\n",
        "\n",
        "}\n",
        "\n",
        "for k, v in sorted(dicionario_bilingue.items()):\n",
        "  print('A tradução de ' + k.title() +\n",
        "        \" para o inglês é: \" + v.title())"
      ],
      "execution_count": null,
      "outputs": [
        {
          "output_type": "stream",
          "text": [
            "A tradução de Academia para o inglês é: Gym\n",
            "A tradução de Agora para o inglês é: Now\n",
            "A tradução de Alto(A)(S) para o inglês é: Tall / High (Altura) – Loud (Volume)\n",
            "A tradução de Aluno para o inglês é: Student\n",
            "A tradução de Amigo(A) para o inglês é: Friend\n",
            "A tradução de Ansioso(S) para o inglês é: Anxious\n",
            "A tradução de Apartamento para o inglês é: Apartment\n",
            "A tradução de Aquele/Aquela/Aquilo para o inglês é: That\n",
            "A tradução de Aqueles/Aquelas para o inglês é: Those\n",
            "A tradução de Aqui para o inglês é: Here\n",
            "A tradução de Assunto para o inglês é: Subject\n",
            "A tradução de Atrasado para o inglês é: Late\n",
            "A tradução de Aula para o inglês é: Class\n",
            "A tradução de Água para o inglês é: Water\n"
          ],
          "name": "stdout"
        }
      ]
    },
    {
      "cell_type": "markdown",
      "metadata": {
        "id": "hAjDLdaimY0o"
      },
      "source": [
        "###Uma lista de dicionários"
      ]
    },
    {
      "cell_type": "code",
      "metadata": {
        "colab": {
          "base_uri": "https://localhost:8080/"
        },
        "id": "vDMzT8rPvFgD",
        "outputId": "ed37d8f7-28af-4899-d503-b55658b18048"
      },
      "source": [
        "#cria uma lista vazia para armazenar aliens\n",
        "aliens = []\n",
        "\n",
        "#Cria 30 aliens verdes\n",
        "for i in range(30):\n",
        "  novo_alien = {\n",
        "      'cor' : 'verde',\n",
        "      'pontos' : 5,\n",
        "      'velocidade' : 'devegar',\n",
        "  }\n",
        "  aliens.append(novo_alien)\n",
        "\n",
        "\n",
        "#Mostra os 5 primeiros aliens\n",
        "for i in aliens[:5]:\n",
        "  print(i)\n",
        "\n",
        "#Mostra o total de aliens criados\n",
        "print('O número de aliens criado foi de: ' + str(len(aliens)))\n"
      ],
      "execution_count": null,
      "outputs": [
        {
          "output_type": "stream",
          "text": [
            "{'cor': 'verde', 'pontos': 5, 'velocidade': 'devegar'}\n",
            "{'cor': 'verde', 'pontos': 5, 'velocidade': 'devegar'}\n",
            "{'cor': 'verde', 'pontos': 5, 'velocidade': 'devegar'}\n",
            "{'cor': 'verde', 'pontos': 5, 'velocidade': 'devegar'}\n",
            "{'cor': 'verde', 'pontos': 5, 'velocidade': 'devegar'}\n",
            "O número de aliens criado foi de: 30\n"
          ],
          "name": "stdout"
        }
      ]
    },
    {
      "cell_type": "markdown",
      "metadata": {
        "id": "ehnFMA2DwJNw"
      },
      "source": [
        "Podemos também modificar as cores dos três primeiros aliens. Usamos um if pra garantir que só mudaresmos de verde para amarelo, os aliens que são verde. Caso tivessem outra cor, não mexeriamos nele."
      ]
    },
    {
      "cell_type": "code",
      "metadata": {
        "colab": {
          "base_uri": "https://localhost:8080/"
        },
        "id": "kUZRlLnIyqFb",
        "outputId": "57ab1757-0dfd-4680-9891-0ed86d8666ad"
      },
      "source": [
        "aliens = []\n",
        "\n",
        "for i in range(30):\n",
        "  novo_alien = {\n",
        "      'cor' : 'verde',\n",
        "      'pontos' : 5,\n",
        "      'velocidade' : 'devegar',\n",
        "  }\n",
        "  aliens.append(novo_alien)\n",
        "\n",
        "for i in aliens[:3]:\n",
        "  if i['cor'] == 'verde':\n",
        "    i['cor'] = 'amarelo'\n",
        "    i['pontos'] = 10\n",
        "    i['velocidade'] = 'média'\n",
        "\n",
        "for i in aliens[:8]:\n",
        "  print(i)\n",
        "\n",
        "\n"
      ],
      "execution_count": null,
      "outputs": [
        {
          "output_type": "stream",
          "text": [
            "{'cor': 'amarelo', 'pontos': 10, 'velocidade': 'média'}\n",
            "{'cor': 'amarelo', 'pontos': 10, 'velocidade': 'média'}\n",
            "{'cor': 'amarelo', 'pontos': 10, 'velocidade': 'média'}\n",
            "{'cor': 'verde', 'pontos': 5, 'velocidade': 'devegar'}\n",
            "{'cor': 'verde', 'pontos': 5, 'velocidade': 'devegar'}\n",
            "{'cor': 'verde', 'pontos': 5, 'velocidade': 'devegar'}\n",
            "{'cor': 'verde', 'pontos': 5, 'velocidade': 'devegar'}\n",
            "{'cor': 'verde', 'pontos': 5, 'velocidade': 'devegar'}\n"
          ],
          "name": "stdout"
        }
      ]
    },
    {
      "cell_type": "markdown",
      "metadata": {
        "id": "daOBdZj8zd5D"
      },
      "source": [
        "###Uma lista em um dicionário"
      ]
    },
    {
      "cell_type": "code",
      "metadata": {
        "id": "RyVufh-w9mWQ",
        "colab": {
          "base_uri": "https://localhost:8080/"
        },
        "outputId": "f3296690-ea0b-438c-8bde-8063b2930b45"
      },
      "source": [
        "\n",
        "#pizza que está sendo pedida\n",
        "pizza = {\n",
        "    'massa' : 'grossa',\n",
        "    'cobertura' : ['mussarela' , 'calabresa'],\n",
        "}\n",
        "\n",
        "#resumo do pedido\n",
        "print('Você pediu uma pizza com a massa ' + pizza['massa'] + ', como as seguintes coberturas:')\n",
        "\n",
        "for i in pizza['cobertura']:\n",
        "  print('\\t' + i)"
      ],
      "execution_count": null,
      "outputs": [
        {
          "output_type": "stream",
          "text": [
            "Você pediu uma pizza com a massa grossa, como as seguintes coberturas:\n",
            "\tmussarela\n",
            "\tcalabresa\n"
          ],
          "name": "stdout"
        }
      ]
    },
    {
      "cell_type": "markdown",
      "metadata": {
        "id": "5iJDapmVNwsW"
      },
      "source": [
        "Podemos aninhar uma lista a um dicionário, sempre que quisermos que mais de um valor seja associado a mesma chave."
      ]
    },
    {
      "cell_type": "code",
      "metadata": {
        "colab": {
          "base_uri": "https://localhost:8080/"
        },
        "id": "sv92db0wTwlc",
        "outputId": "421a5f85-bc27-424a-e340-4500f7eda7d6"
      },
      "source": [
        "linguagem_favorita = {\n",
        "    'jen' : ['python', 'ruby'],\n",
        "    'sarah' : ['c'],\n",
        "    'edward' : ['ruby', 'go'],\n",
        "    'phil' : ['python', 'haskell'],\n",
        "}\n",
        "\n",
        "for k, v in linguagem_favorita.items():\n",
        "  print(k.title())\n",
        "  for i in v:\n",
        "    print(i.title())"
      ],
      "execution_count": null,
      "outputs": [
        {
          "output_type": "stream",
          "text": [
            "Jen\n",
            "Python\n",
            "Ruby\n",
            "Sarah\n",
            "C\n",
            "Edward\n",
            "Ruby\n",
            "Go\n",
            "Phil\n",
            "Python\n",
            "Haskell\n"
          ],
          "name": "stdout"
        }
      ]
    },
    {
      "cell_type": "markdown",
      "metadata": {
        "id": "IoAQZzu_VNcz"
      },
      "source": [
        "É sempre bom lembrar que k é key, v é value, i é indice.\n"
      ]
    },
    {
      "cell_type": "code",
      "metadata": {
        "colab": {
          "base_uri": "https://localhost:8080/"
        },
        "id": "PY9jgVgJW7Sq",
        "outputId": "fa3dc0c8-4558-47f3-9e3f-5ec2c8a22ff0"
      },
      "source": [
        "for k, v in linguagem_favorita.items():\n",
        "  print('\\nA(s) linguagem(s) favorita(s) de ' + k.title() + ' é ou são: ')\n",
        "  for i in v:\n",
        "    print('\\t' + i.title())"
      ],
      "execution_count": null,
      "outputs": [
        {
          "output_type": "stream",
          "text": [
            "\n",
            "A(s) linguagem(s) favorita(s) de Jen é ou são: \n",
            "\tPython\n",
            "\tRuby\n",
            "\n",
            "A(s) linguagem(s) favorita(s) de Sarah é ou são: \n",
            "\tC\n",
            "\n",
            "A(s) linguagem(s) favorita(s) de Edward é ou são: \n",
            "\tRuby\n",
            "\tGo\n",
            "\n",
            "A(s) linguagem(s) favorita(s) de Phil é ou são: \n",
            "\tPython\n",
            "\tHaskell\n"
          ],
          "name": "stdout"
        }
      ]
    },
    {
      "cell_type": "code",
      "metadata": {
        "colab": {
          "base_uri": "https://localhost:8080/"
        },
        "id": "fAgn_K3VYgaD",
        "outputId": "3cc1d07f-430d-4eed-85ac-2ecb18db1af6"
      },
      "source": [
        "for k, v in linguagem_favorita.items():\n",
        "  if len(v) >= 2:\n",
        "    print('\\nAs linguagens favoritas de ' + k.title() + ' são: ')\n",
        "  else:\n",
        "    print('\\nA linguagem favorita de ' + k.title() + ' é: ')\n",
        "  for i in v:\n",
        "    print('\\t' + i.title())    "
      ],
      "execution_count": null,
      "outputs": [
        {
          "output_type": "stream",
          "text": [
            "\n",
            "As linguagens favoritas de Jen são: \n",
            "\tPython\n",
            "\tRuby\n",
            "\n",
            "A linguagem favorita de Sarah é: \n",
            "\tC\n",
            "\n",
            "As linguagens favoritas de Edward são: \n",
            "\tRuby\n",
            "\tGo\n",
            "\n",
            "As linguagens favoritas de Phil são: \n",
            "\tPython\n",
            "\tHaskell\n"
          ],
          "name": "stdout"
        }
      ]
    },
    {
      "cell_type": "code",
      "metadata": {
        "colab": {
          "base_uri": "https://localhost:8080/"
        },
        "id": "XTm_Ib3qZsRF",
        "outputId": "dd9ec23c-0dfa-4791-9abb-32ecfbe98758"
      },
      "source": [
        "for k, v in linguagem_favorita.items():\n",
        "  if len(v) == 1:\n",
        "    print('\\nA linguagem favorita de ' + k.title() + ' é: ')\n",
        "  elif len(v) > 1:\n",
        "    print('\\nAs linguagens favoritas de ' + k.title() + ' são: ')\n",
        "  for i in v:\n",
        "    print('\\t' + i.title())   "
      ],
      "execution_count": null,
      "outputs": [
        {
          "output_type": "stream",
          "text": [
            "\n",
            "As linguagens favoritas de Jen são: \n",
            "\tPython\n",
            "\tRuby\n",
            "\n",
            "A linguagem favorita de Sarah é: \n",
            "\tC\n",
            "\n",
            "As linguagens favoritas de Edward são: \n",
            "\tRuby\n",
            "\tGo\n",
            "\n",
            "As linguagens favoritas de Phil são: \n",
            "\tPython\n",
            "\tHaskell\n"
          ],
          "name": "stdout"
        }
      ]
    },
    {
      "cell_type": "markdown",
      "metadata": {
        "id": "1Q2lJWO-aCIG"
      },
      "source": [
        "###Um dicionário em um dicionário"
      ]
    },
    {
      "cell_type": "markdown",
      "metadata": {
        "id": "KVOLELRxhPnW"
      },
      "source": [
        "Podemos aninhar um dicionário dentro de outro dicionário. Mas isso pode tornar as coisa bem complicadas."
      ]
    },
    {
      "cell_type": "code",
      "metadata": {
        "colab": {
          "base_uri": "https://localhost:8080/"
        },
        "id": "MGfQLdKuhZvW",
        "outputId": "f930b25f-0ef7-4c97-db88-eba879ebd6b0"
      },
      "source": [
        "users = {\n",
        "  'aeinstein': {\n",
        "    'first': 'albert',\n",
        "    'last': 'einstein',\n",
        "    'location': 'princeton',\n",
        "  },\n",
        "\n",
        "  'mcurie': {\n",
        "    'first': 'marie',\n",
        "    'last': 'curie',\n",
        "    'location': 'paris',\n",
        "  },\n",
        "}\n",
        "\n",
        "for k, v in users.items():\n",
        "  print('\\nNome de usuário: ' + k)\n",
        "  full_name = v['first'] + ' ' + v['last'] #recebe os dois valores concatenados de nome e sobrenome\n",
        "  location = v['location'] #recebe a localização\n",
        "  print('\\tNome complento: ' + full_name.title())\n",
        "  print('\\tLocalização: ' + location.title()) \n",
        "\n"
      ],
      "execution_count": null,
      "outputs": [
        {
          "output_type": "stream",
          "text": [
            "\n",
            "Nome de usuário: aeinstein\n",
            "\tNome complento: Albert Einstein\n",
            "\tLocalização: Princeton\n",
            "\n",
            "Nome de usuário: mcurie\n",
            "\tNome complento: Marie Curie\n",
            "\tLocalização: Paris\n"
          ],
          "name": "stdout"
        }
      ]
    },
    {
      "cell_type": "markdown",
      "metadata": {
        "id": "KSB_tuDVjgyl"
      },
      "source": [
        "###6.7Exercício"
      ]
    },
    {
      "cell_type": "code",
      "metadata": {
        "colab": {
          "base_uri": "https://localhost:8080/"
        },
        "id": "0AS_IyAHXiej",
        "outputId": "8951ad18-d5a1-4ac4-aed2-128a70e541a0"
      },
      "source": [
        "pessoa_1 = {\n",
        "    'nome': 'carlos',\n",
        "    'sobrenome' : 'souza',\n",
        "    'idade': 32,\n",
        "    'cidade': 'são paulo'\n",
        "    }\n",
        "\n",
        "pessoa_2 = {\n",
        "    'nome': 'andré',\n",
        "    'sobrenome' : 'franco',\n",
        "    'idade': 75,\n",
        "    'cidade': 'belo horizonte'\n",
        "    }\n",
        "\n",
        "pessoa_3 = {\n",
        "    'nome': 'fábio',\n",
        "    'sobrenome' : 'mendes',\n",
        "    'idade': 24,\n",
        "    'cidade': 'salvador'\n",
        "    }    \n",
        "\n",
        "pessoas = [pessoa_1, pessoa_2, pessoa_3]\n",
        "\n",
        "for i in pessoas:\n",
        "  print(i)"
      ],
      "execution_count": null,
      "outputs": [
        {
          "output_type": "stream",
          "text": [
            "{'nome': 'carlos', 'sobrenome': 'souza', 'idade': 32, 'cidade': 'são paulo'}\n",
            "{'nome': 'andré', 'sobrenome': 'franco', 'idade': 75, 'cidade': 'belo horizonte'}\n",
            "{'nome': 'fábio', 'sobrenome': 'mendes', 'idade': 24, 'cidade': 'salvador'}\n"
          ],
          "name": "stdout"
        }
      ]
    },
    {
      "cell_type": "markdown",
      "metadata": {
        "id": "6TOOZbCmZneB"
      },
      "source": [
        "###6.11 Exercício\n"
      ]
    },
    {
      "cell_type": "code",
      "metadata": {
        "colab": {
          "base_uri": "https://localhost:8080/"
        },
        "id": "ViH9wfPDNOPM",
        "outputId": "b85c4140-1417-459d-995c-ca1c28b6ff3d"
      },
      "source": [
        "cidades = {\n",
        "    'são paulo' : {\n",
        "        'país' : 'brasil',\n",
        "        'população' : '12.18 milhões'\n",
        "    },\n",
        "    'nova york' : {\n",
        "        'país' : 'EUA',\n",
        "        'população' : '8.399 milhões'      \n",
        "    }, \n",
        "    'londres' : {\n",
        "        'país' : 'Inglaterra',\n",
        "        'população' : '8.9 milhões'\n",
        "    }    \n",
        "}\n",
        "\n",
        "for k, v in cidades.items():\n",
        "  country = v['país']\n",
        "  population = v['população']\n",
        "  print('\\nA cidade de ' + k.title() + ', localizada em ' + country.title() + \n",
        "        ', tem uma população de: ' + population) "
      ],
      "execution_count": null,
      "outputs": [
        {
          "output_type": "stream",
          "text": [
            "\n",
            "A cidade de São Paulo, localizada em Brasil, tem uma população de: 12.18 milhões\n",
            "\n",
            "A cidade de Nova York, localizada em Eua, tem uma população de: 8.399 milhões\n",
            "\n",
            "A cidade de Londres, localizada em Inglaterra, tem uma população de: 8.9 milhões\n"
          ],
          "name": "stdout"
        }
      ]
    },
    {
      "cell_type": "markdown",
      "metadata": {
        "id": "SweKqQ-BQWdx"
      },
      "source": [
        "##7.ENTRADAS DE USUÁRIO E LAÇOS WHILE"
      ]
    },
    {
      "cell_type": "markdown",
      "metadata": {
        "id": "07JrP769TZuB"
      },
      "source": [
        "###Como a função input() trabalha"
      ]
    },
    {
      "cell_type": "markdown",
      "metadata": {
        "id": "XgoRuNxFUOPo"
      },
      "source": [
        "A função input faz uma pausa no programa e aguarda a entrada do usuário. \n",
        "\n",
        "Esta função aceita um argumento: o prompt - ou instruções - que exibe que tipo de dados o usuário deve inserir.\n",
        "\n",
        "No caso abaixo, a instrução (prompt) é : Por favor, digite seu nome:\n",
        "\n"
      ]
    },
    {
      "cell_type": "code",
      "metadata": {
        "colab": {
          "base_uri": "https://localhost:8080/"
        },
        "id": "gQluPB9Ahd8v",
        "outputId": "3015adc6-487d-46fe-e5b7-2d5b53e762bb"
      },
      "source": [
        "nome = input('Por favor, digite seu nome: ')\n",
        "print('Olá ' + nome + '!')"
      ],
      "execution_count": null,
      "outputs": [
        {
          "output_type": "stream",
          "text": [
            "Por favor, digite seu nome: Abner\n",
            "Olá Abner!\n"
          ],
          "name": "stdout"
        }
      ]
    },
    {
      "cell_type": "markdown",
      "metadata": {
        "id": "JJ8eWV-JiH96"
      },
      "source": [
        "####Usando int() para aceitar entradas numéricas"
      ]
    },
    {
      "cell_type": "markdown",
      "metadata": {
        "id": "t-eZuMvni0CN"
      },
      "source": [
        "Tudo o que o usuáro digita como entrada na função input, é interpretado como string. Se a entrada estiver exigindo um número, é necessário usar a fução int() para transformar a string em número inteiro."
      ]
    },
    {
      "cell_type": "code",
      "metadata": {
        "colab": {
          "base_uri": "https://localhost:8080/"
        },
        "id": "NfGz0GrHjPRY",
        "outputId": "c101adbc-2fec-47ee-f4b1-c946b0d44d6e"
      },
      "source": [
        "idade = input('Qual a sua idade? ')\n",
        "idade = int(idade)\n",
        "idade >= 18"
      ],
      "execution_count": null,
      "outputs": [
        {
          "output_type": "stream",
          "text": [
            "Qual a sua idade? 18\n"
          ],
          "name": "stdout"
        },
        {
          "output_type": "execute_result",
          "data": {
            "text/plain": [
              "True"
            ]
          },
          "metadata": {
            "tags": []
          },
          "execution_count": 19
        }
      ]
    },
    {
      "cell_type": "code",
      "metadata": {
        "colab": {
          "base_uri": "https://localhost:8080/"
        },
        "id": "kI9gupEFjbLs",
        "outputId": "164e8f1a-3614-4ee7-e0d6-2f1430dca5f1"
      },
      "source": [
        "#exemplo para determinar se uma pessoa tem alutura para andar na montanha-russa\n",
        "\n",
        "altura = input('Digite sua altura em cm: ')\n",
        "altura = int(altura)\n",
        "\n",
        "if altura >= 100:\n",
        "  print('\\nVocê têm altura suficiente para andar na montanha-russa')\n",
        "else:\n",
        "  print('\\Você não têm altura suficiente para andar na montanha-russa')"
      ],
      "execution_count": null,
      "outputs": [
        {
          "output_type": "stream",
          "text": [
            "Digite sua altura em cm: 102\n",
            "\n",
            "Você têm altura suficiente para andar na montanha-russa\n"
          ],
          "name": "stdout"
        }
      ]
    },
    {
      "cell_type": "markdown",
      "metadata": {
        "id": "SnB9ihualFOB"
      },
      "source": [
        "####Operador de módulo"
      ]
    },
    {
      "cell_type": "markdown",
      "metadata": {
        "id": "9GUJLlF0ldzc"
      },
      "source": [
        "O operador de módulo, divide um número por outro e devolve o resto.\n",
        "\n",
        "Com ele, podemos fazer um programa para verificar se um número é par ou ímpar."
      ]
    },
    {
      "cell_type": "code",
      "metadata": {
        "colab": {
          "base_uri": "https://localhost:8080/"
        },
        "id": "-fdtfDQtlryc",
        "outputId": "01071d3a-e3c6-4429-83fb-9cea2b170a90"
      },
      "source": [
        "number = input(\"Enter a number, and I'll tell you if it's even or odd: \")\n",
        "number = int(number)\n",
        "\n",
        "if number % 2 == 0:\n",
        "  print(\"\\nThe number \" + str(number) + \" is even.\")\n",
        "else:\n",
        "  print(\"\\nThe number \" + str(number) + \" is odd.\")"
      ],
      "execution_count": null,
      "outputs": [
        {
          "output_type": "stream",
          "text": [
            "Enter a number, and I'll tell you if it's even or odd: 4\n",
            "\n",
            "The number 4 is even.\n"
          ],
          "name": "stdout"
        }
      ]
    },
    {
      "cell_type": "markdown",
      "metadata": {
        "id": "s-e4pNGvlzHt"
      },
      "source": [
        "###Introdução aos laços while"
      ]
    },
    {
      "cell_type": "markdown",
      "metadata": {
        "id": "Z1jIeQy9mDOR"
      },
      "source": [
        "Laços while mantem uma porçam do código em execução durante um tempo, ou em quanto uma condição determinada for verdadeira."
      ]
    },
    {
      "cell_type": "code",
      "metadata": {
        "colab": {
          "base_uri": "https://localhost:8080/"
        },
        "id": "II4SwTFJmyU5",
        "outputId": "4916b841-29d8-4da9-f61f-5be1f07b6c39"
      },
      "source": [
        "numero = 1\n",
        "while numero <= 5:\n",
        "  print(numero)\n",
        "  numero += 1"
      ],
      "execution_count": null,
      "outputs": [
        {
          "output_type": "stream",
          "text": [
            "1\n",
            "2\n",
            "3\n",
            "4\n",
            "5\n"
          ],
          "name": "stdout"
        }
      ]
    },
    {
      "cell_type": "markdown",
      "metadata": {
        "id": "8wRwkI1km_Tf"
      },
      "source": [
        "O perador += é um atalho para numero = numero + 1."
      ]
    },
    {
      "cell_type": "markdown",
      "metadata": {
        "id": "1g3XYcN7nOlh"
      },
      "source": [
        "###Deixando o usuário decidir quando quer sair"
      ]
    },
    {
      "cell_type": "code",
      "metadata": {
        "colab": {
          "base_uri": "https://localhost:8080/"
        },
        "id": "owRB5QCBnz4-",
        "outputId": "5bf7f07c-8a74-48b6-cff1-27031ac892c9"
      },
      "source": [
        "instrucao = '\\nMe diga alguma coisa, que eu repitirei para você.'\n",
        "instrucao += '\\nEntre com a palavra \"sair\" para finalizar o programa: '\n",
        "\n",
        "msg = ''\n",
        "while msg != 'sair':\n",
        "  msg = input(instrucao)\n",
        "  print(msg)"
      ],
      "execution_count": null,
      "outputs": [
        {
          "output_type": "stream",
          "text": [
            "\n",
            "Me diga alguma coisa, que eu repitirei para você.\n",
            "Entre com a palavra \"sair\" para finalizar o programa: oi\n",
            "oi\n",
            "\n",
            "Me diga alguma coisa, que eu repitirei para você.\n",
            "Entre com a palavra \"sair\" para finalizar o programa: ei\n",
            "ei\n",
            "\n",
            "Me diga alguma coisa, que eu repitirei para você.\n",
            "Entre com a palavra \"sair\" para finalizar o programa: sair\n",
            "sair\n"
          ],
          "name": "stdout"
        }
      ]
    },
    {
      "cell_type": "markdown",
      "metadata": {
        "id": "bU1NjSK4twXE"
      },
      "source": [
        "Esse programa funciona bem, exceto que exibe a palavra 'sair' como se\n",
        "fosse uma mensagem de verdade. Um teste if simples corrige esse\n",
        "problema:"
      ]
    },
    {
      "cell_type": "code",
      "metadata": {
        "colab": {
          "base_uri": "https://localhost:8080/"
        },
        "id": "I5q3zZNOucET",
        "outputId": "14335227-b54e-42a4-c055-c1ee37ae9068"
      },
      "source": [
        "instrucao = '\\nMe diga alguma coisa, que eu repitirei para você.'\n",
        "instrucao += '\\nEntre com a palavra \"sair\" para finalizar o programa: '\n",
        "\n",
        "msg = ''\n",
        "while msg != 'sair':\n",
        "  msg = input(instrucao)\n",
        "  if msg != 'sair':\n",
        "    print('\\n' + msg)\n",
        "  elif msg == 'sair':\n",
        "    print('\\nPrograma finalizado')  "
      ],
      "execution_count": null,
      "outputs": [
        {
          "output_type": "stream",
          "text": [
            "\n",
            "Me diga alguma coisa, que eu repitirei para você.\n",
            "Entre com a palavra \"sair\" para finalizar o programa: oi\n",
            "\n",
            "oi\n",
            "\n",
            "Me diga alguma coisa, que eu repitirei para você.\n",
            "Entre com a palavra \"sair\" para finalizar o programa: oi\n",
            "\n",
            "oi\n",
            "\n",
            "Me diga alguma coisa, que eu repitirei para você.\n",
            "Entre com a palavra \"sair\" para finalizar o programa: sair\n",
            "\n",
            "Programa finalizado\n"
          ],
          "name": "stdout"
        }
      ]
    },
    {
      "cell_type": "markdown",
      "metadata": {
        "id": "tDhnQaauuqD3"
      },
      "source": [
        "###Usando uma flag para sair do laço"
      ]
    },
    {
      "cell_type": "markdown",
      "metadata": {
        "id": "MOAL84wnwi1z"
      },
      "source": [
        "Para um programa que deva executar somente enquanto muitas condições forem verdadeiras, podemos definir uma variável que determina se o programa como um todo deve estar ativo. Essa variável, chamada de flag, atua como um sinal para o programa."
      ]
    },
    {
      "cell_type": "code",
      "metadata": {
        "colab": {
          "base_uri": "https://localhost:8080/"
        },
        "id": "RThShz6_xBl1",
        "outputId": "e4fe9d19-78f4-4760-fd91-72cef8f89a0c"
      },
      "source": [
        "instrucao = '\\nMe diga alguma coisa, que eu repitirei para você.'\n",
        "instrucao += '\\nEntre com a palavra \"sair\" para finalizar o programa: '\n",
        "\n",
        "ativo = True\n",
        "\n",
        "while ativo :\n",
        "  msg = input(instrucao)\n",
        "  if msg == 'sair' :\n",
        "    ativo = False\n",
        "    print('\\nPrograma finalizado') \n",
        "  else:\n",
        "    print('\\n' + msg)\n"
      ],
      "execution_count": null,
      "outputs": [
        {
          "output_type": "stream",
          "text": [
            "\n",
            "Me diga alguma coisa, que eu repitirei para você.\n",
            "Entre com a palavra \"sair\" para finalizar o programa: oi\n",
            "\n",
            "oi\n",
            "\n",
            "Me diga alguma coisa, que eu repitirei para você.\n",
            "Entre com a palavra \"sair\" para finalizar o programa: sair\n",
            "\n",
            "Programa finalizado\n"
          ],
          "name": "stdout"
        }
      ]
    },
    {
      "cell_type": "markdown",
      "metadata": {
        "id": "gbC6j6cRxWc1"
      },
      "source": [
        "###Usando break para sair de um laço"
      ]
    },
    {
      "cell_type": "markdown",
      "metadata": {
        "id": "PBnuV7TZyTMb"
      },
      "source": [
        "Para sair de um laço while de imediato, sem executar qualquer código restante no laço, independentemente do resultado de qualquer teste condicional, utilize a instrução break.\n",
        "\n",
        "Um laço que comece com *while True* executará indefinidamente, a menos que alcance uma instrução break. "
      ]
    },
    {
      "cell_type": "code",
      "metadata": {
        "colab": {
          "base_uri": "https://localhost:8080/"
        },
        "id": "DupCJ7C-ycIH",
        "outputId": "2c38ed79-fd4a-4f79-8618-ab5c3f0fb0c3"
      },
      "source": [
        "instrucao = '\\nMe diga uma cidade que você já tenha visitado.'\n",
        "instrucao += '\\nEntre com a palavra \"sair\" para finalizar o programa: '\n",
        "\n",
        "while True :\n",
        "  cidade = input(instrucao)\n",
        "\n",
        "  if cidade == 'sair' :\n",
        "    print('\\nPrograma finalizado') \n",
        "    break\n",
        "  else:\n",
        "    print('Eu gostaria muito de visitar ' + cidade.title() + '!')\n"
      ],
      "execution_count": null,
      "outputs": [
        {
          "output_type": "stream",
          "text": [
            "\n",
            "Me diga uma cidade que você já tenha visitado.\n",
            "Entre com a palavra \"sair\" para finalizar o programa: sair\n",
            "\n",
            "Programa finalizado\n"
          ],
          "name": "stdout"
        }
      ]
    },
    {
      "cell_type": "markdown",
      "metadata": {
        "id": "kRVKOpFIz49d"
      },
      "source": [
        "###Usando *continue* em um laço"
      ]
    },
    {
      "cell_type": "markdown",
      "metadata": {
        "id": "Flyd5d1f0t6K"
      },
      "source": [
        "Cosidere um laço que conte de 1 até 10, mas mostre apenas os números ímpares.\n",
        "No caso abaixo, se o resto da divisão por dois for igual a zero, a instrução _continue_ força o programa a voltar do início.\n",
        "Se o resto da divisão por dois for diferente de zero, o programa imprime o valor que está armazenado na variável **numero**.\n",
        "\n",
        "_**continue** é continuar o laço **while**, isto é, não interrompe-lo_"
      ]
    },
    {
      "cell_type": "code",
      "metadata": {
        "colab": {
          "base_uri": "https://localhost:8080/"
        },
        "id": "fGLMd2dG1TxS",
        "outputId": "ee41c289-8c0d-400c-f275-61007ef7fb93"
      },
      "source": [
        "numero = 0\n",
        "\n",
        "while numero < 10 :\n",
        "  numero += 1\n",
        "  if numero % 2 == 0 :\n",
        "    continue\n",
        "  print(numero)"
      ],
      "execution_count": null,
      "outputs": [
        {
          "output_type": "stream",
          "text": [
            "1\n",
            "3\n",
            "5\n",
            "7\n",
            "9\n"
          ],
          "name": "stdout"
        }
      ]
    },
    {
      "cell_type": "markdown",
      "metadata": {
        "id": "QnIGaUUP1n-y"
      },
      "source": [
        "###7.6Exercício"
      ]
    },
    {
      "cell_type": "code",
      "metadata": {
        "id": "owXGb7VF5J-L",
        "colab": {
          "base_uri": "https://localhost:8080/"
        },
        "outputId": "f50fe919-4318-4def-cb72-10bf6267abf8"
      },
      "source": [
        "instrucao = '\\nMe diga um ingrediente para adicionar a pizza,'\n",
        "instrucao += '\\nou digite \"sair\" para finalizar o programa: '\n",
        "\n",
        "ingrediente = ''\n",
        "while ingrediente != 'sair':\n",
        "  ingrediente = input(instrucao)\n",
        "  if ingrediente != 'sair':\n",
        "    print('\\n' + ingrediente.title() + ' adicionado na pizza.')\n",
        "  elif ingrediente == 'sair':\n",
        "    print('\\nPrograma finalizado')  "
      ],
      "execution_count": null,
      "outputs": [
        {
          "output_type": "stream",
          "text": [
            "\n",
            "Me diga um ingrediente para adicionar a pizza,\n",
            "ou digite \"sair\" para finalizar o programa: alho\n",
            "\n",
            "Alho adicionado na pizza.\n",
            "\n",
            "Me diga um ingrediente para adicionar a pizza,\n",
            "ou digite \"sair\" para finalizar o programa: sair\n",
            "\n",
            "Programa finalizado\n"
          ],
          "name": "stdout"
        }
      ]
    },
    {
      "cell_type": "code",
      "metadata": {
        "colab": {
          "base_uri": "https://localhost:8080/"
        },
        "id": "aNZgY5IhdL4H",
        "outputId": "f46fd30a-b99e-4606-e1f3-779a70ca1aa9"
      },
      "source": [
        "instrucao = '\\nMe diga um ingrediente para adicionar a pizza,'\n",
        "instrucao += '\\nou digite \"sair\" para finalizar o programa: '\n",
        "\n",
        "ativo = True\n",
        "\n",
        "while ativo :\n",
        "  ingrediente = input(instrucao)\n",
        "  if ingrediente != 'sair':\n",
        "    print('\\n' + ingrediente.title() + ' adicionado na pizza.')\n",
        "  elif ingrediente == 'sair':\n",
        "    print('\\nPrograma finalizado')\n",
        "    ativo = False  "
      ],
      "execution_count": null,
      "outputs": [
        {
          "output_type": "stream",
          "text": [
            "\n",
            "Me diga um ingrediente para adicionar a pizza,\n",
            "ou digite \"sair\" para finalizar o programa: sair\n",
            "\n",
            "Programa finalizado\n"
          ],
          "name": "stdout"
        }
      ]
    },
    {
      "cell_type": "code",
      "metadata": {
        "colab": {
          "base_uri": "https://localhost:8080/"
        },
        "id": "xcF8kZxSfVMy",
        "outputId": "3ce2f357-307a-4cc8-cb97-453f2abec611"
      },
      "source": [
        "instrucao = '\\nMe diga um ingrediente para adicionar a pizza,'\n",
        "instrucao += '\\nou digite \"sair\" para finalizar o programa: '\n",
        "\n",
        "while True :\n",
        "  ingrediente = input(instrucao)\n",
        "  if ingrediente == 'sair' :\n",
        "    print('\\nPrograma finalizado')\n",
        "    break    \n",
        "  else:\n",
        "    print('\\n' + ingrediente.title() + ' adicionado na pizza.')\n",
        "   "
      ],
      "execution_count": null,
      "outputs": [
        {
          "output_type": "stream",
          "text": [
            "\n",
            "Me diga um ingrediente para adicionar a pizza,\n",
            "ou digite \"sair\" para finalizar o programa: sair\n",
            "\n",
            "Programa finalizado\n"
          ],
          "name": "stdout"
        }
      ]
    },
    {
      "cell_type": "markdown",
      "metadata": {
        "id": "_CCrmhaZvC4r"
      },
      "source": [
        "###Transferindo itens de uma lista para outra"
      ]
    },
    {
      "cell_type": "code",
      "metadata": {
        "colab": {
          "base_uri": "https://localhost:8080/"
        },
        "id": "BDICcpQfvFNe",
        "outputId": "8ea7388d-559e-4a36-f859-d4e340dd665b"
      },
      "source": [
        "nao_confirmados = ['alice','brian','candace'] #lista de usuário não confirmados\n",
        "confirmados = [] #lista de usuários confirmados\n",
        "\n",
        "#O laço while execulta enquanto a lista não estiver vazia\n",
        "while nao_confirmados:\n",
        "  usuario = nao_confirmados.pop()\n",
        "  print('Verificando usuário: '+usuario.title())\n",
        "  confirmados.append(usuario)\n",
        "\n",
        "print('\\nOs seguintes usuários foram confirmados: ')\n",
        "for i in confirmados:\n",
        "  print(i.title())\n",
        "\n"
      ],
      "execution_count": null,
      "outputs": [
        {
          "output_type": "stream",
          "text": [
            "Verificando usuário: Candace\n",
            "Verificando usuário: Brian\n",
            "Verificando usuário: Alice\n",
            "\n",
            "Os seguintes usuários foram confirmados: \n",
            "Candace\n",
            "Brian\n",
            "Alice\n"
          ],
          "name": "stdout"
        }
      ]
    },
    {
      "cell_type": "markdown",
      "metadata": {
        "id": "OsMkClRtyW_8"
      },
      "source": [
        "###Removendo todas as instâncias de valores específicos de uma lista"
      ]
    },
    {
      "cell_type": "markdown",
      "metadata": {
        "id": "3RyFi-BUzCn7"
      },
      "source": [
        "No exemplo abaixo, é removida da lista todas as ocorrências da palavra gato"
      ]
    },
    {
      "cell_type": "code",
      "metadata": {
        "colab": {
          "base_uri": "https://localhost:8080/"
        },
        "id": "4SM-p55czKg4",
        "outputId": "c42eb68e-4e79-48cf-8ff9-0797bb175437"
      },
      "source": [
        "pets = ['cachorro', 'gato', 'peixe', ' gato', 'coelho', 'gato', 'passaro']\n",
        "print(pets)\n"
      ],
      "execution_count": null,
      "outputs": [
        {
          "output_type": "stream",
          "text": [
            "['cachorro', 'gato', 'peixe', ' gato', 'coelho', 'gato', 'passaro']\n"
          ],
          "name": "stdout"
        }
      ]
    },
    {
      "cell_type": "code",
      "metadata": {
        "colab": {
          "base_uri": "https://localhost:8080/"
        },
        "id": "S0K-epLJzjyN",
        "outputId": "d46872cb-59e5-466c-a900-28617856940f"
      },
      "source": [
        "pets = ['cachorro', 'gato', 'peixe', 'gato', 'coelho', 'gato', 'passaro']\n",
        "\n",
        "while 'gato' in pets :\n",
        "  pets.remove('gato')\n",
        "\n",
        "print(pets)"
      ],
      "execution_count": null,
      "outputs": [
        {
          "output_type": "stream",
          "text": [
            "['cachorro', 'peixe', 'coelho', 'passaro']\n"
          ],
          "name": "stdout"
        }
      ]
    },
    {
      "cell_type": "markdown",
      "metadata": {
        "id": "73mae6eEzxDC"
      },
      "source": [
        "###Preenchendo um dicionário com dados de entrada do usuário"
      ]
    },
    {
      "cell_type": "code",
      "metadata": {
        "colab": {
          "base_uri": "https://localhost:8080/"
        },
        "id": "jfsfFdivz85e",
        "outputId": "df6b5f30-b280-4b4c-f567-ce8c3ebe9abc"
      },
      "source": [
        "ativo = True\n",
        "\n",
        "enquete = {}\n",
        "\n",
        "while ativo :\n",
        "  nome = input('\\nDigite se nome: ')\n",
        "  resposta = input('Digite a cidade em que nasceu: ')\n",
        "\n",
        "  enquete[nome] = resposta #adiciona os pares nome-resposta ao dicionário enquete\n",
        "\n",
        "  repetir = input('\\nMais alguém gostaria de reponder a enquete? (sim/nao) :  ')\n",
        "  if repetir == 'nao' :\n",
        "    ativo = False\n",
        "\n",
        "print('\\n--- RESULTADO DA ENQUETE ---')\n",
        "\n",
        "for k, v in enquete.items():\n",
        "  print('\\n' + k.title() + ' nasceu na cidade de ' + v.title() + '.' )\n",
        "  \n",
        "\n",
        "\n",
        "\n",
        "\n"
      ],
      "execution_count": null,
      "outputs": [
        {
          "output_type": "stream",
          "text": [
            "\n",
            "Digite se nome: carlos\n",
            "Digite a cidade em que nasceu: santo andre\n",
            "\n",
            "Mais alguém gostaria de reponder a enquete? (sim/nao) :  nao\n",
            "\n",
            "--- RESULTADO DA ENQUETE ---\n",
            "\n",
            "Carlos nasceu na cidade de Santo Andre.\n"
          ],
          "name": "stdout"
        }
      ]
    },
    {
      "cell_type": "markdown",
      "metadata": {
        "id": "j53tmkXo3iqz"
      },
      "source": [
        "###7.8Exercício"
      ]
    },
    {
      "cell_type": "code",
      "metadata": {
        "colab": {
          "base_uri": "https://localhost:8080/"
        },
        "id": "TiERgfQ18Zms",
        "outputId": "4c65912b-e3f3-4c16-b4af-d2b64b6ec239"
      },
      "source": [
        "lanches_pedidos = ['x-burger', 'x-calabresa', 'x-salada']\n",
        "lanches_finalizados = []\n",
        "\n",
        "while lanches_pedidos :\n",
        "  lanche = lanches_pedidos.pop()\n",
        "  print('\\nSaindo um ' + lanche.title())\n",
        "  lanches_finalizados.append(lanche)\n",
        "\n",
        "print('\\nTerminamos de fazer os seguintes lanches: ')\n",
        "for i in lanches_finalizados :\n",
        "  print(i.title())\n",
        "\n",
        "\n",
        "\n",
        "\n",
        "\n"
      ],
      "execution_count": null,
      "outputs": [
        {
          "output_type": "stream",
          "text": [
            "\n",
            "Saindo um X-Salada\n",
            "\n",
            "Saindo um X-Calabresa\n",
            "\n",
            "Saindo um X-Burger\n",
            "\n",
            "Terminamos de fazer os seguintes lanches: \n",
            "X-Salada\n",
            "X-Calabresa\n",
            "X-Burger\n"
          ],
          "name": "stdout"
        }
      ]
    },
    {
      "cell_type": "markdown",
      "metadata": {
        "id": "UpI9VVY0_xN6"
      },
      "source": [
        "###7.9Exercício"
      ]
    },
    {
      "cell_type": "code",
      "metadata": {
        "colab": {
          "base_uri": "https://localhost:8080/"
        },
        "id": "xs079q6H_yVN",
        "outputId": "32b59d67-130c-453a-ce79-2b30cbc89043"
      },
      "source": [
        "lanches_pedidos = ['x-burger', 'x-egg', 'x-burger', 'x-calabresa', 'x-salada', 'x-egg', 'x-calabresa', 'x-salada', 'x-egg']\n",
        "lanches_finalizados = []\n",
        "\n",
        "print('A lanchonete está sem ovo, não estamos forncendo x-egg')\n",
        "\n",
        "while 'x-egg' in lanches_pedidos:\n",
        "  lanches_pedidos.remove('x-egg')\n",
        "\n",
        "\n",
        "while lanches_pedidos :\n",
        "  lanche = lanches_pedidos.pop()\n",
        "  print('\\nSaindo um ' + lanche.title())\n",
        "  lanches_finalizados.append(lanche)\n",
        "\n",
        "print('\\nTerminamos de fazer os seguintes lanches: ')\n",
        "for i in lanches_finalizados :\n",
        "  print(i.title())\n"
      ],
      "execution_count": null,
      "outputs": [
        {
          "output_type": "stream",
          "text": [
            "A lanchonete está sem ovo, não estamos forncendo x-egg\n",
            "\n",
            "Saindo um X-Salada\n",
            "\n",
            "Saindo um X-Calabresa\n",
            "\n",
            "Saindo um X-Salada\n",
            "\n",
            "Saindo um X-Calabresa\n",
            "\n",
            "Saindo um X-Burger\n",
            "\n",
            "Saindo um X-Burger\n",
            "\n",
            "Terminamos de fazer os seguintes lanches: \n",
            "X-Salada\n",
            "X-Calabresa\n",
            "X-Salada\n",
            "X-Calabresa\n",
            "X-Burger\n",
            "X-Burger\n"
          ],
          "name": "stdout"
        }
      ]
    },
    {
      "cell_type": "markdown",
      "metadata": {
        "id": "hMPe6FaFAJJK"
      },
      "source": [
        "##8.FUNÇÕES"
      ]
    },
    {
      "cell_type": "markdown",
      "metadata": {
        "id": "9j4-Z4PGRBgp"
      },
      "source": [
        "###Definindo uma função"
      ]
    },
    {
      "cell_type": "code",
      "metadata": {
        "colab": {
          "base_uri": "https://localhost:8080/"
        },
        "id": "jo95Cj5eRgR6",
        "outputId": "aad76212-e1b1-4bfc-9e8c-3e91adecb48a"
      },
      "source": [
        "def saudacoes():\n",
        "  '''Exibe uma saudação simples'''\n",
        "  print('Olá, seja bem-vindo!')\n",
        "\n",
        "saudacoes()"
      ],
      "execution_count": null,
      "outputs": [
        {
          "output_type": "stream",
          "text": [
            "Olá, seja bem-vindo!\n"
          ],
          "name": "stdout"
        }
      ]
    },
    {
      "cell_type": "markdown",
      "metadata": {
        "id": "z0PeaaVaR-m-"
      },
      "source": [
        "_def_ é a definição da função, que informa o nome da função.\n",
        "\n",
        "\n",
        "O comentário dentro da função é um _docstring_, isto é para quem está lendo o código do programa não existe muita diferença (exceto estética) entre comentários e docstrings, mas para o usuário a diferença é marcante, pois uma docstring não ´é ignorada pelo interpretador, mas passa a fazer parte do objeto sobre o qual ela foi definida, podendo ser acessada através do help. \n",
        "\n",
        "https://pt.wikibooks.org/wiki/Python/Conceitos_b%C3%A1sicos/Coment%C3%A1rios_e_docstrings\n",
        "\n",
        "http://blog.evaldojunior.com.br/aulas/python/2008/11/10/curso-python-aula-3-comentarios-docstrings-e-numeros.html\n",
        "\n",
        "https://medium.com/@patrickporto/4-padr%C3%B5es-de-docstring-em-python-26fe37f90255"
      ]
    },
    {
      "cell_type": "markdown",
      "metadata": {
        "id": "rQZmSatMTuOZ"
      },
      "source": [
        "###Passando informações para uma função"
      ]
    },
    {
      "cell_type": "code",
      "metadata": {
        "colab": {
          "base_uri": "https://localhost:8080/"
        },
        "id": "sRWRxjFWT0ct",
        "outputId": "53aaa60a-5f71-431d-cc5d-da7409b632e9"
      },
      "source": [
        "def saudacoes(usuario):\n",
        "  '''Exibe uma saudação simples'''\n",
        "  print('Olá ' + usuario.title() + ', seja bem-vindo!')\n",
        "\n",
        "saudacoes('carlos')"
      ],
      "execution_count": null,
      "outputs": [
        {
          "output_type": "stream",
          "text": [
            "Olá Carlos, seja bem-vindo!\n"
          ],
          "name": "stdout"
        }
      ]
    },
    {
      "cell_type": "markdown",
      "metadata": {
        "id": "9s0QB2yeUNo7"
      },
      "source": [
        "####Argumentos e parâmetros"
      ]
    },
    {
      "cell_type": "markdown",
      "metadata": {
        "id": "pIPCgaPZU3SM"
      },
      "source": [
        "A variável _usuario_ na definição de **saudacoes()**,  é denominada **_parâmetro_**.\n",
        "Já o valor _'carlos'_ é passado na chamada da função é denominado **_argumento_**.\n",
        "\n",
        "Quando chamamos a função, colocamos entre parentêses o valor com o qual queremos que a função trabalhe. Este valor chama-se argumento.\n",
        "\n",
        "Por tanto ao chamar a função `saudacoes()`, o _argumento_ `'carlos'` foi passado para a _função_ `saudacoes()` e o valor foi armazenado no _parâmetro_ `usuario`.\n",
        "\n",
        "\n",
        "**NOTA:** _Às vezes, as pessoas falam de argumentos e parâmetros de modo indistinto. Não fique surpreso se vir as variáveis de uma definição de função serem referenciadas como argumentos, ou as variáveis de uma chamada de função\n",
        "serem chamadas de parâmetros._\n",
        "\n"
      ]
    },
    {
      "cell_type": "markdown",
      "metadata": {
        "id": "Wo8azR2uXwy0"
      },
      "source": [
        "###Passando argumentos"
      ]
    },
    {
      "cell_type": "markdown",
      "metadata": {
        "id": "eIYef3lZYWP8"
      },
      "source": [
        "Pelo fato de ser possível que uma definição de função tenha vários parâmetros, uma chamada de função pode precisar de diversos argumentos. Os argumentos podem ser passados para as funções de várias maneiras. Podemos usar argumentos posicionais, que devem estar na mesma ordem em que os parâmetros foram escritos, argumentos nomeados (keyword arguments), em que cada argumento é constituído de um nome de variável e de um valor, ou por meio de listas e dicionários de valores. \n",
        "Vamos analisar cada um deles."
      ]
    },
    {
      "cell_type": "markdown",
      "metadata": {
        "id": "k1VHYaFRZ4jc"
      },
      "source": [
        "####Argumentos posicionais"
      ]
    },
    {
      "cell_type": "markdown",
      "metadata": {
        "id": "tPR_Z8K0zNAp"
      },
      "source": [
        "São argumentos que são fornecidos estritamente na ordem em que os parâmetros da função foram escreitos.\n",
        "\n",
        "No exemplo abaixo, primeiro vem o parâmetro tipo_animal e depois nome_pet.\n",
        "Por isso no momento de chamar a função, passamos os arugmentos 'hamster' e 'Francis', que correspondem ao tipo e nome do animal."
      ]
    },
    {
      "cell_type": "markdown",
      "metadata": {
        "id": "O2m4SQZ5zMrk"
      },
      "source": [
        ""
      ]
    },
    {
      "cell_type": "code",
      "metadata": {
        "id": "k20I4zZ1Z5ex",
        "colab": {
          "base_uri": "https://localhost:8080/"
        },
        "outputId": "727b3291-a84c-4986-e4d6-8cc9ef547365"
      },
      "source": [
        "def animal(tipo_animal, nome_pet):\n",
        "  '''Exibe informações sobre um animal de estimação.'''\n",
        "  print('\\nEu tenho um ' + tipo_animal + '.')\n",
        "  print('Seu nome é ' + nome_pet.title() + '.')\n",
        "\n",
        "animal('hamster', 'Francis') "
      ],
      "execution_count": null,
      "outputs": [
        {
          "output_type": "stream",
          "text": [
            "\n",
            "Eu tenho um hamster.\n",
            "Seu nome é Francis.\n"
          ],
          "name": "stdout"
        }
      ]
    },
    {
      "cell_type": "markdown",
      "metadata": {
        "id": "swUJhXh7ZIHR"
      },
      "source": [
        "#####Várias chamadas de função"
      ]
    },
    {
      "cell_type": "markdown",
      "metadata": {
        "id": "FI0WnXpL0EBJ"
      },
      "source": [
        "Podemos chamar a função quantas vezes forem necessárias."
      ]
    },
    {
      "cell_type": "code",
      "metadata": {
        "id": "TXjrFWd70Mj5"
      },
      "source": [
        "def animal(tipo_animal, nome_pet):\n",
        "  '''Exibe informações sobre um animal de estimação.'''\n",
        "  print('\\nEu tenho um ' + tipo_animal + '.')\n",
        "  print('Seu nome é ' + nome_pet.title() + '.')"
      ],
      "execution_count": null,
      "outputs": []
    },
    {
      "cell_type": "code",
      "metadata": {
        "colab": {
          "base_uri": "https://localhost:8080/"
        },
        "id": "_nSCaWQ10OQB",
        "outputId": "55b2c493-e2e2-48f7-b2f0-d7f0285f8a9f"
      },
      "source": [
        "animal('hamster', 'Francis') "
      ],
      "execution_count": null,
      "outputs": [
        {
          "output_type": "stream",
          "text": [
            "\n",
            "Eu tenho um hamster.\n",
            "Seu nome é Francis.\n"
          ],
          "name": "stdout"
        }
      ]
    },
    {
      "cell_type": "code",
      "metadata": {
        "colab": {
          "base_uri": "https://localhost:8080/"
        },
        "id": "knnGhVdv0QVV",
        "outputId": "564366b2-0df8-4be1-da27-aa500eb18e20"
      },
      "source": [
        "animal('cachorro', 'Paulo') "
      ],
      "execution_count": null,
      "outputs": [
        {
          "output_type": "stream",
          "text": [
            "\n",
            "Eu tenho um cachorro.\n",
            "Seu nome é Paulo.\n"
          ],
          "name": "stdout"
        }
      ]
    },
    {
      "cell_type": "code",
      "metadata": {
        "colab": {
          "base_uri": "https://localhost:8080/"
        },
        "id": "FC3NOIni0UVt",
        "outputId": "eaabc48f-b76f-46fb-ea51-641d7d970d24"
      },
      "source": [
        "animal('coelho', 'Arnaldo')"
      ],
      "execution_count": null,
      "outputs": [
        {
          "output_type": "stream",
          "text": [
            "\n",
            "Eu tenho um coelho.\n",
            "Seu nome é Arnaldo.\n"
          ],
          "name": "stdout"
        }
      ]
    },
    {
      "cell_type": "markdown",
      "metadata": {
        "id": "hBhwXujp0ZUO"
      },
      "source": [
        "####Argumentos nomeados"
      ]
    },
    {
      "cell_type": "markdown",
      "metadata": {
        "id": "7GiO3cVk1Eby"
      },
      "source": [
        "Argumento nomeado (_kyword argument_), é um par nome-valor pasado para a função. Neste caso associamos esplicitamente o parâmentro ao argumento, de modo que não haja nenhuma confunsão na passagem do argumento, como por exemplo:\n",
        "\n",
        "Escrever :\n",
        "\n",
        "`animal('Arnaldo', 'coelho')`\n",
        "\n",
        "quando os parâmetros exigem que primeiro seja passado o tipo de animal e depois o nome, e não o contrário.\n",
        "\n",
        "\n",
        "`def animal(tipo_animal, nome_pet)`\n",
        "\n"
      ]
    },
    {
      "cell_type": "markdown",
      "metadata": {
        "id": "k2HjSYhR2v_B"
      },
      "source": [
        "\n",
        "\n"
      ]
    },
    {
      "cell_type": "code",
      "metadata": {
        "colab": {
          "base_uri": "https://localhost:8080/"
        },
        "id": "YMgRfUeC21ZA",
        "outputId": "46404619-0b00-41b7-857e-633578622d8e"
      },
      "source": [
        "def animal(tipo_animal, nome_pet):\n",
        "  '''Exibe informações sobre um animal de estimação.'''\n",
        "  print('\\nEu tenho um ' + tipo_animal + '.')\n",
        "  print('Seu nome é ' + nome_pet.title() + '.')\n",
        "\n",
        "animal(tipo_animal='coelho', nome_pet='arnaldo')"
      ],
      "execution_count": null,
      "outputs": [
        {
          "output_type": "stream",
          "text": [
            "\n",
            "Eu tenho um coelho.\n",
            "Seu nome é Arnaldo.\n"
          ],
          "name": "stdout"
        }
      ]
    },
    {
      "cell_type": "code",
      "metadata": {
        "colab": {
          "base_uri": "https://localhost:8080/"
        },
        "id": "tXRjt_qO3ceG",
        "outputId": "d4923115-2594-45f4-bb4d-87c0da505ca3"
      },
      "source": [
        "animal(nome_pet='arnaldo', tipo_animal='coelho')"
      ],
      "execution_count": null,
      "outputs": [
        {
          "output_type": "stream",
          "text": [
            "\n",
            "Eu tenho um coelho.\n",
            "Seu nome é Arnaldo.\n"
          ],
          "name": "stdout"
        }
      ]
    },
    {
      "cell_type": "markdown",
      "metadata": {
        "id": "LxfA128X3mvJ"
      },
      "source": [
        "Note que neste caso tanto faz a ordem em que os argumentos são passados, já que deixamos esplicito a quais parâmetros eles pertencem.\n",
        "\n",
        "Quanto for trabalhar com argumento nomeado, lembrar de usar os nomes exatos dos\n",
        "parâmetros usados na definição da função."
      ]
    },
    {
      "cell_type": "markdown",
      "metadata": {
        "id": "1ZsBft454JGF"
      },
      "source": [
        "####Valores default"
      ]
    },
    {
      "cell_type": "markdown",
      "metadata": {
        "id": "R_vIo7On9Td3"
      },
      "source": [
        "No caso abaixo, estabelecemos um valor padrão (_default_) para o parâmetro `tipo_animal`. Deste modo, se nenhum tipo de animal for estabelecido, o argumento será usado."
      ]
    },
    {
      "cell_type": "code",
      "metadata": {
        "colab": {
          "base_uri": "https://localhost:8080/"
        },
        "id": "IPG1VSEe7cqh",
        "outputId": "fbc556d1-b273-4fdc-b31a-99bccea800d5"
      },
      "source": [
        "def animal(nome_pet, tipo_animal = 'cachorro'):\n",
        "  '''Exibe informações sobre um animal de estimação.'''\n",
        "  print('\\nEu tenho um ' + tipo_animal + '.')\n",
        "  print('Seu nome é ' + nome_pet.title() + '.')\n",
        "\n",
        "animal(nome_pet='arnaldo')"
      ],
      "execution_count": null,
      "outputs": [
        {
          "output_type": "stream",
          "text": [
            "\n",
            "Eu tenho um cachorro.\n",
            "Seu nome é Arnaldo.\n"
          ],
          "name": "stdout"
        }
      ]
    },
    {
      "cell_type": "markdown",
      "metadata": {
        "id": "Ax0H6mgb9-KZ"
      },
      "source": [
        "Observe também que foi mudada a ordem em que os parâmetros são escritos na função. Primeiro se está pedindo o `nome_pet`.\n",
        "No momento que chamamos a função, o Python por padrão interpreta o argumento como argumento posicional, desta forma, não precisamos ficar especificando os parâmetros, e já que `nome_pet` é o primeiro parâmetro, veja como funciona ao passarmos o argumento _'arnaldo'_ sem especificá-lo e sem especificar o `tipo_animal`:"
      ]
    },
    {
      "cell_type": "code",
      "metadata": {
        "colab": {
          "base_uri": "https://localhost:8080/"
        },
        "id": "Cod9Ay41--44",
        "outputId": "3b149f80-89c8-4a5c-97e5-49260fc91738"
      },
      "source": [
        "animal('arnaldo')"
      ],
      "execution_count": null,
      "outputs": [
        {
          "output_type": "stream",
          "text": [
            "\n",
            "Eu tenho um cachorro.\n",
            "Seu nome é Arnaldo.\n"
          ],
          "name": "stdout"
        }
      ]
    },
    {
      "cell_type": "markdown",
      "metadata": {
        "id": "pJgQoA0r_Bgj"
      },
      "source": [
        "####Chamadas de função equivalentes"
      ]
    },
    {
      "cell_type": "markdown",
      "metadata": {
        "id": "H352FmRJGe3C"
      },
      "source": [
        "Como os argumentos posicionais, os argumentos nomeados e os valores default podem ser usados em conjunto, e com frequência você terá várias maneiras equivalentes de chamar uma função.\n",
        "\n",
        "Oberve as chamadas abaixo:"
      ]
    },
    {
      "cell_type": "code",
      "metadata": {
        "id": "LylnvFWBGsV7"
      },
      "source": [
        "def animal(nome_pet, tipo_animal = 'cachorro'):\n",
        "  '''Exibe informações sobre um animal de estimação.'''\n",
        "  print('\\nEu tenho um ' + tipo_animal + '.')\n",
        "  print('Seu nome é ' + nome_pet.title() + '.')"
      ],
      "execution_count": null,
      "outputs": []
    },
    {
      "cell_type": "code",
      "metadata": {
        "colab": {
          "base_uri": "https://localhost:8080/"
        },
        "id": "KgdN3eXiGwbN",
        "outputId": "2bce9979-d95f-4f79-c9f7-418276e4ff5d"
      },
      "source": [
        "animal('pingo')"
      ],
      "execution_count": null,
      "outputs": [
        {
          "output_type": "stream",
          "text": [
            "\n",
            "Eu tenho um cachorro.\n",
            "Seu nome é Pingo.\n"
          ],
          "name": "stdout"
        }
      ]
    },
    {
      "cell_type": "code",
      "metadata": {
        "colab": {
          "base_uri": "https://localhost:8080/"
        },
        "id": "dieOTJ0tG6A_",
        "outputId": "efbd8bc8-cdd0-4862-aa12-fded7a8ea0e7"
      },
      "source": [
        "animal(nome_pet='pingo')"
      ],
      "execution_count": null,
      "outputs": [
        {
          "output_type": "stream",
          "text": [
            "\n",
            "Eu tenho um cachorro.\n",
            "Seu nome é Pingo.\n"
          ],
          "name": "stdout"
        }
      ]
    },
    {
      "cell_type": "code",
      "metadata": {
        "colab": {
          "base_uri": "https://localhost:8080/"
        },
        "id": "OBVNu7AVG_4_",
        "outputId": "00999e98-2036-45bb-cf0b-c6e0dde97ba2"
      },
      "source": [
        "animal(nome_pet='aroldo', tipo_animal='papagaio')"
      ],
      "execution_count": null,
      "outputs": [
        {
          "output_type": "stream",
          "text": [
            "\n",
            "Eu tenho um papagaio.\n",
            "Seu nome é Aroldo.\n"
          ],
          "name": "stdout"
        }
      ]
    },
    {
      "cell_type": "code",
      "metadata": {
        "colab": {
          "base_uri": "https://localhost:8080/"
        },
        "id": "Osuf4h0THK8C",
        "outputId": "67e8b171-6317-4ae7-d90d-6c35ad0db29d"
      },
      "source": [
        "animal(tipo_animal = 'jabuti', nome_pet='Eduardo')"
      ],
      "execution_count": null,
      "outputs": [
        {
          "output_type": "stream",
          "text": [
            "\n",
            "Eu tenho um jabuti.\n",
            "Seu nome é Eduardo.\n"
          ],
          "name": "stdout"
        }
      ]
    },
    {
      "cell_type": "code",
      "metadata": {
        "colab": {
          "base_uri": "https://localhost:8080/"
        },
        "id": "HXyHwCccHcYn",
        "outputId": "727839bc-9f1a-4aeb-f2db-43cb12daecd9"
      },
      "source": [
        "animal('Rafael', 'peixe')"
      ],
      "execution_count": null,
      "outputs": [
        {
          "output_type": "stream",
          "text": [
            "\n",
            "Eu tenho um peixe.\n",
            "Seu nome é Rafael.\n"
          ],
          "name": "stdout"
        }
      ]
    },
    {
      "cell_type": "markdown",
      "metadata": {
        "id": "q_J7bGcWHuVb"
      },
      "source": [
        "O estilo de chamada que você usar realmente não importa. Desde que suas chamadas de função gerem a saída desejada, basta usar o estilo que achar mais fácil de entender."
      ]
    },
    {
      "cell_type": "markdown",
      "metadata": {
        "id": "l_00WD2GH4aF"
      },
      "source": [
        "###Valores de retorno"
      ]
    },
    {
      "cell_type": "markdown",
      "metadata": {
        "id": "tx-djfq9Icv5"
      },
      "source": [
        "Uma função nem sempre precisa exibir sua saída diretamente. Em vez\n",
        "disso, ela pode processar alguns dados e então devolver um valor ou um\n",
        "conjunto de valores. O valor devolvido pela função é chamado de valor de\n",
        "retorno. A instrução _return_ toma um valor que está em uma função e o\n",
        "envia de volta à linha que a chamou."
      ]
    },
    {
      "cell_type": "markdown",
      "metadata": {
        "id": "Poj1kqp6GlDg"
      },
      "source": [
        "####Devolvendo um valor simples\n"
      ]
    },
    {
      "cell_type": "code",
      "metadata": {
        "colab": {
          "base_uri": "https://localhost:8080/"
        },
        "id": "sGbT6MuOGoyw",
        "outputId": "24ff6e3e-fe9c-4823-aa3f-9f83eed6ffd3"
      },
      "source": [
        "def get_nome_formatado(nome, sobrenome):\n",
        "  '''Devolve um nome completo, formatado de modo elegânte'''\n",
        "  nome_inteiro = nome + ' ' + sobrenome\n",
        "  return nome_inteiro.title()\n",
        "\n",
        "musico = get_nome_formatado('tim', 'maia')\n",
        "\n",
        "print(musico)"
      ],
      "execution_count": null,
      "outputs": [
        {
          "output_type": "stream",
          "text": [
            "Tim Maia\n"
          ],
          "name": "stdout"
        }
      ]
    },
    {
      "cell_type": "markdown",
      "metadata": {
        "id": "2uLauaDRIaYh"
      },
      "source": [
        "Quando chamamos uma função que devolve um valor, precisamos fornecer uma variável em que o valor de retorno possa ser armazenado, neste caso a variável _musico_."
      ]
    },
    {
      "cell_type": "markdown",
      "metadata": {
        "id": "C2P5VNHtIya8"
      },
      "source": [
        "####Deixando um argumento opcional"
      ]
    },
    {
      "cell_type": "markdown",
      "metadata": {
        "id": "pt7xQet3KlDf"
      },
      "source": [
        "Para termos um argumento opcional, faremos uso de valores defult.\n",
        "Neste caso, nem todas as pessoas possuem um nome do meio, por tanto, podemos deixar o nome do meio com um padrão vazio, e usar uma instrução _if_ para validar se há ou não um nome do meio. No caso, a instrução _if_ interpreta strings não vazias como verdadeiras."
      ]
    },
    {
      "cell_type": "code",
      "metadata": {
        "colab": {
          "base_uri": "https://localhost:8080/"
        },
        "id": "Al0eH3F0KSPr",
        "outputId": "76e24c30-df3b-4996-90a6-f7aa42f87605"
      },
      "source": [
        "def get_nome_formatado(nome, sobrenome, nome_do_meio = ''):\n",
        "  '''Devolve um nome completo, formatado de modo elegânte'''\n",
        "  if nome_do_meio:\n",
        "    nome_inteiro = nome +  ' ' + nome_do_meio + ' ' + sobrenome\n",
        "  else:\n",
        "    nome_inteiro = nome + ' ' + sobrenome\n",
        "  return nome_inteiro.title()\n",
        "\n",
        "musico = get_nome_formatado('tim', 'maia')\n",
        "\n",
        "print(musico)"
      ],
      "execution_count": null,
      "outputs": [
        {
          "output_type": "stream",
          "text": [
            "Tim Maia\n"
          ],
          "name": "stdout"
        }
      ]
    },
    {
      "cell_type": "code",
      "metadata": {
        "colab": {
          "base_uri": "https://localhost:8080/"
        },
        "id": "f3rPCr1rL81b",
        "outputId": "e707e1f8-080b-4e75-9192-e33adefab014"
      },
      "source": [
        "musico = get_nome_formatado('adele', 'blue', 'laurie')\n",
        "\n",
        "print(musico)"
      ],
      "execution_count": null,
      "outputs": [
        {
          "output_type": "stream",
          "text": [
            "Adele Laurie Blue\n"
          ],
          "name": "stdout"
        }
      ]
    },
    {
      "cell_type": "markdown",
      "metadata": {
        "id": "Y9XmUe5cNf3n"
      },
      "source": [
        "####Devolvendo um dicionário"
      ]
    },
    {
      "cell_type": "code",
      "metadata": {
        "colab": {
          "base_uri": "https://localhost:8080/"
        },
        "id": "gl7r2XQ0OO7u",
        "outputId": "a92efc7d-5e23-4d39-e877-08ff3c2436f4"
      },
      "source": [
        "def pessoa(nome, sobrenome):\n",
        "  '''Devolve um dicionário com informações sobre uma pessoa '''\n",
        "  alguem = {'primeiro_nome' : nome, 'ultimo_nome' : sobrenome}\n",
        "  return alguem\n",
        "\n",
        "musico = pessoa ('tim', 'maia')\n",
        "print(musico)"
      ],
      "execution_count": null,
      "outputs": [
        {
          "output_type": "stream",
          "text": [
            "{'primeiro_nome': 'tim', 'ultimo_nome': 'maia'}\n"
          ],
          "name": "stdout"
        }
      ]
    },
    {
      "cell_type": "markdown",
      "metadata": {
        "id": "Et4u8sSF4qgT"
      },
      "source": [
        "Podemos estender essa função para que aceite valores opcionais:"
      ]
    },
    {
      "cell_type": "code",
      "metadata": {
        "colab": {
          "base_uri": "https://localhost:8080/"
        },
        "id": "mC5qqajS5KUI",
        "outputId": "c2461120-b802-40f0-ea84-9e4f82918cf7"
      },
      "source": [
        "def pessoa(nome, sobrenome, idade = ''):\n",
        "  '''Devolve um dicionário com informações sobre uma pessoa '''\n",
        "  alguem = {'primeiro_nome' : nome, 'ultimo_nome' : sobrenome}\n",
        "  if idade:\n",
        "    alguem['idade'] = idade\n",
        "  return alguem\n",
        "\n",
        "musico = pessoa ('tim', 'maia')\n",
        "print(musico)"
      ],
      "execution_count": null,
      "outputs": [
        {
          "output_type": "stream",
          "text": [
            "{'primeiro_nome': 'tim', 'ultimo_nome': 'maia'}\n"
          ],
          "name": "stdout"
        }
      ]
    },
    {
      "cell_type": "code",
      "metadata": {
        "colab": {
          "base_uri": "https://localhost:8080/"
        },
        "id": "4qAn0leC5qU2",
        "outputId": "b2d9bb24-0bfb-48a7-dd9f-f75b412a7a18"
      },
      "source": [
        "musico = pessoa ('tim', 'maia', idade = 50)\n",
        "print(musico)"
      ],
      "execution_count": null,
      "outputs": [
        {
          "output_type": "stream",
          "text": [
            "{'primeiro_nome': 'tim', 'ultimo_nome': 'maia', 'idade': 50}\n"
          ],
          "name": "stdout"
        }
      ]
    },
    {
      "cell_type": "markdown",
      "metadata": {
        "id": "0Jlz8rxf50zm"
      },
      "source": [
        "####Usando uma função com um laço while"
      ]
    },
    {
      "cell_type": "code",
      "metadata": {
        "colab": {
          "base_uri": "https://localhost:8080/"
        },
        "id": "bVdEJFvZ6iNw",
        "outputId": "e1c01522-193f-4969-955d-17e009ff718a"
      },
      "source": [
        "def get_nome_formatado(nome, sobrenome):\n",
        "  '''Devolve um nome completo, formatado de modo elegânte'''\n",
        "  nome_inteiro = nome + ' ' + sobrenome\n",
        "  return nome_inteiro.title()\n",
        "\n",
        "while True:\n",
        "  print('\\nEntre com seu nome e sobrenome')\n",
        "  print('Digite \"q\" e precione enter para sair do programa.')\n",
        "\n",
        "  primeiro_nome = input('\\nDigite seu nome: ')\n",
        "  if primeiro_nome == 'q':\n",
        "    print('Programa finalizado')\n",
        "    break \n",
        "  \n",
        "  segundo_nome = input('\\nDigite seu sobrenome: ')\n",
        "  if  segundo_nome == 'q' :\n",
        "    print('Programa finalizado')\n",
        "    break\n",
        "\n",
        "\n",
        "  nome_formatado = get_nome_formatado( primeiro_nome, segundo_nome )\n",
        "  print('\\n\\n*** Olá ' + nome_formatado + ', seja bem-vindo(a)! ***')"
      ],
      "execution_count": null,
      "outputs": [
        {
          "output_type": "stream",
          "text": [
            "\n",
            "Entre com seu nome e sobrenome\n",
            "Digite \"q\" e precione enter para sair do programa.\n",
            "\n",
            "Digite seu nome: ana\n",
            "\n",
            "Digite seu sobrenome: paula\n",
            "\n",
            "\n",
            "*** Olá Ana Paula, seja bem-vindo(a)! ***\n",
            "\n",
            "Entre com seu nome e sobrenome\n",
            "Digite \"q\" e precione enter para sair do programa.\n",
            "\n",
            "Digite seu nome: carlos\n",
            "\n",
            "Digite seu sobrenome: manuel\n",
            "\n",
            "\n",
            "*** Olá Carlos Manuel, seja bem-vindo(a)! ***\n",
            "\n",
            "Entre com seu nome e sobrenome\n",
            "Digite \"q\" e precione enter para sair do programa.\n",
            "\n",
            "Digite seu nome: q\n",
            "Programa finalizado\n"
          ],
          "name": "stdout"
        }
      ]
    },
    {
      "cell_type": "markdown",
      "metadata": {
        "id": "ixx6MWp89RCM"
      },
      "source": [
        "###8.6Exercício"
      ]
    },
    {
      "cell_type": "code",
      "metadata": {
        "colab": {
          "base_uri": "https://localhost:8080/"
        },
        "id": "30wGc_Ajvzl5",
        "outputId": "2b1c9ae9-7112-4f58-be50-cbd020f7a32d"
      },
      "source": [
        "def get_cidade_pais(cidade, pais):\n",
        "  '''Retorna o nome da cidade e o nome do pais bem formatados '''\n",
        "  nome = ('\"'+cidade.title() + ', ' + pais.title() + '\"' )\n",
        "  return nome\n",
        "\n",
        "cidade_pais = get_cidade_pais('brasilia', 'brasil')\n",
        "print(cidade_pais)"
      ],
      "execution_count": null,
      "outputs": [
        {
          "output_type": "stream",
          "text": [
            "\"São Paulo, Brasil\"\n"
          ],
          "name": "stdout"
        }
      ]
    },
    {
      "cell_type": "code",
      "metadata": {
        "colab": {
          "base_uri": "https://localhost:8080/"
        },
        "id": "mBvHkuNExhFs",
        "outputId": "dd4cd2c3-9b02-466f-90b8-436fbff80ddd"
      },
      "source": [
        "cidade_pais = get_cidade_pais('satiago', 'cheile')\n",
        "print(cidade_pais)"
      ],
      "execution_count": null,
      "outputs": [
        {
          "output_type": "stream",
          "text": [
            "\"Satiago, Cheile\"\n"
          ],
          "name": "stdout"
        }
      ]
    },
    {
      "cell_type": "code",
      "metadata": {
        "colab": {
          "base_uri": "https://localhost:8080/"
        },
        "id": "6rUOKycdxtKh",
        "outputId": "da664f83-e697-41d0-d771-73fff6a8a7a5"
      },
      "source": [
        "cidade_pais = get_cidade_pais('londres', 'reino unido')\n",
        "print(cidade_pais)"
      ],
      "execution_count": null,
      "outputs": [
        {
          "output_type": "stream",
          "text": [
            "\"Londres, Reino Unido\"\n"
          ],
          "name": "stdout"
        }
      ]
    },
    {
      "cell_type": "markdown",
      "metadata": {
        "id": "eVauCxLUxye9"
      },
      "source": [
        "###8.7Exercício"
      ]
    },
    {
      "cell_type": "code",
      "metadata": {
        "id": "fISCmRiEx4WA"
      },
      "source": [
        "def fazer_album (artista, titulo_album, num_copias = ''):\n",
        "  '''Constroi um dicionário de albuns'''\n",
        "  album = {'nome_artista' : artista, 'album' : titulo_album}\n",
        "\n",
        "  if(num_copias):\n",
        "    album['numero_copias'] = num_copias\n",
        "  \n",
        "  return album"
      ],
      "execution_count": null,
      "outputs": []
    },
    {
      "cell_type": "code",
      "metadata": {
        "id": "Y7N7cN_a1o9z"
      },
      "source": [
        "album_um = fazer_album('Michael Jackson', 'Thriller', '47.3')\n",
        "\n",
        "album_dois = fazer_album('AC/DC', 'Back in Black')\n",
        "\n",
        "album_tres = fazer_album('Pink Floyd', 'The Dark Side of the Moon', '24.2') "
      ],
      "execution_count": null,
      "outputs": []
    },
    {
      "cell_type": "code",
      "metadata": {
        "colab": {
          "base_uri": "https://localhost:8080/"
        },
        "id": "B7vfqjg82xAF",
        "outputId": "eea342d2-2f29-4ad2-d358-e8cf0ea90009"
      },
      "source": [
        "print(album_um)"
      ],
      "execution_count": null,
      "outputs": [
        {
          "output_type": "stream",
          "text": [
            "{'nome_artista': 'Michael Jackson', 'album': 'Thriller', 'numero_copias': '47.3'}\n"
          ],
          "name": "stdout"
        }
      ]
    },
    {
      "cell_type": "code",
      "metadata": {
        "colab": {
          "base_uri": "https://localhost:8080/"
        },
        "id": "WYQXPog525VY",
        "outputId": "1efac2fb-6b6f-421e-9630-c7b0827c2a19"
      },
      "source": [
        "print(album_dois)"
      ],
      "execution_count": null,
      "outputs": [
        {
          "output_type": "stream",
          "text": [
            "{'nome_artista': 'AC/DC', 'album': 'Back in Black'}\n"
          ],
          "name": "stdout"
        }
      ]
    },
    {
      "cell_type": "code",
      "metadata": {
        "colab": {
          "base_uri": "https://localhost:8080/"
        },
        "id": "5U_3bNgN3B9x",
        "outputId": "7bf7feb2-071f-442c-c939-5578f11bb454"
      },
      "source": [
        "print(album_tres)"
      ],
      "execution_count": null,
      "outputs": [
        {
          "output_type": "stream",
          "text": [
            "{'nome_artista': 'Pink Floyd', 'album': 'The Dark Side of the Moon', 'numero_copias': '24.2'}\n"
          ],
          "name": "stdout"
        }
      ]
    },
    {
      "cell_type": "markdown",
      "metadata": {
        "id": "-huqnIJC3Hmt"
      },
      "source": [
        "###8.8Exercicio"
      ]
    },
    {
      "cell_type": "code",
      "metadata": {
        "colab": {
          "base_uri": "https://localhost:8080/"
        },
        "id": "w_eHbnSK4Pzp",
        "outputId": "baa82a41-6d9a-4201-f800-bfda6e4b2a65"
      },
      "source": [
        "def fazer_album (artista, titulo_album, num_copias = ''):\n",
        "  '''Constroi um dicionário'''\n",
        "  album = {'nome_artista' : artista, 'album' : titulo_album}\n",
        "\n",
        "  if(num_copias):\n",
        "    album['numero_copias'] = num_copias\n",
        "  \n",
        "  return album\n",
        "\n",
        "\n",
        "while True:\n",
        "  print('\\nDigite o nome do artista, seu album e opcionalmente o número de cópias vendidas do album, para confirmar precione Enter.')\n",
        "  print('Digite \"q\" e precione enter para sair do programa.')\n",
        "\n",
        "  nome_artista = input('\\nNome do artista: ')\n",
        "  if nome_artista == 'q':\n",
        "    print('Progrma finalizado!')\n",
        "    break\n",
        "\n",
        "  album = input('Digite o  título do album: ')\n",
        "  if album == 'q':\n",
        "    print('Progrma finalizado!')\n",
        "    break\n",
        "\n",
        "  numero_copias = input('Digite o número de cópia, ou apenas dê enter para ignorar essa informação: ')\n",
        "  if numero_copias == 'q':\n",
        "    print('Progrma finalizado!')\n",
        "    break\n",
        "\n",
        "  album_mais_vendido = fazer_album(nome_artista, album, numero_copias)\n",
        "  \n",
        "  if numero_copias:\n",
        "    print('\\n********')\n",
        "    print('O album ' + album_mais_vendido['album'].title() + ' de ' + album_mais_vendido['nome_artista'].title() + ' vendeu certa de ' + album_mais_vendido['numero_copias'] + ' milhões de cópias !' )\n",
        "    print('********')\n",
        "  else:\n",
        "    print('\\n********')\n",
        "    print('O album ' + album_mais_vendido['album'].title() + ' de ' + album_mais_vendido['nome_artista'].title() + ' vendeu muitas cópias!')\n",
        "    print('********')\n"
      ],
      "execution_count": null,
      "outputs": [
        {
          "output_type": "stream",
          "text": [
            "\n",
            "Digite o nome do artista, seu album e opcionalmente o número de cópias vendidas do album, para confirmar precione Enter.\n",
            "Digite \"q\" e precione enter para sair do programa.\n",
            "\n",
            "Nome do artista: a\n",
            "Digite o  título do album: b\n",
            "Digite o número de cópia, ou apenas dê enter para ignorar essa informação: \n",
            "\n",
            "********\n",
            "O album B de A vendeu muitas cópias!\n",
            "********\n",
            "\n",
            "Digite o nome do artista, seu album e opcionalmente o número de cópias vendidas do album, para confirmar precione Enter.\n",
            "Digite \"q\" e precione enter para sair do programa.\n",
            "\n",
            "Nome do artista: a\n",
            "Digite o  título do album: b\n",
            "Digite o número de cópia, ou apenas dê enter para ignorar essa informação: 11\n",
            "\n",
            "********\n",
            "O album B de A vendeu certa de 11 milhões de cópias !\n",
            "********\n",
            "\n",
            "Digite o nome do artista, seu album e opcionalmente o número de cópias vendidas do album, para confirmar precione Enter.\n",
            "Digite \"q\" e precione enter para sair do programa.\n",
            "\n",
            "Nome do artista: q\n",
            "Progrma finalizado!\n"
          ],
          "name": "stdout"
        }
      ]
    },
    {
      "cell_type": "markdown",
      "metadata": {
        "id": "1bddZKDz85QA"
      },
      "source": [
        "###Passando uma lista para uma função"
      ]
    },
    {
      "cell_type": "code",
      "metadata": {
        "colab": {
          "base_uri": "https://localhost:8080/"
        },
        "id": "IaKbrcrtMcpK",
        "outputId": "8058d08c-4510-45bd-8b9f-1dbd7e13907e"
      },
      "source": [
        "def saudar_usuario(nomes):\n",
        "  '''Exibe uma saudação simples para o usuário'''\n",
        "  for i in nomes :\n",
        "    msg = 'Olá ' + i.title() + ', seja bem-vindo!'\n",
        "    print(msg)\n",
        "\n",
        "nomes_usuarios = ['ana', 'rafael', 'carla']\n",
        "saudar_usuario(nomes_usuarios)"
      ],
      "execution_count": null,
      "outputs": [
        {
          "output_type": "stream",
          "text": [
            "Olá Ana, seja bem-vindo!\n",
            "Olá Rafael, seja bem-vindo!\n",
            "Olá Carla, seja bem-vindo!\n"
          ],
          "name": "stdout"
        }
      ]
    },
    {
      "cell_type": "markdown",
      "metadata": {
        "id": "RCH_XPN6NzFl"
      },
      "source": [
        "###Modificando uma lista em uma função"
      ]
    },
    {
      "cell_type": "markdown",
      "metadata": {
        "id": "I9CEZf2AsqM9"
      },
      "source": [
        "Veja o código abaixo:"
      ]
    },
    {
      "cell_type": "code",
      "metadata": {
        "colab": {
          "base_uri": "https://localhost:8080/"
        },
        "id": "3cZBh4e3dc6l",
        "outputId": "81abeed8-d572-4c37-f975-741dd0916c54"
      },
      "source": [
        "#começa com alguns projetos que devem ser impressos na impressora 3D\n",
        "projetos_nao_impressos = ['capa de iphone', 'braço robótico', 'dodecaedro' ]\n",
        "projetos_impressos = []\n",
        "\n",
        "#simula a impressão de cada projeto até que não haja mais nenhum\n",
        "while projetos_nao_impressos :\n",
        "  projeto_atual = projetos_nao_impressos.pop()\n",
        "\n",
        "  #simula a criação de uma impressão 3D a partir do projeto_atual, e depois transfere\n",
        "  #cada projeto conscluído para projetos_impressos.\n",
        "  print('Imprimindo modelo: ' + projeto_atual)\n",
        "  projetos_impressos.append(projeto_atual)\n",
        "\n",
        "#Exibe todos os modelos finalizados\n",
        "print('\\nOs seguintes projetos foram impressos: ')\n",
        "for i in projetos_impressos :\n",
        "  print(i)\n",
        "\n"
      ],
      "execution_count": null,
      "outputs": [
        {
          "output_type": "stream",
          "text": [
            "Imprimindo modelo: dodecaedro\n",
            "Imprimindo modelo: braço robótico\n",
            "Imprimindo modelo: capa de iphone\n",
            "\n",
            "Os seguintes projetos foram impressos: \n",
            "dodecaedro\n",
            "braço robótico\n",
            "capa de iphone\n"
          ],
          "name": "stdout"
        }
      ]
    },
    {
      "cell_type": "markdown",
      "metadata": {
        "id": "-WnbCtfMsuov"
      },
      "source": [
        "Podemos reorganiza-lo usando duas funções: uma responsável por imprimir e outra reponsável por gerar um resumo das impressões."
      ]
    },
    {
      "cell_type": "code",
      "metadata": {
        "colab": {
          "base_uri": "https://localhost:8080/"
        },
        "id": "eENi9BELtJvN",
        "outputId": "15e5296c-9144-42b1-e6bf-2c1f5e1c45bb"
      },
      "source": [
        "def imprimir_projeto(nao_impressos, impressos):\n",
        "  '''\n",
        "  Simula a impressão de cada projeto dentro da lista, nao_impresso até que não \n",
        "  haja mais nenhum.\n",
        "  Transfere cada projeto impresso para lista impressos.\n",
        "  '''\n",
        "  \n",
        "  while nao_impressos :\n",
        "    projeto_atual = nao_impressos.pop()\n",
        "    print('Imprimindo modelo: ' + projeto_atual)\n",
        "    impressos.append(projeto_atual)\n",
        "    \n",
        "\n",
        "def mostrar_prjetos_impressos(projetos_impressos):\n",
        "  '''Mostra os prjetos impressos '''\n",
        "  print('\\nOs seguintes projetos foram impressos: ')\n",
        "  for i in projetos_impressos :\n",
        "    print(i)\n",
        "\n",
        "#--------------------------------------------------------------\n",
        "\n",
        "projetos_nao_impressos = ['capa de iphone', 'braço robótico', 'dodecaedro' ]\n",
        "modelos_impressos = []\n",
        "\n",
        "imprimir_projeto(projetos_nao_impressos, modelos_impressos)\n",
        "\n",
        "mostrar_prjetos_impressos(modelos_impressos)\n",
        "\n",
        "\n",
        "\n",
        "\n",
        "\n"
      ],
      "execution_count": null,
      "outputs": [
        {
          "output_type": "stream",
          "text": [
            "Imprimindo modelo: dodecaedro\n",
            "Imprimindo modelo: braço robótico\n",
            "Imprimindo modelo: capa de iphone\n",
            "\n",
            "Os seguintes projetos foram impressos: \n",
            "dodecaedro\n",
            "braço robótico\n",
            "capa de iphone\n"
          ],
          "name": "stdout"
        }
      ]
    },
    {
      "cell_type": "markdown",
      "metadata": {
        "id": "MExA7QsIr0Ya"
      },
      "source": [
        "###Evitando que uma função modifique uma lista"
      ]
    },
    {
      "cell_type": "markdown",
      "metadata": {
        "id": "ioCAOMitz0Y2"
      },
      "source": [
        "Às vezes, você vai querer evitar que uma função modifique uma lista.\n",
        "\n",
        "O segredo é passar uma cópia da lista para a função, e não a própria lista. Deste modo, usando o exeplo acima, chamariamos a função `imprimir_projeto()` da seguinte forma: "
      ]
    },
    {
      "cell_type": "code",
      "metadata": {
        "id": "gotxICIz0bth"
      },
      "source": [
        "imprimir_projeto(projetos_nao_impressos[:], modelos_impressos)"
      ],
      "execution_count": null,
      "outputs": []
    },
    {
      "cell_type": "markdown",
      "metadata": {
        "id": "Vxcreoqd0jNK"
      },
      "source": [
        "A notação de fatia [:] cria um cópia da lista. E essa cópia que será modificada.\n",
        "\n",
        "Mas, apesar de poder preservar o conteúdo de uma lista passando uma cópia\n",
        "dela para suas funções, você deve passar a lista original para as funções, a\n",
        "menos que tenha um motivo específico para passar uma cópia. Para uma\n",
        "função, é mais eficiente trabalhar com uma lista existente a fim de evitar o\n",
        "uso de tempo e de memória necessários para criar uma cópia separada, em\n",
        "especial quando trabalhamos com listas grandes."
      ]
    },
    {
      "cell_type": "markdown",
      "metadata": {
        "id": "GQRO3zv208yF"
      },
      "source": [
        "###8.9Exercicio"
      ]
    },
    {
      "cell_type": "code",
      "metadata": {
        "id": "sjm8yMX8CWs2",
        "colab": {
          "base_uri": "https://localhost:8080/"
        },
        "outputId": "21af7626-c37f-4873-b917-583ea9749c5c"
      },
      "source": [
        "def mostrar_magicos (magicos):\n",
        "  while magicos:\n",
        "    lista = magicos.pop()\n",
        "    print(lista)\n",
        "\n",
        "#-------------------------\n",
        "\n",
        "lista_magicos = ['Harry Houdini', 'Fu-Manchu', 'Richiardi Jr',  'David Copperfield', 'Criss Angel', 'Ines La Maga']\n",
        "\n",
        "mostrar_magicos(lista_magicos)\n"
      ],
      "execution_count": null,
      "outputs": [
        {
          "output_type": "stream",
          "text": [
            "Ines La Maga\n",
            "Criss Angel\n",
            "David Copperfield\n",
            "Richiardi Jr\n",
            "Fu-Manchu\n",
            "Harry Houdini\n"
          ],
          "name": "stdout"
        }
      ]
    },
    {
      "cell_type": "markdown",
      "metadata": {
        "id": "vmxgk_BXtg5H"
      },
      "source": [
        "###8.10Exercicio"
      ]
    },
    {
      "cell_type": "code",
      "metadata": {
        "id": "QjlPUwuku7hZ"
      },
      "source": [
        "def tornar_grande (magicos, lista_mod):\n",
        "  while magicos:\n",
        "    lista = 'Grande ' + magicos.pop() + '!'\n",
        "    lista_mod.append(lista)\n",
        "    \n",
        "\n",
        "def mostrar_magicos (magicos):\n",
        "  while magicos:\n",
        "    lista = magicos.pop()\n",
        "    print(lista)\n",
        "\n",
        "#-------------------------\n",
        "\n",
        "lista_magicos = ['Harry Houdini', 'Fu-Manchu', 'Richiardi Jr',  'David Copperfield', 'Criss Angel', 'Ines La Maga']\n",
        "lista_mod = []\n",
        "\n",
        "tornar_grande(lista_magicos, lista_mod)"
      ],
      "execution_count": null,
      "outputs": []
    },
    {
      "cell_type": "code",
      "metadata": {
        "colab": {
          "base_uri": "https://localhost:8080/"
        },
        "id": "7hW9kgWOADdL",
        "outputId": "832b29eb-8560-4621-9367-ee8c68d45402"
      },
      "source": [
        "mostrar_magicos(lista_mod)"
      ],
      "execution_count": null,
      "outputs": [
        {
          "output_type": "stream",
          "text": [
            "Grande Harry Houdini!\n",
            "Grande Fu-Manchu!\n",
            "Grande Richiardi Jr!\n",
            "Grande David Copperfield!\n",
            "Grande Criss Angel!\n",
            "Grande Ines La Maga!\n"
          ],
          "name": "stdout"
        }
      ]
    },
    {
      "cell_type": "code",
      "metadata": {
        "id": "Eo70KUy4AE8z"
      },
      "source": [
        "mostrar_magicos(lista_magicos) \n",
        "#Neste caso nada é exibido, por que dentro da função tornar_grande()\n",
        "#a lista lista_magicos, foi modificada, cada nome foi retirada dela\n",
        "#na linha 3 e acrescentados à lista lista_mod.\n",
        "#Então, a lista_magicos está vazia."
      ],
      "execution_count": null,
      "outputs": []
    },
    {
      "cell_type": "markdown",
      "metadata": {
        "id": "f6YQiQexxSbe"
      },
      "source": [
        "###8.11Exercicio"
      ]
    },
    {
      "cell_type": "code",
      "metadata": {
        "id": "z0iJvJ_Y_gUD"
      },
      "source": [
        "def tornar_grande (magicos, lista_mod):\n",
        "  while magicos:\n",
        "    lista = 'Grande ' + magicos.pop() + '!'\n",
        "    lista_mod.append(lista)\n",
        "    \n",
        "\n",
        "def mostrar_magicos (magicos):\n",
        "  while magicos:\n",
        "    lista = magicos.pop()\n",
        "    print(lista)\n",
        "\n",
        "#-------------------------\n",
        "\n",
        "lista_magicos = ['Harry Houdini', 'Fu-Manchu', 'Richiardi Jr',  'David Copperfield', 'Criss Angel', 'Ines La Maga']\n",
        "lista_mod = []\n",
        "\n",
        "tornar_grande(lista_magicos[:], lista_mod)"
      ],
      "execution_count": null,
      "outputs": []
    },
    {
      "cell_type": "code",
      "metadata": {
        "colab": {
          "base_uri": "https://localhost:8080/"
        },
        "id": "OTxMfaEo_0V5",
        "outputId": "2be3ab7c-b062-4d4e-be75-ce4d6a990837"
      },
      "source": [
        "mostrar_magicos(lista_mod)"
      ],
      "execution_count": null,
      "outputs": [
        {
          "output_type": "stream",
          "text": [
            "Grande Harry Houdini!\n",
            "Grande Fu-Manchu!\n",
            "Grande Richiardi Jr!\n",
            "Grande David Copperfield!\n",
            "Grande Criss Angel!\n",
            "Grande Ines La Maga!\n"
          ],
          "name": "stdout"
        }
      ]
    },
    {
      "cell_type": "code",
      "metadata": {
        "colab": {
          "base_uri": "https://localhost:8080/"
        },
        "id": "bZqJ4O6g_1bl",
        "outputId": "c403f1c9-85bd-4a4b-de55-e427af55ad3b"
      },
      "source": [
        "mostrar_magicos(lista_magicos)"
      ],
      "execution_count": null,
      "outputs": [
        {
          "output_type": "stream",
          "text": [
            "Ines La Maga\n",
            "Criss Angel\n",
            "David Copperfield\n",
            "Richiardi Jr\n",
            "Fu-Manchu\n",
            "Harry Houdini\n"
          ],
          "name": "stdout"
        }
      ]
    },
    {
      "cell_type": "markdown",
      "metadata": {
        "id": "I3IvwW5B_4hl"
      },
      "source": [
        "###Passando um número arbitrário de argumentos"
      ]
    },
    {
      "cell_type": "code",
      "metadata": {
        "colab": {
          "base_uri": "https://localhost:8080/"
        },
        "id": "ysrA7kmIBLF3",
        "outputId": "aff921cc-3c22-4997-e628-3d2836a2b090"
      },
      "source": [
        "def fazer_pizza(*coberturas):\n",
        "  '''Mostra as pizzas com as seguintes coberturas'''\n",
        "  print('\\nFazendo pizza(s) com a(s) coberturas(s): ')\n",
        "  for i in coberturas:\n",
        "    print('\\n- ' + i)\n",
        "\n",
        "#-----------------------------------\n",
        "\n",
        "fazer_pizza('peperoni')\n",
        "fazer_pizza('calabresa', 'mussarela', 'frango', 'quatro queijos')\n"
      ],
      "execution_count": null,
      "outputs": [
        {
          "output_type": "stream",
          "text": [
            "\n",
            "Fazendo pizza(s) com a(s) coberturas(s): \n",
            "\n",
            "- peperoni\n",
            "\n",
            "Fazendo pizza(s) com a(s) coberturas(s): \n",
            "\n",
            "- calabresa\n",
            "\n",
            "- mussarela\n",
            "\n",
            "- frango\n",
            "\n",
            "- quatro queijos\n"
          ],
          "name": "stdout"
        }
      ]
    },
    {
      "cell_type": "markdown",
      "metadata": {
        "id": "M7WPR1sYCero"
      },
      "source": [
        "O asterisco no nome do parâmetro *cobertura diz ao Paython pra criar uma tupla vazia chamada cobertura e reunir os valores recebidos nessa tupla.\n",
        "Tanto faz se em uma primeira chamada passamos apenas um argumento e em uma próxima passamos quatro argumentos. Python cria a tupla com a quantridade de argumentos passados."
      ]
    },
    {
      "cell_type": "markdown",
      "metadata": {
        "id": "5agK5g8-DaXF"
      },
      "source": [
        "###Misturando argumentos posicionais e arbitrários"
      ]
    },
    {
      "cell_type": "markdown",
      "metadata": {
        "id": "al-cWdOCE0mc"
      },
      "source": [
        "Se quiser que uma função aceite vários tipos de argumentos, o parâmetro que aceita um número arbitrário de argumentos deve ser colocado por último na definição da função. Python faz a correspondência de argumentos posicionais e nomeados antes, e depois agrupa qualquer argumento remanescente no último parâmetro."
      ]
    },
    {
      "cell_type": "code",
      "metadata": {
        "colab": {
          "base_uri": "https://localhost:8080/"
        },
        "id": "i6TGAKoODgjU",
        "outputId": "d66a226c-2244-482d-d56c-995c4b90bbfe"
      },
      "source": [
        "def fazer_pizza(tamanho, *coberturas):\n",
        "  '''Mostra as pizzas com as seguintes coberturas'''\n",
        "  print('\\nFazendo pizza(s) com tamanho ' + tamanho + \n",
        "        ' com a(s) coberturas(s): ')\n",
        "  for i in coberturas:\n",
        "    print('\\n- ' + i)\n",
        "\n",
        "#-----------------------------------\n",
        "\n",
        "fazer_pizza('broto', 'peperoni')\n",
        "fazer_pizza('padrão','calabresa', 'mussarela', 'frango', 'quatro queijos')"
      ],
      "execution_count": null,
      "outputs": [
        {
          "output_type": "stream",
          "text": [
            "\n",
            "Fazendo pizza(s) com tamanho broto com a(s) coberturas(s): \n",
            "\n",
            "- peperoni\n",
            "\n",
            "Fazendo pizza(s) com tamanho padrão com a(s) coberturas(s): \n",
            "\n",
            "- calabresa\n",
            "\n",
            "- mussarela\n",
            "\n",
            "- frango\n",
            "\n",
            "- quatro queijos\n"
          ],
          "name": "stdout"
        }
      ]
    },
    {
      "cell_type": "markdown",
      "metadata": {
        "id": "r0Gyy94qD1mB"
      },
      "source": [
        "Na definição da função, Python armazena o primeiro valor recebido no\n",
        "parâmetro tamanho. Todos os demais valores que vierem depois são\n",
        "armazenados na tupla coberturas."
      ]
    },
    {
      "cell_type": "markdown",
      "metadata": {
        "id": "eSgsjgdsFD7Q"
      },
      "source": [
        "###Usando argumentos nomeados arbitrários"
      ]
    },
    {
      "cell_type": "code",
      "metadata": {
        "id": "h6MNMVjPFlbY",
        "colab": {
          "base_uri": "https://localhost:8080/"
        },
        "outputId": "c79b39b3-c38b-4e1d-be48-32378c4bb4e2"
      },
      "source": [
        "def criar_perfil(primeiro_nome, ultimo_nome, **info_usuario):\n",
        "  '''Constroi um dicionário contendo tudo que sabemos sobre um usuário'''\n",
        "  perfil = {}\n",
        "  perfil['nome'] = primeiro_nome\n",
        "  perfil['sobrenome'] = ultimo_nome\n",
        "  for k, v in info_usuario.items():\n",
        "    perfil[k] = v\n",
        "  return perfil\n",
        "\n",
        "perfil_usuario = criar_perfil('albert', 'einstein', \n",
        "                              residencia = 'princeton', area = 'física')\n",
        "\n",
        "print(perfil_usuario)\n",
        "\n",
        "\n"
      ],
      "execution_count": null,
      "outputs": [
        {
          "output_type": "stream",
          "text": [
            "{'nome': 'albert', 'sobrenome': 'einstein', 'residencia': 'princeton', 'area': 'física'}\n"
          ],
          "name": "stdout"
        }
      ]
    },
    {
      "cell_type": "markdown",
      "metadata": {
        "id": "eZsEuBtWml2r"
      },
      "source": [
        "Às vezes, você vai querer aceitar um número arbitrário de argumentos, mas não saberá com antecedência qual tipo de informação será passado para a função.\n",
        "\n",
        "\n",
        "No caso acima, criamos um dicionário _perfil_, vazio. A ele acrescentamos as seguintes chaves-valores:\n",
        "\n",
        "chave (key [k]) | valor (value[v])\n",
        "---|---\n",
        "nome | primeiro_nome\n",
        "sobrenome | ultimo_nome\n",
        "\n",
        "\n",
        "E o parâmetro _**info_usuario_ permite passar outros conjutos de argumentos chaves-valores que não foram especificados no escopo da função, ou seja, é possível passar argumentos arbitrários (isto é , de qualquer tipo, para qualquer necessidade a mais) para esse parâmetro.\n",
        "\n",
        "chave (key [k]) | valor (value[v])\n",
        "---|---\n",
        "k (arbitrário) | v (arbitrário)\n",
        "\n",
        "Neste caso, os argumentos arbitrários que foram passados para esse parâmetro foram:\n",
        "\n",
        "chave (key [k]) | valor (value[v])\n",
        "---|---\n",
        "residencia | princeton\n",
        "area | fisica\n",
        "\n"
      ]
    },
    {
      "cell_type": "markdown",
      "metadata": {
        "id": "B-v9ETFK80zS"
      },
      "source": [
        "###8.12Exercício"
      ]
    },
    {
      "cell_type": "code",
      "metadata": {
        "id": "ZGark-JZ-ZEa"
      },
      "source": [
        "def fazer_sanduba (*sanduba):\n",
        "  '''Esta função faz sandubas , de acordo com o pedido do usuário)'''\n",
        "  for i in sanduba:\n",
        "    print('\\n' + i)\n"
      ],
      "execution_count": null,
      "outputs": []
    },
    {
      "cell_type": "code",
      "metadata": {
        "colab": {
          "base_uri": "https://localhost:8080/"
        },
        "id": "vMVJ6e0uALRm",
        "outputId": "aa3afaea-6c07-4602-836c-451fe3fbf887"
      },
      "source": [
        "fazer_sanduba('Sanduíche de linguiça', 'Sanduíche de presunto parma', 'Sanduíche com pate de salame')"
      ],
      "execution_count": null,
      "outputs": [
        {
          "output_type": "stream",
          "text": [
            "\n",
            "Sanduíche de linguiça\n",
            "\n",
            "Sanduíche de presunto parma\n",
            "\n",
            "Sanduíche com pate de salame\n"
          ],
          "name": "stdout"
        }
      ]
    },
    {
      "cell_type": "code",
      "metadata": {
        "colab": {
          "base_uri": "https://localhost:8080/"
        },
        "id": "vgpccM86AdnO",
        "outputId": "c4b7e7ce-7a03-4335-d702-36535dc8dab4"
      },
      "source": [
        "fazer_sanduba('Sanduíche de presunto', 'Sanduíche aberto de linguiça', 'Sanduíche de queijo e ovo'  )"
      ],
      "execution_count": null,
      "outputs": [
        {
          "output_type": "stream",
          "text": [
            "\n",
            "Sanduíche de presunto\n",
            "\n",
            "Sanduíche aberto de linguiça\n",
            "\n",
            "Sanduíche de queijo e ovo\n"
          ],
          "name": "stdout"
        }
      ]
    },
    {
      "cell_type": "markdown",
      "metadata": {
        "id": "WMKIFz_TApR0"
      },
      "source": [
        "###8.13Exercício"
      ]
    },
    {
      "cell_type": "code",
      "metadata": {
        "id": "bpZXKGm9AynP"
      },
      "source": [
        "def criar_perfil(nome, sobrenome, idade, etnia):\n",
        "  '''Cria um perfil de usuário'''\n",
        "  perfil = {}\n",
        "  perfil['nome'] = nome\n",
        "  perfil['sobrenome'] = sobrenome\n",
        "  perfil['idade'] = idade\n",
        "  perfil['etnia'] = etnia\n",
        "  \n",
        "  return perfil"
      ],
      "execution_count": null,
      "outputs": []
    },
    {
      "cell_type": "code",
      "metadata": {
        "colab": {
          "base_uri": "https://localhost:8080/"
        },
        "id": "lTFEpWA2B_8i",
        "outputId": "fdc09ca4-93f9-4b9b-e79f-af7adff2d50e"
      },
      "source": [
        "usuario = criar_perfil('mauro', 'silva', 30, 'preto')\n",
        "print(usuario)"
      ],
      "execution_count": null,
      "outputs": [
        {
          "output_type": "stream",
          "text": [
            "{'nome': 'mauro', 'sobrenome': 'silva', 'idade': 30, 'etnia': 'preto'}\n"
          ],
          "name": "stdout"
        }
      ]
    },
    {
      "cell_type": "markdown",
      "metadata": {
        "id": "nmAt6Ub1CNs7"
      },
      "source": [
        "###8.14Exercício"
      ]
    },
    {
      "cell_type": "code",
      "metadata": {
        "id": "GbsMCTBsHacl"
      },
      "source": [
        "def fazer_carro(modelo, fabricante, **outros):\n",
        "  '''Cria um carro'''\n",
        "  carro = {}\n",
        "  carro['modelo'] = modelo\n",
        "  carro['fabricante'] = fabricante\n",
        "  for k, v in outros.items():\n",
        "    carro[k] = v\n",
        "  return carro"
      ],
      "execution_count": null,
      "outputs": []
    },
    {
      "cell_type": "code",
      "metadata": {
        "id": "ep2ETN_cIZPs"
      },
      "source": [
        "carro_um = fazer_carro('ka','ford', ano = 2006, cor = 'prata')"
      ],
      "execution_count": null,
      "outputs": []
    },
    {
      "cell_type": "code",
      "metadata": {
        "colab": {
          "base_uri": "https://localhost:8080/"
        },
        "id": "0T3jjwn3JiYQ",
        "outputId": "c6e2ff2f-371a-4cf3-d805-861f60e86dc9"
      },
      "source": [
        "print(carro_um)"
      ],
      "execution_count": null,
      "outputs": [
        {
          "output_type": "stream",
          "text": [
            "{'modelo': 'ka', 'fabricante': 'ford', 'ano': 2006, 'cor': 'prata'}\n"
          ],
          "name": "stdout"
        }
      ]
    },
    {
      "cell_type": "code",
      "metadata": {
        "colab": {
          "base_uri": "https://localhost:8080/"
        },
        "id": "ncA4KsMUJ1Xg",
        "outputId": "dbb730ac-529b-4de2-9d29-68365fea41d7"
      },
      "source": [
        "carro_dois = fazer_carro('celta', 'GM', ano = 2005, cor = 'preto')\n",
        "print(carro_dois)"
      ],
      "execution_count": null,
      "outputs": [
        {
          "output_type": "stream",
          "text": [
            "{'modelo': 'celta', 'fabricante': 'GM', 'ano': 2005, 'cor': 'preto'}\n"
          ],
          "name": "stdout"
        }
      ]
    },
    {
      "cell_type": "markdown",
      "metadata": {
        "id": "JwJ2VNsxKcuX"
      },
      "source": [
        "###Armazenando suas funções em módulos"
      ]
    },
    {
      "cell_type": "markdown",
      "metadata": {
        "id": "0heLYUB5LDXJ"
      },
      "source": [
        "É possível armazenar as funções em módulos, para depois importar esse mesmo módulo para ser usado em outros programas que precisem dessa função."
      ]
    },
    {
      "cell_type": "markdown",
      "metadata": {
        "id": "-627fMaMLduz"
      },
      "source": [
        "#### Importanto um módulo completo"
      ]
    },
    {
      "cell_type": "markdown",
      "metadata": {
        "id": "C4ewItYWLkrM"
      },
      "source": [
        "Para importar todas as funções que foram escritas em um módulo para serem utilizadas em seu programa, basta escrever:\n",
        "\n",
        "`import nome_do_modulo`\n",
        "\n",
        "\n",
        "Para usar as funções disponíveis no módulo, a sintaxe seria essa:\n",
        "\n",
        "`nome_do_modulo.nome_da_função()`"
      ]
    },
    {
      "cell_type": "markdown",
      "metadata": {
        "id": "FogjBejIMS3T"
      },
      "source": [
        "Levando em consideração o exercício 8.14, vamos imaginar que exista o módulo _carro.py_ e dentro deste módulo existe uma única função chamada _fazer_carro()_.\n",
        "\n",
        "\n",
        "O programa _carro_um.py_ seria escrito da seguinte maneira:\n",
        "\n",
        "`import carro`\n",
        "\n",
        "`carro_um = carro.fazer_carro('celta', 'GM', ano = 2005, cor = 'preto')`\n"
      ]
    },
    {
      "cell_type": "markdown",
      "metadata": {
        "id": "LRPCq1M3OmKu"
      },
      "source": [
        "####Importando funções específicas"
      ]
    },
    {
      "cell_type": "markdown",
      "metadata": {
        "id": "NJFeqt10OnyV"
      },
      "source": [
        "Podemos também importar uma função específica de um módulo. Eis a sintaxe geral para essa abordagem:\n",
        "\n",
        "`from nome_do_módulo import nome_da_função`"
      ]
    },
    {
      "cell_type": "markdown",
      "metadata": {
        "id": "lDNxnyoyO-9A"
      },
      "source": [
        "Assim, o programa _carro_um.py_ seria escrito assim,:\n",
        "\n",
        "\n",
        "`from carro import fazer_carro`\n",
        "\n",
        "\n",
        "`carro_um = fazer_carro('celta', 'GM', ano = 2005, cor = 'preto')`\n",
        "\n",
        "\n",
        "Neste caso, já que importamos específicamente a função _fazer_carro_ na instrução _import_, não é necessário usar a notação _nome_do_modulo.nome_da_função()_.\n",
        "Podemos chamar a função _fazer_carro_ diretamente."
      ]
    },
    {
      "cell_type": "markdown",
      "metadata": {
        "id": "mdxw1yvVO89c"
      },
      "source": [
        "####Usando um apelido para uma função"
      ]
    },
    {
      "cell_type": "markdown",
      "metadata": {
        "id": "da737P3hUgmR"
      },
      "source": [
        "Se o nome de uma função que você importar puder entrar em conflito com um nome existente em seu programa ou se o nome da função for longo, podemos usar um apelido (alias) único e conciso, que é um nome alternativo para a função. Dê esse apelido especial à função quando importá-la."
      ]
    },
    {
      "cell_type": "markdown",
      "metadata": {
        "id": "wTUS43ETU7Hz"
      },
      "source": [
        "Desse modo a importação seria feita da seguinte forma:\n",
        "\n",
        "`from nome_do_módulo import nome_da_função as np`\n",
        "\n",
        "\n",
        "Onde _np_ é o apelido que estamos danto à função."
      ]
    },
    {
      "cell_type": "markdown",
      "metadata": {
        "id": "cVUuHmMXVJKo"
      },
      "source": [
        "O programa _carro_um.py_ seria escrito da seguinte maneira:\n",
        "\n",
        "\n",
        "`from carro import fazer_carro as fc`\n",
        "\n",
        "\n",
        "`carro_um = fc('celta', 'GM', ano = 2005, cor = 'preto')`"
      ]
    },
    {
      "cell_type": "markdown",
      "metadata": {
        "id": "UvL6qWBGV6Wx"
      },
      "source": [
        "####Usando um apelido para um módulo"
      ]
    },
    {
      "cell_type": "markdown",
      "metadata": {
        "id": "4l2isRWAWKYJ"
      },
      "source": [
        "Também podemos usar um apelido(alias) para um módulo. Isso facilita na hora de chamar uma função que esta em determinado módulo."
      ]
    },
    {
      "cell_type": "markdown",
      "metadata": {
        "id": "kSS2z_aTWlIE"
      },
      "source": [
        "Desse modo a importação seria feita da seguinte forma:\n",
        "\n",
        "`import nome_do_módulo as nm`\n",
        "\n",
        "\n",
        "Onde _nm_ é o apelido que estamos dando ao módulo."
      ]
    },
    {
      "cell_type": "markdown",
      "metadata": {
        "id": "-cFK2w2EWtz3"
      },
      "source": [
        "O programa _carro_um.py_ seria escrito da seguinte maneira:\n",
        "\n",
        "\n",
        "`import carro as c`\n",
        "\n",
        "\n",
        "`carro_um = c.fazer_carro('celta', 'GM', ano = 2005, cor = 'preto')`"
      ]
    },
    {
      "cell_type": "markdown",
      "metadata": {
        "id": "qzwmrypZW_Ts"
      },
      "source": [
        "#### Importando todas as funções de um módulo"
      ]
    },
    {
      "cell_type": "markdown",
      "metadata": {
        "id": "jvCg0O-LXbRv"
      },
      "source": [
        "Podemos dizer a Python para importar todas as funções de um módulo usando o operador asterisco (*):\n",
        "\n",
        "`from nome_do_módulo import *`"
      ]
    },
    {
      "cell_type": "markdown",
      "metadata": {
        "id": "b_xOxc9uXhb5"
      },
      "source": [
        "O asterico na instrução _import_ diz a Python para copiar todas as funções do módulo para esse arquivo de programa. Como todas as funções são importandas, podemos chamar qualquer função pelo nome, sem ter que usar a notações de ponto. Mas é melhor não usar essa abordagem quando estiver trabalhando com módulos maiores e que não foram escritos por você: Se o módulo tiver algum nome de função que seja igual ao que você está utilizando em seu projeto, isso pode causar conflitos e resultdos inesperados. \n",
        "\n",
        "\n",
        "Python poderá ver várias funções ou variáveis com o mesmo nome e, em vez de importar todas as funções separadamente, ele as sobrescreverá.\n",
        "A melhor abordagem é importar a função ou as funções que você quiser\n",
        "ou importar o módulo todo e usar a notação de ponto. Isso resulta em um\n",
        "código claro, mais fácil de ler e de entender."
      ]
    },
    {
      "cell_type": "markdown",
      "metadata": {
        "id": "GoL91rnMYveS"
      },
      "source": [
        "O programa _carro_um.py_ seria escrito da seguinte maneira:\n",
        "\n",
        "\n",
        "`from carro import *`\n",
        "\n",
        "\n",
        "`carro_um = fazer_carro('celta', 'GM', ano = 2005, cor = 'preto')`"
      ]
    },
    {
      "cell_type": "markdown",
      "metadata": {
        "id": "ZJ_RVNs1ZIUz"
      },
      "source": [
        "####Resumo"
      ]
    },
    {
      "cell_type": "markdown",
      "metadata": {
        "id": "312YdeHSZwlX"
      },
      "source": [
        "\n",
        "**Importar um módulo completo**\n",
        "\n",
        "`import carro`\n",
        "\n",
        "`carro_um = carro.fazer_carro('celta', 'GM', ano = 2005, cor = 'preto')`\n",
        "\n",
        "\n",
        "**Importar funções específicas**\n",
        "\n",
        "\n",
        "`from carro import fazer_carro`\n",
        "\n",
        "\n",
        "`carro_um = fazer_carro('celta', 'GM', ano = 2005, cor = 'preto')`\n",
        "\n",
        "\n",
        "**Importar usando um apelido para função**\n",
        "\n",
        "\n",
        "`from carro import fazer_carro as fc`\n",
        "\n",
        "\n",
        "`carro_um = fc('celta', 'GM', ano = 2005, cor = 'preto')`\n",
        "\n",
        "\n",
        "**Importar usando um apelido para o módulo**\n",
        "\n",
        "\n",
        "\n",
        "`import carro as c`\n",
        "\n",
        "\n",
        "`carro_um = c.fazer_carro('celta', 'GM', ano = 2005, cor = 'preto')`\n",
        "\n",
        "\n",
        "**Importar todas as funções de um módulo**\n",
        "\n",
        "\n",
        "`from carro import *`\n",
        "\n",
        "\n",
        "`carro_um = fazer_carro('celta', 'GM', ano = 2005, cor = 'preto')`"
      ]
    },
    {
      "cell_type": "markdown",
      "metadata": {
        "id": "jRGr6Uz-bEBQ"
      },
      "source": [
        "###Estilizando funções"
      ]
    },
    {
      "cell_type": "markdown",
      "metadata": {
        "id": "Dd9_CHOpcu_v"
      },
      "source": [
        "Se você especificar um valor default para um parâmetro, não deve haver espaços em nenhum dos lados do sinal de igualdade:\n",
        "\n",
        "\n",
        "_def nome_da_função(parâmetro_0, parâmetro_1='valor default')_\n",
        "\n",
        "\n",
        "A mesma convenção deve ser usada para argumentos nomeados em chamadas de função:\n",
        "\n",
        "\n",
        "_nome_da_função(valor_0, parâmetro_1='valor')_\n",
        "\n",
        "\n",
        "A PEP 8 (https://www.python.org/dev/peps/pep-0008/ ) recomenda limitar\n",
        "as linhas de código em 79 caracteres para que todas as linhas permaneçam\n",
        "visíveis em uma janela de editor com um tamanho razoável.\n",
        "\n",
        "\n",
        "A maioria dos editores fará automaticamente o alinhamento de qualquer\n",
        "parâmetro adicional para que corresponda à indentação que você determinar na primeira linha:\n",
        "\n",
        "```\n",
        "\n",
        "def nome_da_função(\n",
        "    parâmetro_0, parâmetro_1, parâmetro_2,\n",
        "    parâmetro_3, parâmetro_4, parâmetro_5):\n",
        "  corpo da função...\n",
        "\n",
        "```\n",
        "\n",
        "Se seu programa ou módulo tiver mais de uma função, você poderá\n",
        "separá-las usando duas linhas em branco para facilitar ver em que lugar\n",
        "uma função termina e a próxima começa.\n",
        "Todas as instruções _import_ devem estar no início de um arquivo. A única\n",
        "exceção ocorre quando você usa comentários no início de seu arquivo para\n",
        "descrever o programa como um todo.\n"
      ]
    },
    {
      "cell_type": "markdown",
      "metadata": {
        "id": "RyKzb1EZeSEj"
      },
      "source": [
        "##9.CLASSES"
      ]
    },
    {
      "cell_type": "markdown",
      "metadata": {
        "id": "JFeczsive5AV"
      },
      "source": [
        "A biologia classifica todos os cães, gatos, elefantes e seres huanos como mamíferos. Carcterísticas compartilhadas dão a essas criaturas distintas um senso de comunidade: são todos mamíferos.\n",
        "No mundo dos softwares, a classe (mamíferos) agrupam objetos (cães, gatos, elefantes e seres huanos) relacionados.\n",
        "\n",
        "\n",
        "- Uma classe define os atributos e comportamentos comuns compatilhados por um tipo de objeto.\n",
        "\n",
        "- Um objeto é uma instância de uma classe.\n",
        "\n",
        "- Os atribultos são as características de uma classe.\n",
        "\n",
        "- O comportamento é uma ação que pode ser execulta por uma classe.\n",
        "\n",
        "\n",
        "Criar um objeto a partir de uma classe é uma operação conhecida como instanciação, por isso um objeto é uma instância de uma classe, e muitas vezes ao criá-los dizemos que estamos instanciando um objeto ou simplesmente criando uma instância.\n",
        "\n",
        "\n"
      ]
    },
    {
      "cell_type": "markdown",
      "metadata": {
        "id": "76wG-QqVyhJV"
      },
      "source": [
        "###Criando e usando uma classe"
      ]
    },
    {
      "cell_type": "markdown",
      "metadata": {
        "id": "XKLXkNVIylyd"
      },
      "source": [
        "Vamos criar uma classe simples, **dog**. A classe dog não representará um cachorro específico, mas sim qualquer cachorro.\n",
        "\n",
        "- Todos os cachorros têm nome e idade (Atributos).\n",
        "\n",
        "- Todos os cachorros sentam e rolam (Comportamentos)\n",
        "\n",
        "\n",
        "Essa classe dog permitirá a criação de um objeto que representa um cachorro.\n",
        "\n",
        "A classe é como se fosse um molde dos objetos, uma forma."
      ]
    },
    {
      "cell_type": "markdown",
      "metadata": {
        "id": "wonTW_Dmz2iu"
      },
      "source": [
        "####Criando a classe Dog e uma instância a partir desta classe."
      ]
    },
    {
      "cell_type": "markdown",
      "metadata": {
        "id": "UELFWgphz-VN"
      },
      "source": [
        "Cada instância criada a partir da classe Dog armazenará um nome e\n",
        "uma idade, e daremos a cada cachorro a capacidade de sentar rolar:"
      ]
    },
    {
      "cell_type": "code",
      "metadata": {
        "id": "Z_p2Sr5L0MNF",
        "colab": {
          "base_uri": "https://localhost:8080/"
        },
        "outputId": "0e382d57-2fc5-4611-fc6b-9482a0bbfbeb"
      },
      "source": [
        "class Dog():\n",
        "  '''Uma tentativa simples de modelar um cachorro'''\n",
        "\n",
        "  def __init__(self, nome, idade):\n",
        "   '''Inicializa os atributos nome e idade'''\n",
        "   self.nome = nome\n",
        "   self.idade = idade\n",
        "\n",
        "  def sentar(self):\n",
        "    '''Simula um cachorro sentando em resposta a um comando'''\n",
        "    print(self.nome.title() + ' está sentando agora.' )\n",
        "\n",
        "  def rolar(self):\n",
        "    '''Simula um cachorro rolando em resposta a um comando'''\n",
        "    print(self.nome.title() + ' está rolando agora')\n",
        "\n",
        "\n",
        "cachorro_um = Dog('willie', 6)\n",
        "\n",
        "cachorro_dois = Dog('bob', 7)\n",
        "\n",
        "print('o nome do cachorro um  é: ' + cachorro_um.nome)\n",
        "print('a idade do cachorro um  é: ' + str(cachorro_um.idade))\n"
      ],
      "execution_count": null,
      "outputs": [
        {
          "output_type": "stream",
          "text": [
            "o nome do cachorro um  é: willie\n",
            "a idade do cachorro um  é: 6\n"
          ],
          "name": "stdout"
        }
      ]
    },
    {
      "cell_type": "markdown",
      "metadata": {
        "id": "gQ5WXnow-lpW"
      },
      "source": [
        "**Linha 1:** \n",
        "\n",
        "Definimos uma classe chamada Dog. Por convenção, nomes de classes são escritos com a primeira letra em maiúsculo.\n",
        "\n",
        "https://pep8.org/#descriptive-naming-styles\n",
        "\n",
        "\n",
        "**Linha 4:**\n",
        "\n",
        "Uma função que faz parte de uma classe chama-se _método_ e os métodos são os comportamentos que uma classe possui. Tudo que aprendemos sobre funções também se aplica aos métodos.\n",
        "\n",
        "\n",
        "O método `__init()__` é um método construtor (ou inicializador) e é usado para inicializar o estado do objeto quando se vai criá-lo (isto é, instânciar a classe). Ele sempre é escrito com dois traços baixos (underscores) no início e dois no final – uma convenção que ajuda a evitar que os nomes default de métodos\n",
        "Python entrem em conflito com nomes de métodos criados por você.\n",
        "\n",
        "\n",
        "Nota: criar objeto é o mesmo que instanciar classe. \n",
        "\n",
        "\n",
        "Como dito antes, uma classe possui atributos, quando instânciamos a classe Dog (isto é, criamos um objeto a partir dela), definimos o **estado** do objeto naquele determinado instânte, ou seja, damos-lhe atribultos.\n",
        "\n",
        "No caso da linha 19:  \n",
        "\n",
        "\n",
        "`cachorro_um = Dog('willie', 6)`\n",
        "\n",
        "\n",
        "Estamos criando um objeto chamado cachorro_um (ou criando uma instância da classe Dog chamada cachorro_um). Neste momento, estamos passando os seguintes argumentos: `'willie'` e `6`, que se referem ao atributo nome e idade da classe cachorro.\n",
        "\n",
        "Dizemos que estes dois argumentos passados, que designam os atributos da classe Dog(), são o estado do objeto cachorro_um.\n",
        "\n",
        "Por tanto os tributos definem o estado do objeto em um determinado instante.\n",
        "\n",
        "Qual o estado do objeto cachorro_um da classe Dog() ?\n",
        "\n",
        "R: willie e 6.\n",
        "\n",
        "Qual o estado do objeto cachorro_dois da classe Dog() ?\n",
        "\n",
        "R: bob e 7\n",
        "\n",
        "\n",
        "Voltando ao método `__init()__` ...\n",
        "\n",
        "Ao criar um objeto (instância) da classe Dog, o método construtor (ou inicializador) `__init()__`  é chamado automaticamente com os argumentos `'willie'` e `6`. Ele então inicializa, isto é, atribui os valores `'willie'` e `6` aos atributos `nome` e `idade`.\n",
        "\n",
        "Esse método não tem uma instrução return explícita, mas devolve automaticamente uma instância que representa o cachorro_um.\n",
        "\n",
        "E é nesse ponto que entra o parâmetro `self`.\n",
        "\n",
        "Self é uma auto-referência ao objeto que chamou o método. No caso do objeto cachorro_um, self é uma referência a este objeto dentro do método `__init()__`, deste modo os argumentos `'willie'` e `6` passados para o método `__init()__` são atribuidos aos atributos `nome` e `idade` do objeto `cachorro_um`:\n",
        "\n",
        "```\n",
        "self.nome = nome\n",
        "self.idade = idade\n",
        "```\n",
        "\n",
        "Exercício prático: onde se lê _self_, substitua mentalmente por _cachorro_um_, só para efeito de entendimento mais claro.\n",
        "Quando o objeto instânciado for o _chachorro_dois_, substítua _self_ por _cachorro_dois_... e assim por diante.\n",
        "\n",
        "\n",
        "Nota: Variáveis como essas (neste caso nome e idade), acessíveis por meio de instâncias (i.e., objetos),  são chamadas de atributos.\n",
        "\n",
        "\n",
        "O parâmetro self é **obrigatório** na definição do método e deve constar explicitamente antes dos demais parâmetros que foram esbalecido para a classe dog, que neste caso são nome e idade. \n",
        "\n",
        "```\n",
        " def __init__(self, nome, idade):\n",
        "```\n",
        "\n",
        "\n",
        "Seu argumento é passado automaticamente, sendo, como já dito antes, a referência ao objeto que se está criando (instânciando) naquele momento (neste caso, primeiro cachorro_um, depois chachorro_dois). Embora a palavra self não seja uma palavra-chave de Python (por isso pode ser substituída por qualquer outra) por convenção usamos self.\n",
        "\n",
        "Tal como o método `__init()__` é chamado automáticamente, o parâmetro self é passado automáticamente, e embora em algumas linguagens não precise ser escrito, em Python ele deve aparecer explicitamente.\n",
        "\n",
        "Qualquer variável prefixada com self está disponível a todos os métodos da classe Dog(); além disso, podemos acessar essas variáveis por meio de qualquer instância criada (como cachorro_um) a partir da classe.\n",
        "\n",
        "`self.nome = nome` usa o valor armazenado no parâmetro nome e o armazena na variável nome que é então associada ao objeto (instância criada) da classe Dog() denominado cachorro_um através de sua auto-referência _self_.\n",
        "\n",
        "\n",
        "\n",
        "\n",
        "\n"
      ]
    },
    {
      "cell_type": "markdown",
      "metadata": {
        "id": "lLnmUuATK3A5"
      },
      "source": [
        "Links para de consulta sobre o assunto:\n",
        "\n",
        "https://stackoverflow.com/questions/625083/what-init-and-self-do-in-python\n",
        "\n",
        "https://youtu.be/wNaoX6VOj54?list=PLHz_AreHm4dkqe2aR0tQK74m8SFe-aGsY&t=756\n",
        "\n",
        "https://pt.stackoverflow.com/questions/109013/quando-devo-usar-init-em-fun%C3%A7%C3%B5es-dentro-de-classes\n",
        "\n",
        "https://www.devmedia.com.br/orientacao-a-objetos-simples-assim/3254\n",
        "\n",
        "https://www.geeksforgeeks.org/__init__-in-python/\n",
        "\n",
        "https://www.geeksforgeeks.org/self-in-python-class/\n"
      ]
    },
    {
      "cell_type": "markdown",
      "metadata": {
        "id": "xZjCHvwsLND4"
      },
      "source": [
        "#####Acessando atributos"
      ]
    },
    {
      "cell_type": "markdown",
      "metadata": {
        "id": "kQyQ6Myl8XN2"
      },
      "source": [
        "LEMBRE-SE: Qualquer variável (atributo) prefixada com self está disponível a todos os métodos (funções) da classe Dog(); além disso, podemos acessar essas variáveis (atribustos) por meio de qualquer instância (objeto) [e.g. cachorro_um] criada (instanciada) a partir da classe [e.g. Dog()]."
      ]
    },
    {
      "cell_type": "markdown",
      "metadata": {
        "id": "G8KM4hJWQUuZ"
      },
      "source": [
        "Para acessar os atributos de uma instância utilize a notação de ponto. \n",
        "\n",
        "objeto.atributo"
      ]
    },
    {
      "cell_type": "code",
      "metadata": {
        "colab": {
          "base_uri": "https://localhost:8080/",
          "height": 36
        },
        "id": "d5nW3zNqQ9XD",
        "outputId": "82aff5a0-d358-49ab-812f-f7d3d7187f19"
      },
      "source": [
        "cachorro_um.nome"
      ],
      "execution_count": null,
      "outputs": [
        {
          "output_type": "execute_result",
          "data": {
            "application/vnd.google.colaboratory.intrinsic+json": {
              "type": "string"
            },
            "text/plain": [
              "'willie'"
            ]
          },
          "metadata": {
            "tags": []
          },
          "execution_count": 3
        }
      ]
    },
    {
      "cell_type": "code",
      "metadata": {
        "colab": {
          "base_uri": "https://localhost:8080/",
          "height": 36
        },
        "id": "qDiFUFMgRcEX",
        "outputId": "473089a1-61dd-402c-b72b-84a12910dc3e"
      },
      "source": [
        "cachorro_dois.nome"
      ],
      "execution_count": null,
      "outputs": [
        {
          "output_type": "execute_result",
          "data": {
            "application/vnd.google.colaboratory.intrinsic+json": {
              "type": "string"
            },
            "text/plain": [
              "'bob'"
            ]
          },
          "metadata": {
            "tags": []
          },
          "execution_count": 4
        }
      ]
    },
    {
      "cell_type": "code",
      "metadata": {
        "colab": {
          "base_uri": "https://localhost:8080/"
        },
        "id": "Rj9PakgyReLa",
        "outputId": "97e8cfa6-a5f5-43fd-c1e3-491e33369d73"
      },
      "source": [
        "cachorro_dois.idade"
      ],
      "execution_count": null,
      "outputs": [
        {
          "output_type": "execute_result",
          "data": {
            "text/plain": [
              "7"
            ]
          },
          "metadata": {
            "tags": []
          },
          "execution_count": 5
        }
      ]
    },
    {
      "cell_type": "markdown",
      "metadata": {
        "id": "CvBVeBpJRtHa"
      },
      "source": [
        "##### Chamando métodos"
      ]
    },
    {
      "cell_type": "markdown",
      "metadata": {
        "id": "LodO0s4eR-64"
      },
      "source": [
        "Para chamar qualque método de uma instância utilize a notação de ponto. \n",
        "\n",
        "objeto.método()"
      ]
    },
    {
      "cell_type": "code",
      "metadata": {
        "colab": {
          "base_uri": "https://localhost:8080/"
        },
        "id": "o2PuddSbSOHs",
        "outputId": "d1c95d98-d205-4c93-df4f-58df0f89d9f5"
      },
      "source": [
        "cachorro_um.sentar()"
      ],
      "execution_count": null,
      "outputs": [
        {
          "output_type": "stream",
          "text": [
            "Willie está sentando agora.\n"
          ],
          "name": "stdout"
        }
      ]
    },
    {
      "cell_type": "code",
      "metadata": {
        "colab": {
          "base_uri": "https://localhost:8080/"
        },
        "id": "lVbT7wZ0SRY0",
        "outputId": "ef8a6d9c-8e81-45ec-bc32-941964331ec3"
      },
      "source": [
        "cachorro_dois.rolar()"
      ],
      "execution_count": null,
      "outputs": [
        {
          "output_type": "stream",
          "text": [
            "Bob está rolando agora\n"
          ],
          "name": "stdout"
        }
      ]
    },
    {
      "cell_type": "markdown",
      "metadata": {
        "id": "8stckLQhSxPz"
      },
      "source": [
        "###9.1Exercício"
      ]
    },
    {
      "cell_type": "code",
      "metadata": {
        "id": "bJlu3i-K-L4I"
      },
      "source": [
        "class Restaurante():\n",
        "  '''Cria um resturante'''\n",
        "\n",
        "  def __init__(self, nome, culinaria):\n",
        "    '''Inicializa os atributos'''\n",
        "    self.nome = nome\n",
        "    self.culinaria = culinaria\n",
        "  \n",
        "  def descreve_restaurante(self):\n",
        "    '''Mostra o nome e o tipo de culinária do restaurante'''\n",
        "    print('\\nO restaurante ' + self.nome.title() + \n",
        "          ' é especialista na culinária '+ self.culinaria + '.')\n",
        "    \n",
        "  def abrir_restaurante(self):\n",
        "    '''Mostra que o restaurante está aberto'''\n",
        "    print('O restaurante ' + self.nome.title() + ' está aberto !')\n",
        "\n",
        "\n",
        "restaurante_um = Restaurante('yamato', 'japonesa')"
      ],
      "execution_count": null,
      "outputs": []
    },
    {
      "cell_type": "code",
      "metadata": {
        "colab": {
          "base_uri": "https://localhost:8080/",
          "height": 36
        },
        "id": "4H6Uv1TuAuBB",
        "outputId": "d5da1c0f-70e8-42d5-a402-b4b30a79a503"
      },
      "source": [
        "restaurante_um.nome"
      ],
      "execution_count": null,
      "outputs": [
        {
          "output_type": "execute_result",
          "data": {
            "application/vnd.google.colaboratory.intrinsic+json": {
              "type": "string"
            },
            "text/plain": [
              "'yamato'"
            ]
          },
          "metadata": {
            "tags": []
          },
          "execution_count": 11
        }
      ]
    },
    {
      "cell_type": "code",
      "metadata": {
        "colab": {
          "base_uri": "https://localhost:8080/",
          "height": 36
        },
        "id": "o539SnV6DDUa",
        "outputId": "e1b8de86-f541-4a2e-a7be-f594bf07ff97"
      },
      "source": [
        "restaurante_um.culinaria"
      ],
      "execution_count": null,
      "outputs": [
        {
          "output_type": "execute_result",
          "data": {
            "application/vnd.google.colaboratory.intrinsic+json": {
              "type": "string"
            },
            "text/plain": [
              "'japonesa'"
            ]
          },
          "metadata": {
            "tags": []
          },
          "execution_count": 12
        }
      ]
    },
    {
      "cell_type": "code",
      "metadata": {
        "colab": {
          "base_uri": "https://localhost:8080/"
        },
        "id": "daDZeNNpDJ2o",
        "outputId": "fef36dbb-947a-4cac-e13f-3305f6aa395c"
      },
      "source": [
        "restaurante_um.abrir_restaurante()"
      ],
      "execution_count": null,
      "outputs": [
        {
          "output_type": "stream",
          "text": [
            "O restaurante Yamato está aberto !\n"
          ],
          "name": "stdout"
        }
      ]
    },
    {
      "cell_type": "code",
      "metadata": {
        "colab": {
          "base_uri": "https://localhost:8080/"
        },
        "id": "ALXFA65ADMdD",
        "outputId": "62205bb6-aebe-4644-8b1f-8ed69b41c53f"
      },
      "source": [
        "restaurante_um.descreve_restaurante()"
      ],
      "execution_count": null,
      "outputs": [
        {
          "output_type": "stream",
          "text": [
            "\n",
            "O restaurante Yamato é especialista na culinária japonesa.\n"
          ],
          "name": "stdout"
        }
      ]
    },
    {
      "cell_type": "markdown",
      "metadata": {
        "id": "UMnVZnY0DVDK"
      },
      "source": [
        "###9.2Exercício"
      ]
    },
    {
      "cell_type": "code",
      "metadata": {
        "id": "jcKt0MzKDigG"
      },
      "source": [
        "class Restaurante():\n",
        "  '''Cria um resturante'''\n",
        "\n",
        "  def __init__(self, nome, culinaria):\n",
        "    '''Inicializa os atributos'''\n",
        "    self.nome = nome\n",
        "    self.culinaria = culinaria\n",
        "  \n",
        "  def descreve_restaurante(self):\n",
        "    '''Mostra o nome e o tipo de culinária do restaurante'''\n",
        "    print('\\nO restaurante ' + self.nome.title() + \n",
        "          ' é especialista na culinária '+ self.culinaria + '.')\n",
        "    \n",
        "  def abrir_restaurante(self):\n",
        "    '''Mostra que o restaurante está aberto'''\n",
        "    print('O restaurante ' + self.nome.title() + ' está aberto !')\n",
        "\n",
        "\n",
        "restaurante_um = Restaurante('yamato', 'japonesa')\n",
        "\n",
        "restaurante_dois = Restaurante('la cantina', 'italiana')\n",
        "\n",
        "restaurante_tres = Restaurante('bistrot de paris', 'francesa')"
      ],
      "execution_count": null,
      "outputs": []
    },
    {
      "cell_type": "code",
      "metadata": {
        "colab": {
          "base_uri": "https://localhost:8080/"
        },
        "id": "kVxiGjqVECpU",
        "outputId": "1c25e490-58e3-41e2-8e17-dcbae15696ca"
      },
      "source": [
        "restaurante_um.descreve_restaurante()"
      ],
      "execution_count": null,
      "outputs": [
        {
          "output_type": "stream",
          "text": [
            "\n",
            "O restaurante Yamato é especialista na culinária japonesa.\n"
          ],
          "name": "stdout"
        }
      ]
    },
    {
      "cell_type": "code",
      "metadata": {
        "colab": {
          "base_uri": "https://localhost:8080/"
        },
        "id": "oN8NstEjEGmP",
        "outputId": "09a833e6-b77d-47da-e8d9-880d659cfd91"
      },
      "source": [
        "restaurante_dois.descreve_restaurante()"
      ],
      "execution_count": null,
      "outputs": [
        {
          "output_type": "stream",
          "text": [
            "\n",
            "O restaurante La Cantina é especialista na culinária italiana.\n"
          ],
          "name": "stdout"
        }
      ]
    },
    {
      "cell_type": "code",
      "metadata": {
        "id": "TG7b95nTEJV8",
        "colab": {
          "base_uri": "https://localhost:8080/"
        },
        "outputId": "5af6089c-fb88-47ce-a534-e3b391b76fb2"
      },
      "source": [
        "restaurante_tres.descreve_restaurante()"
      ],
      "execution_count": null,
      "outputs": [
        {
          "output_type": "stream",
          "text": [
            "\n",
            "O restaurante Bistrot De Paris é especialista na culinária francesa.\n"
          ],
          "name": "stdout"
        }
      ]
    },
    {
      "cell_type": "markdown",
      "metadata": {
        "id": "tlr0FefqCp0Q"
      },
      "source": [
        "###Trabalhando com classes e instâncias"
      ]
    },
    {
      "cell_type": "markdown",
      "metadata": {
        "id": "st90QD7LC4dR"
      },
      "source": [
        "Vamos escrever uma nova classe que represente um carro."
      ]
    },
    {
      "cell_type": "code",
      "metadata": {
        "id": "3WQleVC8C5xA"
      },
      "source": [
        "class Car():\n",
        "  '''Uma tentativa simples de fazer um carro.'''\n",
        "\n",
        "  def __init__(self, marca, modelo, ano):\n",
        "    '''Inicializa os atributos'''\n",
        "    self.marca = marca\n",
        "    self.modelo = modelo\n",
        "    self.ano = ano\n",
        "  \n",
        "  def get_nome_descritivo(self):\n",
        "    '''Devolve um nome descritivo, formatado de modo elegante'''\n",
        "    nome_longo = str(self.ano) + ' ' + self.marca + ' ' + self.modelo\n",
        "    return nome_longo.title()"
      ],
      "execution_count": null,
      "outputs": []
    },
    {
      "cell_type": "code",
      "metadata": {
        "colab": {
          "base_uri": "https://localhost:8080/"
        },
        "id": "BcMddnd_C79R",
        "outputId": "248d3085-ae28-4c67-f9ff-61b95f8ae285"
      },
      "source": [
        "meu_novo_carro = Car('audi', 'a4', 2016)\n",
        "print(meu_novo_carro.get_nome_descritivo())"
      ],
      "execution_count": null,
      "outputs": [
        {
          "output_type": "stream",
          "text": [
            "2016 Audi A4\n"
          ],
          "name": "stdout"
        }
      ]
    },
    {
      "cell_type": "markdown",
      "metadata": {
        "id": "EgrkZpzEDG-x"
      },
      "source": [
        "#####Definindo um valor default para um atributo"
      ]
    },
    {
      "cell_type": "markdown",
      "metadata": {
        "id": "XXpl0f0bJ6C1"
      },
      "source": [
        "Todo atributo precisa de um valor inicial (e é isto que o método `__init()__ ` faz, inicializa os atributos, i.e. atribui valores iniciais aos atributos.).\n",
        "\n",
        "No caso do atributo `marca`, o valor que foi passado no parâmetro `marca` no escopo do método `__init()__ ` é atribuido ao atributo `marca` quando escrevemos:\n",
        "\n",
        "\n",
        "`self.marca = marca`\n",
        "\n",
        "\n",
        "No entanto se criarmos um atributo e definirmos um [valor defult](https://colab.research.google.com/drive/1swoCrcbJDcsOGQwNwFjoyLIa-DKuvX3i?authuser=1#scrollTo=1ZsBft454JGF&line=1&uniqifier=1) a ele, esse atributo pode ser apenas especificado no corpo do método e não é necessário incluir um parâmetro no escopo do método para poder iniciá-lo.\n",
        "\n",
        "Veja por exemplo o parâmetro ler_odometro. "
      ]
    },
    {
      "cell_type": "code",
      "metadata": {
        "id": "r_vL6W_CKEQn"
      },
      "source": [
        "class Car():\n",
        "  '''Uma tentativa simples de fazer um carro.'''\n",
        "\n",
        "  def __init__(self, marca, modelo, ano):\n",
        "    '''Inicializa os atributos'''\n",
        "    self.marca = marca\n",
        "    self.modelo = modelo\n",
        "    self.ano = ano\n",
        "    self.valor_hodometro = 0 #Inicia o atributo valor_hodometro \n",
        "  \n",
        "  def get_nome_descritivo(self):\n",
        "    '''Devolve um nome descritivo, formatado de modo elegante'''\n",
        "    nome_longo = str(self.ano) + ' ' + self.marca + ' ' + self.modelo\n",
        "    return nome_longo.title()\n",
        "  \n",
        "  def ler_hodometro(self):\n",
        "    '''Devolve um nome descritivo, formatado de modo elegante'''\n",
        "    print('Este carro já rodou cerca de ' + str(self.valor_hodometro) + ' km.')\n"
      ],
      "execution_count": null,
      "outputs": []
    },
    {
      "cell_type": "code",
      "metadata": {
        "colab": {
          "base_uri": "https://localhost:8080/"
        },
        "id": "ST8ABCmRKoAV",
        "outputId": "61cee62b-0e03-47db-c4d4-ceccf1cef63d"
      },
      "source": [
        "meu_novo_carro = Car('audi', 'a4', 2016) #instância o objeto meu_novo_carro\n",
        "\n",
        "print(meu_novo_carro.get_nome_descritivo())\n",
        "\n",
        "meu_novo_carro.ler_hodometro()"
      ],
      "execution_count": null,
      "outputs": [
        {
          "output_type": "stream",
          "text": [
            "2016 Audi A4\n",
            "Este carro já rodou cerca de 0 km.\n"
          ],
          "name": "stdout"
        }
      ]
    },
    {
      "cell_type": "markdown",
      "metadata": {
        "id": "f4XcUxKyEMho"
      },
      "source": [
        "####Modificando valores de atributos"
      ]
    },
    {
      "cell_type": "markdown",
      "metadata": {
        "id": "9kmM_Unm-zzn"
      },
      "source": [
        "Você pode alterar o valor de um atributo de três maneiras: \n",
        "- Podemos modificar o valor diretamente por meio de uma instância.\n",
        "- Podemos definir o valor com um método \n",
        "- Pondemos incrementar o valor dele (somar um determinado valor a ele)."
      ]
    },
    {
      "cell_type": "markdown",
      "metadata": {
        "id": "ICsPSPsO_NWR"
      },
      "source": [
        "#####Modificando o valor de um atributo diretamente"
      ]
    },
    {
      "cell_type": "markdown",
      "metadata": {
        "id": "qbpuZLjh_RBx"
      },
      "source": [
        "A maneira mais simples de modificar o valor de um atributo é acessá-lo diretamente por meio de uma instância."
      ]
    },
    {
      "cell_type": "code",
      "metadata": {
        "id": "Gc_g_2J3NIhi"
      },
      "source": [
        "class Car():\n",
        "  '''Uma tentativa simples de fazer um carro.'''\n",
        "\n",
        "  def __init__(self, marca, modelo, ano):\n",
        "    '''Inicializa os atributos'''\n",
        "    self.marca = marca\n",
        "    self.modelo = modelo\n",
        "    self.ano = ano\n",
        "    self.valor_hodometro = 0 #Inicia o atributo valor_odometro \n",
        "  \n",
        "  def get_nome_descritivo(self):\n",
        "    '''Devolve um nome descritivo, formatado de modo elegante'''\n",
        "    nome_longo = str(self.ano) + ' ' + self.marca + ' ' + self.modelo\n",
        "    return nome_longo.title()\n",
        "  \n",
        "  def ler_hodometro(self):\n",
        "    '''Devolve um nome descritivo, formatado de modo elegante'''\n",
        "    print('Este carro já rodou cerca de ' + str(self.valor_hodometro) + ' km.')"
      ],
      "execution_count": null,
      "outputs": []
    },
    {
      "cell_type": "code",
      "metadata": {
        "id": "QuvxUD7jQ2B5"
      },
      "source": [
        "meu_novo_carro = Car('audi', 'a4', 2016) #instância o objeto meu_novo_carro"
      ],
      "execution_count": null,
      "outputs": []
    },
    {
      "cell_type": "code",
      "metadata": {
        "id": "eLivetiINJPk"
      },
      "source": [
        "meu_novo_carro.valor_hodometro = 23"
      ],
      "execution_count": null,
      "outputs": []
    },
    {
      "cell_type": "code",
      "metadata": {
        "colab": {
          "base_uri": "https://localhost:8080/"
        },
        "id": "u5Ug2UuLNOj2",
        "outputId": "08ba222c-607d-48a2-8217-dda12490e783"
      },
      "source": [
        "meu_novo_carro.ler_hodometro()"
      ],
      "execution_count": null,
      "outputs": [
        {
          "output_type": "stream",
          "text": [
            "Este carro já rodou cerca de 23 km.\n"
          ],
          "name": "stdout"
        }
      ]
    },
    {
      "cell_type": "markdown",
      "metadata": {
        "id": "GnzV8YXZNRU9"
      },
      "source": [
        "Às vezes, você vai querer acessar os atributos de forma direta como fizemos, mas, em outras ocasiões, vai querer escrever um método que atualize o valor para você."
      ]
    },
    {
      "cell_type": "markdown",
      "metadata": {
        "id": "S2llc7dxNbfb"
      },
      "source": [
        "#####Modificando o valor de um atributo com um método"
      ]
    },
    {
      "cell_type": "markdown",
      "metadata": {
        "id": "5h_RNCzbNlHQ"
      },
      "source": [
        "Para fazer isso, adicinamos à classe Car o método atualizar_hodometro()."
      ]
    },
    {
      "cell_type": "code",
      "metadata": {
        "id": "_k1zvqoEOBay"
      },
      "source": [
        "class Car():\n",
        "  '''Uma tentativa simples de fazer um carro.'''\n",
        "\n",
        "  def __init__(self, marca, modelo, ano):\n",
        "    '''Inicializa os atributos'''\n",
        "    self.marca = marca\n",
        "    self.modelo = modelo\n",
        "    self.ano = ano\n",
        "    self.valor_hodometro = 0 #Inicia o atributo valor_hodometro \n",
        "  \n",
        "  def get_nome_descritivo(self):\n",
        "    '''Devolve um nome descritivo, formatado de modo elegante'''\n",
        "    nome_longo = str(self.ano) + ' ' + self.marca + ' ' + self.modelo\n",
        "    return nome_longo.title()\n",
        "  \n",
        "  def atualiza_hodometro(self, quilometragem):\n",
        "    '''Define um novo valor de quilometragem ao odômetro'''\n",
        "    self.valor_hodometro = quilometragem\n",
        "\n",
        "  def ler_hodometro(self):\n",
        "    '''Devolve um nome descritivo, formatado de modo elegante'''\n",
        "    print('Este carro já rodou cerca de ' + str(self.valor_hodometro) + ' km.')"
      ],
      "execution_count": null,
      "outputs": []
    },
    {
      "cell_type": "code",
      "metadata": {
        "id": "ecMC3avsQBRy"
      },
      "source": [
        "meu_novo_carro = Car('audi', 'a4', 2016) #instância o objeto meu_novo_carro"
      ],
      "execution_count": null,
      "outputs": []
    },
    {
      "cell_type": "code",
      "metadata": {
        "id": "-1e0mXuKQ7Uq"
      },
      "source": [
        "meu_novo_carro.atualiza_hodometro(25)"
      ],
      "execution_count": null,
      "outputs": []
    },
    {
      "cell_type": "code",
      "metadata": {
        "colab": {
          "base_uri": "https://localhost:8080/"
        },
        "id": "pprjs1h7RAOj",
        "outputId": "0c7118e5-60d4-41db-87ac-e6d62681e2eb"
      },
      "source": [
        "meu_novo_carro.ler_hodometro()"
      ],
      "execution_count": null,
      "outputs": [
        {
          "output_type": "stream",
          "text": [
            "Este carro já rodou cerca de 25 km.\n"
          ],
          "name": "stdout"
        }
      ]
    },
    {
      "cell_type": "markdown",
      "metadata": {
        "id": "itsoAmykREdb"
      },
      "source": [
        "Podemos colocar um pouco mais de lógica no método atualiza_hodometro para impedir que alguém dimunua a quilometragem."
      ]
    },
    {
      "cell_type": "code",
      "metadata": {
        "id": "ekKBFHROSJIw"
      },
      "source": [
        "class Car():\n",
        "  '''Uma tentativa simples de fazer um carro.'''\n",
        "\n",
        "  def __init__(self, marca, modelo, ano):\n",
        "    '''Inicializa os atributos'''\n",
        "    self.marca = marca\n",
        "    self.modelo = modelo\n",
        "    self.ano = ano\n",
        "    self.valor_hodometro = 0 #Inicia o atributo valor_hodometro \n",
        "  \n",
        "  def get_nome_descritivo(self):\n",
        "    '''Devolve um nome descritivo, formatado de modo elegante'''\n",
        "    nome_longo = str(self.ano) + ' ' + self.marca + ' ' + self.modelo\n",
        "    return nome_longo.title()\n",
        "  \n",
        "  def atualiza_hodometro(self, quilometragem):\n",
        "    '''Define um novo valor de quilometragem ao odômetro'''\n",
        "    if quilometragem >= self.valor_hodometro:\n",
        "      self.valor_hodometro = quilometragem\n",
        "    else:\n",
        "      print('Não é possível diminuir ou zerar o valor do hodômetro')\n",
        "\n",
        "  def ler_hodometro(self):\n",
        "    '''Devolve um nome descritivo, formatado de modo elegante'''\n",
        "    print('Este carro já rodou cerca de ' + str(self.valor_hodometro) + ' km.')"
      ],
      "execution_count": null,
      "outputs": []
    },
    {
      "cell_type": "code",
      "metadata": {
        "id": "rLzK4aLmSptA"
      },
      "source": [
        "meu_novo_carro = Car('audi', 'a4', 2016) #instância o objeto meu_novo_carro"
      ],
      "execution_count": null,
      "outputs": []
    },
    {
      "cell_type": "code",
      "metadata": {
        "colab": {
          "base_uri": "https://localhost:8080/"
        },
        "id": "n7FsRCYNSsDY",
        "outputId": "9af3c8c5-aad9-426f-ecca-b24563eec012"
      },
      "source": [
        "meu_novo_carro.ler_hodometro()"
      ],
      "execution_count": null,
      "outputs": [
        {
          "output_type": "stream",
          "text": [
            "Este carro já rodou cerca de 0 km.\n"
          ],
          "name": "stdout"
        }
      ]
    },
    {
      "cell_type": "code",
      "metadata": {
        "id": "a8xAnMXoSuzG"
      },
      "source": [
        "meu_novo_carro.atualiza_hodometro(25)"
      ],
      "execution_count": null,
      "outputs": []
    },
    {
      "cell_type": "code",
      "metadata": {
        "colab": {
          "base_uri": "https://localhost:8080/"
        },
        "id": "-qlVWB9oSxN-",
        "outputId": "113626c4-d259-4fda-e4e6-b068b2613bab"
      },
      "source": [
        "meu_novo_carro.ler_hodometro()"
      ],
      "execution_count": null,
      "outputs": [
        {
          "output_type": "stream",
          "text": [
            "Este carro já rodou cerca de 25 km.\n"
          ],
          "name": "stdout"
        }
      ]
    },
    {
      "cell_type": "code",
      "metadata": {
        "id": "p6W54_jATBH6"
      },
      "source": [
        "meu_novo_carro.atualiza_hodometro(30)"
      ],
      "execution_count": null,
      "outputs": []
    },
    {
      "cell_type": "code",
      "metadata": {
        "colab": {
          "base_uri": "https://localhost:8080/"
        },
        "id": "QVoTuLJGTGPD",
        "outputId": "cf76550e-d7e4-492d-8bcb-7e6d2714aee8"
      },
      "source": [
        "meu_novo_carro.ler_hodometro()"
      ],
      "execution_count": null,
      "outputs": [
        {
          "output_type": "stream",
          "text": [
            "Este carro já rodou cerca de 30 km.\n"
          ],
          "name": "stdout"
        }
      ]
    },
    {
      "cell_type": "code",
      "metadata": {
        "colab": {
          "base_uri": "https://localhost:8080/"
        },
        "id": "trxqpkoLTIUB",
        "outputId": "600567bb-493e-4510-f8b0-0ebb88cd2056"
      },
      "source": [
        "meu_novo_carro.atualiza_hodometro(15)"
      ],
      "execution_count": null,
      "outputs": [
        {
          "output_type": "stream",
          "text": [
            "Não é possível diminuir ou zerar o valor do hodômetro\n"
          ],
          "name": "stdout"
        }
      ]
    },
    {
      "cell_type": "markdown",
      "metadata": {
        "id": "pePuB0I1TLTy"
      },
      "source": [
        "#####Incrementando o valor de um atributo com um método"
      ]
    },
    {
      "cell_type": "code",
      "metadata": {
        "id": "VZvKTUzMTjAc"
      },
      "source": [
        "class Car():\n",
        "  '''Uma tentativa simples de fazer um carro.'''\n",
        "\n",
        "  def __init__(self, marca, modelo, ano):\n",
        "    '''Inicializa os atributos'''\n",
        "    self.marca = marca\n",
        "    self.modelo = modelo\n",
        "    self.ano = ano\n",
        "    self.valor_hodometro = 0 #Inicia o atributo valor_hodometro \n",
        "  \n",
        "  def get_nome_descritivo(self):\n",
        "    '''Devolve um nome descritivo, formatado de modo elegante'''\n",
        "    nome_longo = str(self.ano) + ' ' + self.marca + ' ' + self.modelo\n",
        "    return nome_longo.title()\n",
        "  \n",
        "  def atualiza_hodometro(self, quilometragem):\n",
        "    '''Define um novo valor de quilometragem ao odômetro'''\n",
        "    if quilometragem >= self.valor_hodometro:\n",
        "      self.valor_hodometro = quilometragem\n",
        "    else:\n",
        "      print('Não é possível diminuir ou zerar o valor do hodômetro')\n",
        "  \n",
        "  def incrementar_hodometro(self, quilometros):\n",
        "    '''Soma uma quatidade especifica ao valor do hodômetro'''\n",
        "    if quilometros >= 0:\n",
        "      self.valor_hodometro += quilometros\n",
        "    else:\n",
        "      print('Não é possível adicionar valores negativos')\n",
        "\n",
        "  def ler_hodometro(self):\n",
        "    '''Devolve um nome descritivo, formatado de modo elegante'''\n",
        "    print('Este carro já rodou cerca de ' + str(self.valor_hodometro) + ' km.')"
      ],
      "execution_count": null,
      "outputs": []
    },
    {
      "cell_type": "code",
      "metadata": {
        "id": "NH0rFl5BlYLH"
      },
      "source": [
        "meu_carro_usado = Car('chevrolet','celta','2006')"
      ],
      "execution_count": null,
      "outputs": []
    },
    {
      "cell_type": "code",
      "metadata": {
        "colab": {
          "base_uri": "https://localhost:8080/"
        },
        "id": "0OMD3Qq6lqfM",
        "outputId": "9a21314b-ccc4-473b-a6e0-c5058ba9d693"
      },
      "source": [
        "print(meu_carro_usado.get_nome_descritivo())"
      ],
      "execution_count": null,
      "outputs": [
        {
          "output_type": "stream",
          "text": [
            "2006 Chevrolet Celta\n"
          ],
          "name": "stdout"
        }
      ]
    },
    {
      "cell_type": "code",
      "metadata": {
        "id": "NWUcDXgxl1Fk"
      },
      "source": [
        "meu_carro_usado.atualiza_hodometro(100000)"
      ],
      "execution_count": null,
      "outputs": []
    },
    {
      "cell_type": "code",
      "metadata": {
        "colab": {
          "base_uri": "https://localhost:8080/"
        },
        "id": "BazmXOTXmRuV",
        "outputId": "eefe157a-89e0-4cbb-f890-118267ed9a6d"
      },
      "source": [
        "meu_carro_usado.ler_hodometro()"
      ],
      "execution_count": null,
      "outputs": [
        {
          "output_type": "stream",
          "text": [
            "Este carro já rodou cerca de 100000 km.\n"
          ],
          "name": "stdout"
        }
      ]
    },
    {
      "cell_type": "code",
      "metadata": {
        "id": "2qp3YnYlmWrI"
      },
      "source": [
        "meu_carro_usado.incrementar_hodometro(30000)"
      ],
      "execution_count": null,
      "outputs": []
    },
    {
      "cell_type": "code",
      "metadata": {
        "colab": {
          "base_uri": "https://localhost:8080/"
        },
        "id": "fEDO_UlgmgLZ",
        "outputId": "4b078084-850a-4458-d212-685564aef265"
      },
      "source": [
        "meu_carro_usado.ler_hodometro()"
      ],
      "execution_count": null,
      "outputs": [
        {
          "output_type": "stream",
          "text": [
            "Este carro já rodou cerca de 130000 km.\n"
          ],
          "name": "stdout"
        }
      ]
    },
    {
      "cell_type": "code",
      "metadata": {
        "colab": {
          "base_uri": "https://localhost:8080/"
        },
        "id": "fij8VT79mi9S",
        "outputId": "1911c444-401e-4005-979d-6a3dda3922d0"
      },
      "source": [
        "meu_carro_usado.incrementar_hodometro(-20)"
      ],
      "execution_count": null,
      "outputs": [
        {
          "output_type": "stream",
          "text": [
            "Não é possível adicionar valores negativos\n"
          ],
          "name": "stdout"
        }
      ]
    },
    {
      "cell_type": "markdown",
      "metadata": {
        "id": "lB3IxQOKnCP0"
      },
      "source": [
        "Podemos usar métodos como esse para controlar o modo como os usuários de seu programa atualizam informações como o valor de leitura do hodômetro, mas qualquer pessoa com acesso ao programa poderá definir o valor do hodômetro com um valor qualquer acessando o atributo diretamente. Uma segurança eficiente exige atenção extrema aos detalhes, além de verificações básicas como essas mostradas aqui."
      ]
    },
    {
      "cell_type": "markdown",
      "metadata": {
        "id": "ddis5-nBnXVE"
      },
      "source": [
        "####9.4Exercício"
      ]
    },
    {
      "cell_type": "code",
      "metadata": {
        "id": "HQw386XcQ2s4"
      },
      "source": [
        "class Restaurante():\n",
        "  '''Cria um resturante'''\n",
        "\n",
        "  def __init__(self, nome, culinaria):\n",
        "    '''Inicializa os atributos'''\n",
        "    self.nome = nome\n",
        "    self.culinaria = culinaria\n",
        "    self.num_servidos = 0\n",
        "  \n",
        "  def conf_num_servidos(self, servidos):\n",
        "    '''adiciona um valor ao numero de servidos'''\n",
        "    self.num_servidos = servidos\n",
        "  \n",
        "  def incrementar_num_servidos(self, incremento):\n",
        "    '''incrementa um valor ao numero de servidos'''\n",
        "    self.num_servidos += incremento\n",
        "\n",
        "  def mostra_num_servidos(self):\n",
        "    '''Mostra o número de pedidos'''\n",
        "    print('Hoja já foram servidos cerca de ' + str(self.num_servidos) + ' clientes.' )\n",
        "\n",
        "  def descreve_restaurante(self):\n",
        "    '''Mostra o nome e o tipo de culinária do restaurante'''\n",
        "    print('\\nO restaurante ' + self.nome.title() + \n",
        "          ' é especialista na culinária '+ self.culinaria + '.')\n",
        "    \n",
        "  def abrir_restaurante(self):\n",
        "    '''Mostra que o restaurante está aberto'''\n",
        "    print('O restaurante ' + self.nome.title() + ' está aberto !')"
      ],
      "execution_count": null,
      "outputs": []
    },
    {
      "cell_type": "code",
      "metadata": {
        "id": "ettTcW4WRqQJ"
      },
      "source": [
        "restaurante_um = Restaurante('yamato', 'japonesa')"
      ],
      "execution_count": null,
      "outputs": []
    },
    {
      "cell_type": "code",
      "metadata": {
        "colab": {
          "base_uri": "https://localhost:8080/"
        },
        "id": "-IVtxpHwToQ4",
        "outputId": "c7922654-b4b6-4b2c-85ef-1400cec2d088"
      },
      "source": [
        "restaurante_um.descreve_restaurante()"
      ],
      "execution_count": null,
      "outputs": [
        {
          "output_type": "stream",
          "text": [
            "\n",
            "O restaurante Yamato é especialista na culinária japonesa.\n"
          ],
          "name": "stdout"
        }
      ]
    },
    {
      "cell_type": "code",
      "metadata": {
        "colab": {
          "base_uri": "https://localhost:8080/"
        },
        "id": "2-IwpCmITy2R",
        "outputId": "8fffa3c0-d12b-441e-8dce-aace38de0bf0"
      },
      "source": [
        "restaurante_um.abrir_restaurante()"
      ],
      "execution_count": null,
      "outputs": [
        {
          "output_type": "stream",
          "text": [
            "O restaurante Yamato está aberto !\n"
          ],
          "name": "stdout"
        }
      ]
    },
    {
      "cell_type": "code",
      "metadata": {
        "id": "gwdc0dtrT2FG"
      },
      "source": [
        "restaurante_um.conf_num_servidos(40)"
      ],
      "execution_count": null,
      "outputs": []
    },
    {
      "cell_type": "code",
      "metadata": {
        "colab": {
          "base_uri": "https://localhost:8080/"
        },
        "id": "vzrePVvIVHyr",
        "outputId": "21a7616f-c158-48b9-a549-6b5766f67600"
      },
      "source": [
        "restaurante_um.mostra_num_servidos()"
      ],
      "execution_count": null,
      "outputs": [
        {
          "output_type": "stream",
          "text": [
            "Hoja já foram servidos cerca de 40 clientes.\n"
          ],
          "name": "stdout"
        }
      ]
    },
    {
      "cell_type": "code",
      "metadata": {
        "id": "Y25cfRdIVKV_"
      },
      "source": [
        "restaurante_um.incrementar_num_servidos(40)"
      ],
      "execution_count": null,
      "outputs": []
    },
    {
      "cell_type": "code",
      "metadata": {
        "colab": {
          "base_uri": "https://localhost:8080/"
        },
        "id": "9EhHdbcbVWsY",
        "outputId": "81bcc53d-7808-4b38-f4b3-9f03122491d2"
      },
      "source": [
        "restaurante_um.mostra_num_servidos()"
      ],
      "execution_count": null,
      "outputs": [
        {
          "output_type": "stream",
          "text": [
            "Hoja já foram servidos cerca de 80 clientes.\n"
          ],
          "name": "stdout"
        }
      ]
    },
    {
      "cell_type": "markdown",
      "metadata": {
        "id": "fRBJ2lhxVa2a"
      },
      "source": [
        "###Herança"
      ]
    },
    {
      "cell_type": "markdown",
      "metadata": {
        "id": "qAUhPJw7YQTT"
      },
      "source": [
        "Nem sempre você precisará começar do zero para escrever uma classe. Se a\n",
        "classe que você estiver escrevendo for uma versão especializada de outra\n",
        "classe já criada, a herança poderá ser usada. Quando uma classe herda de\n",
        "outra, ela assumirá automaticamente todos os atributos e métodos da\n",
        "primeira classe. A classe original se chama classe-pai e a nova classe é a\n",
        "classe-filha. A classe-filha herda todos os atributos e método de sua classepai,\n",
        "mas também é livre para definir novos atributos e métodos próprios."
      ]
    },
    {
      "cell_type": "markdown",
      "metadata": {
        "id": "MzVFj0PGYnUs"
      },
      "source": [
        "####Método __init__() de uma classe-filha"
      ]
    },
    {
      "cell_type": "markdown",
      "metadata": {
        "id": "lsIbfIOjZDf3"
      },
      "source": [
        "A primeira tarefa de Python ao criar uma instância de uma classe-filha é\n",
        "atribuir valores a todos os atributos da classe-pai.\n",
        "\n",
        "Por exemplo, vamos criar um classe filha chamada CarroEletrico a partir da classe pai Car. "
      ]
    },
    {
      "cell_type": "code",
      "metadata": {
        "id": "UvCiwyMFZtlM"
      },
      "source": [
        "class Car():\n",
        "  '''Uma tentativa simples de fazer um carro.'''\n",
        "\n",
        "  def __init__(self, marca, modelo, ano):\n",
        "    '''Inicializa os atributos'''\n",
        "    self.marca = marca\n",
        "    self.modelo = modelo\n",
        "    self.ano = ano\n",
        "    self.valor_hodometro = 0 #Inicia o atributo valor_hodometro \n",
        "  \n",
        "  def get_nome_descritivo(self):\n",
        "    '''Devolve um nome descritivo, formatado de modo elegante'''\n",
        "    nome_longo = str(self.ano) + ' ' + self.marca + ' ' + self.modelo\n",
        "    return nome_longo.title()\n",
        "  \n",
        "  def atualiza_hodometro(self, quilometragem):\n",
        "    '''Define um novo valor de quilometragem ao odômetro'''\n",
        "    if quilometragem >= self.valor_hodometro:\n",
        "      self.valor_hodometro = quilometragem\n",
        "    else:\n",
        "      print('Não é possível diminuir ou zerar o valor do hodômetro')\n",
        "  \n",
        "  def incrementar_hodometro(self, quilometros):\n",
        "    '''Soma uma quatidade especifica ao valor do hodômetro'''\n",
        "    if quilometros >= 0:\n",
        "      self.valor_hodometro += quilometros\n",
        "    else:\n",
        "      print('Não é possível adicionar valores negativos')\n",
        "\n",
        "  def ler_hodometro(self):\n",
        "    '''Devolve um nome descritivo, formatado de modo elegante'''\n",
        "    print('Este carro já rodou cerca de ' + str(self.valor_hodometro) + ' km.')\n",
        "\n",
        "\n",
        "class CarroEletrico(Car):\n",
        "  '''Cria um carro eletrico genério a partir da classe Car'''\n",
        "\n",
        "  def __init__(self, marca, modelo, ano):\n",
        "    '''Inicializa os atributos da classe Car'''\n",
        "    super().__init__(marca, modelo, ano)"
      ],
      "execution_count": null,
      "outputs": []
    },
    {
      "cell_type": "code",
      "metadata": {
        "id": "Rp8CB08aaqBr"
      },
      "source": [
        "meu_tesla = CarroEletrico('tesla', 'model S', 2016)"
      ],
      "execution_count": null,
      "outputs": []
    },
    {
      "cell_type": "code",
      "metadata": {
        "colab": {
          "base_uri": "https://localhost:8080/"
        },
        "id": "qUW0AQFja14i",
        "outputId": "b57ae1fc-192d-4709-a639-24df65671f92"
      },
      "source": [
        "print(meu_tesla.get_nome_descritivo())"
      ],
      "execution_count": null,
      "outputs": [
        {
          "output_type": "stream",
          "text": [
            "2016 Tesla Model S\n"
          ],
          "name": "stdout"
        }
      ]
    },
    {
      "cell_type": "markdown",
      "metadata": {
        "id": "hXFYhMhja8AP"
      },
      "source": [
        "Quando criamos uma classe-filha, a classe-pai deve fazer parte do arquivo atual e deve aparecer antes da classe-filha no arquivo.\n",
        "\n",
        "\n",
        "\n"
      ]
    },
    {
      "cell_type": "markdown",
      "metadata": {
        "id": "hFRNCoi8bnBt"
      },
      "source": [
        "A função `super()` é uma função especial que ajuda Python a criar conexões entre a classe-pai e a classe-filha. Ela faz com que o método  `__init()__` da classe-pai seja chamado e todos os atributos da classe-pai sejam conferidos a classe-filha.\n",
        "\n",
        "O nome _super_ é derivado de uma conveção segundo a qual a classe-pai se chama _superclasse_ e a classe filha se chama _subclasse_.\n",
        "\n",
        "https://stackoverflow.com/questions/576169/understanding-python-super-with-init-methods\n",
        "\n",
        "\n",
        "\n"
      ]
    },
    {
      "cell_type": "markdown",
      "metadata": {
        "id": "uhQE-yDDqlmr"
      },
      "source": [
        "####Definindo atributos e métodos da classe-filha"
      ]
    },
    {
      "cell_type": "code",
      "metadata": {
        "id": "9G9FlQ71tc7l"
      },
      "source": [
        "class Car():\n",
        "  '''Uma tentativa simples de fazer um carro.'''\n",
        "\n",
        "  def __init__(self, marca, modelo, ano):\n",
        "    '''Inicializa os atributos'''\n",
        "    self.marca = marca\n",
        "    self.modelo = modelo\n",
        "    self.ano = ano\n",
        "    self.valor_hodometro = 0 #Inicia o atributo valor_hodometro \n",
        "  \n",
        "  def get_nome_descritivo(self):\n",
        "    '''Devolve um nome descritivo, formatado de modo elegante'''\n",
        "    nome_longo = str(self.ano) + ' ' + self.marca + ' ' + self.modelo\n",
        "    return nome_longo.title()\n",
        "  \n",
        "  def atualiza_hodometro(self, quilometragem):\n",
        "    '''Define um novo valor de quilometragem ao odômetro'''\n",
        "    if quilometragem >= self.valor_hodometro:\n",
        "      self.valor_hodometro = quilometragem\n",
        "    else:\n",
        "      print('Não é possível diminuir ou zerar o valor do hodômetro')\n",
        "  \n",
        "  def incrementar_hodometro(self, quilometros):\n",
        "    '''Soma uma quatidade especifica ao valor do hodômetro'''\n",
        "    if quilometros >= 0:\n",
        "      self.valor_hodometro += quilometros\n",
        "    else:\n",
        "      print('Não é possível adicionar valores negativos')\n",
        "\n",
        "  def ler_hodometro(self):\n",
        "    '''Devolve um nome descritivo, formatado de modo elegante'''\n",
        "    print('Este carro já rodou cerca de ' + str(self.valor_hodometro) + ' km.')\n",
        "\n",
        "\n",
        "class CarroEletrico(Car):\n",
        "  '''Cria um carro eletrico genério a partir da classe Car'''\n",
        "\n",
        "  def __init__(self, marca, modelo, ano):\n",
        "    '''Inicializa os atributos da classe Car'''\n",
        "    super().__init__(marca, modelo, ano)\n",
        "    self.tamanho_bateria = 85\n",
        "  \n",
        "  def descreve_bateria(self):\n",
        "    '''Exibe a capacidade da bateria do carro elétrico'''\n",
        "    print('A energia elétrica que a bateria consegue fornecer é de cerda de ' +\n",
        "          str(self.tamanho_bateria) + ' kWh.')\n"
      ],
      "execution_count": null,
      "outputs": []
    },
    {
      "cell_type": "code",
      "metadata": {
        "id": "S9UNVW95wEaT"
      },
      "source": [
        "meu_tesla = CarroEletrico('tesla', 'model S', 2016)"
      ],
      "execution_count": null,
      "outputs": []
    },
    {
      "cell_type": "code",
      "metadata": {
        "colab": {
          "base_uri": "https://localhost:8080/"
        },
        "id": "L_uCjx0PwNqO",
        "outputId": "4b20c7cf-e729-449d-f1f8-1ba23c418280"
      },
      "source": [
        "meu_tesla.descreve_bateria()"
      ],
      "execution_count": null,
      "outputs": [
        {
          "output_type": "stream",
          "text": [
            "A energia elétrica que a bateria consegue fornecer é de cerda de 85 kWh.\n"
          ],
          "name": "stdout"
        }
      ]
    },
    {
      "cell_type": "markdown",
      "metadata": {
        "id": "RwsM6zP7wS_g"
      },
      "source": [
        "####Sobrescrevendo métodos da classe-pai"
      ]
    },
    {
      "cell_type": "markdown",
      "metadata": {
        "id": "zdYO3RdXw5Lx"
      },
      "source": [
        "Qualquer método da classe-pai que não se enquadre no que você estiver tentando modelar com a classe-filha pode ser sobrescrito. Para isso, defina\n",
        "um método na classe-filha com o mesmo nome do método da classe-pai\n",
        "que você deseja sobrescrever. Python desprezará o método da classe-pai e\n",
        "só prestará atenção no método definido na classe-filha."
      ]
    },
    {
      "cell_type": "code",
      "metadata": {
        "id": "PcIitF2MxM06"
      },
      "source": [
        "class Car():\n",
        "  '''Uma tentativa simples de fazer um carro.'''\n",
        "\n",
        "  def __init__(self, marca, modelo, ano):\n",
        "    '''Inicializa os atributos'''\n",
        "    self.marca = marca\n",
        "    self.modelo = modelo\n",
        "    self.ano = ano\n",
        "    self.valor_hodometro = 0 #Inicia o atributo valor_hodometro\n",
        "    self.tanque = 0 \n",
        "  \n",
        "  def get_nome_descritivo(self):\n",
        "    '''Devolve um nome descritivo, formatado de modo elegante'''\n",
        "    nome_longo = str(self.ano) + ' ' + self.marca + ' ' + self.modelo\n",
        "    return nome_longo.title()\n",
        "  \n",
        "  def atualiza_hodometro(self, quilometragem):\n",
        "    '''Define um novo valor de quilometragem ao odômetro'''\n",
        "    if quilometragem >= self.valor_hodometro:\n",
        "      self.valor_hodometro = quilometragem\n",
        "    else:\n",
        "      print('Não é possível diminuir ou zerar o valor do hodômetro')\n",
        "  \n",
        "  def incrementar_hodometro(self, quilometros):\n",
        "    '''Soma uma quatidade especifica ao valor do hodômetro'''\n",
        "    if quilometros >= 0:\n",
        "      self.valor_hodometro += quilometros\n",
        "    else:\n",
        "      print('Não é possível adicionar valores negativos')\n",
        "\n",
        "  def ler_hodometro(self):\n",
        "    '''Devolve um nome descritivo, formatado de modo elegante'''\n",
        "    print('Este carro já rodou cerca de ' + str(self.valor_hodometro) + ' km.')\n",
        "\n",
        "  def capacidade_tanque(self, litros):\n",
        "    '''Define uma capacidade para o tanque de gasolina e \n",
        "    exibe essa capacidade na tela.'''\n",
        "    self.tanque = litros\n",
        "    print('A capacidade do tanque foi estabelecida em ' \n",
        "          + str(self.tanque) + ' L.')  \n",
        "\n",
        "\n",
        "class CarroEletrico(Car):\n",
        "  '''Cria um carro eletrico genério a partir da classe Car'''\n",
        "\n",
        "  def __init__(self, marca, modelo, ano):\n",
        "    '''Inicializa os atributos da classe Car'''\n",
        "    super().__init__(marca, modelo, ano)\n",
        "    self.tamanho_bateria = 85\n",
        "  \n",
        "  def descreve_bateria(self):\n",
        "    '''Exibe a capacidade da bateria do carro elétrico'''\n",
        "    print('A energia elétrica que a bateria consegue fornecer é de cerda de ' \n",
        "          + str(self.tamanho_bateria) + ' kWh.')\n",
        "    \n",
        "  def capacidade_tanque(self, litros):\n",
        "    '''Carros elétricos não têm tanque de gasolina'''\n",
        "    print('Carros elétricos não têm tanque de gasolina.')    \n",
        "  \n",
        "  \n"
      ],
      "execution_count": null,
      "outputs": []
    },
    {
      "cell_type": "code",
      "metadata": {
        "id": "1jKD5jiyyyje"
      },
      "source": [
        "meu_tesla = CarroEletrico('tesla', 'model S', 2016)"
      ],
      "execution_count": null,
      "outputs": []
    },
    {
      "cell_type": "code",
      "metadata": {
        "id": "NwlIz5GEzyrk"
      },
      "source": [
        "meu_audi = Car('audi', 'a4', 2016)"
      ],
      "execution_count": null,
      "outputs": []
    },
    {
      "cell_type": "code",
      "metadata": {
        "colab": {
          "base_uri": "https://localhost:8080/"
        },
        "id": "xhjF4kArz63K",
        "outputId": "0e184676-5c6c-458e-c16d-cd8c3d86c47f"
      },
      "source": [
        "meu_audi.capacidade_tanque(58)"
      ],
      "execution_count": null,
      "outputs": [
        {
          "output_type": "stream",
          "text": [
            "A capacidade do tanque foi estabelecida em 58 L.\n"
          ],
          "name": "stdout"
        }
      ]
    },
    {
      "cell_type": "code",
      "metadata": {
        "colab": {
          "base_uri": "https://localhost:8080/"
        },
        "id": "5WuTBdQS0E6u",
        "outputId": "10793318-3ec5-4ade-9d52-0b556bb67177"
      },
      "source": [
        "meu_tesla.capacidade_tanque(58)"
      ],
      "execution_count": null,
      "outputs": [
        {
          "output_type": "stream",
          "text": [
            "Carros elétricos não têm tanque de gasolina\n"
          ],
          "name": "stdout"
        }
      ]
    },
    {
      "cell_type": "markdown",
      "metadata": {
        "id": "lgNN8IZ10MKE"
      },
      "source": [
        "####Instâncias como atributos"
      ]
    },
    {
      "cell_type": "markdown",
      "metadata": {
        "id": "QwRP4v-R2zEW"
      },
      "source": [
        "Caso uma classe comece a ficar muito cheia de métodos e atributos, podemos criar classes menores, mais especificas para conter estes métodos e atributos e então trabalhar com classes menores.\n",
        "\n",
        "Por exempo, podemos criar uma classe Bateria para que esta possa conter todos os atributos e métodos relacionados a bateria e então usar uma instância de Bateria como um atributo da classe CarroEletrico."
      ]
    },
    {
      "cell_type": "code",
      "metadata": {
        "id": "_SbwSVev4OS5"
      },
      "source": [
        "class Car():\n",
        "  '''Uma tentativa simples de fazer um carro.'''\n",
        "\n",
        "  def __init__(self, marca, modelo, ano):\n",
        "    '''Inicializa os atributos'''\n",
        "    self.marca = marca\n",
        "    self.modelo = modelo\n",
        "    self.ano = ano\n",
        "    self.valor_hodometro = 0 #Inicia o atributo valor_hodometro\n",
        "    self.tanque = 0 \n",
        "  \n",
        "  def get_nome_descritivo(self):\n",
        "    '''Devolve um nome descritivo, formatado de modo elegante'''\n",
        "    nome_longo = str(self.ano) + ' ' + self.marca + ' ' + self.modelo\n",
        "    return nome_longo.title()\n",
        "  \n",
        "  def atualiza_hodometro(self, quilometragem):\n",
        "    '''Define um novo valor de quilometragem ao odômetro'''\n",
        "    if quilometragem >= self.valor_hodometro:\n",
        "      self.valor_hodometro = quilometragem\n",
        "    else:\n",
        "      print('Não é possível diminuir ou zerar o valor do hodômetro')\n",
        "  \n",
        "  def incrementar_hodometro(self, quilometros):\n",
        "    '''Soma uma quatidade especifica ao valor do hodômetro'''\n",
        "    if quilometros >= 0:\n",
        "      self.valor_hodometro += quilometros\n",
        "    else:\n",
        "      print('Não é possível adicionar valores negativos')\n",
        "\n",
        "  def ler_hodometro(self):\n",
        "    '''Devolve um nome descritivo, formatado de modo elegante'''\n",
        "    print('Este carro já rodou cerca de ' + str(self.valor_hodometro) + ' km.')\n",
        "\n",
        "  def capacidade_tanque(self, litros):\n",
        "    '''Define uma capacidade para o tanque de gasolina e \n",
        "    exibe essa capacidade na tela.'''\n",
        "    self.tanque = litros\n",
        "    print('A capacidade do tanque foi estabelecida em ' \n",
        "          + str(self.tanque) + ' L.')  \n",
        "\n",
        "\n",
        "\n",
        "class Bateria():\n",
        "  '''Uma tentatica simples de modelar uma bateria para um carro elétrico'''\n",
        "\n",
        "  def __init__(self, tamanho_bateria = 85 ):   \n",
        "    '''Inicializa os atributos da bateria.'''\n",
        "    self.tamanho_bateria = tamanho_bateria\n",
        "\n",
        "  def descreve_bateria(self):\n",
        "    '''Exibe a capacidade da bateria do carro elétrico'''\n",
        "    print('A energia elétrica que a bateria consegue fornecer é de cerda de ' \n",
        "          + str(self.tamanho_bateria) + ' kWh.')\n",
        "\n",
        "\n",
        "\n",
        "class CarroEletrico(Car):\n",
        "  '''Cria um carro eletrico genério a partir da classe Car'''\n",
        "\n",
        "  def __init__(self, marca, modelo, ano):\n",
        "    '''Inicializa os atributos da classe Car'''\n",
        "    super().__init__(marca, modelo, ano)\n",
        "    self.car_bateria = Bateria() \n",
        "      \n",
        "  def capacidade_tanque(self, litros):\n",
        "    '''Carros elétricos não têm tanque de gasolina'''\n",
        "    print('Carros elétricos não têm tanque de gasolina.')    \n",
        "  \n",
        "  \n"
      ],
      "execution_count": null,
      "outputs": []
    },
    {
      "cell_type": "code",
      "metadata": {
        "id": "8IvpMmmW4Q5S"
      },
      "source": [
        "meu_tesla = CarroEletrico('tesla', 'model S', 2016)"
      ],
      "execution_count": null,
      "outputs": []
    },
    {
      "cell_type": "code",
      "metadata": {
        "colab": {
          "base_uri": "https://localhost:8080/"
        },
        "id": "W8zuKw706YjV",
        "outputId": "ef4e58be-2cce-4c1e-bd57-1ceb658d2294"
      },
      "source": [
        "meu_tesla.car_bateria.descreve_bateria()"
      ],
      "execution_count": null,
      "outputs": [
        {
          "output_type": "stream",
          "text": [
            "A energia elétrica que a bateria consegue fornecer é de cerda de 85 kWh.\n"
          ],
          "name": "stdout"
        }
      ]
    },
    {
      "cell_type": "markdown",
      "metadata": {
        "id": "MiVdZhVI6ceE"
      },
      "source": [
        "A linha:\n",
        "\n",
        "```python\n",
        "self.car_bateria = Bateria()\n",
        "```\n",
        "\n",
        "cria um objeto da classe Bateria e armazena-o no atributo car_bateria. Isso acontecerá sempre que o método `__init__()` for chamado.\n",
        "\n",
        "\n",
        "A linha:\n",
        "\n",
        "```python\n",
        "meu_tesla.car_bateria.descreve_bateria()\n",
        "```\n",
        "\n",
        "usa o objeto meu_tesla para encontrar seu atributo car_bateria e chama o método descreve_bateria() associado ao objeto da classe Bateria armazena neste atributo."
      ]
    },
    {
      "cell_type": "markdown",
      "metadata": {
        "id": "Vz04V3MC7m1a"
      },
      "source": [
        "####9.6Exercício"
      ]
    },
    {
      "cell_type": "code",
      "metadata": {
        "id": "HIrOYoVKwr-P"
      },
      "source": [
        "class Restaurante():\n",
        "  '''Cria um resturante'''\n",
        "\n",
        "  def __init__(self, nome, culinaria):\n",
        "    '''Inicializa os atributos'''\n",
        "    self.nome = nome\n",
        "    self.culinaria = culinaria\n",
        "  \n",
        "  def descreve_restaurante(self):\n",
        "    '''Mostra o nome e o tipo de culinária do restaurante'''\n",
        "    print('\\nO restaurante ' + self.nome.title() + \n",
        "          ' é especialista na culinária '+ self.culinaria + '.')\n",
        "    \n",
        "  def abrir_restaurante(self):\n",
        "    '''Mostra que o restaurante está aberto'''\n",
        "    print('O restaurante ' + self.nome.title() + ' está aberto !')\n",
        "\n",
        "\n",
        "\n",
        "class Soverteria(Restaurante):\n",
        "  '''Cria uma sorveteria baseada na classe restaurante'''\n",
        "\n",
        "  def __init__(self, nome, culinaria):\n",
        "    '''Inicializa os atributos da classe Restaurante'''\n",
        "    super().__init__(nome, culinaria)\n",
        "    self.sabores = ['chocolate', 'morango', 'abacaxi','vinho','milho verde']\n",
        "\n",
        "  def mostrar_sabores (self):\n",
        "    '''Mostra os sbores de sorvete'''\n",
        "    for i in self.sabores:\n",
        "      print(i)  \n",
        "\n",
        "     \n",
        "\n"
      ],
      "execution_count": null,
      "outputs": []
    },
    {
      "cell_type": "code",
      "metadata": {
        "id": "li496_KC0Vry"
      },
      "source": [
        "sorveteria_1 = Soverteria('MuitoGelado','sorveteria')"
      ],
      "execution_count": null,
      "outputs": []
    },
    {
      "cell_type": "code",
      "metadata": {
        "colab": {
          "base_uri": "https://localhost:8080/"
        },
        "id": "-LWKc49_0tUz",
        "outputId": "d097c5b6-99c2-4896-8f1d-0fd4ff9f5ab6"
      },
      "source": [
        "sorveteria_1.descreve_restaurante()"
      ],
      "execution_count": null,
      "outputs": [
        {
          "output_type": "stream",
          "text": [
            "\n",
            "O restaurante Muitogelado é especialista na culinária sorveteria.\n"
          ],
          "name": "stdout"
        }
      ]
    },
    {
      "cell_type": "code",
      "metadata": {
        "colab": {
          "base_uri": "https://localhost:8080/"
        },
        "id": "VilbRS1d2OE1",
        "outputId": "fd7adb23-a071-411e-b3fa-bd618c87e683"
      },
      "source": [
        "sorveteria_1.mostrar_sabores()"
      ],
      "execution_count": null,
      "outputs": [
        {
          "output_type": "stream",
          "text": [
            "chocolate\n",
            "morango\n",
            "abacaxi\n",
            "vinho\n",
            "milho verde\n"
          ],
          "name": "stdout"
        }
      ]
    },
    {
      "cell_type": "markdown",
      "metadata": {
        "id": "cGESvXyT2REG"
      },
      "source": [
        "####9.7Exercício"
      ]
    },
    {
      "cell_type": "code",
      "metadata": {
        "id": "hcjLzbwC1ZuJ"
      },
      "source": [
        "class Usuario():\n",
        "  '''Cria um usuário padrão'''\n",
        "\n",
        "  def __init__(self, nome, sobrenome, apelido, sexo, idade):\n",
        "    '''Inicializa os atributos'''\n",
        "    self.nome = nome\n",
        "    self.sobrenome = sobrenome\n",
        "    self.apelido = apelido\n",
        "    self.sexo = sexo\n",
        "    self.idade = idade\n",
        "  \n",
        "  def descrever_usuario(self):\n",
        "    '''Apresenta um resumo das informações do usuário'''\n",
        "    print('Nome Completo: ' + self.nome + ' ' + self.sobrenome)\n",
        "    print('Apelido: ' + self.apelido)\n",
        "    print('Sexo: ' + self.sexo)\n",
        "    print(\"idade: \" + str(self.idade))\n",
        "\n",
        "  def saudar_usuario(self):\n",
        "    print('Seja muito bem-vindo(a), ' + self.nome + ' ' + self.sobrenome)\n",
        "\n",
        "\n",
        "\n",
        "class Admin(Usuario):\n",
        "   \n",
        "   def __init__(self, nome, sobrenome, apelido, sexo, idade):\n",
        "    '''Inicializa os atributos'''\n",
        "    super().__init__(nome, sobrenome, apelido, sexo, idade)\n",
        "    self.privilegios = ['Pode publicar', 'Pode excluir publicação', \n",
        "                        'pode banir usuario']\n",
        "                    \n",
        "   def mostrar_privilegios(self):\n",
        "    '''Mostra os privilégios do usuario admin'''    \n",
        "    print('Este usuario é um admin e estes são os privilégios do admin: ')\n",
        "    for i in self.privilegios:\n",
        "      print('- ' + i)"
      ],
      "execution_count": null,
      "outputs": []
    },
    {
      "cell_type": "code",
      "metadata": {
        "id": "kl-AJieq4XXB"
      },
      "source": [
        "user_1 = Admin('carlos', 'silva', 'carlito', 'masculino', 25)"
      ],
      "execution_count": null,
      "outputs": []
    },
    {
      "cell_type": "code",
      "metadata": {
        "colab": {
          "base_uri": "https://localhost:8080/"
        },
        "id": "LZeScYwb4oug",
        "outputId": "82ba8d14-bf5d-4f7d-ca6e-4ce4a1037755"
      },
      "source": [
        "user_1.descrever_usuario()"
      ],
      "execution_count": null,
      "outputs": [
        {
          "output_type": "stream",
          "text": [
            "Nome Completo: carlos silva\n",
            "Apelido: carlito\n",
            "Sexo: masculino\n",
            "idade: 25\n"
          ],
          "name": "stdout"
        }
      ]
    },
    {
      "cell_type": "code",
      "metadata": {
        "colab": {
          "base_uri": "https://localhost:8080/"
        },
        "id": "QKUWksqm4sqt",
        "outputId": "0457ebac-1c2c-4632-e6c8-4ea0da71b5c4"
      },
      "source": [
        "user_1.mostrar_privilegios()"
      ],
      "execution_count": null,
      "outputs": [
        {
          "output_type": "stream",
          "text": [
            "Este usuario é um admin e estes são os privilégios do admin: \n",
            "- Pode publicar\n",
            "- Pode excluir publicação\n",
            "- pode banir usuario\n"
          ],
          "name": "stdout"
        }
      ]
    },
    {
      "cell_type": "markdown",
      "metadata": {
        "id": "FYNnQfTP-mZU"
      },
      "source": [
        "####9.8Exercício"
      ]
    },
    {
      "cell_type": "code",
      "metadata": {
        "id": "-eM3vOZj_cZR"
      },
      "source": [
        "class Usuario():\n",
        "  '''Cria um usuário padrão'''\n",
        "\n",
        "  def __init__(self, nome, sobrenome, apelido, sexo, idade):\n",
        "    '''Inicializa os atributos'''\n",
        "    self.nome = nome\n",
        "    self.sobrenome = sobrenome\n",
        "    self.apelido = apelido\n",
        "    self.sexo = sexo\n",
        "    self.idade = idade\n",
        "  \n",
        "  def descrever_usuario(self):\n",
        "    '''Apresenta um resumo das informações do usuário'''\n",
        "    print('Nome Completo: ' + self.nome + ' ' + self.sobrenome)\n",
        "    print('Apelido: ' + self.apelido)\n",
        "    print('Sexo: ' + self.sexo)\n",
        "    print(\"idade: \" + str(self.idade))\n",
        "\n",
        "  def saudar_usuario(self):\n",
        "    print('Seja muito bem-vindo(a), ' + self.nome + ' ' + self.sobrenome)\n",
        "\n",
        "\n",
        "\n",
        "class PrivilegiosAdmin():\n",
        "  '''Define os privilégios do Admin'''\n",
        "\n",
        "  def __init__(self):\n",
        "    '''Inicializa os atributos'''\n",
        "    self.privilegios = ['Pode publicar', 'Pode excluir publicação', \n",
        "                        'pode banir usuario']\n",
        "    \n",
        "  def mostrar_privilegios(self):\n",
        "    '''Mostra os privilégios do usuario admin'''    \n",
        "    print('Este usuario é um admin e estes são os privilégios do admin: ')\n",
        "    for i in self.privilegios:\n",
        "      print('- ' + i)\n",
        "\n",
        "\n",
        "\n",
        "class Admin(Usuario):\n",
        "   \n",
        "   def __init__(self, nome, sobrenome, apelido, sexo, idade):\n",
        "    '''Inicializa os atributos'''\n",
        "    super().__init__(nome, sobrenome, apelido, sexo, idade)\n",
        "    self.privilegios_admin = PrivilegiosAdmin()\n",
        "    \n",
        "    \n",
        "                    \n",
        "  "
      ],
      "execution_count": null,
      "outputs": []
    },
    {
      "cell_type": "code",
      "metadata": {
        "id": "I6Sp9qkFCQgv"
      },
      "source": [
        "user_2 = Admin('carlos', 'silva', 'carlito', 'masculino', 25)"
      ],
      "execution_count": null,
      "outputs": []
    },
    {
      "cell_type": "code",
      "metadata": {
        "colab": {
          "base_uri": "https://localhost:8080/"
        },
        "id": "K0rDTyXLED-s",
        "outputId": "ef5574aa-82ac-44c0-e7b5-a3709adced15"
      },
      "source": [
        "user_2.descrever_usuario()"
      ],
      "execution_count": null,
      "outputs": [
        {
          "output_type": "stream",
          "text": [
            "Nome Completo: carlos silva\n",
            "Apelido: carlito\n",
            "Sexo: masculino\n",
            "idade: 25\n"
          ],
          "name": "stdout"
        }
      ]
    },
    {
      "cell_type": "code",
      "metadata": {
        "colab": {
          "base_uri": "https://localhost:8080/"
        },
        "id": "-kFRuwvAEKEQ",
        "outputId": "a5bc4175-df1c-4717-d759-513c9821885e"
      },
      "source": [
        "user_2.saudar_usuario()"
      ],
      "execution_count": null,
      "outputs": [
        {
          "output_type": "stream",
          "text": [
            "Seja muito bem-vindo(a), carlos silva\n"
          ],
          "name": "stdout"
        }
      ]
    },
    {
      "cell_type": "code",
      "metadata": {
        "colab": {
          "base_uri": "https://localhost:8080/"
        },
        "id": "dmqY1LdnEM3X",
        "outputId": "0e954995-7035-4977-9410-03dcc46185c9"
      },
      "source": [
        "user_2.privilegios_admin.mostrar_privilegios()"
      ],
      "execution_count": null,
      "outputs": [
        {
          "output_type": "stream",
          "text": [
            "Este usuario é um admin e estes são os privilégios do admin: \n",
            "- Pode publicar\n",
            "- Pode excluir publicação\n",
            "- pode banir usuario\n"
          ],
          "name": "stdout"
        }
      ]
    },
    {
      "cell_type": "markdown",
      "metadata": {
        "id": "82MPFpZIMrmv"
      },
      "source": [
        ""
      ]
    },
    {
      "cell_type": "markdown",
      "metadata": {
        "id": "Z9XVrm5ZMudP"
      },
      "source": [
        "####9.9Exercício"
      ]
    },
    {
      "cell_type": "code",
      "metadata": {
        "id": "6H7k0LL3HDRl"
      },
      "source": [
        "class Car():\n",
        "  '''Uma tentativa simples de fazer um carro.'''\n",
        "\n",
        "  def __init__(self, marca, modelo, ano):\n",
        "    '''Inicializa os atributos'''\n",
        "    self.marca = marca\n",
        "    self.modelo = modelo\n",
        "    self.ano = ano\n",
        "    self.valor_hodometro = 0 #Inicia o atributo valor_hodometro\n",
        "    self.tanque = 0 \n",
        "  \n",
        "  def get_nome_descritivo(self):\n",
        "    '''Devolve um nome descritivo, formatado de modo elegante'''\n",
        "    nome_longo = str(self.ano) + ' ' + self.marca + ' ' + self.modelo\n",
        "    return nome_longo.title()\n",
        "  \n",
        "  def atualiza_hodometro(self, quilometragem):\n",
        "    '''Define um novo valor de quilometragem ao odômetro'''\n",
        "    if quilometragem >= self.valor_hodometro:\n",
        "      self.valor_hodometro = quilometragem\n",
        "    else:\n",
        "      print('Não é possível diminuir ou zerar o valor do hodômetro')\n",
        "  \n",
        "  def incrementar_hodometro(self, quilometros):\n",
        "    '''Soma uma quatidade especifica ao valor do hodômetro'''\n",
        "    if quilometros >= 0:\n",
        "      self.valor_hodometro += quilometros\n",
        "    else:\n",
        "      print('Não é possível adicionar valores negativos')\n",
        "\n",
        "  def ler_hodometro(self):\n",
        "    '''Devolve um nome descritivo, formatado de modo elegante'''\n",
        "    print('Este carro já rodou cerca de ' + str(self.valor_hodometro) + ' km.')\n",
        "\n",
        "  def capacidade_tanque(self, litros):\n",
        "    '''Define uma capacidade para o tanque de gasolina e \n",
        "    exibe essa capacidade na tela.'''\n",
        "    self.tanque = litros\n",
        "    print('A capacidade do tanque foi estabelecida em ' \n",
        "          + str(self.tanque) + ' L.')  \n",
        "\n",
        "#-------------------\n",
        "\n",
        "class Bateria():\n",
        "  '''Uma tentatica simples de modelar uma bateria para um carro elétrico'''\n",
        "\n",
        "  def __init__(self):   \n",
        "    '''Inicializa os atributos da bateria.'''\n",
        "    self.tamanho_bateria = 75\n",
        "\n",
        "  def descreve_bateria(self):\n",
        "    '''Exibe a capacidade da bateria do carro elétrico'''\n",
        "    print('A energia elétrica que a bateria consegue fornecer é de cerda de ' \n",
        "          + str(self.tamanho_bateria) + ' kWh.')\n",
        "  \n",
        "  def autonomia(self):\n",
        "    '''Exibe a a distância que o carro é capaz de percorrer com essa bateria'''\n",
        "    if self.tamanho_bateria == 75:\n",
        "      autonomia = 480\n",
        "    elif self.tamanho_bateria == 85:\n",
        "      autonomia = 522\n",
        "    \n",
        "    msg = 'Possui autonomia de ' + str(autonomia) + ' km'\n",
        "    print(msg)\n",
        "\n",
        "  def aumentar_bateria (self):\n",
        "    '''Aumenta o tamnaho da baeria para 85 kWh'''\n",
        "    print('Realizando atualização da bateria...')\n",
        "    print('A capacidade de sua bateria agora é de 85 kWh.')\n",
        "    self.tamanho_bateria = 85\n",
        "\n",
        "#-------------------\n",
        "\n",
        "class CarroEletrico(Car):\n",
        "  '''Cria um carro eletrico genério a partir da classe Car'''\n",
        "\n",
        "  def __init__(self, marca, modelo, ano):\n",
        "    '''Inicializa os atributos da classe Car'''\n",
        "    super().__init__(marca, modelo, ano)\n",
        "    self.car_bateria = Bateria() \n",
        "      \n",
        "  def capacidade_tanque(self, litros):\n",
        "    '''Carros elétricos não têm tanque de gasolina'''\n",
        "    print('Carros elétricos não têm tanque de gasolina.')    \n",
        "\n"
      ],
      "execution_count": null,
      "outputs": []
    },
    {
      "cell_type": "code",
      "metadata": {
        "id": "--m1eAw-MqZq"
      },
      "source": [
        "meu_tesla = CarroEletrico('tesla', 'model S', 2016)"
      ],
      "execution_count": null,
      "outputs": []
    },
    {
      "cell_type": "code",
      "metadata": {
        "colab": {
          "base_uri": "https://localhost:8080/",
          "height": 36
        },
        "id": "wbzmh6AFQ2h9",
        "outputId": "17cf9dbd-0bbe-4659-dd65-07b4f76cede9"
      },
      "source": [
        "meu_tesla.get_nome_descritivo()"
      ],
      "execution_count": null,
      "outputs": [
        {
          "output_type": "execute_result",
          "data": {
            "application/vnd.google.colaboratory.intrinsic+json": {
              "type": "string"
            },
            "text/plain": [
              "'2016 Tesla Model S'"
            ]
          },
          "metadata": {
            "tags": []
          },
          "execution_count": 77
        }
      ]
    },
    {
      "cell_type": "code",
      "metadata": {
        "colab": {
          "base_uri": "https://localhost:8080/"
        },
        "id": "flIbWftWQ9EA",
        "outputId": "e0ed84ed-8966-4486-c059-030fe061695e"
      },
      "source": [
        "meu_tesla.car_bateria.descreve_bateria()"
      ],
      "execution_count": null,
      "outputs": [
        {
          "output_type": "stream",
          "text": [
            "A energia elétrica que a bateria consegue fornecer é de cerda de 75 kWh.\n"
          ],
          "name": "stdout"
        }
      ]
    },
    {
      "cell_type": "code",
      "metadata": {
        "colab": {
          "base_uri": "https://localhost:8080/"
        },
        "id": "ZfxMnMvSRK9V",
        "outputId": "bc3bb490-6227-4f91-dba1-3349704b33f7"
      },
      "source": [
        "meu_tesla.car_bateria.autonomia()"
      ],
      "execution_count": null,
      "outputs": [
        {
          "output_type": "stream",
          "text": [
            "Possui autonomia de 480 km\n"
          ],
          "name": "stdout"
        }
      ]
    },
    {
      "cell_type": "code",
      "metadata": {
        "colab": {
          "base_uri": "https://localhost:8080/"
        },
        "id": "njS7Z54zROuI",
        "outputId": "f78e7ed2-0908-497e-f8bc-59b7d6ae9fa9"
      },
      "source": [
        "meu_tesla.car_bateria.aumentar_bateria()"
      ],
      "execution_count": null,
      "outputs": [
        {
          "output_type": "stream",
          "text": [
            "Realizando atualização da bateria...\n",
            "A capacidade de sua bateria agora é de 85 kWh.\n"
          ],
          "name": "stdout"
        }
      ]
    },
    {
      "cell_type": "code",
      "metadata": {
        "colab": {
          "base_uri": "https://localhost:8080/"
        },
        "id": "bk28u2EkS_uE",
        "outputId": "34e7abd5-5191-4f65-c4b8-856fa4c33a9c"
      },
      "source": [
        "meu_tesla.car_bateria.descreve_bateria()"
      ],
      "execution_count": null,
      "outputs": [
        {
          "output_type": "stream",
          "text": [
            "A energia elétrica que a bateria consegue fornecer é de cerda de 85 kWh.\n"
          ],
          "name": "stdout"
        }
      ]
    },
    {
      "cell_type": "code",
      "metadata": {
        "colab": {
          "base_uri": "https://localhost:8080/"
        },
        "id": "TfX9ZJ2WTCsY",
        "outputId": "b5e4d102-49bd-426b-b5e5-1cd0e7258fe1"
      },
      "source": [
        "meu_tesla.car_bateria.autonomia()"
      ],
      "execution_count": null,
      "outputs": [
        {
          "output_type": "stream",
          "text": [
            "Possui autonomia de 522 km\n"
          ],
          "name": "stdout"
        }
      ]
    },
    {
      "cell_type": "markdown",
      "metadata": {
        "id": "tHUAi1NJTEjw"
      },
      "source": [
        "####Importando classes"
      ]
    },
    {
      "cell_type": "markdown",
      "metadata": {
        "id": "lUv48jK9GGj6"
      },
      "source": [
        "Para estar de acordo com a filosofia geral de Python, quanto menos entulhados\n",
        "estiverem seus arquivos, melhor será. Para ajudar, Python permite armazenar classes em módulos e então importar as classes necessárias em seu programa principal."
      ]
    },
    {
      "cell_type": "markdown",
      "metadata": {
        "id": "cwolZf1-G1lI"
      },
      "source": [
        "#####Importando classes no Colab"
      ]
    },
    {
      "cell_type": "markdown",
      "metadata": {
        "id": "2E4SO0T4Lg6V"
      },
      "source": [
        "Por estar trabalhando no Google Colab, se faz necessário o procedimento abaixo para se acessar um módulo no Google Drive e então importá-lo no Google Colab."
      ]
    },
    {
      "cell_type": "code",
      "metadata": {
        "colab": {
          "base_uri": "https://localhost:8080/"
        },
        "id": "FgOAohxiG9wO",
        "outputId": "a31b3dca-0ce5-414f-c115-2c1b419c046f"
      },
      "source": [
        "# Load the Drive helper and mount\n",
        "from google.colab import drive\n",
        "\n",
        "# This will prompt for authorization.\n",
        "drive.mount('/content/drive')"
      ],
      "execution_count": null,
      "outputs": [
        {
          "output_type": "stream",
          "text": [
            "Mounted at /content/drive\n"
          ],
          "name": "stdout"
        }
      ]
    },
    {
      "cell_type": "code",
      "metadata": {
        "colab": {
          "base_uri": "https://localhost:8080/"
        },
        "id": "H8WPNX6innqO",
        "outputId": "c1048ce0-9e05-4a49-9de7-b995a544faef"
      },
      "source": [
        "# After executing the cell above, Drive\n",
        "# files will be present in \"/content/drive/MyDrive\".\n",
        "!ls \"/content/drive/MyDrive\""
      ],
      "execution_count": null,
      "outputs": [
        {
          "output_type": "stream",
          "text": [
            "'Colab Notebooks'   Curso_Intensivo_Python_module   Data\n"
          ],
          "name": "stdout"
        }
      ]
    },
    {
      "cell_type": "code",
      "metadata": {
        "colab": {
          "base_uri": "https://localhost:8080/"
        },
        "id": "ZzwiltEw8_Am",
        "outputId": "77b008a4-5dbd-4038-a93b-d3893034b643"
      },
      "source": [
        "#Mostra o conteuódo dentro da pasta Curso_Intesivo_Python_modele\n",
        "!ls \"/content/drive/MyDrive/Curso_Intensivo_Python_module\""
      ],
      "execution_count": null,
      "outputs": [
        {
          "output_type": "stream",
          "text": [
            "car.py\tcarro_eletrico.py  car_zero.py\t__pycache__\n"
          ],
          "name": "stdout"
        }
      ]
    },
    {
      "cell_type": "code",
      "metadata": {
        "id": "hHTWP7Ul7KAd"
      },
      "source": [
        "#Importa o módulo sys\n",
        "#https://docs.python.org/3/library/sys.html#module-sys \n",
        "import sys"
      ],
      "execution_count": null,
      "outputs": []
    },
    {
      "cell_type": "markdown",
      "metadata": {
        "id": "sdAlRl61RUFT"
      },
      "source": [
        "sys.path é uma lista de caminhos usada para direcionar aonde o python deve buscar por módulos.\n",
        "\n",
        "https://docs.python.org/3/tutorial/modules.html#the-module-search-path\n",
        "\n",
        "\n",
        "https://docs.python.org/3/library/sys.html#sys.path\n",
        "\n",
        "\n",
        "https://www.johnny-lin.com/cdat_tips/tips_pylang/path.html\n",
        "\n",
        "Com o código abaixo é possível mostar todos os caminhos que estão armazenados na lista.\n"
      ]
    },
    {
      "cell_type": "code",
      "metadata": {
        "id": "b_31hXZORPym",
        "colab": {
          "base_uri": "https://localhost:8080/"
        },
        "outputId": "913882ec-a7a4-4ab9-e71a-7b0ba0f57a62"
      },
      "source": [
        "for i in sys.path:\n",
        "  print(i)"
      ],
      "execution_count": null,
      "outputs": [
        {
          "output_type": "stream",
          "text": [
            "\n",
            "/env/python\n",
            "/usr/lib/python36.zip\n",
            "/usr/lib/python3.6\n",
            "/usr/lib/python3.6/lib-dynload\n",
            "/usr/local/lib/python3.6/dist-packages\n",
            "/usr/lib/python3/dist-packages\n",
            "/usr/local/lib/python3.6/dist-packages/IPython/extensions\n",
            "/root/.ipython\n",
            "\n"
          ],
          "name": "stdout"
        }
      ]
    },
    {
      "cell_type": "markdown",
      "metadata": {
        "id": "CigDPH2KRy6O"
      },
      "source": [
        "O camando abaixo adiciona o caminho do Google Drive aonde armazenamos os módulos deste estudo à lista sys.path"
      ]
    },
    {
      "cell_type": "code",
      "metadata": {
        "id": "vyUy9HfMPfSI"
      },
      "source": [
        "sys.path.append('/content/drive/MyDrive/Curso_Intensivo_Python_module')"
      ],
      "execution_count": null,
      "outputs": []
    },
    {
      "cell_type": "code",
      "metadata": {
        "colab": {
          "base_uri": "https://localhost:8080/"
        },
        "id": "jQgOh-RmPtGV",
        "outputId": "8d40bea8-2360-477d-8e78-611f4af76dd4"
      },
      "source": [
        "for i in sys.path:\n",
        "  print(i)"
      ],
      "execution_count": null,
      "outputs": [
        {
          "output_type": "stream",
          "text": [
            "\n",
            "/env/python\n",
            "/usr/lib/python36.zip\n",
            "/usr/lib/python3.6\n",
            "/usr/lib/python3.6/lib-dynload\n",
            "/usr/local/lib/python3.6/dist-packages\n",
            "/usr/lib/python3/dist-packages\n",
            "/usr/local/lib/python3.6/dist-packages/IPython/extensions\n",
            "/root/.ipython\n",
            "/content/drive/MyDrive/Curso_Intensivo_Python_module\n",
            "/content/drive/MyDrive/Curso_Intensivo_Python_module\n"
          ],
          "name": "stdout"
        }
      ]
    },
    {
      "cell_type": "markdown",
      "metadata": {
        "id": "_iHxXR8NT3Qk"
      },
      "source": [
        "Agora podemos fazer o procedimento padrão de importar um classe que está em um módulo, conforme já vimos no capitulo [Armazenando suas funções em módulos](https://colab.research.google.com/drive/1swoCrcbJDcsOGQwNwFjoyLIa-DKuvX3i?authuser=1#scrollTo=JwJ2VNsxKcuX).\n",
        "\n",
        "No caso, buscaremos dentro do módulo car a classe Car e a importaresmos da seguinte maneira:\n",
        "\n",
        "```python\n",
        "from car import Car\n",
        "```"
      ]
    },
    {
      "cell_type": "markdown",
      "metadata": {
        "id": "H9ikrlPTVbAg"
      },
      "source": [
        "LISTA DE LINKS DE REFERÊNCIA PARA ESTA PESQUISA:\n",
        "\n",
        "Acessar conteúdo do Google Drive no Colab: https://stackoverflow.com/a/52300696\n",
        "\n",
        "Guia do iniciante COlab\n",
        "https://medium.com/machina-sapiens/google-colab-guia-do-iniciante-334d70aad531\n",
        "\n"
      ]
    },
    {
      "cell_type": "markdown",
      "metadata": {
        "id": "3xIbbaFnTJIt"
      },
      "source": [
        "###### Script completo"
      ]
    },
    {
      "cell_type": "markdown",
      "metadata": {
        "id": "QIDd7VZ0UR8N"
      },
      "source": [
        "Sempre executar ao usar o Google Drive para acessar os módulos armazenados nele. Neste caso específico, os módulos armazenads em Curso_Intensivo_Paython_module."
      ]
    },
    {
      "cell_type": "code",
      "metadata": {
        "colab": {
          "base_uri": "https://localhost:8080/"
        },
        "id": "U2IQNUJNTXky",
        "outputId": "12f22c06-c1ae-42c4-8cde-503616ee0a15"
      },
      "source": [
        "from google.colab import drive\n",
        "import sys\n",
        "\n",
        "drive.mount('/content/drive')\n",
        "\n",
        "sys.path.append('/content/drive/MyDrive/Curso_Intensivo_Python_module')"
      ],
      "execution_count": null,
      "outputs": [
        {
          "output_type": "stream",
          "text": [
            "Drive already mounted at /content/drive; to attempt to forcibly remount, call drive.mount(\"/content/drive\", force_remount=True).\n"
          ],
          "name": "stdout"
        }
      ]
    },
    {
      "cell_type": "markdown",
      "metadata": {
        "id": "Wu47BqZOYG7N"
      },
      "source": [
        "#####Importando uma única classe"
      ]
    },
    {
      "cell_type": "markdown",
      "metadata": {
        "id": "2oqmBy9JWdMx"
      },
      "source": [
        "Abaixo importamos a classe Car do módulo car e criamos um novo objeto chamado meu_novo_carro a partir da classe Car. Também usamos alguns métodos disponiveis nessa classe."
      ]
    },
    {
      "cell_type": "code",
      "metadata": {
        "id": "onhO98ZpQR4i"
      },
      "source": [
        "from car import Car"
      ],
      "execution_count": null,
      "outputs": []
    },
    {
      "cell_type": "code",
      "metadata": {
        "colab": {
          "base_uri": "https://localhost:8080/"
        },
        "id": "K6Lipqh1V1DX",
        "outputId": "85da6eb8-1668-4edb-a113-2799548a8853"
      },
      "source": [
        "meu_novo_carro = Car('audi','a4',2016)\n",
        "print(meu_novo_carro.get_nome_descritivo())"
      ],
      "execution_count": null,
      "outputs": [
        {
          "output_type": "stream",
          "text": [
            "2016 Audi A4\n"
          ],
          "name": "stdout"
        }
      ]
    },
    {
      "cell_type": "code",
      "metadata": {
        "colab": {
          "base_uri": "https://localhost:8080/"
        },
        "id": "DNDBG5JEWAUr",
        "outputId": "26c35220-a26d-4a10-f52d-ed0dc31db8ed"
      },
      "source": [
        "meu_novo_carro.ler_hodometro()"
      ],
      "execution_count": null,
      "outputs": [
        {
          "output_type": "stream",
          "text": [
            "Este carro já rodou cerca de 0 km.\n"
          ],
          "name": "stdout"
        }
      ]
    },
    {
      "cell_type": "markdown",
      "metadata": {
        "id": "ysM81AsxWJs2"
      },
      "source": [
        "#####Armazenando várias classes em um módulo"
      ]
    },
    {
      "cell_type": "markdown",
      "metadata": {
        "id": "cZO5DFHFYoiU"
      },
      "source": [
        "Você pode armazenar tantas classes quantas forem necessárias em um\n",
        "único módulo, embora cada classe em um módulo deva estar, de algum\n",
        "modo, relacionada com outra classe. Ambas as classes, Battery e\n",
        "ElectricCar, ajudam a representar carros, portanto vamos acrescentá-las ao\n",
        "módulo _car_zero.py_ e armazenar este novo módulo no Google Drive."
      ]
    },
    {
      "cell_type": "markdown",
      "metadata": {
        "id": "iizrQN-FYpn3"
      },
      "source": [
        "#####Importando várias classes de um módulo"
      ]
    },
    {
      "cell_type": "markdown",
      "metadata": {
        "id": "3jmMkuDpaEwZ"
      },
      "source": [
        "Se quisermos criar um carro comum e um carro elétrico no\n",
        "mesmo arquivo, precisaremos importar tanto a classe Car quanto a classe\n",
        "CarroEletrico:"
      ]
    },
    {
      "cell_type": "code",
      "metadata": {
        "id": "VES8fx9haTDO"
      },
      "source": [
        "from car_zero import Car, CarroEletrico"
      ],
      "execution_count": null,
      "outputs": []
    },
    {
      "cell_type": "code",
      "metadata": {
        "colab": {
          "base_uri": "https://localhost:8080/"
        },
        "id": "tS9S_f_DaZmc",
        "outputId": "50078ce7-9962-49a5-f5c4-56f2dc03f98c"
      },
      "source": [
        "my_beetle = Car('volkswagen', 'beetle', 2016)\n",
        "print(my_beetle.get_nome_descritivo())"
      ],
      "execution_count": null,
      "outputs": [
        {
          "output_type": "stream",
          "text": [
            "2016 Volkswagen Beetle\n"
          ],
          "name": "stdout"
        }
      ]
    },
    {
      "cell_type": "code",
      "metadata": {
        "colab": {
          "base_uri": "https://localhost:8080/"
        },
        "id": "GtxyUoIDak9b",
        "outputId": "feeb373f-a591-419f-e8cd-1cbed666da0a"
      },
      "source": [
        "my_tesla = CarroEletrico('tesla', 'roadster', 2016)\n",
        "print(my_tesla.get_nome_descritivo())"
      ],
      "execution_count": null,
      "outputs": [
        {
          "output_type": "stream",
          "text": [
            "2016 Tesla Roadster\n"
          ],
          "name": "stdout"
        }
      ]
    },
    {
      "cell_type": "markdown",
      "metadata": {
        "id": "0uszlMr4a6IB"
      },
      "source": [
        "#####Importando um módulo completo"
      ]
    },
    {
      "cell_type": "markdown",
      "metadata": {
        "id": "bfd0A_qNR7zr"
      },
      "source": [
        "Também podemos importar um módulo completo e então acessar as\n",
        "classes necessárias usando a notação de ponto. Essa abordagem é simples e\n",
        "resulta em um código fácil de ler. Como toda chamada que cria uma\n",
        "instância de uma classe inclui o nome do módulo, você não terá conflito de\n",
        "nomes com qualquer nome usado no arquivo atual."
      ]
    },
    {
      "cell_type": "code",
      "metadata": {
        "colab": {
          "base_uri": "https://localhost:8080/"
        },
        "id": "_up4ybK-SJ1p",
        "outputId": "e49128cd-7b15-4b0d-8d52-55716b702a8c"
      },
      "source": [
        "import car_zero\n",
        "\n",
        "my_beetle = car_zero.Car('volkswagen', 'beetle', 2016)\n",
        "print(my_beetle.get_nome_descritivo())"
      ],
      "execution_count": null,
      "outputs": [
        {
          "output_type": "stream",
          "text": [
            "2016 Volkswagen Beetle\n"
          ],
          "name": "stdout"
        }
      ]
    },
    {
      "cell_type": "code",
      "metadata": {
        "colab": {
          "base_uri": "https://localhost:8080/"
        },
        "id": "h8DaEKTSSrYi",
        "outputId": "c5d2fc48-5981-411a-c45e-6a2c828c4600"
      },
      "source": [
        "my_tesla = car_zero.CarroEletrico('tesla', 'roadster', 2016)\n",
        "print(my_tesla.get_nome_descritivo())"
      ],
      "execution_count": null,
      "outputs": [
        {
          "output_type": "stream",
          "text": [
            "2016 Tesla Roadster\n"
          ],
          "name": "stdout"
        }
      ]
    },
    {
      "cell_type": "markdown",
      "metadata": {
        "id": "lbozBh70UqYh"
      },
      "source": [
        "#####Importando todas as classes de um módulo"
      ]
    },
    {
      "cell_type": "markdown",
      "metadata": {
        "id": "tg5zt1jSVAEe"
      },
      "source": [
        "```python\n",
        "from nome_do_módulo import *\n",
        "```\n",
        "Este método não é recomendado por dois motivos.\n",
        "\n",
        "1. É importante ler as instruções `import` no início do arquivo e saber quais as classes o programa usa.\n",
        "\n",
        "2. Se você importar acidentalmente uma classe com o mesmo nome que outro item em seu programa, poderá gerar erros difíceis de serem diagnosticados.\n",
        "\n",
        "Se precisar importar o módulo todo, melhor importar o módulo usando a sintaxe *nome_do_módulo.nome_da_classe*."
      ]
    },
    {
      "cell_type": "markdown",
      "metadata": {
        "id": "WKTXpaSFVMJD"
      },
      "source": [
        "#####Importando um módulo em um módulo"
      ]
    },
    {
      "cell_type": "markdown",
      "metadata": {
        "id": "5wYAa8dDXE6S"
      },
      "source": [
        "Para impedir que um arquivo cresça de mais, pode ser necessário espalhar suas classes por vários módulos. No entanto pode ser que alguma classe seja dependente de uma outra classe que está já está armazenada em um outro módulo.\n",
        "\n",
        "Caso isso ocorra, é necessário importar um módulo para dentro de outro módulo.\n",
        "\n",
        "\n",
        "Por exemplo, vamos armazenar a classe-pai Car em um módulo e a classe Bateria juntamente com a classe-filha CarroEletrico em um módulo separado.\n",
        "\n",
        "\n",
        "O módulo car já armazena a classe-pai Car.\n",
        "\n",
        "Agora vamos armazenar a classe Bateria juntamente com a classe-filha CarroEletrico no módulo carro_eletrico. "
      ]
    },
    {
      "cell_type": "code",
      "metadata": {
        "id": "PpRW0mruceUP"
      },
      "source": [
        "from car import Car\n",
        "from carro_eletrico import CarroEletrico\n",
        "\n",
        "fusca_96 = Car('VolksWagen', 'Série Ouro',1996)\n",
        "tesla_x = CarroEletrico('tesla','Modelo X', 2015)\n"
      ],
      "execution_count": null,
      "outputs": []
    },
    {
      "cell_type": "code",
      "metadata": {
        "colab": {
          "base_uri": "https://localhost:8080/",
          "height": 36
        },
        "id": "_nypr6k3G5P1",
        "outputId": "4782d452-84a2-460c-f033-15131b07ec76"
      },
      "source": [
        "fusca_96.get_nome_descritivo()"
      ],
      "execution_count": null,
      "outputs": [
        {
          "output_type": "execute_result",
          "data": {
            "application/vnd.google.colaboratory.intrinsic+json": {
              "type": "string"
            },
            "text/plain": [
              "'1996 Volkswagen Série Ouro'"
            ]
          },
          "metadata": {
            "tags": []
          },
          "execution_count": 25
        }
      ]
    },
    {
      "cell_type": "code",
      "metadata": {
        "id": "Y7rzKSN_LajB",
        "colab": {
          "base_uri": "https://localhost:8080/",
          "height": 36
        },
        "outputId": "d19c6601-3c85-460f-90ee-a40857553fec"
      },
      "source": [
        "tesla_x.get_nome_descritivo()"
      ],
      "execution_count": null,
      "outputs": [
        {
          "output_type": "execute_result",
          "data": {
            "application/vnd.google.colaboratory.intrinsic+json": {
              "type": "string"
            },
            "text/plain": [
              "'2015 Tesla Modelo X'"
            ]
          },
          "metadata": {
            "tags": []
          },
          "execution_count": 26
        }
      ]
    },
    {
      "cell_type": "markdown",
      "metadata": {
        "id": "nv8LBZX7Ld8Q"
      },
      "source": [
        "####9.12Exercicio"
      ]
    },
    {
      "cell_type": "code",
      "metadata": {
        "colab": {
          "base_uri": "https://localhost:8080/"
        },
        "id": "zWvgHzU_NXpD",
        "outputId": "da2a70ef-f664-449c-8947-0a17502a77b9"
      },
      "source": [
        "from google.colab import drive\n",
        "import sys\n",
        "\n",
        "drive.mount('/content/drive')\n",
        "\n",
        "sys.path.append('/content/drive/MyDrive/Curso_Intensivo_Python_module')"
      ],
      "execution_count": null,
      "outputs": [
        {
          "output_type": "stream",
          "text": [
            "Mounted at /content/drive\n"
          ],
          "name": "stdout"
        }
      ]
    },
    {
      "cell_type": "code",
      "metadata": {
        "colab": {
          "base_uri": "https://localhost:8080/"
        },
        "id": "ALctdZcNNlKM",
        "outputId": "e451a043-ddd6-4483-9e4a-2035b5e9f055"
      },
      "source": [
        "from usuario import Usuario\n",
        "from admin import Admin\n",
        "from privilegios_admin import PrivilegiosAdmin\n",
        "\n",
        "\n",
        "admin_um = Admin('Carlos', 'Silva', 'silva_carlos', 'masc',35)\n",
        "\n",
        "admin_um.descrever_usuario()"
      ],
      "execution_count": null,
      "outputs": [
        {
          "output_type": "stream",
          "text": [
            "Nome Completo: Carlos Silva\n",
            "Apelido: silva_carlos\n",
            "Sexo: masc\n",
            "idade: 35\n"
          ],
          "name": "stdout"
        }
      ]
    },
    {
      "cell_type": "code",
      "metadata": {
        "colab": {
          "base_uri": "https://localhost:8080/"
        },
        "id": "L5YKqM2uXyVr",
        "outputId": "bfa0f732-7354-4e12-eb01-dc314aef8c90"
      },
      "source": [
        "admin_um.privilegios_admin.mostrar_privilegios()"
      ],
      "execution_count": null,
      "outputs": [
        {
          "output_type": "stream",
          "text": [
            "Este usuario é um admin e estes são os privilégios do admin: \n",
            "- Pode publicar\n",
            "- Pode excluir publicação\n",
            "- pode banir usuario\n"
          ],
          "name": "stdout"
        }
      ]
    },
    {
      "cell_type": "markdown",
      "metadata": {
        "id": "_CHvi2TOYjqL"
      },
      "source": [
        "####Biblioteca-padrão de Python"
      ]
    },
    {
      "cell_type": "markdown",
      "metadata": {
        "id": "Cd_bW_8SagON"
      },
      "source": [
        "A _biblioteca-padrão_ de Python é um conjunto de módulos incluído em\n",
        "todas as instalações de Python. Agora que temos uma compreensão básica de como as classes funcionam, podemos começar a usar módulos como\n",
        "esses, escritos por outros programadores. Podemos usar qualquer função ou classe da biblioteca-padrão incluindo uma instrução import simples no início do arquivo. Vamos analisar a classe `OrderedDict` do módulo `collections`."
      ]
    },
    {
      "cell_type": "markdown",
      "metadata": {
        "id": "MEyBEeLcaySq"
      },
      "source": [
        "Dê uma lida no tópico [Percorrendo todos os pares chave-valor com um laço](#6.7).\n",
        "\n",
        "Lá é dito que nem sempre os valores adicionados ao dicionario são armazenados na sequência em que deram entrada.\n",
        "\n",
        "Se você estiver criando um icionário e quiser manter o controle da ordem em que os pares chave-valor são adicionados, a classe `OrderedDict` do módulo `collections` poderá ser usada."
      ]
    },
    {
      "cell_type": "code",
      "metadata": {
        "colab": {
          "base_uri": "https://localhost:8080/"
        },
        "id": "vPFFdSc8df8J",
        "outputId": "b8f5ed18-e8fe-439a-9a4e-5dd818d9a71d"
      },
      "source": [
        "from collections import OrderedDict\n",
        "\n",
        "linguagem_favorita = OrderedDict()\n",
        "\n",
        "linguagem_favorita['jen'] = 'python'\n",
        "linguagem_favorita['sarah'] = 'c'\n",
        "linguagem_favorita['edward'] = 'ruby'\n",
        "linguagem_favorita['phil'] = 'python'\n",
        "\n",
        "for k, v in linguagem_favorita.items():\n",
        "  print('A linguagem favorita do(a) ' + k.title() +  \n",
        "  ' é ' + v.title() + \".\")"
      ],
      "execution_count": null,
      "outputs": [
        {
          "output_type": "stream",
          "text": [
            "A linguagem favorita do(a) Jen é Python.\n",
            "A linguagem favorita do(a) Sarah é C.\n",
            "A linguagem favorita do(a) Edward é Ruby.\n",
            "A linguagem favorita do(a) Phil é Python.\n"
          ],
          "name": "stdout"
        }
      ]
    },
    {
      "cell_type": "markdown",
      "metadata": {
        "id": "EUc2rxfmekjf"
      },
      "source": [
        "Na linha um importamos a classe ´OrdereDict´ do módulo `collections`.\n",
        "\n",
        "Na linha dois criamos o objeto `linguagem_favorita` a partir da classe `OrdereDict`. Observe que não há chaves; a chamada a `OrderedDict()` cria um dicionário ordenado vazio para nós e o armazena em `linguagem_favorita`.\n",
        "\n",
        "Então adicionamos cada nome e linguagem em `linguagem_favorita`, um de cada vez."
      ]
    },
    {
      "cell_type": "markdown",
      "metadata": {
        "id": "VT3813Y76QGt"
      },
      "source": [
        "#####Python 3 Module of the Week (PyMOTW-3)"
      ]
    },
    {
      "cell_type": "markdown",
      "metadata": {
        "id": "VQKyNLak6YUU"
      },
      "source": [
        "[**PyMOTW-3**](https://pymotw.com/3) é uma série de artigos escritos por Doug Hellmann para demonstrar como usar os módulos da biblioteca padrão do Python 3.  Consulte [About Python Module of the Week](https://pymotw.com/3/about.html)  para obter detalhes, incluindo a versão do Python e as ferramentas usadas."
      ]
    },
    {
      "cell_type": "markdown",
      "metadata": {
        "id": "hFpGlYTwgITk"
      },
      "source": [
        "####9.14Exercício"
      ]
    },
    {
      "cell_type": "code",
      "metadata": {
        "colab": {
          "base_uri": "https://localhost:8080/"
        },
        "id": "MFqJKE8ytB6s",
        "outputId": "654f4037-1616-49ae-87e1-27e7b34c8f67"
      },
      "source": [
        "from random import randint\n",
        "\n",
        "class Dados():\n",
        "  '''Cria um dado'''\n",
        "  def __init__(self, lados = 6):\n",
        "    self.lados = lados\n",
        "  \n",
        "  def rolar_dado(self):\n",
        "    '''Cria números aleatorios simulando a numeração do dado'''\n",
        "    x = randint(1,self.lados)\n",
        "    print('Seu dado têm ' + str(self.lados) + ' lados.')\n",
        "    print('Rolando o dado...')\n",
        "    print('O número sorteado é: ' + str(x))\n",
        "\n",
        "\n",
        "dado_um = Dados()\n",
        "dado_um.rolar_dado()\n",
        "\n",
        "\n"
      ],
      "execution_count": null,
      "outputs": [
        {
          "output_type": "stream",
          "text": [
            "Seu dado têm 6 lados.\n",
            "Rolando o dado...\n",
            "O número sorteado é: 5\n"
          ],
          "name": "stdout"
        }
      ]
    },
    {
      "cell_type": "markdown",
      "metadata": {
        "id": "VxYVz8B32tqa"
      },
      "source": [
        "####Estilizando classes"
      ]
    },
    {
      "cell_type": "markdown",
      "metadata": {
        "id": "zCb1Dpey72g3"
      },
      "source": [
        "1. O nome das calsses devem ser escritos em [CamelCase](https://pt.wikipedia.org/wiki/CamelCase), isto é a primeira letra maiúscula e não se deve usar  traços baixos (underscores).\n",
        "\n",
        "2. O nome de objetos e de módulos devem ser escritos com letras minúsculas e com traços baixos (underscores) entre as palavras.\n",
        "\n",
        "3. Toda classe deve ter uma ocstring logo depois de sua definição. A docstring deve conter uma breve descrição do que a classe faz, e as mesmas convenções de formatação devem ser usadas para escrever docstrings em funções.\n",
        "\n",
        "4. Cada módulo também deve ter uma docstring que descreva para que servem as classes de um módulo.\n",
        "\n",
        "5. Podemos usar linhas em branco para organizar o código, mas você não\n",
        "deve utilizá-las de modo excessivo. Em uma classe, podemos usar uma\n",
        "linha em branco entre os métodos; em um módulo, podemos usar duas\n",
        "linhas em branco para separar as classes.\n",
        "\n",
        "6. Se houver necessidade de importar um módulo da biblioteca-padrão e\n",
        "um módulo escrito por você, coloque a instrução de importação do\n",
        "módulo da biblioteca-padrão antes. Então acrescente uma linha em branco\n",
        "e a instrução de importação para o módulo que você escreveu. Em\n",
        "programas com várias instruções de importação, essa convenção facilita ver a origem dos diferentes módulos utilizados pelo programa."
      ]
    },
    {
      "cell_type": "markdown",
      "metadata": {
        "id": "I3TOUdxb_Lgn"
      },
      "source": [
        "##10.ARQUIVOS E EXCEÇÕES"
      ]
    },
    {
      "cell_type": "markdown",
      "metadata": {
        "id": "N4_mbBM-_bsY"
      },
      "source": [
        "Neste capítulo aprenderemos a\n",
        "trabalhar com arquivos para que seus programas possam analisar rapidamente muitos dados.\n",
        "Veremos como tratar erros a fim de que seus programas não falhem\n",
        "quando se depararem com situações inesperadas. Conheceremos as\n",
        "exceções – objetos Python especiais para administrar erros que surgirem\n",
        "enquanto um programa estiver executando."
      ]
    },
    {
      "cell_type": "markdown",
      "metadata": {
        "id": "negfNRuYPZSh"
      },
      "source": [
        "###Lendo dados de um arquivo"
      ]
    },
    {
      "cell_type": "markdown",
      "metadata": {
        "id": "TutIFZc9Pc49"
      },
      "source": [
        "Uma quantidade incrível de dados está disponível em arquivos-texto.\n",
        "Ler dados de um arquivo é\n",
        "particularmente útil em aplicações de análise de dados, mas também se\n",
        "aplica a qualquer situação em que você queira analisar ou modificar\n",
        "informações armazenadas em um arquivo.\n"
      ]
    },
    {
      "cell_type": "markdown",
      "metadata": {
        "id": "6zZaaTGJPoQm"
      },
      "source": [
        "####Lendo um arquivo inteiro"
      ]
    },
    {
      "cell_type": "code",
      "metadata": {
        "id": "OUm80hpWQVue",
        "colab": {
          "base_uri": "https://localhost:8080/"
        },
        "outputId": "a3283379-be26-4851-fafa-98d8ec759d33"
      },
      "source": [
        "#Procedimento padrão para montar o Google Drive e ter acesso \n",
        "#aos arquivos dentro dele.\n",
        "from google.colab import drive\n",
        "drive.mount('/content/drive')"
      ],
      "execution_count": null,
      "outputs": [
        {
          "output_type": "stream",
          "text": [
            "Mounted at /content/drive\n"
          ],
          "name": "stdout"
        }
      ]
    },
    {
      "cell_type": "code",
      "metadata": {
        "colab": {
          "base_uri": "https://localhost:8080/"
        },
        "id": "7PQfuMYjSl9B",
        "outputId": "bbeae2d7-3676-4eee-9f73-e761e6c6e338"
      },
      "source": [
        "#Lendo o arquivo pi_digits.txt armazenado no Google Drive\n",
        "with open('/content/drive/MyDrive/Curso_Intensivo_Python/10_cap/pi_digits.txt'\n",
        "          ) as arquivo_objeto:\n",
        "  conteudo = arquivo_objeto.read()\n",
        "  print(conteudo) "
      ],
      "execution_count": null,
      "outputs": [
        {
          "output_type": "stream",
          "text": [
            "3.1415926535\n",
            "8979323846\n",
            "2643383279\n"
          ],
          "name": "stdout"
        }
      ]
    },
    {
      "cell_type": "markdown",
      "metadata": {
        "id": "wcDaAqO-QQ6q"
      },
      "source": [
        "A função `open` precisa de um argumento, que é a localização do arquivo que se deseja abrir. Tendo a localização a função abre o arquivo e devolve um objeto que representa o arquivo. Python armazena esse objeto na variável `arquivo_objeto`.\n",
        "\n",
        "A palavra reservada `with` fecha o arquivo ao fim da leitura deste. Na realidade, `with` garante que além de que o arquivo de fato será fechado, também que somente será fechado no final da leitura dele.\n",
        "\n",
        "O método `read()` lê o conteudo do objeto `arquivo_objeto` e depois armazena o conteúdo lido como uma longa string na variável `conteudo`.\n",
        "\n",
        "Na saída aparece uma linha em branco que não consta no arquivo original. Isso acontece porque o método `read()` acrescenta uma string vazia ao final do conteúdo  do arquivo; essa string aparece como uma linha em branco.\n",
        "Para remover essa string, pode0se usar `rstrip()`, que remove qualquer caractere branco do lado direito de uma string:\n",
        "\n",
        "OBS: talvez no Colab esse detalhe não apareça."
      ]
    },
    {
      "cell_type": "code",
      "metadata": {
        "colab": {
          "base_uri": "https://localhost:8080/"
        },
        "id": "683yU83kdAQE",
        "outputId": "35dad673-b7eb-4d2a-fcff-1e98544777ef"
      },
      "source": [
        "#Lendo o arquivo pi_digits.txt armazenado no Google Drive\n",
        "with open('/content/drive/MyDrive/Curso_Intensivo_Python/10_cap/pi_digits.txt'\n",
        "          ) as arquivo_objeto:\n",
        "  conteudo = arquivo_objeto.read()\n",
        "  print(conteudo.rstrip())"
      ],
      "execution_count": null,
      "outputs": [
        {
          "output_type": "stream",
          "text": [
            "3.1415926535\n",
            "8979323846\n",
            "2643383279\n"
          ],
          "name": "stdout"
        }
      ]
    },
    {
      "cell_type": "markdown",
      "metadata": {
        "id": "8asyYEEWdJq_"
      },
      "source": [
        "####Paths de arquivo"
      ]
    },
    {
      "cell_type": "markdown",
      "metadata": {
        "id": "mYZgnBpPdh6o"
      },
      "source": [
        "Às vezes, dependendo de como o seu trabalho estiver organizado, o arquivo que você quer abrir não estará no mesmo diretório que o seu arquivo de programa. \n",
        "\n",
        "\n",
        "Por exemplo, você pode armazenar seus arquivos de\n",
        "programa em uma pasta chamada _python_work_; nessa pasta pode haver outra pasta chamada _text_files_ para distinguir seus arquivos de programa dos arquivos-texto que eles manipulam.\n",
        "\n",
        "\n",
        "Como _text_files_ está armazenada em _python_work_, você pode usar um path de arquivo relativo para abrir um arquivo em _text_files_. Um **path de arquivo relativo** diz a Python para procurar um local especificado, relativo ao\n",
        "diretório em que o arquivo de programa em execução no momento está armazenado. \n",
        "\n",
        "\n",
        "No Linux e no OS X, você escreveria o seguinte:\n",
        "\n",
        "\n",
        "```python\n",
        "with open('text_files/nome_do_arquivo.txt') as file_object:\n",
        "```\n",
        "\n",
        "Em sistemas Windows, use uma barra invertida (\\) no lugar da barra para a frente (/) no path do arquivo:\n",
        "\n",
        "\n",
        "```python\n",
        "with open('text_files\\nome_do_arquivo.txt') as file_object:\n",
        "```\n",
        "\n",
        "Você também pode dizer a Python exatamente em que local está o arquivo em seu computador, não importando o lugar em que o programa\n",
        "em execução no momento esteja armazenado. Isso é chamado de **path de arquivo absoluto**. Utilize um path absoluto se um path relativo não funcionar.\n",
        "\n",
        "\n",
        "Paths absolutos geralmente são mais longos que paths relativos, portanto é conveniente armazená-los em uma variável e então passar essa variável\n",
        "para open(). \n",
        "\n",
        "\n",
        "No Linux e no OS X, paths absolutos têm o seguinte aspecto:\n",
        "\n",
        "```python\n",
        "file_path =\n",
        "'/home/ehmatthes/other_files/text_files/nome_do_arquivo.txt'\n",
        "with open(file_path) as file_object:\n",
        "``` \n",
        "\n",
        "\n",
        "No Windows, eles se parecem com:\n",
        "\n",
        "```python\n",
        "file_path =\n",
        "'C:\\Users\\ehmatthes\\other_files\\text_files\\nome_do_arquivo.txt'\n",
        "with open(file_path) as file_object:\n",
        "```  "
      ]
    },
    {
      "cell_type": "markdown",
      "metadata": {
        "id": "9zMS8i0phbyn"
      },
      "source": [
        "O código abaixo do têm um exemplo de path absoluta."
      ]
    },
    {
      "cell_type": "code",
      "metadata": {
        "colab": {
          "base_uri": "https://localhost:8080/"
        },
        "id": "uwKMt9PkeUxo",
        "outputId": "c6ee4301-37f7-4661-cd22-e05758ac671f"
      },
      "source": [
        "#Lendo o arquivo pi_digits.txt armazenado no Google Drive\n",
        "\n",
        "file_path = '/content/drive/MyDrive/Curso_Intensivo_Python/10_cap/pi_digits.txt'\n",
        "\n",
        "with open(file_path) as arquivo_objeto:\n",
        "  conteudo = arquivo_objeto.read()\n",
        "  print(conteudo.rstrip())"
      ],
      "execution_count": null,
      "outputs": [
        {
          "output_type": "stream",
          "text": [
            "3.1415926535\n",
            "8979323846\n",
            "2643383279\n"
          ],
          "name": "stdout"
        }
      ]
    },
    {
      "cell_type": "markdown",
      "metadata": {
        "id": "72YPZElshvxG"
      },
      "source": [
        "####Lendo dados linha a linha"
      ]
    },
    {
      "cell_type": "code",
      "metadata": {
        "colab": {
          "base_uri": "https://localhost:8080/"
        },
        "id": "4X8q5znshw2Z",
        "outputId": "e30343e5-4bdc-413b-a8ec-b66235e0e0a3"
      },
      "source": [
        "filename = '/content/drive/MyDrive/Curso_Intensivo_Python/10_cap/pi_digits.txt'\n",
        "\n",
        "with open(filename) as arquivo_objeto:\n",
        "  for linha in arquivo_objeto:\n",
        "    print(linha)"
      ],
      "execution_count": null,
      "outputs": [
        {
          "output_type": "stream",
          "text": [
            "3.1415926535\n",
            "\n",
            "8979323846\n",
            "\n",
            "2643383279\n"
          ],
          "name": "stdout"
        }
      ]
    },
    {
      "cell_type": "markdown",
      "metadata": {
        "id": "5Yd76Eo427xa"
      },
      "source": [
        "Armazenamos o nome do arquivo que estamos lendo em uma variável chamada `filename`. Essa é uma convenção comum quando trabalhamos com arquivos. Como a variável `filename` não representa o arquivo propriamente dito – é apenas uma string que diz a Python em que lugar o arquivo se encontra – você pode facilmente trocar 'pi_digits.txt' pelo nome de outro arquivo com o qual você queira trabalhar."
      ]
    },
    {
      "cell_type": "markdown",
      "metadata": {
        "id": "Y45O0NWg3qkS"
      },
      "source": [
        "Quando exibimos cada linha, encontramos outras linhas em branco. Essas linhas em branco aparecem porque um caractere invisível de quebra de linha está no final de cada linha do arquivo-texto. A instrução print adiciona a sua própria quebra de linha sempre que a chamamos, portanto acabamos com dois caracteres de quebra de linha no final de cada\n",
        "linha: um do arquivo e outro da instrução print. Se usarmos rstrip() em cada linha na instrução print, eliminamos essas linhas em branco extras:"
      ]
    },
    {
      "cell_type": "code",
      "metadata": {
        "colab": {
          "base_uri": "https://localhost:8080/"
        },
        "id": "8Gc9KNgi4HwH",
        "outputId": "4e03d4a7-0072-4f54-aa21-51036e47c223"
      },
      "source": [
        "filename = '/content/drive/MyDrive/Curso_Intensivo_Python/10_cap/pi_digits.txt'\n",
        "\n",
        "with open(filename) as arquivo_objeto:\n",
        "  for linha in arquivo_objeto:\n",
        "    print(linha.rstrip())"
      ],
      "execution_count": null,
      "outputs": [
        {
          "output_type": "stream",
          "text": [
            "3.1415926535\n",
            "8979323846\n",
            "2643383279\n"
          ],
          "name": "stdout"
        }
      ]
    },
    {
      "cell_type": "markdown",
      "metadata": {
        "id": "VIn_Gj6A4M3G"
      },
      "source": [
        "####Criando uma lista de linhas de um arquivo"
      ]
    },
    {
      "cell_type": "code",
      "metadata": {
        "colab": {
          "base_uri": "https://localhost:8080/"
        },
        "id": "KtBGkmUC6Et3",
        "outputId": "8fdcd5d4-d519-4111-9160-b4c68ca05f81"
      },
      "source": [
        "filename = '/content/drive/MyDrive/Curso_Intensivo_Python/10_cap/pi_digits.txt'\n",
        "\n",
        "with open(filename) as arquivo_objeto:\n",
        "  linhas = arquivo_objeto.readlines()\n",
        "\n",
        "for linha in linhas:\n",
        "  print(linha.rstrip())"
      ],
      "execution_count": null,
      "outputs": [
        {
          "output_type": "stream",
          "text": [
            "3.1415926535\n",
            "8979323846\n",
            "2643383279\n"
          ],
          "name": "stdout"
        }
      ]
    },
    {
      "cell_type": "markdown",
      "metadata": {
        "id": "lKXcwdAfRH2E"
      },
      "source": [
        "Quando usamos `with`, o obejto arquivo devolvido por `open()` fica disponível somento no bloco `with` que o contém, neste caso o bloco formado pelas linhas 3 e 4.\n",
        "\n",
        "\n",
        "Se quiser preservar o acesso ao conteúdo de um arquivo fora do bloco `with`, você pode\n",
        "armazenar as linhas do arquivo em uma lista dentro do bloco e então trabalhar com essa lista depois.\n",
        "\n",
        "\n",
        "No caso, armazenamod as linhas do arquivo dentro da variável `linhas` e depois, fora do bloco `with`, pudemos usar seu conteúdo.\n",
        "\n"
      ]
    },
    {
      "cell_type": "markdown",
      "metadata": {
        "id": "z5-vfz-sSGOp"
      },
      "source": [
        "####Trabalhando com o conteúdo de um arquivo"
      ]
    },
    {
      "cell_type": "markdown",
      "metadata": {
        "id": "80rIHlegTPEj"
      },
      "source": [
        "Vamos criar uma única string contendo todos os\n",
        "dígitos do arquivo, sem espaços em branco."
      ]
    },
    {
      "cell_type": "code",
      "metadata": {
        "colab": {
          "base_uri": "https://localhost:8080/"
        },
        "id": "1lJGzW8lSRTM",
        "outputId": "6ae187f8-2d71-4226-fcd4-4b5693f2087d"
      },
      "source": [
        "filename = '/content/drive/MyDrive/Curso_Intensivo_Python/10_cap/pi_digits.txt'\n",
        "\n",
        "with open(filename) as arquivo_objeto:\n",
        "  linhas = arquivo_objeto.readlines()\n",
        "\n",
        "pi_string = ''\n",
        "for linha in linhas:\n",
        "  pi_string += linha.strip()\n",
        "\n",
        "print(pi_string)"
      ],
      "execution_count": null,
      "outputs": [
        {
          "output_type": "stream",
          "text": [
            "3.141592653589793238462643383279\n"
          ],
          "name": "stdout"
        }
      ]
    },
    {
      "cell_type": "markdown",
      "metadata": {
        "id": "PBUsDJWsTbCu"
      },
      "source": [
        "Lembrar que o método strip() remove qualisquer espaços em branco, tanto a direita quanto a esquerda."
      ]
    },
    {
      "cell_type": "markdown",
      "metadata": {
        "id": "RD23l9lcUXIh"
      },
      "source": [
        "Quando Python lê um arquivo-texto, todo o texto do arquivo é interpretado\n",
        "como uma string. Se você ler um número e quiser trabalhar com esse valor em\n",
        "um contexto numérico, será necessário convertê-lo em um inteiro usando a\n",
        "função int() ou convertê-lo em um número de ponto flutuante com a função\n",
        "float()."
      ]
    },
    {
      "cell_type": "markdown",
      "metadata": {
        "id": "pHtq65AkUdA0"
      },
      "source": [
        "####Arquivos grandes: um milhão de dígitos"
      ]
    },
    {
      "cell_type": "markdown",
      "metadata": {
        "id": "kiz4rr3gW0AI"
      },
      "source": [
        "Python não tem nenhum limite inerente para a quantidade de dados com\n",
        "que podemos trabalhar; podemos trabalhar com tantos dados quantos a\n",
        "memória de seu sistema for capaz de tratar.\n",
        "\n",
        "\n",
        "https://github.com/eneko/Pi/blob/master/one-million.txt"
      ]
    },
    {
      "cell_type": "code",
      "metadata": {
        "colab": {
          "base_uri": "https://localhost:8080/"
        },
        "id": "WrgZmGWGcyc3",
        "outputId": "b410f976-fda1-42b7-d662-259ae645cd2f"
      },
      "source": [
        "filename ='/content/drive/MyDrive/Curso_Intensivo_Python/10_cap/one-million.txt'\n",
        "\n",
        "with open(filename) as arquivo_objeto:\n",
        "  linhas = arquivo_objeto.readlines()\n",
        "\n",
        "pi_string = ''\n",
        "for linha in linhas:\n",
        "  pi_string += linha.strip()\n",
        "\n",
        "print(pi_string[:52] + \"...\")\n",
        "print(len(pi_string))"
      ],
      "execution_count": null,
      "outputs": [
        {
          "output_type": "stream",
          "text": [
            "3.14159265358979323846264338327950288419716939937510...\n",
            "1000002\n"
          ],
          "name": "stdout"
        }
      ]
    },
    {
      "cell_type": "markdown",
      "metadata": {
        "id": "coV4qT4_dHTa"
      },
      "source": [
        "####Seu aniversário está contido em pi?"
      ]
    },
    {
      "cell_type": "code",
      "metadata": {
        "colab": {
          "base_uri": "https://localhost:8080/"
        },
        "id": "uZRhL6ordQmp",
        "outputId": "bdcb8c25-f1e9-42a4-c980-77ddf326c90b"
      },
      "source": [
        "filename ='/content/drive/MyDrive/Curso_Intensivo_Python/10_cap/one-million.txt'\n",
        "\n",
        "with open(filename) as arquivo_objeto:\n",
        "  linhas = arquivo_objeto.readlines()\n",
        "\n",
        "pi_string = ''\n",
        "for linha in linhas:\n",
        "  pi_string += linha.strip()\n",
        "\n",
        "\n",
        "birthday = input('Entre com seu aniversário, no seguinte formato: mmddyy: ')\n",
        "\n",
        "if birthday in pi_string:\n",
        "  print('Seu aniverário aparece no primeiro milhão de digitos do pi!')\n",
        "else:\n",
        "  print('Infelizmente seu aniversário não aparece' +  \n",
        "  ' no primeiro milhão de digitos do pi!')"
      ],
      "execution_count": null,
      "outputs": [
        {
          "output_type": "stream",
          "text": [
            "Entre com seu aniversário, no seguinte formato: mmddyy: 080990\n",
            "Infelizmente seu aniversário não aparece no primeiro milhão de digitos do pi!\n"
          ],
          "name": "stdout"
        }
      ]
    },
    {
      "cell_type": "markdown",
      "metadata": {
        "id": "yr8B72KleLtp"
      },
      "source": [
        "###Escrevendo dados em um arquivo"
      ]
    },
    {
      "cell_type": "markdown",
      "metadata": {
        "id": "xxyGgZouh9yk"
      },
      "source": [
        "####Escrevendo dados em um arquivo vazio"
      ]
    },
    {
      "cell_type": "code",
      "metadata": {
        "id": "-5BhQYT2pMYB"
      },
      "source": [
        "filename ='/content/drive/MyDrive/Curso_Intensivo_Python/10_cap/programming.txt'\n",
        "\n",
        "with open(filename, 'w') as arquivo_objeto:\n",
        "  arquivo_objeto.write('Eu amo programar.\\n')\n",
        "  arquivo_objeto.write('Amo criar novos jogos.\\n')"
      ],
      "execution_count": null,
      "outputs": []
    },
    {
      "cell_type": "markdown",
      "metadata": {
        "id": "uBsxgXllhpay"
      },
      "source": [
        "Neste caso, é necessário passar dois argumentos para a função `open()`: o nome do arquivo que queremos abrir e o caracter **w**.\n",
        "\n",
        "O argumento **w** diz a Python para abrir o arquivo em _modo de escrita_.\n",
        "Podemos abrir o arquivo em _modo de leitura_ **('r')** - que é modo padrão, quando nenhum arqumento é passado - em _modo de escrita_ **('w')**, em _modo de concatenação_ **('a')** ou em modo que permita ler e screver no arquivo **('r+')**.\n",
        "\n",
        "\n",
        "O método `write()` no objeto arquivo_objeto permite escrever uma string nesse arquivo.\n",
        "\n",
        "\n",
        "Python escreve apenas strings em um arquivo-texto. Se quiser armazenar dados numéricos em um arquivo-texto, será necessário converter os dados em\n",
        "um formato de string antes usando a função str()."
      ]
    },
    {
      "cell_type": "markdown",
      "metadata": {
        "id": "sTuEcVGAkyBZ"
      },
      "source": [
        "Para escrever em várias linhas é necessário acrescentar a mensgem o caracter de quebra de linha \\n. Caso contrário, as strings serão escritas na mesma linha.\n",
        "\n",
        "Pode-se usar também espaços, caracteres de tabulação e linhas em branco para formatar a saída, exatamente como viemos fazendo com as saídas no terminal."
      ]
    },
    {
      "cell_type": "markdown",
      "metadata": {
        "id": "Utxs8qBykHsR"
      },
      "source": [
        "A função `open()` cria automaticamente o arquivo no qual você vai escrever\n",
        "caso ele ainda não exista. No entanto, tome cuidado ao abrir um arquivo\n",
        "em modo de escrita ('w') porque se o arquivo já existir, Python o apagará\n",
        "antes de devolver o objeto arquivo."
      ]
    },
    {
      "cell_type": "markdown",
      "metadata": {
        "id": "o4PjtiD2kp89"
      },
      "source": [
        "####Concatenando dados em um arquivo"
      ]
    },
    {
      "cell_type": "markdown",
      "metadata": {
        "id": "EiCFX6HWlSYc"
      },
      "source": [
        "Se quiser acrescentar conteúdos em um arquivo em vez de sobrescrever o\n",
        "conteúdo existente, você pode abrir o arquivo em modo de concatenação."
      ]
    },
    {
      "cell_type": "code",
      "metadata": {
        "id": "Tf2u4MtylY7w"
      },
      "source": [
        "filename ='/content/drive/MyDrive/Curso_Intensivo_Python/10_cap/programming.txt'\n",
        "\n",
        "with open(filename, 'a') as arquivo_objeto:\n",
        "  arquivo_objeto.write('Eu também gosto de encontrar significado em um grande banco de dados.\\n')\n",
        "  arquivo_objeto.write('Amo criar app que podem rodas no novegador.\\n')"
      ],
      "execution_count": null,
      "outputs": []
    },
    {
      "cell_type": "markdown",
      "metadata": {
        "id": "GhMFFs4YoWS-"
      },
      "source": [
        "###10.4Exercicio"
      ]
    },
    {
      "cell_type": "code",
      "metadata": {
        "colab": {
          "base_uri": "https://localhost:8080/"
        },
        "id": "6ahRgcJ3oakW",
        "outputId": "ce1065f0-3f22-478e-cd2f-9ca72ed16c75"
      },
      "source": [
        "ativo = True\n",
        "filename ='/content/drive/MyDrive/Curso_Intensivo_Python/10_cap/guest_book.txt'\n",
        "convidados = []\n",
        "\n",
        "while ativo:\n",
        "  \n",
        "  nome = input('\\nDigite seu nome: ')\n",
        "  print('Olá ' + nome + ', você foi adicinado a nossa lista de convidados.')\n",
        "  \n",
        "  with open(filename, 'a') as arquivo_objeto:\n",
        "    arquivo_objeto.write(nome + '\\n')\n",
        "  \n",
        "  convidados.append(nome)\n",
        "\n",
        "  repetir = input('\\nMais alguém gostaria de reponder ? (sim/nao) :  ')\n",
        "  if repetir == 'nao' :\n",
        "    ativo = False\n",
        "\n",
        "print('\\nLista de convidados finalizada.\\n')\n",
        "print('Os seguintes nomes foram adicionados:\\n')\n",
        "\n",
        "for i in convidados:\n",
        "  print(i.title())\n",
        "\n"
      ],
      "execution_count": null,
      "outputs": [
        {
          "output_type": "stream",
          "text": [
            "\n",
            "Digite seu nome: Francisco Mendes\n",
            "Olá Francisco Mendes, você foi adicinado a nossa lista de convidados.\n",
            "\n",
            "Mais alguém gostaria de reponder ? (sim/nao) :  sim\n",
            "\n",
            "Digite seu nome: Carlos Pedro\n",
            "Olá Carlos Pedro, você foi adicinado a nossa lista de convidados.\n",
            "\n",
            "Mais alguém gostaria de reponder ? (sim/nao) :  sim\n",
            "\n",
            "Digite seu nome: Manoel Almeida\n",
            "Olá Manoel Almeida, você foi adicinado a nossa lista de convidados.\n",
            "\n",
            "Mais alguém gostaria de reponder ? (sim/nao) :  nao\n",
            "\n",
            "Lista de convidados finalizada.\n",
            "\n",
            "Os seguintes nomes foram adicionados:\n",
            "\n",
            "Francisco Mendes\n",
            "Carlos Pedro\n",
            "Manoel Almeida\n"
          ],
          "name": "stdout"
        }
      ]
    },
    {
      "cell_type": "markdown",
      "metadata": {
        "id": "vAROcgFNuoZb"
      },
      "source": [
        "###Exceções"
      ]
    },
    {
      "cell_type": "markdown",
      "metadata": {
        "id": "UNxi9nZD46r_"
      },
      "source": [
        "Python usa objetos especiais chamados _exceções_ para administrar erros que surgirem durante a execução de um programa. Sempre que ocorre um erro, que faça com que Python não tenha certeza do que execultar depois disso, um objeto de exceção é criado. Se não for previsto um tratamento para a exceção, o programa será interropido e um _traceback_, que inclui uma inforamação sobre a exceção será exibida, como no caso do erro **ZeroDivisionError** abaixo."
      ]
    },
    {
      "cell_type": "code",
      "metadata": {
        "colab": {
          "base_uri": "https://localhost:8080/",
          "height": 209
        },
        "id": "O6SmQS1Zur6q",
        "outputId": "44b6ca90-018c-4c50-8551-da30ae51a6c2"
      },
      "source": [
        "print(5/0)"
      ],
      "execution_count": null,
      "outputs": [
        {
          "output_type": "error",
          "ename": "ZeroDivisionError",
          "evalue": "ignored",
          "traceback": [
            "\u001b[0;31m---------------------------------------------------------------------------\u001b[0m",
            "\u001b[0;31mZeroDivisionError\u001b[0m                         Traceback (most recent call last)",
            "\u001b[0;32m<ipython-input-12-fad870a50e27>\u001b[0m in \u001b[0;36m<module>\u001b[0;34m()\u001b[0m\n\u001b[0;32m----> 1\u001b[0;31m \u001b[0mprint\u001b[0m\u001b[0;34m(\u001b[0m\u001b[0;36m5\u001b[0m\u001b[0;34m/\u001b[0m\u001b[0;36m0\u001b[0m\u001b[0;34m)\u001b[0m\u001b[0;34m\u001b[0m\u001b[0;34m\u001b[0m\u001b[0m\n\u001b[0m",
            "\u001b[0;31mZeroDivisionError\u001b[0m: division by zero"
          ]
        }
      ]
    },
    {
      "cell_type": "markdown",
      "metadata": {
        "id": "EryHiDg7vhmd"
      },
      "source": [
        "Para tratar uma exeção, e manter o programa em execução apesar do erro, podemos tratar as exceções com blocos **try-except**, ao fazer isso, o programa continuará execultando, e ao invés de de aparecer um traceback, os usuários verão uma mensagem escrita por você."
      ]
    },
    {
      "cell_type": "markdown",
      "metadata": {
        "id": "RA8tzRF36zie"
      },
      "source": [
        "####Tratando a exceção ZeroDivisionError"
      ]
    },
    {
      "cell_type": "markdown",
      "metadata": {
        "id": "wSlhsxiW7CEB"
      },
      "source": [
        "#####Usando blocos try-except"
      ]
    },
    {
      "cell_type": "code",
      "metadata": {
        "colab": {
          "base_uri": "https://localhost:8080/"
        },
        "id": "Ni7x0VVB7YRq",
        "outputId": "2864bde5-9ba9-4d64-c397-6ea01cfa2acc"
      },
      "source": [
        "try:\n",
        "  print(5/0)\n",
        "except ZeroDivisionError:\n",
        "  print('Não é possível realizar divisão por zero')"
      ],
      "execution_count": null,
      "outputs": [
        {
          "output_type": "stream",
          "text": [
            "Não é possível realizar divisão por zero\n"
          ],
          "name": "stdout"
        }
      ]
    },
    {
      "cell_type": "markdown",
      "metadata": {
        "id": "InfbJd-e7wwE"
      },
      "source": [
        "Com o bloco _try_ , ao ser execultada a linha de divisão por zero, ao invés de ser apresentada o traceback, é apresentado uma mensagem mais amigável e se houver mais código para ser execultado após isso, o programa segue normalmente."
      ]
    },
    {
      "cell_type": "markdown",
      "metadata": {
        "id": "1WFodV1T80BO"
      },
      "source": [
        "#####Usando exceções para evitar falhas"
      ]
    },
    {
      "cell_type": "code",
      "metadata": {
        "colab": {
          "base_uri": "https://localhost:8080/"
        },
        "id": "_sVdqM-y88KZ",
        "outputId": "fee408b7-dba7-4965-ef15-30a60fe56150"
      },
      "source": [
        "print('Digite dois números e farei uma divisão com eles')\n",
        "print('Entre com \"q\" para sair')\n",
        "\n",
        "while True:\n",
        "  primeiro_num = input('\\nPrimeiro número: ')\n",
        "  if primeiro_num == 'q':\n",
        "    break\n",
        "  segundo_num = input('\\nSegundo número: ')\n",
        "  if segundo_num == 'q':\n",
        "    break\n",
        "  try:\n",
        "    resp = int(primeiro_num) / int(segundo_num)\n",
        "  except ZeroDivisionError:\n",
        "    print('Não é possível realizar divisão por zero')\n",
        "  else:    \n",
        "    print(resp)  "
      ],
      "execution_count": null,
      "outputs": [
        {
          "output_type": "stream",
          "text": [
            "Digite dois números e farei uma divisão com eles\n",
            "Entre com \"q\" para sair\n",
            "\n",
            "Primeiro número: 2\n",
            "\n",
            "Segundo número: 3\n",
            "0.6666666666666666\n",
            "\n",
            "Primeiro número: 5\n",
            "\n",
            "Segundo número: 6\n",
            "0.8333333333333334\n",
            "\n",
            "Primeiro número: 10\n",
            "\n",
            "Segundo número: 2\n",
            "5.0\n",
            "\n",
            "Primeiro número: 3\n",
            "\n",
            "Segundo número: 0\n",
            "Não é possível realizar divisão por zero\n",
            "\n",
            "Primeiro número: q\n"
          ],
          "name": "stdout"
        }
      ]
    },
    {
      "cell_type": "markdown",
      "metadata": {
        "id": "Qfn6V98l_Rq2"
      },
      "source": [
        "O bloco **try-except-else** funciona da seguinte maneira: tenta-se realizar a divisão do dois número inseridos, caso o cálculo vá causar o erro ZeroDivisionError, o bloco except diz como python deve agir, que no caso é mostrando uma mensagem amigável. Caso o cáculo não tenha qualquer erro, o bloco else será execultado mostrando a resposta da divisão do dois números."
      ]
    },
    {
      "cell_type": "markdown",
      "metadata": {
        "id": "9Hz9ROhXAhns"
      },
      "source": [
        "####Tratando a exceção FileNotFoundError"
      ]
    },
    {
      "cell_type": "code",
      "metadata": {
        "colab": {
          "base_uri": "https://localhost:8080/"
        },
        "id": "gFYhrTiVCq4J",
        "outputId": "f33e6972-e3c4-4b25-d4c4-dbb9c9ef3e23"
      },
      "source": [
        "filename = 'alice.txt'\n",
        "\n",
        "try:\n",
        "  with open(filename) as f_obj:\n",
        "    contents = f_obj.read()\n",
        "except FileNotFoundError:\n",
        "  msg = 'O arquivo ' + filename + ', não existe.'\n",
        "  print(msg)"
      ],
      "execution_count": null,
      "outputs": [
        {
          "output_type": "stream",
          "text": [
            "O arquivo alice.txt, não existe.\n"
          ],
          "name": "stdout"
        }
      ]
    },
    {
      "cell_type": "markdown",
      "metadata": {
        "id": "xwzjL9HkDwLz"
      },
      "source": [
        "###Analisando textos"
      ]
    },
    {
      "cell_type": "code",
      "metadata": {
        "colab": {
          "base_uri": "https://localhost:8080/"
        },
        "id": "s0FFf03hMfGe",
        "outputId": "6f387d3f-ed1e-45f9-b747-91ebab6e7444"
      },
      "source": [
        "from google.colab import drive\n",
        "drive.mount('/content/drive')"
      ],
      "execution_count": null,
      "outputs": [
        {
          "output_type": "stream",
          "text": [
            "Drive already mounted at /content/drive; to attempt to forcibly remount, call drive.mount(\"/content/drive\", force_remount=True).\n"
          ],
          "name": "stdout"
        }
      ]
    },
    {
      "cell_type": "code",
      "metadata": {
        "colab": {
          "base_uri": "https://localhost:8080/"
        },
        "id": "BlyMHE2oMf__",
        "outputId": "408b746c-22d3-49ac-84d2-3926e3264f02"
      },
      "source": [
        "filename = '/content/drive/MyDrive/Curso_Intensivo_Python/10_cap/biblia.txt'\n",
        "\n",
        "try:\n",
        "  with open(filename) as f_obj:\n",
        "    contents = f_obj.read()\n",
        "except FileNotFoundError:\n",
        "   msg = 'O arquivo ' + filename + ', não existe.'\n",
        "   print(msg)\n",
        "else:\n",
        "  #conta o número aproximado de palavras no arquivo\n",
        "  words = contents.split()\n",
        "  num_words = len(words)\n",
        "  print('O arquivo contem cerca de ' \n",
        "        + str(num_words) + ' palavras')"
      ],
      "execution_count": null,
      "outputs": [
        {
          "output_type": "stream",
          "text": [
            "O arquivo contem cerca de 906856 palavras\n"
          ],
          "name": "stdout"
        }
      ]
    },
    {
      "cell_type": "markdown",
      "metadata": {
        "id": "p8gaOWXkOdH3"
      },
      "source": [
        "O método split() separa uma string em partes sempre que encontra um espaço, e armazena todas as string uma lista. O resultado é\n",
        "uma lista de strings que podem ser contadas."
      ]
    },
    {
      "cell_type": "markdown",
      "metadata": {
        "id": "dBeFC3wKO2xr"
      },
      "source": [
        "####Trabalhando com vários arquivos"
      ]
    },
    {
      "cell_type": "code",
      "metadata": {
        "colab": {
          "base_uri": "https://localhost:8080/"
        },
        "id": "6gtJdSrbRn3b",
        "outputId": "71216385-feb0-4927-f3c4-8f7f9d329d88"
      },
      "source": [
        "def count_words(filename):\n",
        "  '''Conta o número aproximado de palavras em um arquivo'''\n",
        "\n",
        "  try:\n",
        "    with open(filename) as f_obj:\n",
        "      contents = f_obj.read()\n",
        "  except FileNotFoundError:\n",
        "    msg = 'O arquivo\\n' + filename + '\\nnão existe.\\n'\n",
        "    print(msg)\n",
        "  else:\n",
        "    #conta o número aproximado de palavras no arquivo\n",
        "    words = contents.split()\n",
        "    num_words = len(words)\n",
        "    print('O arquivo\\n' + filename + '\\ncontém cerca de ' \n",
        "          + str(num_words) + ' palavras\\n')\n",
        "    \n",
        "\n",
        "\n",
        "\n",
        "filenames = [\n",
        "           '/content/drive/MyDrive/Curso_Intensivo_Python/10_cap/biblia.txt',\n",
        "           '/content/drive/MyDrive/Curso_Intensivo_Python/10_cap/dom_casmurro.txt',\n",
        "           '/content/drive/MyDrive/Curso_Intensivo_Python/10_cap/esau_e_jaco.txt',\n",
        "           '/content/drive/MyDrive/Curso_Intensivo_Python/10_cap/quincas_borba.txt'\n",
        "\n",
        "           ]\n",
        "\n",
        "for i in filenames:\n",
        "  count_words(i)\n",
        "\n"
      ],
      "execution_count": null,
      "outputs": [
        {
          "output_type": "stream",
          "text": [
            "O arquivo\n",
            "/content/drive/MyDrive/Curso_Intensivo_Python/10_cap/biblia.txt\n",
            "contém cerca de 906856 palavras\n",
            "\n",
            "O arquivo\n",
            "/content/drive/MyDrive/Curso_Intensivo_Python/10_cap/dom_casmurro.txt\n",
            "contém cerca de 68877 palavras\n",
            "\n",
            "O arquivo\n",
            "/content/drive/MyDrive/Curso_Intensivo_Python/10_cap/esau_e_jaco.txt\n",
            "não existe.\n",
            "\n",
            "O arquivo\n",
            "/content/drive/MyDrive/Curso_Intensivo_Python/10_cap/quincas_borba.txt\n",
            "contém cerca de 79192 palavras\n",
            "\n"
          ],
          "name": "stdout"
        }
      ]
    },
    {
      "cell_type": "markdown",
      "metadata": {
        "id": "8PVBZ4vUR5gw"
      },
      "source": [
        "####Falhando silenciosamente"
      ]
    },
    {
      "cell_type": "code",
      "metadata": {
        "colab": {
          "base_uri": "https://localhost:8080/"
        },
        "id": "5cZew8ZxWsda",
        "outputId": "560e2a27-7d26-4b53-ed39-edf7b66fc7e8"
      },
      "source": [
        "def count_words(filename):\n",
        "  '''Conta o número aproximado de palavras em um arquivo'''\n",
        "\n",
        "  try:\n",
        "    with open(filename) as f_obj:\n",
        "      contents = f_obj.read()\n",
        "  except FileNotFoundError:\n",
        "    pass\n",
        "  else:\n",
        "    #conta o número aproximado de palavras no arquivo\n",
        "    words = contents.split()\n",
        "    num_words = len(words)\n",
        "    print('O arquivo\\n' + filename + '\\ncontém cerca de ' \n",
        "          + str(num_words) + ' palavras\\n')\n",
        "    \n",
        "\n",
        "\n",
        "\n",
        "filenames = [\n",
        "           '/content/drive/MyDrive/Curso_Intensivo_Python/10_cap/biblia.txt',\n",
        "           '/content/drive/MyDrive/Curso_Intensivo_Python/10_cap/dom_casmurro.txt',\n",
        "           '/content/drive/MyDrive/Curso_Intensivo_Python/10_cap/esau_e_jaco.txt',\n",
        "           '/content/drive/MyDrive/Curso_Intensivo_Python/10_cap/quincas_borba.txt'\n",
        "\n",
        "           ]\n",
        "\n",
        "for i in filenames:\n",
        "  count_words(i)"
      ],
      "execution_count": null,
      "outputs": [
        {
          "output_type": "stream",
          "text": [
            "O arquivo\n",
            "/content/drive/MyDrive/Curso_Intensivo_Python/10_cap/biblia.txt\n",
            "contém cerca de 906856 palavras\n",
            "\n",
            "O arquivo\n",
            "/content/drive/MyDrive/Curso_Intensivo_Python/10_cap/dom_casmurro.txt\n",
            "contém cerca de 68877 palavras\n",
            "\n",
            "O arquivo\n",
            "/content/drive/MyDrive/Curso_Intensivo_Python/10_cap/quincas_borba.txt\n",
            "contém cerca de 79192 palavras\n",
            "\n"
          ],
          "name": "stdout"
        }
      ]
    },
    {
      "cell_type": "markdown",
      "metadata": {
        "id": "YjKgPvNdW2vr"
      },
      "source": [
        "Utilizar a instrução `pass` no bloco except, faz com que apesar da falha, isto é não existe o arquivo esau_e_jaco.txt, o programa continue rodando, e nenhuma ação ou informação seja exibida para o usuário. "
      ]
    },
    {
      "cell_type": "markdown",
      "metadata": {
        "id": "NH6iLG0OXYfR"
      },
      "source": [
        "###10.6Exercicio"
      ]
    },
    {
      "cell_type": "code",
      "metadata": {
        "colab": {
          "base_uri": "https://localhost:8080/"
        },
        "id": "rkTj_U9-MhLf",
        "outputId": "fa4eed62-fdb1-4106-9bae-6b19190f37d7"
      },
      "source": [
        "print('Digite dois números e farei uma divisão com eles')\n",
        "print('Entre com \"q\" para sair')\n",
        "\n",
        "while True:\n",
        "  primeiro_num = input('\\nPrimeiro número: ')\n",
        "  if primeiro_num == 'q':\n",
        "    break\n",
        "  segundo_num = input('\\nSegundo número: ')\n",
        "  if segundo_num == 'q':\n",
        "    break\n",
        "  try:\n",
        "    resp = int(primeiro_num) / int(segundo_num)\n",
        "  except ZeroDivisionError:\n",
        "    print('Não é possível realizar divisão por zero')\n",
        "  except ValueError:\n",
        "    print('Você digitou letras, e a entrada são de números.')  \n",
        "  else:    \n",
        "    print(resp)  "
      ],
      "execution_count": null,
      "outputs": [
        {
          "output_type": "stream",
          "text": [
            "Digite dois números e farei uma divisão com eles\n",
            "Entre com \"q\" para sair\n",
            "\n",
            "Primeiro número: a\n",
            "\n",
            "Segundo número: 2\n",
            "Você digitou letras, e a entrada são de números.\n",
            "\n",
            "Primeiro número: 2\n",
            "\n",
            "Segundo número: 0\n",
            "Não é possível realizar divisão por zero\n",
            "\n",
            "Primeiro número: 4\n",
            "\n",
            "Segundo número: 5\n",
            "0.8\n",
            "\n",
            "Primeiro número: q\n"
          ],
          "name": "stdout"
        }
      ]
    },
    {
      "cell_type": "markdown",
      "metadata": {
        "id": "K4eoPEfYNzZb"
      },
      "source": [
        "É possível ver o erro que o programa dá e apartir dele, criar a excessão."
      ]
    },
    {
      "cell_type": "markdown",
      "metadata": {
        "id": "8U5_tdJeN8eZ"
      },
      "source": [
        "###10.10Exercicio"
      ]
    },
    {
      "cell_type": "code",
      "metadata": {
        "colab": {
          "base_uri": "https://localhost:8080/"
        },
        "id": "9f41olDBOKkV",
        "outputId": "2b13944a-494a-4fca-9eb2-ee6b7c9704dd"
      },
      "source": [
        "from google.colab import drive\n",
        "drive.mount('/content/drive')"
      ],
      "execution_count": null,
      "outputs": [
        {
          "output_type": "stream",
          "text": [
            "Mounted at /content/drive\n"
          ],
          "name": "stdout"
        }
      ]
    },
    {
      "cell_type": "code",
      "metadata": {
        "colab": {
          "base_uri": "https://localhost:8080/"
        },
        "id": "rLbPFOpRORWg",
        "outputId": "6116d1a1-d315-4f15-c270-cbc04f65bdc2"
      },
      "source": [
        "filename = '/content/drive/MyDrive/Curso_Intensivo_Python/10_cap/biblia.txt'\n",
        "\n",
        "try:\n",
        "  with open(filename) as f_obj:\n",
        "    contents = f_obj.read()\n",
        "except FileNotFoundError:\n",
        "   msg = 'O arquivo ' + filename + ', não existe.'\n",
        "   print(msg)\n",
        "else:\n",
        "  #Descobre quantas vezes uma palavra aparece no texto\n",
        "  n_vezes = contents.lower().count('jesus')\n",
        "  print(str(n_vezes))"
      ],
      "execution_count": null,
      "outputs": [
        {
          "output_type": "stream",
          "text": [
            "1098\n"
          ],
          "name": "stdout"
        }
      ]
    },
    {
      "cell_type": "markdown",
      "metadata": {
        "id": "9JIYj8L2PhID"
      },
      "source": [
        "###Armazenando dados"
      ]
    },
    {
      "cell_type": "markdown",
      "metadata": {
        "id": "R3zNNDbPPkIZ"
      },
      "source": [
        "O módulo json permite descarregar estruturas de dados (listas, dicionários) em um arquivo e carregar os dados desse arquivo na próxima vez que o programa executar."
      ]
    },
    {
      "cell_type": "markdown",
      "metadata": {
        "id": "tUJ3i7B2QfYB"
      },
      "source": [
        "####Usando json.dump() e json.load()"
      ]
    },
    {
      "cell_type": "markdown",
      "metadata": {
        "id": "U9sY17CealLs"
      },
      "source": [
        "A função json.dump() aceita dois argumentos: um dado para armazenar e\n",
        "um objeto arquivo que pode ser usado para armazenar o dado."
      ]
    },
    {
      "cell_type": "code",
      "metadata": {
        "id": "mYXNWrV8ZLfB"
      },
      "source": [
        "import json\n",
        "\n",
        "numbers = [2,3,5, 7, 11, 13]\n",
        "\n",
        "filename = '/content/drive/MyDrive/Curso_Intensivo_Python/10_cap/numbers.json'\n",
        "with open(filename, 'w') as f_obj:\n",
        "  json.dump(numbers, f_obj)"
      ],
      "execution_count": null,
      "outputs": []
    },
    {
      "cell_type": "markdown",
      "metadata": {
        "id": "hZLVCVvwZ2WH"
      },
      "source": [
        "A função json.load() para carregar as informações armazenadas em numbers.json e as guardamos na variável numeros."
      ]
    },
    {
      "cell_type": "code",
      "metadata": {
        "colab": {
          "base_uri": "https://localhost:8080/"
        },
        "id": "rlRxrYUabOZ5",
        "outputId": "3755bf52-7411-4059-a901-17341749b7b2"
      },
      "source": [
        "import json\n",
        "\n",
        "filename = '/content/drive/MyDrive/Curso_Intensivo_Python/10_cap/numbers.json'\n",
        "with open(filename) as f_obj:\n",
        "  numeros = json.load(f_obj)\n",
        "\n",
        "print(numeros)"
      ],
      "execution_count": null,
      "outputs": [
        {
          "output_type": "stream",
          "text": [
            "[2, 3, 5, 7, 11, 13]\n"
          ],
          "name": "stdout"
        }
      ]
    },
    {
      "cell_type": "markdown",
      "metadata": {
        "id": "8pERjxcdbjl0"
      },
      "source": [
        "####Salvando e lendo dados gerados pelo usuário"
      ]
    },
    {
      "cell_type": "code",
      "metadata": {
        "colab": {
          "base_uri": "https://localhost:8080/"
        },
        "id": "DrbApY6R2iOB",
        "outputId": "41ba319d-ef61-469f-fd47-e0d98d72b5e4"
      },
      "source": [
        "import json\n",
        "\n",
        "username = input('Qual o seu nome? ')\n",
        "\n",
        "filename = '/content/drive/MyDrive/Curso_Intensivo_Python/10_cap/username.json'\n",
        "with open(filename, 'w') as f_obj:\n",
        "  json.dump(username, f_obj)\n",
        "  print('Me lembrarei de você quando voltar, '+ username + ' !')"
      ],
      "execution_count": null,
      "outputs": [
        {
          "output_type": "stream",
          "text": [
            "Qual o seu nome? Carlos\n",
            "Me lembrarei de você quando voltar, Carlos !\n"
          ],
          "name": "stdout"
        }
      ]
    },
    {
      "cell_type": "code",
      "metadata": {
        "colab": {
          "base_uri": "https://localhost:8080/"
        },
        "id": "wG4BVsxH3s11",
        "outputId": "a0f405ec-f785-4251-a24e-0b6f0eebf2f6"
      },
      "source": [
        "import json\n",
        "\n",
        "filename = '/content/drive/MyDrive/Curso_Intensivo_Python/10_cap/username.json'\n",
        "with open(filename) as f_obj:\n",
        "  nome = json.load(f_obj)\n",
        "print('Bem-vindo de volta, ' + nome)"
      ],
      "execution_count": null,
      "outputs": [
        {
          "output_type": "stream",
          "text": [
            "Bem-vindo de volta, Carlos\n"
          ],
          "name": "stdout"
        }
      ]
    },
    {
      "cell_type": "markdown",
      "metadata": {
        "id": "VyRRoi-04Liz"
      },
      "source": [
        "####Refatoração"
      ]
    },
    {
      "cell_type": "markdown",
      "metadata": {
        "id": "WBfKNH-o9WKh"
      },
      "source": [
        "Com frequência você chegará a um ponto em que seu código funcionará, mas reconhecerá que ele poderia ser melhorado se fosse dividido em uma\n",
        "série de funções com tarefas específicas. Esse processo se chama\n",
        "refatoração. A refatoração deixa seu código mais limpo, mais fácil de\n",
        "compreender e de estender."
      ]
    },
    {
      "cell_type": "code",
      "metadata": {
        "colab": {
          "base_uri": "https://localhost:8080/"
        },
        "id": "9_U106vn9euR",
        "outputId": "bf29c743-1ba4-443a-cef0-13f7fe020b1e"
      },
      "source": [
        "import json \n",
        "\n",
        "def pegar_nome_armazenado():\n",
        "  '''Obtém o nome do usuário já armazenado, se estiver disponível'''\n",
        "  \n",
        "  filename = '/content/drive/MyDrive/Curso_Intensivo_Python/10_cap/username.json'\n",
        "  try:\n",
        "    with open(filename) as f_obj:\n",
        "      username = json.load(f_obj)\n",
        "  except:\n",
        "    return None #Uma função deve devolver o valor esperado ou None (Boa prática)\n",
        "  else:\n",
        "    return username\n",
        "\n",
        "\n",
        "\n",
        "def pegar_novo_nome():\n",
        "  '''Pede um novo nome de usuário e armazena-o no json'''\n",
        "  \n",
        "  username = input('Qual é o seu nome? ')\n",
        "  filename = '/content/drive/MyDrive/Curso_Intensivo_Python/10_cap/username.json'\n",
        "  with open(filename, 'w') as f_obj:\n",
        "    json.dump(username, f_obj)\n",
        "  return username \n",
        "\n",
        "\n",
        "\n",
        "\n",
        "def saudar_usuario():\n",
        "  '''Dá as boas-vindas de volta a um usuário existente ou saúda \n",
        "  um novo usuário. '''\n",
        "  username =  pegar_nome_armazenado()\n",
        "  if username:\n",
        "    print('Seja bem-vindo de volta ' + username + ' !' )\n",
        "  else:\n",
        "    username = pegar_novo_nome()\n",
        "    print('Nós lembraremos de você quando voltar, ' + username + ' !')\n",
        "\n",
        "\n",
        "\n",
        "saudar_usuario()\n"
      ],
      "execution_count": null,
      "outputs": [
        {
          "output_type": "stream",
          "text": [
            "Seja bem-vindo de volta André !\n"
          ],
          "name": "stdout"
        }
      ]
    },
    {
      "cell_type": "markdown",
      "metadata": {
        "id": "kOvuQRAgOp9b"
      },
      "source": [
        "Cada função nesta versão do código tem um propósito específico, documentado na docstrong de cada função. Deste modo, não fica um amontodado de tarefas distintas dentro de uma única função."
      ]
    },
    {
      "cell_type": "markdown",
      "metadata": {
        "id": "MASYEhXcQI44"
      },
      "source": [
        "##11.TESTANDO SEU CÓDIGO"
      ]
    },
    {
      "cell_type": "markdown",
      "metadata": {
        "id": "Hqm0W2P3Ebvx"
      },
      "source": [
        "Neste capítulo aprenderemos a testar o código usando ferramentas do\n",
        "módulo unittest de Python. Veremos como criar um caso de teste e\n",
        "verificar se um conjunto de entradas resulta na saída desejada."
      ]
    },
    {
      "cell_type": "markdown",
      "metadata": {
        "id": "ob7n9L_XFF-t"
      },
      "source": [
        "###Testando uma função"
      ]
    },
    {
      "cell_type": "markdown",
      "metadata": {
        "id": "Z65Fs3a4FPjb"
      },
      "source": [
        "####Usando apenas um teste de unidade"
      ]
    },
    {
      "cell_type": "markdown",
      "metadata": {
        "id": "VeIpQnBRDP8t"
      },
      "source": [
        "Criamos uma função para formatar um nome de modo elegante.\n",
        "\n",
        "Se usarmos esta função em um programa e entrarmos com os argumentos carlos, souza, ela deve devolver Carlos Souza."
      ]
    },
    {
      "cell_type": "code",
      "metadata": {
        "id": "Qnm2B5u5FLvi"
      },
      "source": [
        "def pegar_nome(nome, sobrenome):\n",
        "    '''Gera um nome completo formatado de modo elegante'''\n",
        "    nome_completo = nome + ' ' + sobrenome\n",
        "    return nome_completo.title()"
      ],
      "execution_count": null,
      "outputs": []
    },
    {
      "cell_type": "markdown",
      "metadata": {
        "id": "wArL2D9nDlmm"
      },
      "source": [
        "Este é um teste automático para verificar que a função está funcionando da maneira que previamos."
      ]
    },
    {
      "cell_type": "code",
      "metadata": {
        "colab": {
          "base_uri": "https://localhost:8080/"
        },
        "id": "e6J2gudWfn0N",
        "outputId": "b7c7b52c-4103-4f0f-9bd6-b4e1917d7cd9"
      },
      "source": [
        "import unittest\n",
        "#from formatar_nome import pegar_nome #não usar no Colab\n",
        "\n",
        "class FormatarNomeTestCase(unittest.TestCase):\n",
        "    '''Teste para \"formatar_nome.py\" '''\n",
        "    \n",
        "    def test_nome_sobrenome(self):\n",
        "        '''Testa usando o nome Fabiano Souza'''\n",
        "        nome_formatado = pegar_nome('fabiano', 'souza')\n",
        "        self.assertEqual(nome_formatado, 'Fabiano Souza')\n",
        "\n",
        "#unittest.main() #Não usar no Colabi\n",
        "\n",
        "if __name__ == '__main__':\n",
        "    unittest.main(argv=['first-arg-is-ignored'], exit=False)"
      ],
      "execution_count": null,
      "outputs": [
        {
          "output_type": "stream",
          "text": [
            "..\n",
            "----------------------------------------------------------------------\n",
            "Ran 2 tests in 0.008s\n",
            "\n",
            "OK\n"
          ],
          "name": "stderr"
        }
      ]
    },
    {
      "cell_type": "markdown",
      "metadata": {
        "id": "MeATRCdp2R0m"
      },
      "source": [
        "Se rodar o código só com `unittest.main()` na última linha, como está no livro, não funciona no Colab. Para funcionar no Colab, deve-se seguir o tutorial abaixo:\n",
        "\n",
        "https://medium.com/@vladbezden/using-python-unittest-in-ipython-or-jupyter-732448724e31"
      ]
    },
    {
      "cell_type": "markdown",
      "metadata": {
        "id": "pFwGccqQ2u2Q"
      },
      "source": [
        "O módulo [unittest](https://docs.python.org/pt-br/3/library/unittest.html) oferece ferramentas para testar um código, estas ferramentas chamam-se  **método de asserção**. Os métodos de asserção testam se uma condição que você acredita ser verdadeira em um ponto específico de\n",
        "seu código é realmente verdadeira. Há diversos métodos de asserção, como por exemplo o método `assertEqual(a,b)`, que verifica se o argumento **a** é igual ao argumento **b**.\n",
        "\n",
        "\n",
        "Um **teste de unidade** verifica se um aspecto específico do comportamento de uma função está correto.\n",
        "\n",
        "\n",
        "Um **caso de teste** é uma coleção de testes de unidade que, em conjunto, prova que uma função se comporta com deveria em todas as situações que você espera que ela trate.\n",
        "\n",
        "\n",
        "Um caso de **teste com cobertura** completa é\n",
        "composto de uma variedade de testes de unidade que inclui todas as possíveis maneiras de usar uma função.\n",
        "\n"
      ]
    },
    {
      "cell_type": "markdown",
      "metadata": {
        "id": "bVpzi7aD5xhx"
      },
      "source": [
        "A classe `FormatarNomeTestCase` contem um _teste de unidade_ e herda a classe `TestCase`do módulo `unittest`. \n",
        "É importante que o nome da classe que estamos criando tenha palavras relacionadas à função que você está prestes a testar e use a\n",
        "palavra _Test_.\n",
        "\n",
        "\n",
        "A únidade de teste que temos é o método `test_nome_sobrenome`.  Nela nós chamamos a função `pegar_nome`, passamos o valores de teste, que no nosso caso é um nome e sobrenome, que será formatado e depois devolvido para a a variável `nome_formatado`.\n",
        "\n",
        "É importante que o método  `test_nome_sobrenome` inicie seu nome com `test_`, pois isso fará com que seja execultado de modo automático.\n",
        "\n",
        "Por fim, passamos a variável `nome_formatado` e a string Fabiano Souza para o método `assertEqual` do módulo `unittest`. Esse método compara a string que passamos, com o valor armazenado na variável `nome_formatado`. Se forem iguais, o teste foi bem-sucedido."
      ]
    },
    {
      "cell_type": "markdown",
      "metadata": {
        "id": "AO-GtDzLC_J1"
      },
      "source": [
        "O programa abaixo, usa (implementa)  a função `pegar_nome()` de maneira simples."
      ]
    },
    {
      "cell_type": "code",
      "metadata": {
        "colab": {
          "base_uri": "https://localhost:8080/"
        },
        "id": "qsVsUqlyD061",
        "outputId": "7258fc9d-3f5e-4d8f-ba70-f75469cef1c8"
      },
      "source": [
        "#from formatar_nome import pegar_nome #não usar no Colab\n",
        "\n",
        "print('\\nEnte com \"q\" para sair do programa')\n",
        "while True:\n",
        "    nome = input('\\nEntre com o nome: ')\n",
        "    if nome == 'q':\n",
        "        print('Programa finalizado\\n')\n",
        "        break\n",
        "    sobrenome = input('\\nEntre com o sobrenome: ')\n",
        "    if sobrenome == 'q':\n",
        "        print('Programa finalizado\\n')\n",
        "        break\n",
        "    nome_formatado = pegar_nome(nome, sobrenome)\n",
        "    print('\\nEste é o nome formatado: ' + nome_formatado + '.')"
      ],
      "execution_count": null,
      "outputs": [
        {
          "output_type": "stream",
          "text": [
            "\n",
            "Ente com \"q\" para sair do programa\n",
            "\n",
            "Entre com o nome: q\n",
            "Programa finalizado\n",
            "\n"
          ],
          "name": "stdout"
        }
      ]
    },
    {
      "cell_type": "markdown",
      "metadata": {
        "id": "0JaEchf1D1hJ"
      },
      "source": [
        "####Adicionaodo novos testes de unidade"
      ]
    },
    {
      "cell_type": "markdown",
      "metadata": {
        "id": "zX_dKs0kGo3E"
      },
      "source": [
        "Nesta nova função, adicionamamos o parâmetro opcional `nome_do_meio`. Ele deve ser testado, quando usado."
      ]
    },
    {
      "cell_type": "code",
      "metadata": {
        "id": "sWXOCblSFm0p"
      },
      "source": [
        "def pegar_nome(nome, sobrenome, nome_do_meio =''):\n",
        "    '''Gera um nome completo formatado de modo elegante'''\n",
        "    if nome_do_meio:\n",
        "      nome_completo = nome + ' ' + nome_do_meio + ' ' + sobrenome\n",
        "    else:\n",
        "      nome_completo = nome + ' ' + sobrenome\n",
        "    return nome_completo.title()"
      ],
      "execution_count": null,
      "outputs": []
    },
    {
      "cell_type": "code",
      "metadata": {
        "colab": {
          "base_uri": "https://localhost:8080/"
        },
        "id": "9gZRIX24FsoC",
        "outputId": "6ea1cd62-2f7d-4f01-c9e6-b8dc51339073"
      },
      "source": [
        "import unittest\n",
        "#from formatar_nome import pegar_nome #não usar no Colab\n",
        "\n",
        "class FormatarNomeTestCase(unittest.TestCase):\n",
        "    '''Teste para \"formatar_nome.py\" '''\n",
        "    \n",
        "    def test_nome_sobrenome(self):\n",
        "        '''Testa usando o nome Fabiano Souza'''\n",
        "        nome_formatado = pegar_nome('fabiano', 'souza')\n",
        "        self.assertEqual(nome_formatado, 'Fabiano Souza')\n",
        "    \n",
        "    def test_nome_sobrenome_nome_do_meio(self):\n",
        "        '''Testa usando o nome Carlos Eduardo Silva'''\n",
        "        nome_formatado = pegar_nome('carlos', 'silva', 'eduardo' )\n",
        "        self.assertEqual(nome_formatado, 'Carlos Eduardo Silva')\n",
        "\n",
        "#unittest.main() #Não usar no Colabi\n",
        "\n",
        "if __name__ == '__main__':\n",
        "    unittest.main(argv=['first-arg-is-ignored'], exit=False)"
      ],
      "execution_count": null,
      "outputs": [
        {
          "output_type": "stream",
          "text": [
            "...\n",
            "----------------------------------------------------------------------\n",
            "Ran 3 tests in 0.008s\n",
            "\n",
            "OK\n"
          ],
          "name": "stderr"
        }
      ]
    },
    {
      "cell_type": "markdown",
      "metadata": {
        "id": "r0tbkP4pIAuR"
      },
      "source": [
        "O novo método para teste de unidade chama-se `test_nome_sobrenome_nome_do_meio`.  Nomes longos para os métodos em nossas classes TestCase não são um problema.\n",
        "Eles devem ser descritivos para que você possa compreender a saída quando seus testes falharem."
      ]
    },
    {
      "cell_type": "markdown",
      "metadata": {
        "id": "0bk-5pVwIx01"
      },
      "source": [
        "O programa abaixo, usa (implementa)  a função `pegar_nome()` de maneira simples."
      ]
    },
    {
      "cell_type": "code",
      "metadata": {
        "colab": {
          "base_uri": "https://localhost:8080/"
        },
        "id": "s2ub87b2ICQk",
        "outputId": "fe9d67ff-9a6f-453d-dd12-3e9229b643e7"
      },
      "source": [
        "#from formatar_nome import pegar_nome #não usar no Colab\n",
        "\n",
        "print('\\nEnte com \"q\" para sair do programa')\n",
        "while True:\n",
        "    nome = input('\\nEntre com o nome: ')\n",
        "    if nome == 'q':\n",
        "        print('Programa finalizado\\n')\n",
        "        break\n",
        "    nome_do_meio = input('\\nDigite o nome do meio,' \n",
        "                         + '\\nse não tiver apenas pressione Enter.')\n",
        "    if nome == 'q':\n",
        "        print('Programa finalizado\\n')\n",
        "        break\n",
        "    sobrenome = input('\\nEntre com o sobrenome: ')\n",
        "    if sobrenome == 'q':\n",
        "        print('Programa finalizado\\n')\n",
        "        break\n",
        "    \n",
        "    if nome_do_meio:\n",
        "      nome_formatado = pegar_nome(nome, sobrenome, nome_do_meio)\n",
        "    else:  \n",
        "      nome_formatado = pegar_nome(nome, sobrenome)\n",
        "    print('\\nEste é o nome formatado: ' + nome_formatado + '.')"
      ],
      "execution_count": null,
      "outputs": [
        {
          "output_type": "stream",
          "text": [
            "\n",
            "Ente com \"q\" para sair do programa\n",
            "\n",
            "Entre com o nome: q\n",
            "Programa finalizado\n",
            "\n"
          ],
          "name": "stdout"
        }
      ]
    },
    {
      "cell_type": "markdown",
      "metadata": {
        "id": "KgijkS6eQA2U"
      },
      "source": [
        "###Testando uma classe"
      ]
    },
    {
      "cell_type": "markdown",
      "metadata": {
        "id": "IyAQ7CB_QCuk"
      },
      "source": [
        "####Uma variedade de métodos de asserção"
      ]
    },
    {
      "cell_type": "markdown",
      "metadata": {
        "id": "yT3P5FtbDXDt"
      },
      "source": [
        "Python disponibiliza vários métodos de asserção na classe unittest.TestCase. Como mencionamos, os métodos de asserção testam se uma condição que você acredita ser verdadeira em um ponto específico de seu código é realmente verdadeira. Se a condição for verdadeira conforme\n",
        "esperado, a condição que você supõe sobre o comportamento dessa parte do programa será confirmada.\n",
        "Se a condição que você supõe ser verdadeira na verdade não for, Python\n",
        "levantará uma exceção."
      ]
    },
    {
      "cell_type": "markdown",
      "metadata": {
        "id": "PGgFGU0YD9OL"
      },
      "source": [
        "\n",
        "Métodos de asserção comumente usados disponíveis no módulo unittest:\n",
        "\n",
        "\n",
        ">Método | Uso\n",
        ">---|---|\n",
        ">assertEqual(a, b) | Verifica se a == b\n",
        ">assertNotEqual(a, b) | Verifica se a != b\n",
        ">assertTrue(x) | Verifica se x é True\n",
        ">assertFalse(x) | Verifica se x é False\n",
        ">assertIn(item, lista) | Verifica se item está em lista\n",
        ">assertNotIn(item, lista) | Verifica se item não está em lista"
      ]
    },
    {
      "cell_type": "markdown",
      "metadata": {
        "id": "Ql_W1yh5E1Sm"
      },
      "source": [
        "####Uma classe para testar"
      ]
    },
    {
      "cell_type": "markdown",
      "metadata": {
        "id": "E1M90abGOi8-"
      },
      "source": [
        "Abaixo uma classe para criar uma enquete anônima."
      ]
    },
    {
      "cell_type": "code",
      "metadata": {
        "id": "gXdNk7IjHfMV"
      },
      "source": [
        "class EnqueteAnonima():\n",
        "  '''Coleta respostas anônimas para uma pequisa'''\n",
        "\n",
        "  def __init__(self, questao):\n",
        "    '''Inicializa as variáveis questao e respostas'''\n",
        "    self.questao = questao\n",
        "    self.respostas = []\n",
        "  \n",
        "  def mostrar_questao(self):\n",
        "    '''Mostra a pergunda da pesquisa'''\n",
        "    print(self.questao)\n",
        "  \n",
        "  def armazenar_resposta(self, nova_resposta):\n",
        "    '''Armazena uma única respostas da pesquisa'''\n",
        "    self.respostas.append(nova_resposta)\n",
        "  \n",
        "  def mostrar_resultado(self):\n",
        "    '''Mostra todas as respostas dadas.'''\n",
        "    print('Resultado das respostas anônimas: ')\n",
        "    for i in self.respostas:\n",
        "      print('- '+ i)\n",
        "\n"
      ],
      "execution_count": null,
      "outputs": []
    },
    {
      "cell_type": "markdown",
      "metadata": {
        "id": "55DcnNyAOs-4"
      },
      "source": [
        "Abaixo um programa para usar a classe EnqueteAnonima()."
      ]
    },
    {
      "cell_type": "code",
      "metadata": {
        "colab": {
          "base_uri": "https://localhost:8080/"
        },
        "id": "-qYC7u9IJgt0",
        "outputId": "8158d727-e89e-464f-a1c5-d00c5140c922"
      },
      "source": [
        "pergunta = 'Qual idioma você aprendeu a falar primeiro? '\n",
        "minha_enquete = EnqueteAnonima(pergunta)\n",
        "\n",
        "minha_enquete.mostrar_questao()\n",
        "print('Pressione q para sair.\\n')\n",
        "while True:\n",
        "  resposta = input('Idioma: ')\n",
        "  if resposta == 'q':\n",
        "    break\n",
        "  minha_enquete.armazenar_resposta(resposta)\n",
        "\n",
        "print('Obrigado por participar da pesquisa anônima!')\n",
        "minha_enquete.mostrar_resultado()\n"
      ],
      "execution_count": null,
      "outputs": [
        {
          "output_type": "stream",
          "text": [
            "Qual idioma você aprendeu a falar primeiro? \n",
            "Pressione q para sair.\n",
            "\n",
            "Idioma: a\n",
            "Idioma: b\n",
            "Idioma: c\n",
            "Idioma: q\n",
            "Obrigado por participar da pequisa anônima!\n",
            "Resultado das respostas anônimas: \n",
            "- a\n",
            "- b\n",
            "- c\n"
          ],
          "name": "stdout"
        }
      ]
    },
    {
      "cell_type": "markdown",
      "metadata": {
        "id": "KqkRDk90KQbT"
      },
      "source": [
        "##### Testanto a classe com o método assertIn()"
      ]
    },
    {
      "cell_type": "markdown",
      "metadata": {
        "id": "QqV2i1mpOfOO"
      },
      "source": [
        "Usaremos o método `assertIn()` para conferir se a resposta dada realmente foi armazenada na lista de respostas `self.respostas = []`."
      ]
    },
    {
      "cell_type": "code",
      "metadata": {
        "colab": {
          "base_uri": "https://localhost:8080/"
        },
        "id": "5CC0rgzpPWJF",
        "outputId": "febb3c2d-ca48-4732-84a5-9abd1f2c875c"
      },
      "source": [
        "import unittest\n",
        "\n",
        "class TestEnqueteAnonima(unittest.TestCase):\n",
        "  '''Cria testes para a classe EnqueteAnonima'''\n",
        "\n",
        "  def test_armazenar_apenas_uma_resposta(self):\n",
        "    '''Testa se uma única resposta é armazenada de forma apropriada'''\n",
        "    pergunta = 'Qual idioma você aprendeu a falar primeiro? '\n",
        "    minha_enquete = EnqueteAnonima(pergunta)\n",
        "    minha_enquete.armazenar_resposta('Português')\n",
        "\n",
        "    self.assertIn('Português', minha_enquete.respostas)\n",
        "\n",
        "if __name__ == '__main__':\n",
        "    unittest.main(argv=['first-arg-is-ignored'], exit=False)"
      ],
      "execution_count": null,
      "outputs": [
        {
          "output_type": "stream",
          "text": [
            "...\n",
            "----------------------------------------------------------------------\n",
            "Ran 3 tests in 0.006s\n",
            "\n",
            "OK\n"
          ],
          "name": "stderr"
        }
      ]
    },
    {
      "cell_type": "markdown",
      "metadata": {
        "id": "nXcvtwWTQhCQ"
      },
      "source": [
        "No método `test_armazenar_apenas_uma_resposta(self)`, nós praticamente simulamos o comportamento do programa, fazemos uma pergunta, instânciamos a classe `EnqueteAnonima()` e passamos o argumento pergunta para a instância `minha_enquete`, depois chamamos o método `armazenar_resposta` para armazenar o argumento 'Português'.\n",
        "\n",
        "Por fim verificamos se realmente o argumento 'Português' foi armazenado na lista `respostas[]`, que é a ação que o método `armazenar_resposta` deveria execultar."
      ]
    },
    {
      "cell_type": "markdown",
      "metadata": {
        "id": "tPpGqfHdSKab"
      },
      "source": [
        "Presisamos levar em consideração que em uma situação real, nos não armazenaremos apenas um argumento na lista `respostas[]`, mas sim vários. Para testar esta hipotese, o teste deverá ser escrito da seguinte maneira:"
      ]
    },
    {
      "cell_type": "code",
      "metadata": {
        "colab": {
          "base_uri": "https://localhost:8080/"
        },
        "id": "TYOpjtE-V-g6",
        "outputId": "85bca844-74c5-42ae-9fe6-e845b148d33f"
      },
      "source": [
        "import unittest\n",
        "\n",
        "class TestEnqueteAnonima(unittest.TestCase):\n",
        "  '''Cria testes para a classe EnqueteAnonima'''\n",
        "\n",
        "  def test_armazenar_tres_respostas(self):\n",
        "    '''Testa se três respostas são armazenada de forma apropriada'''\n",
        "    pergunta = 'Qual idioma você aprendeu a falar primeiro? '\n",
        "    minha_enquete = EnqueteAnonima(pergunta)\n",
        "    teste_respostas = ['Português', 'Inglês', 'Mandarim']\n",
        "   \n",
        "    for i in teste_respostas:\n",
        "      minha_enquete.armazenar_resposta(i)\n",
        "\n",
        "    for i in teste_respostas:\n",
        "      self.assertIn( i , minha_enquete.respostas)\n",
        "\n",
        "if __name__ == '__main__':\n",
        "    unittest.main(argv=['first-arg-is-ignored'], exit=False)\n",
        "\n"
      ],
      "execution_count": null,
      "outputs": [
        {
          "output_type": "stream",
          "text": [
            "...\n",
            "----------------------------------------------------------------------\n",
            "Ran 3 tests in 0.008s\n",
            "\n",
            "OK\n"
          ],
          "name": "stderr"
        }
      ]
    },
    {
      "cell_type": "markdown",
      "metadata": {
        "id": "ayNyDX59XcPj"
      },
      "source": [
        "#####O método setUp()"
      ]
    },
    {
      "cell_type": "markdown",
      "metadata": {
        "id": "yEBGAh_eXgiJ"
      },
      "source": [
        "No exomplo anterior, para testar cada método da classe `EnqueteAnonima()`, em cada unidade de teste seria sempre necessário criar um objeto do tipo `EnqueteAnonima()`, que no caso chamavamos `minha_enquete`.\n",
        "\n",
        "Se tivessemos muitos métodos na classe `EnqueteAnonima()`, teriamos que sempre criar um seria sempre necessário criar um objeto do tipo `EnqueteAnonima()` dentreo de cada unidade de teste para testar cada método da classe  `EnqueteAnonima()`.\n",
        "\n",
        "Para facilitar nosso trabalho, existe o método `setUp` que permite criar esses objetos\n",
        "uma vez e então usá-los em cada um de seus métodos de teste. Quando um método setUp() é incluído em uma classe TestCase, Python executa esse método antes de qualquer método cujo nome comece com **test_**. Qualquer objeto criado no método setUp() estará disponível a todos os métodos de teste que você escrever.\n",
        "\n",
        "\n",
        "Vamos usar `setUp` para criar uma instância de `EnqueteAnonima()`  e um conjunto de respostas que possa ser usado em `test_armazenar_apenas_uma_resposta()` e em `test_armazenar_tres_respostas()`:"
      ]
    },
    {
      "cell_type": "code",
      "metadata": {
        "colab": {
          "base_uri": "https://localhost:8080/"
        },
        "id": "hNgufwfjaFvj",
        "outputId": "349639d5-f4b5-48c2-ed14-35f21d45c66c"
      },
      "source": [
        "import unittest\n",
        "\n",
        "class TestEnqueteAnonima(unittest.TestCase):\n",
        "  '''Cria testes para a classe EnqueteAnonima'''\n",
        "\n",
        "  def setUp(self):\n",
        "    '''Cria um objeto e um conjuto de respostas que poderão ser usados em todo\n",
        "    os método de teste.'''\n",
        "    pergunta = 'Qual idioma você aprendeu a falar primeiro? '\n",
        "    self.minha_enquete = EnqueteAnonima(pergunta)\n",
        "    self.teste_respostas = ['Português', 'Inglês', 'Mandarim']\n",
        "\n",
        "\n",
        "  def test_armazenar_apenas_uma_resposta(self):\n",
        "    '''Testa se uma única resposta é armazenada de forma apropriada'''\n",
        "    self.minha_enquete.armazenar_resposta(self.teste_respostas[0])\n",
        "    self.assertIn(self.teste_respostas[0], self.minha_enquete.respostas)\n",
        "\n",
        "\n",
        "  def test_armazenar_tres_respostas(self):\n",
        "    '''Testa se três respostas são armazenada de forma apropriada'''\n",
        "    for i in self.teste_respostas:\n",
        "      self.minha_enquete.armazenar_resposta(i)\n",
        "\n",
        "    for i in self.teste_respostas:\n",
        "      self.assertIn( i , self.minha_enquete.respostas)\n",
        "\n",
        "if __name__ == '__main__':\n",
        "    unittest.main(argv=['first-arg-is-ignored'], exit=False)\n"
      ],
      "execution_count": null,
      "outputs": [
        {
          "output_type": "stream",
          "text": [
            "....\n",
            "----------------------------------------------------------------------\n",
            "Ran 4 tests in 0.006s\n",
            "\n",
            "OK\n"
          ],
          "name": "stderr"
        }
      ]
    },
    {
      "cell_type": "markdown",
      "metadata": {
        "id": "4mGy-PP7la_P"
      },
      "source": [
        "O método setUp() faz duas tarefas: cria uma instância de `EnqueteAnonima()` denominada `minha_enquete` e cria\n",
        "uma lista de respostas denominda `teste_respostas`. Cada um desses dados é prefixado com self para que possam ser usados em qualquer lugar na classe. Isso simplifica os dois\n",
        "métodos de teste, pois nenhum deles precisará criar uma instância de `EnqueteAnonima()`  ou  respostas."
      ]
    },
    {
      "cell_type": "markdown",
      "metadata": {
        "id": "v_kmzQ4CmrE8"
      },
      "source": [
        "####NOTA"
      ]
    },
    {
      "cell_type": "markdown",
      "metadata": {
        "id": "kz8aOPzPmDeh"
      },
      "source": [
        "Durante a execução de um caso de teste, Python exibe um caractere para cada\n",
        "teste de unidade à medida que ele terminar. Um teste que passar exibe um\n",
        "ponto, um teste que resulte em erro exibe um E e um teste que resultar em uma\n",
        "asserção com falha exibe um F. É por isso que você verá um número diferente de\n",
        "pontos e de caracteres na primeira linha da saída quando executar seus casos de\n",
        "teste. Se um caso de teste demorar muito para executar por conter muitos testes\n",
        "de unidade, você poderá observar esses resultados para ter uma noção de\n",
        "quantos testes estão passando."
      ]
    },
    {
      "cell_type": "code",
      "metadata": {
        "id": "V5LwHaiQmbPs"
      },
      "source": [
        ""
      ],
      "execution_count": null,
      "outputs": []
    }
  ]
}